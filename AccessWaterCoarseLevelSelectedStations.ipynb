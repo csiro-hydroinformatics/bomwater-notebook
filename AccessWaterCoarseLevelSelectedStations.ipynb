{
 "cells": [
  {
   "cell_type": "markdown",
   "metadata": {},
   "source": [
    "# Generating a Bi-Monthly Maximum Water Course Level dataset\n"
   ]
  },
  {
   "cell_type": "code",
   "execution_count": 83,
   "metadata": {
    "tags": []
   },
   "outputs": [],
   "source": [
    "import pybomwater.bom_water as bm\n",
    "from sidecar import Sidecar\n",
    "from ipyleaflet import Map, GeoJSON, Polygon\n",
    "from IPython.display import display, clear_output, HTML, JSON\n",
    "import plotly.express as px\n",
    "import plotly.graph_objects as go\n",
    "import plotly.io as pio\n",
    "pio.renderers.default = 'jupyterlab'\n",
    "from plotly.subplots import make_subplots\n",
    "import shapely\n",
    "import shapely.geometry\n",
    "import json\n",
    "import requests\n",
    "import sys\n",
    "from geojson import Feature, FeatureCollection, Point\n",
    "import pandas as pd\n",
    "import matplotlib.pyplot as plt\n",
    "import numpy as np\n",
    "import math\n",
    "import datetime as dt\n",
    "import logging\n",
    "import sys\n",
    "from pint import UnitRegistry, set_application_registry\n",
    "import pint_xarray\n",
    "from datetime import datetime, timedelta\n",
    "import xarray as xr\n",
    "import cftime\n"
   ]
  },
  {
   "cell_type": "markdown",
   "metadata": {},
   "source": [
    "### Setup some constants"
   ]
  },
  {
   "cell_type": "code",
   "execution_count": 57,
   "metadata": {},
   "outputs": [
    {
     "data": {
      "text/plain": [
       "'The unit for a day: day, used for daily data'"
      ]
     },
     "metadata": {},
     "output_type": "display_data"
    }
   ],
   "source": [
    "#setup unit registry for later use.  Using the library of units we can be consistent \n",
    "ureg = UnitRegistry(force_ndarray=True)\n",
    "set_application_registry(ureg) #sync this ureg with xarray unit registry\n",
    "\n",
    "display(f'The unit for a day: {ureg.d}, used for daily data')"
   ]
  },
  {
   "cell_type": "code",
   "execution_count": 58,
   "metadata": {
    "tags": []
   },
   "outputs": [
    {
     "data": {
      "text/plain": [
       "'Procedure: Pat3_C_B_1_DailyMax, Property: Water Course Level'"
      ]
     },
     "metadata": {},
     "output_type": "display_data"
    }
   ],
   "source": [
    "#Get an instance of the api package that will be used to access the BoM service\n",
    "\n",
    "_bm = bm.BomWater()\n",
    "procedure = _bm.procedures.Pat3_C_B_1_DailyMax \n",
    "prop = _bm.properties.Water_Course_Level\n",
    "display(f'Procedure: {procedure}, Property: {prop}')"
   ]
  },
  {
   "cell_type": "code",
   "execution_count": 60,
   "metadata": {
    "tags": []
   },
   "outputs": [],
   "source": [
    "def write_json_features(features, file):\n",
    "    collection = FeatureCollection(features)\n",
    "    with open(file, \"w\") as f:\n",
    "        f.write('%s' % collection)"
   ]
  },
  {
   "cell_type": "code",
   "execution_count": 59,
   "metadata": {
    "tags": []
   },
   "outputs": [],
   "source": [
    "logging.basicConfig(\n",
    "    level=logging.INFO, \n",
    "    format='[{%(filename)s:%(lineno)d} %(levelname)s - %(message)s',\n",
    "    handlers=[\n",
    "        logging.FileHandler(filename='tmp5a.log'),\n",
    "        logging.StreamHandler(sys.stdout)\n",
    "    ]\n",
    ")\n",
    "\n",
    "logger = logging.getLogger('TS_Saver')"
   ]
  },
  {
   "cell_type": "markdown",
   "metadata": {},
   "source": [
    "### Bounding Box for the MDB\n",
    "\n",
    "This bounding box is to do a first pass filter "
   ]
  },
  {
   "cell_type": "code",
   "execution_count": 61,
   "metadata": {
    "tags": []
   },
   "outputs": [],
   "source": [
    "low_left_lat = -37.505032\n",
    "low_left_long = 138.00\n",
    "upper_right_lat = -24.00\n",
    "upper_right_long = 154.00\n",
    "\n",
    "lower_left_coords = f'{low_left_lat} {low_left_long}'\n",
    "upper_right_coords = f'{upper_right_lat} {upper_right_long}'\n",
    "coords = tuple((lower_left_coords, upper_right_coords))"
   ]
  },
  {
   "cell_type": "markdown",
   "metadata": {},
   "source": [
    "### Filtering gauges using the bounding box and static station Id list"
   ]
  },
  {
   "cell_type": "code",
   "execution_count": 62,
   "metadata": {
    "tags": []
   },
   "outputs": [
    {
     "name": "stdout",
     "output_type": "stream",
     "text": [
      "Match found: {\"geometry\": {\"coordinates\": [142.759783, -34.599668], \"type\": \"Point\"}, \"properties\": {\"long_name\": \"http://bom.gov.au/waterdata/services/stations/414209\", \"name\": \"MURRAY_@_LOCK_15\", \"stationId\": null, \"stationNo\": \"414209\"}, \"type\": \"Feature\"} and [{'station_id': '414209', 'crest_height': 47.9}]\n",
      "Match found: {\"geometry\": {\"coordinates\": [141.9045, -34.11], \"type\": \"Point\"}, \"properties\": {\"long_name\": \"http://bom.gov.au/waterdata/services/stations/425010\", \"name\": \"MURRAY@L10_WENTWORTH\", \"stationId\": null, \"stationNo\": \"425010\"}, \"type\": \"Feature\"} and [{'station_id': '425010', 'crest_height': 30.8}]\n",
      "Match found: {\"geometry\": {\"coordinates\": [139.615749, -34.35095], \"type\": \"Point\"}, \"properties\": {\"long_name\": \"http://bom.gov.au/waterdata/services/stations/A4260903\", \"name\": \"River_Murray_at_Lock_1_Downstream_(AMTD_274.3km)\", \"stationId\": null, \"stationNo\": \"A4260903\"}, \"type\": \"Feature\"} and [{'station_id': 'A4260903', 'crest_height': 3.3}]\n",
      "Match found: {\"geometry\": {\"coordinates\": [139.931064, -34.07685], \"type\": \"Point\"}, \"properties\": {\"long_name\": \"http://bom.gov.au/waterdata/services/stations/A4260519\", \"name\": \"River_Murray_at_Lock_2_Downstream_(AMTD_362.1km)\", \"stationId\": null, \"stationNo\": \"A4260519\"}, \"type\": \"Feature\"} and [{'station_id': 'A4260519', 'crest_height': 6.1}]\n",
      "Match found: {\"geometry\": {\"coordinates\": [140.358238, -34.187308], \"type\": \"Point\"}, \"properties\": {\"long_name\": \"http://bom.gov.au/waterdata/services/stations/A4260517\", \"name\": \"River_Murray_at_Lock_3_Downstream_(AMTD_431.4km)\", \"stationId\": null, \"stationNo\": \"A4260517\"}, \"type\": \"Feature\"} and [{'station_id': 'A4260517', 'crest_height': 9.8}]\n",
      "Match found: {\"geometry\": {\"coordinates\": [140.577316, -34.343186], \"type\": \"Point\"}, \"properties\": {\"long_name\": \"http://bom.gov.au/waterdata/services/stations/A4260515\", \"name\": \"River_Murray_at_Lock_4_Downstream_(AMTD_516.2km)\", \"stationId\": null, \"stationNo\": \"A4260515\"}, \"type\": \"Feature\"} and [{'station_id': 'A4260515', 'crest_height': 13.2}]\n",
      "Match found: {\"geometry\": {\"coordinates\": [140.765483, -34.188906], \"type\": \"Point\"}, \"properties\": {\"long_name\": \"http://bom.gov.au/waterdata/services/stations/A4260513\", \"name\": \"River_Murray_at_Lock_5_Downstream_(AMTD_562.4km)\", \"stationId\": null, \"stationNo\": \"A4260513\"}, \"type\": \"Feature\"} and [{'station_id': 'A4260513', 'crest_height': 16.3}]\n",
      "Match found: {\"geometry\": {\"coordinates\": [140.886735, -33.995881], \"type\": \"Point\"}, \"properties\": {\"long_name\": \"http://bom.gov.au/waterdata/services/stations/A4260511\", \"name\": \"River_Murray_at_Lock_6_Downstream_(AMTD_619.8km)\", \"stationId\": null, \"stationNo\": \"A4260511\"}, \"type\": \"Feature\"} and [{'station_id': 'A4260511', 'crest_height': 19.2}]\n",
      "Match found: {\"geometry\": {\"coordinates\": [141.244875, -34.067185], \"type\": \"Point\"}, \"properties\": {\"long_name\": \"http://bom.gov.au/waterdata/services/stations/A4260509\", \"name\": \"River_Murray_at_Lock_7_Downstream_(AMTD_702km)\", \"stationId\": null, \"stationNo\": \"A4260509\"}, \"type\": \"Feature\"} and [{'station_id': 'A4260509', 'crest_height': 22.1}]\n",
      "Match found: {\"geometry\": {\"coordinates\": [141.398045, -34.128678], \"type\": \"Point\"}, \"properties\": {\"long_name\": \"http://bom.gov.au/waterdata/services/stations/A4260507\", \"name\": \"River_Murray_at_Lock_8_Downstream_(AMTD_725.7km)\", \"stationId\": null, \"stationNo\": \"A4260507\"}, \"type\": \"Feature\"} and [{'station_id': 'A4260507', 'crest_height': 24.6}]\n",
      "Match found: {\"geometry\": {\"coordinates\": [141.596673, -34.191506], \"type\": \"Point\"}, \"properties\": {\"long_name\": \"http://bom.gov.au/waterdata/services/stations/A4260505\", \"name\": \"River_Murray_at_Lock_9_Downstream_(AMTD_764.8km)\", \"stationId\": null, \"stationNo\": \"A4260505\"}, \"type\": \"Feature\"} and [{'station_id': 'A4260505', 'crest_height': 27.4}]\n"
     ]
    }
   ],
   "source": [
    "station_info=[{\"station_id\": \"A4260903\", \"crest_height\": 3.3},\n",
    "{\"station_id\": \"A4260519\", \"crest_height\": 6.1},\n",
    "{\"station_id\": \"A4260517\", \"crest_height\": 9.8},\n",
    "{\"station_id\": \"A4260515\", \"crest_height\": 13.2},\n",
    "{\"station_id\": \"A4260513\", \"crest_height\": 16.3},\n",
    "{\"station_id\": \"A4260511\", \"crest_height\": 19.2},\n",
    "{\"station_id\": \"A4260509\", \"crest_height\": 22.1},\n",
    "{\"station_id\": \"A4260507\", \"crest_height\": 24.6},\n",
    "{\"station_id\": \"A4260505\", \"crest_height\": 27.4},\n",
    "{\"station_id\": \"425010\", \"crest_height\": 30.8},\n",
    "{\"station_id\": \"414209\", \"crest_height\": 47.9}]\n",
    "response = _bm.request(_bm.actions.GetFeatureOfInterest, None, prop, procedure, None, None, lower_left_coords, upper_right_coords  )\n",
    "lock_sites = []\n",
    "if response.status_code == 200:\n",
    "    response_json = _bm.xml_to_json(response.text)\n",
    "    '''bomwater creates a FeatureCollection which can be used for mapping'''\n",
    "    feature_list = _bm.create_feature_list(response_json, None )\n",
    "    for f in feature_list['features']:\n",
    "\n",
    "        # if f.properties['stationNo'] in station_ids:\n",
    "        found = list(filter(lambda x:x[\"station_id\"]==f.properties['stationNo'],station_info))\n",
    "        if found:\n",
    "            print(f'Match found: {f} and {found}')\n",
    "            lock_sites.append(f)\n",
    "            \n",
    "else:\n",
    "    print(response.status_code)\n"
   ]
  },
  {
   "cell_type": "markdown",
   "metadata": {},
   "source": [
    "### Process and save raw and result data\n",
    "- Load required gauge data \n",
    "- Convert to desired timestep (eg bi monthly max)\n",
    "- Write all data to disk (raw and processed)"
   ]
  },
  {
   "cell_type": "code",
   "execution_count": 82,
   "metadata": {},
   "outputs": [],
   "source": [
    "def create_da_daily_dates(start_date, days_since_start):\n",
    "    datetime_values = xr.DataArray([start_date + timedelta(days=int(days)) for days in days_since_start])\n",
    "    return datetime_values\n",
    "\n",
    "def get_date_from_str(contains_string: str):\n",
    "    # Parse the string to obtain the datetime object\n",
    "    result_datetime = cftime.datetime.strptime(contains_string, 'days since %Y-%m-%d %H:%M:%S')\n",
    "    return result_datetime\n",
    "\n",
    "def hydro_plot_data(da, var_name, title=None, fig=None):\n",
    "    single_plot = False\n",
    "    if fig == None:\n",
    "        fig = go.Figure()\n",
    "        single_plot = True\n",
    "    if not hasattr(da.data,'units'):\n",
    "        raise Exception('This data array has no units!!')\n",
    "    unit = da.data.units\n",
    " \n",
    "    if not isinstance(da['time'].values[0], np.datetime64):\n",
    "        start_date = get_date_from_str(da['time'].attrs.get('units', None))\n",
    "        dates = create_da_daily_dates(start_date=start_date, days_since_start=da['time'].values)\n",
    "    else:\n",
    "        dates = da.time\n",
    "    fig.add_trace(go.Scatter(x=dates, y=da, mode='lines', name=f'{var_name} {unit}', line_shape='linear'))\n",
    "    # Customize the layout (optional)\n",
    "    if title:\n",
    "        graph_title = f'{title}'\n",
    "    else:\n",
    "        graph_title = f'{var_name} Hydrograph'\n",
    "    fig.update_layout(\n",
    "        title=graph_title,\n",
    "        xaxis_title='Time',\n",
    "        yaxis_title=f'{var_name} ({unit})',\n",
    "        xaxis_tickformat = '%d %B (%a)<br>%y'\n",
    "        # xaxis=dict(tickmode='linear'),\n",
    "    )\n",
    "\n",
    "    if single_plot:\n",
    "        fig.show()\n",
    "    else:\n",
    "        return fig"
   ]
  },
  {
   "cell_type": "code",
   "execution_count": 84,
   "metadata": {
    "tags": []
   },
   "outputs": [
    {
     "name": "stdout",
     "output_type": "stream",
     "text": [
      "http://bom.gov.au/waterdata/services/stations/414209\n",
      "http://bom.gov.au/waterdata/services/stations/425010\n",
      "http://bom.gov.au/waterdata/services/stations/A4260903\n",
      "http://bom.gov.au/waterdata/services/stations/A4260519\n",
      "http://bom.gov.au/waterdata/services/stations/A4260517\n",
      "http://bom.gov.au/waterdata/services/stations/A4260515\n",
      "http://bom.gov.au/waterdata/services/stations/A4260513\n",
      "http://bom.gov.au/waterdata/services/stations/A4260511\n",
      "http://bom.gov.au/waterdata/services/stations/A4260509\n",
      "http://bom.gov.au/waterdata/services/stations/A4260507\n",
      "http://bom.gov.au/waterdata/services/stations/A4260505\n",
      "http://bom.gov.au/waterdata/services/stations/414209\n",
      "http://bom.gov.au/waterdata/services/stations/425010\n",
      "http://bom.gov.au/waterdata/services/stations/A4260903\n",
      "http://bom.gov.au/waterdata/services/stations/A4260519\n",
      "http://bom.gov.au/waterdata/services/stations/A4260517\n",
      "http://bom.gov.au/waterdata/services/stations/A4260515\n",
      "http://bom.gov.au/waterdata/services/stations/A4260513\n",
      "http://bom.gov.au/waterdata/services/stations/A4260511\n",
      "http://bom.gov.au/waterdata/services/stations/A4260509\n",
      "http://bom.gov.au/waterdata/services/stations/A4260507\n",
      "http://bom.gov.au/waterdata/services/stations/A4260505\n"
     ]
    },
    {
     "name": "stderr",
     "output_type": "stream",
     "text": [
      "c:\\office12\\bomwater-notebook\\.venv\\lib\\site-packages\\xarray\\core\\variable.py:305: UnitStrippedWarning:\n",
      "\n",
      "The unit of the quantity is stripped when downcasting to ndarray.\n",
      "\n"
     ]
    },
    {
     "data": {
      "application/vnd.plotly.v1+json": {
       "config": {
        "plotlyServerURL": "https://plot.ly"
       },
       "data": [
        {
         "line": {
          "shape": "linear"
         },
         "mode": "lines",
         "name": "Water Course Level meter",
         "type": "scatter",
         "x": [
          "2005-03-01T00:00:00.000000000",
          "2005-05-01T00:00:00.000000000",
          "2005-07-01T00:00:00.000000000",
          "2005-09-01T00:00:00.000000000",
          "2005-11-01T00:00:00.000000000",
          "2006-01-01T00:00:00.000000000",
          "2006-03-01T00:00:00.000000000",
          "2006-05-01T00:00:00.000000000",
          "2006-07-01T00:00:00.000000000",
          "2006-09-01T00:00:00.000000000",
          "2006-11-01T00:00:00.000000000",
          "2007-01-01T00:00:00.000000000",
          "2007-03-01T00:00:00.000000000",
          "2007-05-01T00:00:00.000000000",
          "2007-07-01T00:00:00.000000000",
          "2007-09-01T00:00:00.000000000",
          "2007-11-01T00:00:00.000000000",
          "2008-01-01T00:00:00.000000000",
          "2008-03-01T00:00:00.000000000",
          "2008-05-01T00:00:00.000000000",
          "2008-07-01T00:00:00.000000000",
          "2008-09-01T00:00:00.000000000",
          "2008-11-01T00:00:00.000000000",
          "2009-01-01T00:00:00.000000000",
          "2009-03-01T00:00:00.000000000",
          "2009-05-01T00:00:00.000000000",
          "2009-07-01T00:00:00.000000000"
         ],
         "y": [
          47.64,
          47.64,
          47.65,
          47.63,
          47.61,
          47.67,
          47.65,
          47.64,
          47.63,
          47.64,
          47.65,
          47.655,
          47.658,
          47.664,
          47.678,
          47.26,
          null,
          47.647,
          47.65,
          47.65,
          47.637,
          47.64,
          47.683,
          47.66,
          47.67,
          47.67,
          47.62
         ]
        },
        {
         "line": {
          "shape": "linear"
         },
         "mode": "lines",
         "name": "Heights meter",
         "type": "scatter",
         "x": [
          "2005-03-01T00:00:00.000000000",
          "2005-05-01T00:00:00.000000000",
          "2005-07-01T00:00:00.000000000",
          "2005-09-01T00:00:00.000000000",
          "2005-11-01T00:00:00.000000000",
          "2006-01-01T00:00:00.000000000",
          "2006-03-01T00:00:00.000000000",
          "2006-05-01T00:00:00.000000000",
          "2006-07-01T00:00:00.000000000",
          "2006-09-01T00:00:00.000000000",
          "2006-11-01T00:00:00.000000000",
          "2007-01-01T00:00:00.000000000",
          "2007-03-01T00:00:00.000000000",
          "2007-05-01T00:00:00.000000000",
          "2007-07-01T00:00:00.000000000",
          "2007-09-01T00:00:00.000000000",
          "2007-11-01T00:00:00.000000000",
          "2008-01-01T00:00:00.000000000",
          "2008-03-01T00:00:00.000000000",
          "2008-05-01T00:00:00.000000000",
          "2008-07-01T00:00:00.000000000",
          "2008-09-01T00:00:00.000000000",
          "2008-11-01T00:00:00.000000000",
          "2009-01-01T00:00:00.000000000",
          "2009-03-01T00:00:00.000000000",
          "2009-05-01T00:00:00.000000000",
          "2009-07-01T00:00:00.000000000"
         ],
         "y": [
          47.9,
          47.9,
          47.9,
          47.9,
          47.9,
          47.9,
          47.9,
          47.9,
          47.9,
          47.9,
          47.9,
          47.9,
          47.9,
          47.9,
          47.9,
          47.9,
          47.9,
          47.9,
          47.9,
          47.9,
          47.9,
          47.9,
          47.9,
          47.9,
          47.9,
          47.9,
          47.9
         ]
        }
       ],
       "layout": {
        "template": {
         "data": {
          "bar": [
           {
            "error_x": {
             "color": "#2a3f5f"
            },
            "error_y": {
             "color": "#2a3f5f"
            },
            "marker": {
             "line": {
              "color": "#E5ECF6",
              "width": 0.5
             },
             "pattern": {
              "fillmode": "overlay",
              "size": 10,
              "solidity": 0.2
             }
            },
            "type": "bar"
           }
          ],
          "barpolar": [
           {
            "marker": {
             "line": {
              "color": "#E5ECF6",
              "width": 0.5
             },
             "pattern": {
              "fillmode": "overlay",
              "size": 10,
              "solidity": 0.2
             }
            },
            "type": "barpolar"
           }
          ],
          "carpet": [
           {
            "aaxis": {
             "endlinecolor": "#2a3f5f",
             "gridcolor": "white",
             "linecolor": "white",
             "minorgridcolor": "white",
             "startlinecolor": "#2a3f5f"
            },
            "baxis": {
             "endlinecolor": "#2a3f5f",
             "gridcolor": "white",
             "linecolor": "white",
             "minorgridcolor": "white",
             "startlinecolor": "#2a3f5f"
            },
            "type": "carpet"
           }
          ],
          "choropleth": [
           {
            "colorbar": {
             "outlinewidth": 0,
             "ticks": ""
            },
            "type": "choropleth"
           }
          ],
          "contour": [
           {
            "colorbar": {
             "outlinewidth": 0,
             "ticks": ""
            },
            "colorscale": [
             [
              0,
              "#0d0887"
             ],
             [
              0.1111111111111111,
              "#46039f"
             ],
             [
              0.2222222222222222,
              "#7201a8"
             ],
             [
              0.3333333333333333,
              "#9c179e"
             ],
             [
              0.4444444444444444,
              "#bd3786"
             ],
             [
              0.5555555555555556,
              "#d8576b"
             ],
             [
              0.6666666666666666,
              "#ed7953"
             ],
             [
              0.7777777777777778,
              "#fb9f3a"
             ],
             [
              0.8888888888888888,
              "#fdca26"
             ],
             [
              1,
              "#f0f921"
             ]
            ],
            "type": "contour"
           }
          ],
          "contourcarpet": [
           {
            "colorbar": {
             "outlinewidth": 0,
             "ticks": ""
            },
            "type": "contourcarpet"
           }
          ],
          "heatmap": [
           {
            "colorbar": {
             "outlinewidth": 0,
             "ticks": ""
            },
            "colorscale": [
             [
              0,
              "#0d0887"
             ],
             [
              0.1111111111111111,
              "#46039f"
             ],
             [
              0.2222222222222222,
              "#7201a8"
             ],
             [
              0.3333333333333333,
              "#9c179e"
             ],
             [
              0.4444444444444444,
              "#bd3786"
             ],
             [
              0.5555555555555556,
              "#d8576b"
             ],
             [
              0.6666666666666666,
              "#ed7953"
             ],
             [
              0.7777777777777778,
              "#fb9f3a"
             ],
             [
              0.8888888888888888,
              "#fdca26"
             ],
             [
              1,
              "#f0f921"
             ]
            ],
            "type": "heatmap"
           }
          ],
          "heatmapgl": [
           {
            "colorbar": {
             "outlinewidth": 0,
             "ticks": ""
            },
            "colorscale": [
             [
              0,
              "#0d0887"
             ],
             [
              0.1111111111111111,
              "#46039f"
             ],
             [
              0.2222222222222222,
              "#7201a8"
             ],
             [
              0.3333333333333333,
              "#9c179e"
             ],
             [
              0.4444444444444444,
              "#bd3786"
             ],
             [
              0.5555555555555556,
              "#d8576b"
             ],
             [
              0.6666666666666666,
              "#ed7953"
             ],
             [
              0.7777777777777778,
              "#fb9f3a"
             ],
             [
              0.8888888888888888,
              "#fdca26"
             ],
             [
              1,
              "#f0f921"
             ]
            ],
            "type": "heatmapgl"
           }
          ],
          "histogram": [
           {
            "marker": {
             "pattern": {
              "fillmode": "overlay",
              "size": 10,
              "solidity": 0.2
             }
            },
            "type": "histogram"
           }
          ],
          "histogram2d": [
           {
            "colorbar": {
             "outlinewidth": 0,
             "ticks": ""
            },
            "colorscale": [
             [
              0,
              "#0d0887"
             ],
             [
              0.1111111111111111,
              "#46039f"
             ],
             [
              0.2222222222222222,
              "#7201a8"
             ],
             [
              0.3333333333333333,
              "#9c179e"
             ],
             [
              0.4444444444444444,
              "#bd3786"
             ],
             [
              0.5555555555555556,
              "#d8576b"
             ],
             [
              0.6666666666666666,
              "#ed7953"
             ],
             [
              0.7777777777777778,
              "#fb9f3a"
             ],
             [
              0.8888888888888888,
              "#fdca26"
             ],
             [
              1,
              "#f0f921"
             ]
            ],
            "type": "histogram2d"
           }
          ],
          "histogram2dcontour": [
           {
            "colorbar": {
             "outlinewidth": 0,
             "ticks": ""
            },
            "colorscale": [
             [
              0,
              "#0d0887"
             ],
             [
              0.1111111111111111,
              "#46039f"
             ],
             [
              0.2222222222222222,
              "#7201a8"
             ],
             [
              0.3333333333333333,
              "#9c179e"
             ],
             [
              0.4444444444444444,
              "#bd3786"
             ],
             [
              0.5555555555555556,
              "#d8576b"
             ],
             [
              0.6666666666666666,
              "#ed7953"
             ],
             [
              0.7777777777777778,
              "#fb9f3a"
             ],
             [
              0.8888888888888888,
              "#fdca26"
             ],
             [
              1,
              "#f0f921"
             ]
            ],
            "type": "histogram2dcontour"
           }
          ],
          "mesh3d": [
           {
            "colorbar": {
             "outlinewidth": 0,
             "ticks": ""
            },
            "type": "mesh3d"
           }
          ],
          "parcoords": [
           {
            "line": {
             "colorbar": {
              "outlinewidth": 0,
              "ticks": ""
             }
            },
            "type": "parcoords"
           }
          ],
          "pie": [
           {
            "automargin": true,
            "type": "pie"
           }
          ],
          "scatter": [
           {
            "fillpattern": {
             "fillmode": "overlay",
             "size": 10,
             "solidity": 0.2
            },
            "type": "scatter"
           }
          ],
          "scatter3d": [
           {
            "line": {
             "colorbar": {
              "outlinewidth": 0,
              "ticks": ""
             }
            },
            "marker": {
             "colorbar": {
              "outlinewidth": 0,
              "ticks": ""
             }
            },
            "type": "scatter3d"
           }
          ],
          "scattercarpet": [
           {
            "marker": {
             "colorbar": {
              "outlinewidth": 0,
              "ticks": ""
             }
            },
            "type": "scattercarpet"
           }
          ],
          "scattergeo": [
           {
            "marker": {
             "colorbar": {
              "outlinewidth": 0,
              "ticks": ""
             }
            },
            "type": "scattergeo"
           }
          ],
          "scattergl": [
           {
            "marker": {
             "colorbar": {
              "outlinewidth": 0,
              "ticks": ""
             }
            },
            "type": "scattergl"
           }
          ],
          "scattermapbox": [
           {
            "marker": {
             "colorbar": {
              "outlinewidth": 0,
              "ticks": ""
             }
            },
            "type": "scattermapbox"
           }
          ],
          "scatterpolar": [
           {
            "marker": {
             "colorbar": {
              "outlinewidth": 0,
              "ticks": ""
             }
            },
            "type": "scatterpolar"
           }
          ],
          "scatterpolargl": [
           {
            "marker": {
             "colorbar": {
              "outlinewidth": 0,
              "ticks": ""
             }
            },
            "type": "scatterpolargl"
           }
          ],
          "scatterternary": [
           {
            "marker": {
             "colorbar": {
              "outlinewidth": 0,
              "ticks": ""
             }
            },
            "type": "scatterternary"
           }
          ],
          "surface": [
           {
            "colorbar": {
             "outlinewidth": 0,
             "ticks": ""
            },
            "colorscale": [
             [
              0,
              "#0d0887"
             ],
             [
              0.1111111111111111,
              "#46039f"
             ],
             [
              0.2222222222222222,
              "#7201a8"
             ],
             [
              0.3333333333333333,
              "#9c179e"
             ],
             [
              0.4444444444444444,
              "#bd3786"
             ],
             [
              0.5555555555555556,
              "#d8576b"
             ],
             [
              0.6666666666666666,
              "#ed7953"
             ],
             [
              0.7777777777777778,
              "#fb9f3a"
             ],
             [
              0.8888888888888888,
              "#fdca26"
             ],
             [
              1,
              "#f0f921"
             ]
            ],
            "type": "surface"
           }
          ],
          "table": [
           {
            "cells": {
             "fill": {
              "color": "#EBF0F8"
             },
             "line": {
              "color": "white"
             }
            },
            "header": {
             "fill": {
              "color": "#C8D4E3"
             },
             "line": {
              "color": "white"
             }
            },
            "type": "table"
           }
          ]
         },
         "layout": {
          "annotationdefaults": {
           "arrowcolor": "#2a3f5f",
           "arrowhead": 0,
           "arrowwidth": 1
          },
          "autotypenumbers": "strict",
          "coloraxis": {
           "colorbar": {
            "outlinewidth": 0,
            "ticks": ""
           }
          },
          "colorscale": {
           "diverging": [
            [
             0,
             "#8e0152"
            ],
            [
             0.1,
             "#c51b7d"
            ],
            [
             0.2,
             "#de77ae"
            ],
            [
             0.3,
             "#f1b6da"
            ],
            [
             0.4,
             "#fde0ef"
            ],
            [
             0.5,
             "#f7f7f7"
            ],
            [
             0.6,
             "#e6f5d0"
            ],
            [
             0.7,
             "#b8e186"
            ],
            [
             0.8,
             "#7fbc41"
            ],
            [
             0.9,
             "#4d9221"
            ],
            [
             1,
             "#276419"
            ]
           ],
           "sequential": [
            [
             0,
             "#0d0887"
            ],
            [
             0.1111111111111111,
             "#46039f"
            ],
            [
             0.2222222222222222,
             "#7201a8"
            ],
            [
             0.3333333333333333,
             "#9c179e"
            ],
            [
             0.4444444444444444,
             "#bd3786"
            ],
            [
             0.5555555555555556,
             "#d8576b"
            ],
            [
             0.6666666666666666,
             "#ed7953"
            ],
            [
             0.7777777777777778,
             "#fb9f3a"
            ],
            [
             0.8888888888888888,
             "#fdca26"
            ],
            [
             1,
             "#f0f921"
            ]
           ],
           "sequentialminus": [
            [
             0,
             "#0d0887"
            ],
            [
             0.1111111111111111,
             "#46039f"
            ],
            [
             0.2222222222222222,
             "#7201a8"
            ],
            [
             0.3333333333333333,
             "#9c179e"
            ],
            [
             0.4444444444444444,
             "#bd3786"
            ],
            [
             0.5555555555555556,
             "#d8576b"
            ],
            [
             0.6666666666666666,
             "#ed7953"
            ],
            [
             0.7777777777777778,
             "#fb9f3a"
            ],
            [
             0.8888888888888888,
             "#fdca26"
            ],
            [
             1,
             "#f0f921"
            ]
           ]
          },
          "colorway": [
           "#636efa",
           "#EF553B",
           "#00cc96",
           "#ab63fa",
           "#FFA15A",
           "#19d3f3",
           "#FF6692",
           "#B6E880",
           "#FF97FF",
           "#FECB52"
          ],
          "font": {
           "color": "#2a3f5f"
          },
          "geo": {
           "bgcolor": "white",
           "lakecolor": "white",
           "landcolor": "#E5ECF6",
           "showlakes": true,
           "showland": true,
           "subunitcolor": "white"
          },
          "hoverlabel": {
           "align": "left"
          },
          "hovermode": "closest",
          "mapbox": {
           "style": "light"
          },
          "paper_bgcolor": "white",
          "plot_bgcolor": "#E5ECF6",
          "polar": {
           "angularaxis": {
            "gridcolor": "white",
            "linecolor": "white",
            "ticks": ""
           },
           "bgcolor": "#E5ECF6",
           "radialaxis": {
            "gridcolor": "white",
            "linecolor": "white",
            "ticks": ""
           }
          },
          "scene": {
           "xaxis": {
            "backgroundcolor": "#E5ECF6",
            "gridcolor": "white",
            "gridwidth": 2,
            "linecolor": "white",
            "showbackground": true,
            "ticks": "",
            "zerolinecolor": "white"
           },
           "yaxis": {
            "backgroundcolor": "#E5ECF6",
            "gridcolor": "white",
            "gridwidth": 2,
            "linecolor": "white",
            "showbackground": true,
            "ticks": "",
            "zerolinecolor": "white"
           },
           "zaxis": {
            "backgroundcolor": "#E5ECF6",
            "gridcolor": "white",
            "gridwidth": 2,
            "linecolor": "white",
            "showbackground": true,
            "ticks": "",
            "zerolinecolor": "white"
           }
          },
          "shapedefaults": {
           "line": {
            "color": "#2a3f5f"
           }
          },
          "ternary": {
           "aaxis": {
            "gridcolor": "white",
            "linecolor": "white",
            "ticks": ""
           },
           "baxis": {
            "gridcolor": "white",
            "linecolor": "white",
            "ticks": ""
           },
           "bgcolor": "#E5ECF6",
           "caxis": {
            "gridcolor": "white",
            "linecolor": "white",
            "ticks": ""
           }
          },
          "title": {
           "x": 0.05
          },
          "xaxis": {
           "automargin": true,
           "gridcolor": "white",
           "linecolor": "white",
           "ticks": "",
           "title": {
            "standoff": 15
           },
           "zerolinecolor": "white",
           "zerolinewidth": 2
          },
          "yaxis": {
           "automargin": true,
           "gridcolor": "white",
           "linecolor": "white",
           "ticks": "",
           "title": {
            "standoff": 15
           },
           "zerolinecolor": "white",
           "zerolinewidth": 2
          }
         }
        },
        "title": {
         "text": "Station (414209) BiMonthly Maximum Water Course Levels with Structure Crest Height"
        },
        "xaxis": {
         "tickformat": "%d %B (%a)<br>%y",
         "title": {
          "text": "Time"
         }
        },
        "yaxis": {
         "title": {
          "text": "Heights (meter)"
         }
        }
       }
      }
     },
     "metadata": {},
     "output_type": "display_data"
    },
    {
     "name": "stderr",
     "output_type": "stream",
     "text": [
      "c:\\office12\\bomwater-notebook\\.venv\\lib\\site-packages\\xarray\\core\\variable.py:305: UnitStrippedWarning:\n",
      "\n",
      "The unit of the quantity is stripped when downcasting to ndarray.\n",
      "\n"
     ]
    },
    {
     "data": {
      "application/vnd.plotly.v1+json": {
       "config": {
        "plotlyServerURL": "https://plot.ly"
       },
       "data": [
        {
         "line": {
          "shape": "linear"
         },
         "mode": "lines",
         "name": "Water Course Level meter",
         "type": "scatter",
         "x": [
          "1988-01-01T00:00:00.000000000",
          "1988-03-01T00:00:00.000000000",
          "1988-05-01T00:00:00.000000000",
          "1988-07-01T00:00:00.000000000",
          "1988-09-01T00:00:00.000000000",
          "1988-11-01T00:00:00.000000000",
          "1989-01-01T00:00:00.000000000",
          "1989-03-01T00:00:00.000000000",
          "1989-05-01T00:00:00.000000000",
          "1989-07-01T00:00:00.000000000",
          "1989-09-01T00:00:00.000000000",
          "1989-11-01T00:00:00.000000000",
          "1990-01-01T00:00:00.000000000",
          "1990-03-01T00:00:00.000000000",
          "1990-05-01T00:00:00.000000000",
          "1990-07-01T00:00:00.000000000",
          "1990-09-01T00:00:00.000000000",
          "1990-11-01T00:00:00.000000000",
          "1991-01-01T00:00:00.000000000",
          "1991-03-01T00:00:00.000000000",
          "1991-05-01T00:00:00.000000000",
          "1991-07-01T00:00:00.000000000",
          "1991-09-01T00:00:00.000000000",
          "1991-11-01T00:00:00.000000000",
          "1992-01-01T00:00:00.000000000",
          "1992-03-01T00:00:00.000000000",
          "1992-05-01T00:00:00.000000000",
          "1992-07-01T00:00:00.000000000",
          "1992-09-01T00:00:00.000000000",
          "1992-11-01T00:00:00.000000000",
          "1993-01-01T00:00:00.000000000",
          "1993-03-01T00:00:00.000000000",
          "1993-05-01T00:00:00.000000000",
          "1993-07-01T00:00:00.000000000",
          "1993-09-01T00:00:00.000000000",
          "1993-11-01T00:00:00.000000000",
          "1994-01-01T00:00:00.000000000",
          "1994-03-01T00:00:00.000000000",
          "1994-05-01T00:00:00.000000000",
          "1994-07-01T00:00:00.000000000",
          "1994-09-01T00:00:00.000000000",
          "1994-11-01T00:00:00.000000000",
          "1995-01-01T00:00:00.000000000",
          "1995-03-01T00:00:00.000000000",
          "1995-05-01T00:00:00.000000000",
          "1995-07-01T00:00:00.000000000",
          "1995-09-01T00:00:00.000000000",
          "1995-11-01T00:00:00.000000000",
          "1996-01-01T00:00:00.000000000",
          "1996-03-01T00:00:00.000000000",
          "1996-05-01T00:00:00.000000000",
          "1996-07-01T00:00:00.000000000",
          "1996-09-01T00:00:00.000000000",
          "1996-11-01T00:00:00.000000000",
          "1997-01-01T00:00:00.000000000",
          "1997-03-01T00:00:00.000000000",
          "1997-05-01T00:00:00.000000000",
          "1997-07-01T00:00:00.000000000",
          "1997-09-01T00:00:00.000000000",
          "1997-11-01T00:00:00.000000000",
          "1998-01-01T00:00:00.000000000",
          "1998-03-01T00:00:00.000000000",
          "1998-05-01T00:00:00.000000000",
          "1998-07-01T00:00:00.000000000",
          "1998-09-01T00:00:00.000000000",
          "1998-11-01T00:00:00.000000000",
          "1999-01-01T00:00:00.000000000",
          "1999-03-01T00:00:00.000000000",
          "1999-05-01T00:00:00.000000000",
          "1999-07-01T00:00:00.000000000",
          "1999-09-01T00:00:00.000000000",
          "1999-11-01T00:00:00.000000000",
          "2000-01-01T00:00:00.000000000",
          "2000-03-01T00:00:00.000000000",
          "2000-05-01T00:00:00.000000000",
          "2000-07-01T00:00:00.000000000",
          "2000-09-01T00:00:00.000000000",
          "2000-11-01T00:00:00.000000000",
          "2001-01-01T00:00:00.000000000",
          "2001-03-01T00:00:00.000000000",
          "2001-05-01T00:00:00.000000000",
          "2001-07-01T00:00:00.000000000",
          "2001-09-01T00:00:00.000000000",
          "2001-11-01T00:00:00.000000000",
          "2002-01-01T00:00:00.000000000",
          "2002-03-01T00:00:00.000000000",
          "2002-05-01T00:00:00.000000000",
          "2002-07-01T00:00:00.000000000",
          "2002-09-01T00:00:00.000000000",
          "2002-11-01T00:00:00.000000000",
          "2003-01-01T00:00:00.000000000",
          "2003-03-01T00:00:00.000000000",
          "2003-05-01T00:00:00.000000000",
          "2003-07-01T00:00:00.000000000",
          "2003-09-01T00:00:00.000000000",
          "2003-11-01T00:00:00.000000000",
          "2004-01-01T00:00:00.000000000",
          "2004-03-01T00:00:00.000000000",
          "2004-05-01T00:00:00.000000000",
          "2004-07-01T00:00:00.000000000",
          "2004-09-01T00:00:00.000000000",
          "2004-11-01T00:00:00.000000000",
          "2005-01-01T00:00:00.000000000",
          "2005-03-01T00:00:00.000000000",
          "2005-05-01T00:00:00.000000000",
          "2005-07-01T00:00:00.000000000",
          "2005-09-01T00:00:00.000000000",
          "2005-11-01T00:00:00.000000000",
          "2006-01-01T00:00:00.000000000",
          "2006-03-01T00:00:00.000000000",
          "2006-05-01T00:00:00.000000000",
          "2006-07-01T00:00:00.000000000",
          "2006-09-01T00:00:00.000000000",
          "2006-11-01T00:00:00.000000000",
          "2007-01-01T00:00:00.000000000",
          "2007-03-01T00:00:00.000000000",
          "2007-05-01T00:00:00.000000000",
          "2007-07-01T00:00:00.000000000",
          "2007-09-01T00:00:00.000000000",
          "2007-11-01T00:00:00.000000000",
          "2008-01-01T00:00:00.000000000",
          "2008-03-01T00:00:00.000000000",
          "2008-05-01T00:00:00.000000000",
          "2008-07-01T00:00:00.000000000",
          "2008-09-01T00:00:00.000000000",
          "2008-11-01T00:00:00.000000000",
          "2009-01-01T00:00:00.000000000",
          "2009-03-01T00:00:00.000000000",
          "2009-05-01T00:00:00.000000000",
          "2009-07-01T00:00:00.000000000",
          "2009-09-01T00:00:00.000000000",
          "2009-11-01T00:00:00.000000000",
          "2010-01-01T00:00:00.000000000",
          "2010-03-01T00:00:00.000000000",
          "2010-05-01T00:00:00.000000000",
          "2010-07-01T00:00:00.000000000",
          "2010-09-01T00:00:00.000000000",
          "2010-11-01T00:00:00.000000000",
          "2011-01-01T00:00:00.000000000",
          "2011-03-01T00:00:00.000000000",
          "2011-05-01T00:00:00.000000000",
          "2011-07-01T00:00:00.000000000",
          "2011-09-01T00:00:00.000000000",
          "2011-11-01T00:00:00.000000000",
          "2012-01-01T00:00:00.000000000",
          "2012-03-01T00:00:00.000000000",
          "2012-05-01T00:00:00.000000000",
          "2012-07-01T00:00:00.000000000",
          "2012-09-01T00:00:00.000000000",
          "2012-11-01T00:00:00.000000000",
          "2013-01-01T00:00:00.000000000",
          "2013-03-01T00:00:00.000000000",
          "2013-05-01T00:00:00.000000000",
          "2013-07-01T00:00:00.000000000",
          "2013-09-01T00:00:00.000000000",
          "2013-11-01T00:00:00.000000000",
          "2014-01-01T00:00:00.000000000",
          "2014-03-01T00:00:00.000000000",
          "2014-05-01T00:00:00.000000000",
          "2014-07-01T00:00:00.000000000",
          "2014-09-01T00:00:00.000000000",
          "2014-11-01T00:00:00.000000000",
          "2015-01-01T00:00:00.000000000",
          "2015-03-01T00:00:00.000000000",
          "2015-05-01T00:00:00.000000000",
          "2015-07-01T00:00:00.000000000",
          "2015-09-01T00:00:00.000000000",
          "2015-11-01T00:00:00.000000000",
          "2016-01-01T00:00:00.000000000",
          "2016-03-01T00:00:00.000000000",
          "2016-05-01T00:00:00.000000000",
          "2016-07-01T00:00:00.000000000",
          "2016-09-01T00:00:00.000000000",
          "2016-11-01T00:00:00.000000000",
          "2017-01-01T00:00:00.000000000",
          "2017-03-01T00:00:00.000000000",
          "2017-05-01T00:00:00.000000000",
          "2017-07-01T00:00:00.000000000",
          "2017-09-01T00:00:00.000000000",
          "2017-11-01T00:00:00.000000000",
          "2018-01-01T00:00:00.000000000",
          "2018-03-01T00:00:00.000000000",
          "2018-05-01T00:00:00.000000000",
          "2018-07-01T00:00:00.000000000",
          "2018-09-01T00:00:00.000000000",
          "2018-11-01T00:00:00.000000000",
          "2019-01-01T00:00:00.000000000",
          "2019-03-01T00:00:00.000000000",
          "2019-05-01T00:00:00.000000000",
          "2019-07-01T00:00:00.000000000",
          "2019-09-01T00:00:00.000000000",
          "2019-11-01T00:00:00.000000000",
          "2020-01-01T00:00:00.000000000",
          "2020-03-01T00:00:00.000000000",
          "2020-05-01T00:00:00.000000000",
          "2020-07-01T00:00:00.000000000",
          "2020-09-01T00:00:00.000000000",
          "2020-11-01T00:00:00.000000000",
          "2021-01-01T00:00:00.000000000",
          "2021-03-01T00:00:00.000000000",
          "2021-05-01T00:00:00.000000000",
          "2021-07-01T00:00:00.000000000",
          "2021-09-01T00:00:00.000000000",
          "2021-11-01T00:00:00.000000000"
         ],
         "y": [
          28.03,
          27.91,
          29.58,
          30.51,
          30.327,
          28.437,
          28.44,
          29.407,
          30.95,
          31.9,
          32.289,
          30.547,
          28.07,
          28.327,
          29.7,
          32.013,
          33.01,
          32.5,
          28.31,
          28.067,
          28.19,
          29.08,
          30.76,
          30.77,
          28.11,
          27.747,
          28.37,
          28.247,
          31.11,
          32.689,
          31.61,
          28.8,
          28.7,
          30.183,
          32.84,
          33.32,
          28.47,
          28.4,
          28.28,
          28.213,
          28.05,
          27.94,
          28.07,
          27.853,
          29.153,
          31.147,
          31.37,
          28.29,
          28.07,
          28,
          28.27,
          30.567,
          31.46,
          31.95,
          28.35,
          28.033,
          28.31,
          28.107,
          28.31,
          28.25,
          27.99,
          27.94,
          27.9,
          28.12,
          29.53,
          29.73,
          28.573,
          28,
          28.02,
          28.54,
          28.73,
          28.42,
          28.1,
          27.84,
          27.98,
          28.411,
          29.6,
          30.83,
          28.72,
          28.46,
          27.86,
          27.84,
          28.27,
          28.34,
          27.845,
          27.727,
          27.9,
          27.776,
          27.89,
          28.07,
          28.063,
          27.87,
          27.932,
          28.261,
          28.51,
          27.89,
          27.84,
          27.95,
          27.813,
          27.948,
          28.06,
          28.007,
          28.268,
          27.925,
          27.657,
          28.076,
          28.329,
          28.291,
          27.747,
          27.89,
          27.95,
          27.92,
          27.83,
          27.84,
          27.84,
          27.68,
          27.759,
          28.092,
          27.708,
          27.632,
          28.076,
          27.66,
          27.84,
          27.7,
          27.65,
          27.9,
          27.75,
          27.82,
          27.79,
          27.68,
          27.93,
          28.02,
          28.609,
          28.73,
          27.72,
          28.813,
          29.997,
          31.072,
          32.282,
          31.83,
          30.03,
          29.94,
          30.05,
          28.76,
          28.646,
          30.881,
          32.201,
          30.747,
          30.748,
          28.8,
          28.04,
          28.053,
          28.241,
          28.549,
          29.084,
          28.32,
          28.04,
          27.882,
          27.858,
          28.79,
          27.963,
          28.156,
          27.838,
          27.938,
          27.969,
          28.182,
          28.407,
          28.023,
          27.792,
          27.723,
          28.064,
          29.64,
          31.038,
          32.662,
          28.468,
          27.765,
          27.9,
          28.321,
          28.325,
          28.538,
          27.836,
          27.568,
          27.716,
          27.927,
          28.198,
          28.123,
          27.782,
          27.691,
          27.663,
          28.271,
          28.291,
          28.017,
          27.763,
          27.751,
          28.15,
          28.242,
          28.179,
          28.145,
          27.755,
          27.683,
          27.904,
          29.182,
          29.67,
          29.76
         ]
        },
        {
         "line": {
          "shape": "linear"
         },
         "mode": "lines",
         "name": "Heights meter",
         "type": "scatter",
         "x": [
          "1988-01-01T00:00:00.000000000",
          "1988-03-01T00:00:00.000000000",
          "1988-05-01T00:00:00.000000000",
          "1988-07-01T00:00:00.000000000",
          "1988-09-01T00:00:00.000000000",
          "1988-11-01T00:00:00.000000000",
          "1989-01-01T00:00:00.000000000",
          "1989-03-01T00:00:00.000000000",
          "1989-05-01T00:00:00.000000000",
          "1989-07-01T00:00:00.000000000",
          "1989-09-01T00:00:00.000000000",
          "1989-11-01T00:00:00.000000000",
          "1990-01-01T00:00:00.000000000",
          "1990-03-01T00:00:00.000000000",
          "1990-05-01T00:00:00.000000000",
          "1990-07-01T00:00:00.000000000",
          "1990-09-01T00:00:00.000000000",
          "1990-11-01T00:00:00.000000000",
          "1991-01-01T00:00:00.000000000",
          "1991-03-01T00:00:00.000000000",
          "1991-05-01T00:00:00.000000000",
          "1991-07-01T00:00:00.000000000",
          "1991-09-01T00:00:00.000000000",
          "1991-11-01T00:00:00.000000000",
          "1992-01-01T00:00:00.000000000",
          "1992-03-01T00:00:00.000000000",
          "1992-05-01T00:00:00.000000000",
          "1992-07-01T00:00:00.000000000",
          "1992-09-01T00:00:00.000000000",
          "1992-11-01T00:00:00.000000000",
          "1993-01-01T00:00:00.000000000",
          "1993-03-01T00:00:00.000000000",
          "1993-05-01T00:00:00.000000000",
          "1993-07-01T00:00:00.000000000",
          "1993-09-01T00:00:00.000000000",
          "1993-11-01T00:00:00.000000000",
          "1994-01-01T00:00:00.000000000",
          "1994-03-01T00:00:00.000000000",
          "1994-05-01T00:00:00.000000000",
          "1994-07-01T00:00:00.000000000",
          "1994-09-01T00:00:00.000000000",
          "1994-11-01T00:00:00.000000000",
          "1995-01-01T00:00:00.000000000",
          "1995-03-01T00:00:00.000000000",
          "1995-05-01T00:00:00.000000000",
          "1995-07-01T00:00:00.000000000",
          "1995-09-01T00:00:00.000000000",
          "1995-11-01T00:00:00.000000000",
          "1996-01-01T00:00:00.000000000",
          "1996-03-01T00:00:00.000000000",
          "1996-05-01T00:00:00.000000000",
          "1996-07-01T00:00:00.000000000",
          "1996-09-01T00:00:00.000000000",
          "1996-11-01T00:00:00.000000000",
          "1997-01-01T00:00:00.000000000",
          "1997-03-01T00:00:00.000000000",
          "1997-05-01T00:00:00.000000000",
          "1997-07-01T00:00:00.000000000",
          "1997-09-01T00:00:00.000000000",
          "1997-11-01T00:00:00.000000000",
          "1998-01-01T00:00:00.000000000",
          "1998-03-01T00:00:00.000000000",
          "1998-05-01T00:00:00.000000000",
          "1998-07-01T00:00:00.000000000",
          "1998-09-01T00:00:00.000000000",
          "1998-11-01T00:00:00.000000000",
          "1999-01-01T00:00:00.000000000",
          "1999-03-01T00:00:00.000000000",
          "1999-05-01T00:00:00.000000000",
          "1999-07-01T00:00:00.000000000",
          "1999-09-01T00:00:00.000000000",
          "1999-11-01T00:00:00.000000000",
          "2000-01-01T00:00:00.000000000",
          "2000-03-01T00:00:00.000000000",
          "2000-05-01T00:00:00.000000000",
          "2000-07-01T00:00:00.000000000",
          "2000-09-01T00:00:00.000000000",
          "2000-11-01T00:00:00.000000000",
          "2001-01-01T00:00:00.000000000",
          "2001-03-01T00:00:00.000000000",
          "2001-05-01T00:00:00.000000000",
          "2001-07-01T00:00:00.000000000",
          "2001-09-01T00:00:00.000000000",
          "2001-11-01T00:00:00.000000000",
          "2002-01-01T00:00:00.000000000",
          "2002-03-01T00:00:00.000000000",
          "2002-05-01T00:00:00.000000000",
          "2002-07-01T00:00:00.000000000",
          "2002-09-01T00:00:00.000000000",
          "2002-11-01T00:00:00.000000000",
          "2003-01-01T00:00:00.000000000",
          "2003-03-01T00:00:00.000000000",
          "2003-05-01T00:00:00.000000000",
          "2003-07-01T00:00:00.000000000",
          "2003-09-01T00:00:00.000000000",
          "2003-11-01T00:00:00.000000000",
          "2004-01-01T00:00:00.000000000",
          "2004-03-01T00:00:00.000000000",
          "2004-05-01T00:00:00.000000000",
          "2004-07-01T00:00:00.000000000",
          "2004-09-01T00:00:00.000000000",
          "2004-11-01T00:00:00.000000000",
          "2005-01-01T00:00:00.000000000",
          "2005-03-01T00:00:00.000000000",
          "2005-05-01T00:00:00.000000000",
          "2005-07-01T00:00:00.000000000",
          "2005-09-01T00:00:00.000000000",
          "2005-11-01T00:00:00.000000000",
          "2006-01-01T00:00:00.000000000",
          "2006-03-01T00:00:00.000000000",
          "2006-05-01T00:00:00.000000000",
          "2006-07-01T00:00:00.000000000",
          "2006-09-01T00:00:00.000000000",
          "2006-11-01T00:00:00.000000000",
          "2007-01-01T00:00:00.000000000",
          "2007-03-01T00:00:00.000000000",
          "2007-05-01T00:00:00.000000000",
          "2007-07-01T00:00:00.000000000",
          "2007-09-01T00:00:00.000000000",
          "2007-11-01T00:00:00.000000000",
          "2008-01-01T00:00:00.000000000",
          "2008-03-01T00:00:00.000000000",
          "2008-05-01T00:00:00.000000000",
          "2008-07-01T00:00:00.000000000",
          "2008-09-01T00:00:00.000000000",
          "2008-11-01T00:00:00.000000000",
          "2009-01-01T00:00:00.000000000",
          "2009-03-01T00:00:00.000000000",
          "2009-05-01T00:00:00.000000000",
          "2009-07-01T00:00:00.000000000",
          "2009-09-01T00:00:00.000000000",
          "2009-11-01T00:00:00.000000000",
          "2010-01-01T00:00:00.000000000",
          "2010-03-01T00:00:00.000000000",
          "2010-05-01T00:00:00.000000000",
          "2010-07-01T00:00:00.000000000",
          "2010-09-01T00:00:00.000000000",
          "2010-11-01T00:00:00.000000000",
          "2011-01-01T00:00:00.000000000",
          "2011-03-01T00:00:00.000000000",
          "2011-05-01T00:00:00.000000000",
          "2011-07-01T00:00:00.000000000",
          "2011-09-01T00:00:00.000000000",
          "2011-11-01T00:00:00.000000000",
          "2012-01-01T00:00:00.000000000",
          "2012-03-01T00:00:00.000000000",
          "2012-05-01T00:00:00.000000000",
          "2012-07-01T00:00:00.000000000",
          "2012-09-01T00:00:00.000000000",
          "2012-11-01T00:00:00.000000000",
          "2013-01-01T00:00:00.000000000",
          "2013-03-01T00:00:00.000000000",
          "2013-05-01T00:00:00.000000000",
          "2013-07-01T00:00:00.000000000",
          "2013-09-01T00:00:00.000000000",
          "2013-11-01T00:00:00.000000000",
          "2014-01-01T00:00:00.000000000",
          "2014-03-01T00:00:00.000000000",
          "2014-05-01T00:00:00.000000000",
          "2014-07-01T00:00:00.000000000",
          "2014-09-01T00:00:00.000000000",
          "2014-11-01T00:00:00.000000000",
          "2015-01-01T00:00:00.000000000",
          "2015-03-01T00:00:00.000000000",
          "2015-05-01T00:00:00.000000000",
          "2015-07-01T00:00:00.000000000",
          "2015-09-01T00:00:00.000000000",
          "2015-11-01T00:00:00.000000000",
          "2016-01-01T00:00:00.000000000",
          "2016-03-01T00:00:00.000000000",
          "2016-05-01T00:00:00.000000000",
          "2016-07-01T00:00:00.000000000",
          "2016-09-01T00:00:00.000000000",
          "2016-11-01T00:00:00.000000000",
          "2017-01-01T00:00:00.000000000",
          "2017-03-01T00:00:00.000000000",
          "2017-05-01T00:00:00.000000000",
          "2017-07-01T00:00:00.000000000",
          "2017-09-01T00:00:00.000000000",
          "2017-11-01T00:00:00.000000000",
          "2018-01-01T00:00:00.000000000",
          "2018-03-01T00:00:00.000000000",
          "2018-05-01T00:00:00.000000000",
          "2018-07-01T00:00:00.000000000",
          "2018-09-01T00:00:00.000000000",
          "2018-11-01T00:00:00.000000000",
          "2019-01-01T00:00:00.000000000",
          "2019-03-01T00:00:00.000000000",
          "2019-05-01T00:00:00.000000000",
          "2019-07-01T00:00:00.000000000",
          "2019-09-01T00:00:00.000000000",
          "2019-11-01T00:00:00.000000000",
          "2020-01-01T00:00:00.000000000",
          "2020-03-01T00:00:00.000000000",
          "2020-05-01T00:00:00.000000000",
          "2020-07-01T00:00:00.000000000",
          "2020-09-01T00:00:00.000000000",
          "2020-11-01T00:00:00.000000000",
          "2021-01-01T00:00:00.000000000",
          "2021-03-01T00:00:00.000000000",
          "2021-05-01T00:00:00.000000000",
          "2021-07-01T00:00:00.000000000",
          "2021-09-01T00:00:00.000000000",
          "2021-11-01T00:00:00.000000000"
         ],
         "y": [
          30.8,
          30.8,
          30.8,
          30.8,
          30.8,
          30.8,
          30.8,
          30.8,
          30.8,
          30.8,
          30.8,
          30.8,
          30.8,
          30.8,
          30.8,
          30.8,
          30.8,
          30.8,
          30.8,
          30.8,
          30.8,
          30.8,
          30.8,
          30.8,
          30.8,
          30.8,
          30.8,
          30.8,
          30.8,
          30.8,
          30.8,
          30.8,
          30.8,
          30.8,
          30.8,
          30.8,
          30.8,
          30.8,
          30.8,
          30.8,
          30.8,
          30.8,
          30.8,
          30.8,
          30.8,
          30.8,
          30.8,
          30.8,
          30.8,
          30.8,
          30.8,
          30.8,
          30.8,
          30.8,
          30.8,
          30.8,
          30.8,
          30.8,
          30.8,
          30.8,
          30.8,
          30.8,
          30.8,
          30.8,
          30.8,
          30.8,
          30.8,
          30.8,
          30.8,
          30.8,
          30.8,
          30.8,
          30.8,
          30.8,
          30.8,
          30.8,
          30.8,
          30.8,
          30.8,
          30.8,
          30.8,
          30.8,
          30.8,
          30.8,
          30.8,
          30.8,
          30.8,
          30.8,
          30.8,
          30.8,
          30.8,
          30.8,
          30.8,
          30.8,
          30.8,
          30.8,
          30.8,
          30.8,
          30.8,
          30.8,
          30.8,
          30.8,
          30.8,
          30.8,
          30.8,
          30.8,
          30.8,
          30.8,
          30.8,
          30.8,
          30.8,
          30.8,
          30.8,
          30.8,
          30.8,
          30.8,
          30.8,
          30.8,
          30.8,
          30.8,
          30.8,
          30.8,
          30.8,
          30.8,
          30.8,
          30.8,
          30.8,
          30.8,
          30.8,
          30.8,
          30.8,
          30.8,
          30.8,
          30.8,
          30.8,
          30.8,
          30.8,
          30.8,
          30.8,
          30.8,
          30.8,
          30.8,
          30.8,
          30.8,
          30.8,
          30.8,
          30.8,
          30.8,
          30.8,
          30.8,
          30.8,
          30.8,
          30.8,
          30.8,
          30.8,
          30.8,
          30.8,
          30.8,
          30.8,
          30.8,
          30.8,
          30.8,
          30.8,
          30.8,
          30.8,
          30.8,
          30.8,
          30.8,
          30.8,
          30.8,
          30.8,
          30.8,
          30.8,
          30.8,
          30.8,
          30.8,
          30.8,
          30.8,
          30.8,
          30.8,
          30.8,
          30.8,
          30.8,
          30.8,
          30.8,
          30.8,
          30.8,
          30.8,
          30.8,
          30.8,
          30.8,
          30.8,
          30.8,
          30.8,
          30.8,
          30.8,
          30.8,
          30.8,
          30.8,
          30.8,
          30.8,
          30.8,
          30.8,
          30.8
         ]
        }
       ],
       "layout": {
        "template": {
         "data": {
          "bar": [
           {
            "error_x": {
             "color": "#2a3f5f"
            },
            "error_y": {
             "color": "#2a3f5f"
            },
            "marker": {
             "line": {
              "color": "#E5ECF6",
              "width": 0.5
             },
             "pattern": {
              "fillmode": "overlay",
              "size": 10,
              "solidity": 0.2
             }
            },
            "type": "bar"
           }
          ],
          "barpolar": [
           {
            "marker": {
             "line": {
              "color": "#E5ECF6",
              "width": 0.5
             },
             "pattern": {
              "fillmode": "overlay",
              "size": 10,
              "solidity": 0.2
             }
            },
            "type": "barpolar"
           }
          ],
          "carpet": [
           {
            "aaxis": {
             "endlinecolor": "#2a3f5f",
             "gridcolor": "white",
             "linecolor": "white",
             "minorgridcolor": "white",
             "startlinecolor": "#2a3f5f"
            },
            "baxis": {
             "endlinecolor": "#2a3f5f",
             "gridcolor": "white",
             "linecolor": "white",
             "minorgridcolor": "white",
             "startlinecolor": "#2a3f5f"
            },
            "type": "carpet"
           }
          ],
          "choropleth": [
           {
            "colorbar": {
             "outlinewidth": 0,
             "ticks": ""
            },
            "type": "choropleth"
           }
          ],
          "contour": [
           {
            "colorbar": {
             "outlinewidth": 0,
             "ticks": ""
            },
            "colorscale": [
             [
              0,
              "#0d0887"
             ],
             [
              0.1111111111111111,
              "#46039f"
             ],
             [
              0.2222222222222222,
              "#7201a8"
             ],
             [
              0.3333333333333333,
              "#9c179e"
             ],
             [
              0.4444444444444444,
              "#bd3786"
             ],
             [
              0.5555555555555556,
              "#d8576b"
             ],
             [
              0.6666666666666666,
              "#ed7953"
             ],
             [
              0.7777777777777778,
              "#fb9f3a"
             ],
             [
              0.8888888888888888,
              "#fdca26"
             ],
             [
              1,
              "#f0f921"
             ]
            ],
            "type": "contour"
           }
          ],
          "contourcarpet": [
           {
            "colorbar": {
             "outlinewidth": 0,
             "ticks": ""
            },
            "type": "contourcarpet"
           }
          ],
          "heatmap": [
           {
            "colorbar": {
             "outlinewidth": 0,
             "ticks": ""
            },
            "colorscale": [
             [
              0,
              "#0d0887"
             ],
             [
              0.1111111111111111,
              "#46039f"
             ],
             [
              0.2222222222222222,
              "#7201a8"
             ],
             [
              0.3333333333333333,
              "#9c179e"
             ],
             [
              0.4444444444444444,
              "#bd3786"
             ],
             [
              0.5555555555555556,
              "#d8576b"
             ],
             [
              0.6666666666666666,
              "#ed7953"
             ],
             [
              0.7777777777777778,
              "#fb9f3a"
             ],
             [
              0.8888888888888888,
              "#fdca26"
             ],
             [
              1,
              "#f0f921"
             ]
            ],
            "type": "heatmap"
           }
          ],
          "heatmapgl": [
           {
            "colorbar": {
             "outlinewidth": 0,
             "ticks": ""
            },
            "colorscale": [
             [
              0,
              "#0d0887"
             ],
             [
              0.1111111111111111,
              "#46039f"
             ],
             [
              0.2222222222222222,
              "#7201a8"
             ],
             [
              0.3333333333333333,
              "#9c179e"
             ],
             [
              0.4444444444444444,
              "#bd3786"
             ],
             [
              0.5555555555555556,
              "#d8576b"
             ],
             [
              0.6666666666666666,
              "#ed7953"
             ],
             [
              0.7777777777777778,
              "#fb9f3a"
             ],
             [
              0.8888888888888888,
              "#fdca26"
             ],
             [
              1,
              "#f0f921"
             ]
            ],
            "type": "heatmapgl"
           }
          ],
          "histogram": [
           {
            "marker": {
             "pattern": {
              "fillmode": "overlay",
              "size": 10,
              "solidity": 0.2
             }
            },
            "type": "histogram"
           }
          ],
          "histogram2d": [
           {
            "colorbar": {
             "outlinewidth": 0,
             "ticks": ""
            },
            "colorscale": [
             [
              0,
              "#0d0887"
             ],
             [
              0.1111111111111111,
              "#46039f"
             ],
             [
              0.2222222222222222,
              "#7201a8"
             ],
             [
              0.3333333333333333,
              "#9c179e"
             ],
             [
              0.4444444444444444,
              "#bd3786"
             ],
             [
              0.5555555555555556,
              "#d8576b"
             ],
             [
              0.6666666666666666,
              "#ed7953"
             ],
             [
              0.7777777777777778,
              "#fb9f3a"
             ],
             [
              0.8888888888888888,
              "#fdca26"
             ],
             [
              1,
              "#f0f921"
             ]
            ],
            "type": "histogram2d"
           }
          ],
          "histogram2dcontour": [
           {
            "colorbar": {
             "outlinewidth": 0,
             "ticks": ""
            },
            "colorscale": [
             [
              0,
              "#0d0887"
             ],
             [
              0.1111111111111111,
              "#46039f"
             ],
             [
              0.2222222222222222,
              "#7201a8"
             ],
             [
              0.3333333333333333,
              "#9c179e"
             ],
             [
              0.4444444444444444,
              "#bd3786"
             ],
             [
              0.5555555555555556,
              "#d8576b"
             ],
             [
              0.6666666666666666,
              "#ed7953"
             ],
             [
              0.7777777777777778,
              "#fb9f3a"
             ],
             [
              0.8888888888888888,
              "#fdca26"
             ],
             [
              1,
              "#f0f921"
             ]
            ],
            "type": "histogram2dcontour"
           }
          ],
          "mesh3d": [
           {
            "colorbar": {
             "outlinewidth": 0,
             "ticks": ""
            },
            "type": "mesh3d"
           }
          ],
          "parcoords": [
           {
            "line": {
             "colorbar": {
              "outlinewidth": 0,
              "ticks": ""
             }
            },
            "type": "parcoords"
           }
          ],
          "pie": [
           {
            "automargin": true,
            "type": "pie"
           }
          ],
          "scatter": [
           {
            "fillpattern": {
             "fillmode": "overlay",
             "size": 10,
             "solidity": 0.2
            },
            "type": "scatter"
           }
          ],
          "scatter3d": [
           {
            "line": {
             "colorbar": {
              "outlinewidth": 0,
              "ticks": ""
             }
            },
            "marker": {
             "colorbar": {
              "outlinewidth": 0,
              "ticks": ""
             }
            },
            "type": "scatter3d"
           }
          ],
          "scattercarpet": [
           {
            "marker": {
             "colorbar": {
              "outlinewidth": 0,
              "ticks": ""
             }
            },
            "type": "scattercarpet"
           }
          ],
          "scattergeo": [
           {
            "marker": {
             "colorbar": {
              "outlinewidth": 0,
              "ticks": ""
             }
            },
            "type": "scattergeo"
           }
          ],
          "scattergl": [
           {
            "marker": {
             "colorbar": {
              "outlinewidth": 0,
              "ticks": ""
             }
            },
            "type": "scattergl"
           }
          ],
          "scattermapbox": [
           {
            "marker": {
             "colorbar": {
              "outlinewidth": 0,
              "ticks": ""
             }
            },
            "type": "scattermapbox"
           }
          ],
          "scatterpolar": [
           {
            "marker": {
             "colorbar": {
              "outlinewidth": 0,
              "ticks": ""
             }
            },
            "type": "scatterpolar"
           }
          ],
          "scatterpolargl": [
           {
            "marker": {
             "colorbar": {
              "outlinewidth": 0,
              "ticks": ""
             }
            },
            "type": "scatterpolargl"
           }
          ],
          "scatterternary": [
           {
            "marker": {
             "colorbar": {
              "outlinewidth": 0,
              "ticks": ""
             }
            },
            "type": "scatterternary"
           }
          ],
          "surface": [
           {
            "colorbar": {
             "outlinewidth": 0,
             "ticks": ""
            },
            "colorscale": [
             [
              0,
              "#0d0887"
             ],
             [
              0.1111111111111111,
              "#46039f"
             ],
             [
              0.2222222222222222,
              "#7201a8"
             ],
             [
              0.3333333333333333,
              "#9c179e"
             ],
             [
              0.4444444444444444,
              "#bd3786"
             ],
             [
              0.5555555555555556,
              "#d8576b"
             ],
             [
              0.6666666666666666,
              "#ed7953"
             ],
             [
              0.7777777777777778,
              "#fb9f3a"
             ],
             [
              0.8888888888888888,
              "#fdca26"
             ],
             [
              1,
              "#f0f921"
             ]
            ],
            "type": "surface"
           }
          ],
          "table": [
           {
            "cells": {
             "fill": {
              "color": "#EBF0F8"
             },
             "line": {
              "color": "white"
             }
            },
            "header": {
             "fill": {
              "color": "#C8D4E3"
             },
             "line": {
              "color": "white"
             }
            },
            "type": "table"
           }
          ]
         },
         "layout": {
          "annotationdefaults": {
           "arrowcolor": "#2a3f5f",
           "arrowhead": 0,
           "arrowwidth": 1
          },
          "autotypenumbers": "strict",
          "coloraxis": {
           "colorbar": {
            "outlinewidth": 0,
            "ticks": ""
           }
          },
          "colorscale": {
           "diverging": [
            [
             0,
             "#8e0152"
            ],
            [
             0.1,
             "#c51b7d"
            ],
            [
             0.2,
             "#de77ae"
            ],
            [
             0.3,
             "#f1b6da"
            ],
            [
             0.4,
             "#fde0ef"
            ],
            [
             0.5,
             "#f7f7f7"
            ],
            [
             0.6,
             "#e6f5d0"
            ],
            [
             0.7,
             "#b8e186"
            ],
            [
             0.8,
             "#7fbc41"
            ],
            [
             0.9,
             "#4d9221"
            ],
            [
             1,
             "#276419"
            ]
           ],
           "sequential": [
            [
             0,
             "#0d0887"
            ],
            [
             0.1111111111111111,
             "#46039f"
            ],
            [
             0.2222222222222222,
             "#7201a8"
            ],
            [
             0.3333333333333333,
             "#9c179e"
            ],
            [
             0.4444444444444444,
             "#bd3786"
            ],
            [
             0.5555555555555556,
             "#d8576b"
            ],
            [
             0.6666666666666666,
             "#ed7953"
            ],
            [
             0.7777777777777778,
             "#fb9f3a"
            ],
            [
             0.8888888888888888,
             "#fdca26"
            ],
            [
             1,
             "#f0f921"
            ]
           ],
           "sequentialminus": [
            [
             0,
             "#0d0887"
            ],
            [
             0.1111111111111111,
             "#46039f"
            ],
            [
             0.2222222222222222,
             "#7201a8"
            ],
            [
             0.3333333333333333,
             "#9c179e"
            ],
            [
             0.4444444444444444,
             "#bd3786"
            ],
            [
             0.5555555555555556,
             "#d8576b"
            ],
            [
             0.6666666666666666,
             "#ed7953"
            ],
            [
             0.7777777777777778,
             "#fb9f3a"
            ],
            [
             0.8888888888888888,
             "#fdca26"
            ],
            [
             1,
             "#f0f921"
            ]
           ]
          },
          "colorway": [
           "#636efa",
           "#EF553B",
           "#00cc96",
           "#ab63fa",
           "#FFA15A",
           "#19d3f3",
           "#FF6692",
           "#B6E880",
           "#FF97FF",
           "#FECB52"
          ],
          "font": {
           "color": "#2a3f5f"
          },
          "geo": {
           "bgcolor": "white",
           "lakecolor": "white",
           "landcolor": "#E5ECF6",
           "showlakes": true,
           "showland": true,
           "subunitcolor": "white"
          },
          "hoverlabel": {
           "align": "left"
          },
          "hovermode": "closest",
          "mapbox": {
           "style": "light"
          },
          "paper_bgcolor": "white",
          "plot_bgcolor": "#E5ECF6",
          "polar": {
           "angularaxis": {
            "gridcolor": "white",
            "linecolor": "white",
            "ticks": ""
           },
           "bgcolor": "#E5ECF6",
           "radialaxis": {
            "gridcolor": "white",
            "linecolor": "white",
            "ticks": ""
           }
          },
          "scene": {
           "xaxis": {
            "backgroundcolor": "#E5ECF6",
            "gridcolor": "white",
            "gridwidth": 2,
            "linecolor": "white",
            "showbackground": true,
            "ticks": "",
            "zerolinecolor": "white"
           },
           "yaxis": {
            "backgroundcolor": "#E5ECF6",
            "gridcolor": "white",
            "gridwidth": 2,
            "linecolor": "white",
            "showbackground": true,
            "ticks": "",
            "zerolinecolor": "white"
           },
           "zaxis": {
            "backgroundcolor": "#E5ECF6",
            "gridcolor": "white",
            "gridwidth": 2,
            "linecolor": "white",
            "showbackground": true,
            "ticks": "",
            "zerolinecolor": "white"
           }
          },
          "shapedefaults": {
           "line": {
            "color": "#2a3f5f"
           }
          },
          "ternary": {
           "aaxis": {
            "gridcolor": "white",
            "linecolor": "white",
            "ticks": ""
           },
           "baxis": {
            "gridcolor": "white",
            "linecolor": "white",
            "ticks": ""
           },
           "bgcolor": "#E5ECF6",
           "caxis": {
            "gridcolor": "white",
            "linecolor": "white",
            "ticks": ""
           }
          },
          "title": {
           "x": 0.05
          },
          "xaxis": {
           "automargin": true,
           "gridcolor": "white",
           "linecolor": "white",
           "ticks": "",
           "title": {
            "standoff": 15
           },
           "zerolinecolor": "white",
           "zerolinewidth": 2
          },
          "yaxis": {
           "automargin": true,
           "gridcolor": "white",
           "linecolor": "white",
           "ticks": "",
           "title": {
            "standoff": 15
           },
           "zerolinecolor": "white",
           "zerolinewidth": 2
          }
         }
        },
        "title": {
         "text": "Station (425010) BiMonthly Maximum Water Course Levels with Structure Crest Height"
        },
        "xaxis": {
         "tickformat": "%d %B (%a)<br>%y",
         "title": {
          "text": "Time"
         }
        },
        "yaxis": {
         "title": {
          "text": "Heights (meter)"
         }
        }
       }
      }
     },
     "metadata": {},
     "output_type": "display_data"
    },
    {
     "name": "stderr",
     "output_type": "stream",
     "text": [
      "c:\\office12\\bomwater-notebook\\.venv\\lib\\site-packages\\xarray\\core\\variable.py:305: UnitStrippedWarning:\n",
      "\n",
      "The unit of the quantity is stripped when downcasting to ndarray.\n",
      "\n"
     ]
    },
    {
     "data": {
      "application/vnd.plotly.v1+json": {
       "config": {
        "plotlyServerURL": "https://plot.ly"
       },
       "data": [
        {
         "line": {
          "shape": "linear"
         },
         "mode": "lines",
         "name": "Water Course Level meter",
         "type": "scatter",
         "x": [
          "2008-01-01T00:00:00.000000000",
          "2008-03-01T00:00:00.000000000",
          "2008-05-01T00:00:00.000000000",
          "2008-07-01T00:00:00.000000000",
          "2008-09-01T00:00:00.000000000",
          "2008-11-01T00:00:00.000000000",
          "2009-01-01T00:00:00.000000000",
          "2009-03-01T00:00:00.000000000",
          "2009-05-01T00:00:00.000000000",
          "2009-07-01T00:00:00.000000000",
          "2009-09-01T00:00:00.000000000",
          "2009-11-01T00:00:00.000000000",
          "2010-01-01T00:00:00.000000000",
          "2010-03-01T00:00:00.000000000",
          "2010-05-01T00:00:00.000000000",
          "2010-07-01T00:00:00.000000000",
          "2010-09-01T00:00:00.000000000",
          "2010-11-01T00:00:00.000000000",
          "2011-01-01T00:00:00.000000000",
          "2011-03-01T00:00:00.000000000",
          "2011-05-01T00:00:00.000000000",
          "2011-07-01T00:00:00.000000000",
          "2011-09-01T00:00:00.000000000",
          "2011-11-01T00:00:00.000000000",
          "2012-01-01T00:00:00.000000000",
          "2012-03-01T00:00:00.000000000",
          "2012-05-01T00:00:00.000000000",
          "2012-07-01T00:00:00.000000000",
          "2012-09-01T00:00:00.000000000",
          "2012-11-01T00:00:00.000000000",
          "2013-01-01T00:00:00.000000000",
          "2013-03-01T00:00:00.000000000",
          "2013-05-01T00:00:00.000000000",
          "2013-07-01T00:00:00.000000000",
          "2013-09-01T00:00:00.000000000",
          "2013-11-01T00:00:00.000000000",
          "2014-01-01T00:00:00.000000000",
          "2014-03-01T00:00:00.000000000",
          "2014-05-01T00:00:00.000000000",
          "2014-07-01T00:00:00.000000000",
          "2014-09-01T00:00:00.000000000",
          "2014-11-01T00:00:00.000000000",
          "2015-01-01T00:00:00.000000000",
          "2015-03-01T00:00:00.000000000",
          "2015-05-01T00:00:00.000000000",
          "2015-07-01T00:00:00.000000000",
          "2015-09-01T00:00:00.000000000",
          "2015-11-01T00:00:00.000000000",
          "2016-01-01T00:00:00.000000000",
          "2016-03-01T00:00:00.000000000",
          "2016-05-01T00:00:00.000000000",
          "2016-07-01T00:00:00.000000000",
          "2016-09-01T00:00:00.000000000",
          "2016-11-01T00:00:00.000000000",
          "2017-01-01T00:00:00.000000000",
          "2017-03-01T00:00:00.000000000",
          "2017-05-01T00:00:00.000000000",
          "2017-07-01T00:00:00.000000000",
          "2017-09-01T00:00:00.000000000",
          "2017-11-01T00:00:00.000000000",
          "2018-01-01T00:00:00.000000000",
          "2018-03-01T00:00:00.000000000",
          "2018-05-01T00:00:00.000000000",
          "2018-07-01T00:00:00.000000000",
          "2018-09-01T00:00:00.000000000",
          "2018-11-01T00:00:00.000000000",
          "2019-01-01T00:00:00.000000000",
          "2019-03-01T00:00:00.000000000",
          "2019-05-01T00:00:00.000000000",
          "2019-07-01T00:00:00.000000000",
          "2019-09-01T00:00:00.000000000",
          "2019-11-01T00:00:00.000000000",
          "2020-01-01T00:00:00.000000000",
          "2020-03-01T00:00:00.000000000",
          "2020-05-01T00:00:00.000000000",
          "2020-07-01T00:00:00.000000000",
          "2020-09-01T00:00:00.000000000",
          "2020-11-01T00:00:00.000000000",
          "2021-01-01T00:00:00.000000000",
          "2021-03-01T00:00:00.000000000",
          "2021-05-01T00:00:00.000000000",
          "2021-07-01T00:00:00.000000000",
          "2021-09-01T00:00:00.000000000",
          "2021-11-01T00:00:00.000000000"
         ],
         "y": [
          0.174,
          0.009,
          -0.071,
          0.131,
          0.325,
          0.093,
          -0.225,
          -0.256,
          -0.566,
          -0.314,
          -0.238,
          -0.079,
          0.052,
          0.082,
          0.176,
          0.647,
          1.998,
          3.39,
          4.175,
          4.249,
          3.707,
          2.511,
          2.514,
          1.443,
          1.758,
          3.291,
          3.333,
          2.744,
          2.966,
          1.551,
          1.084,
          1.017,
          0.87,
          1.335,
          1.878,
          1.24,
          1.089,
          1.009,
          0.901,
          1.379,
          1.196,
          1.085,
          1.051,
          0.887,
          0.838,
          1.235,
          1.22,
          1.141,
          0.957,
          0.997,
          0.917,
          1.957,
          2.946,
          4.344,
          3.436,
          0.987,
          0.829,
          1.067,
          1.141,
          1.274,
          1.067,
          0.865,
          0.871,
          1.058,
          1.188,
          1.326,
          1.128,
          0.889,
          0.974,
          1.174,
          1.339,
          1.296,
          0.984,
          0.909,
          0.893,
          1.201,
          1.212,
          1.266,
          1.137,
          0.952,
          0.854,
          1.501,
          2.058,
          2.313
         ]
        },
        {
         "line": {
          "shape": "linear"
         },
         "mode": "lines",
         "name": "Heights meter",
         "type": "scatter",
         "x": [
          "2008-01-01T00:00:00.000000000",
          "2008-03-01T00:00:00.000000000",
          "2008-05-01T00:00:00.000000000",
          "2008-07-01T00:00:00.000000000",
          "2008-09-01T00:00:00.000000000",
          "2008-11-01T00:00:00.000000000",
          "2009-01-01T00:00:00.000000000",
          "2009-03-01T00:00:00.000000000",
          "2009-05-01T00:00:00.000000000",
          "2009-07-01T00:00:00.000000000",
          "2009-09-01T00:00:00.000000000",
          "2009-11-01T00:00:00.000000000",
          "2010-01-01T00:00:00.000000000",
          "2010-03-01T00:00:00.000000000",
          "2010-05-01T00:00:00.000000000",
          "2010-07-01T00:00:00.000000000",
          "2010-09-01T00:00:00.000000000",
          "2010-11-01T00:00:00.000000000",
          "2011-01-01T00:00:00.000000000",
          "2011-03-01T00:00:00.000000000",
          "2011-05-01T00:00:00.000000000",
          "2011-07-01T00:00:00.000000000",
          "2011-09-01T00:00:00.000000000",
          "2011-11-01T00:00:00.000000000",
          "2012-01-01T00:00:00.000000000",
          "2012-03-01T00:00:00.000000000",
          "2012-05-01T00:00:00.000000000",
          "2012-07-01T00:00:00.000000000",
          "2012-09-01T00:00:00.000000000",
          "2012-11-01T00:00:00.000000000",
          "2013-01-01T00:00:00.000000000",
          "2013-03-01T00:00:00.000000000",
          "2013-05-01T00:00:00.000000000",
          "2013-07-01T00:00:00.000000000",
          "2013-09-01T00:00:00.000000000",
          "2013-11-01T00:00:00.000000000",
          "2014-01-01T00:00:00.000000000",
          "2014-03-01T00:00:00.000000000",
          "2014-05-01T00:00:00.000000000",
          "2014-07-01T00:00:00.000000000",
          "2014-09-01T00:00:00.000000000",
          "2014-11-01T00:00:00.000000000",
          "2015-01-01T00:00:00.000000000",
          "2015-03-01T00:00:00.000000000",
          "2015-05-01T00:00:00.000000000",
          "2015-07-01T00:00:00.000000000",
          "2015-09-01T00:00:00.000000000",
          "2015-11-01T00:00:00.000000000",
          "2016-01-01T00:00:00.000000000",
          "2016-03-01T00:00:00.000000000",
          "2016-05-01T00:00:00.000000000",
          "2016-07-01T00:00:00.000000000",
          "2016-09-01T00:00:00.000000000",
          "2016-11-01T00:00:00.000000000",
          "2017-01-01T00:00:00.000000000",
          "2017-03-01T00:00:00.000000000",
          "2017-05-01T00:00:00.000000000",
          "2017-07-01T00:00:00.000000000",
          "2017-09-01T00:00:00.000000000",
          "2017-11-01T00:00:00.000000000",
          "2018-01-01T00:00:00.000000000",
          "2018-03-01T00:00:00.000000000",
          "2018-05-01T00:00:00.000000000",
          "2018-07-01T00:00:00.000000000",
          "2018-09-01T00:00:00.000000000",
          "2018-11-01T00:00:00.000000000",
          "2019-01-01T00:00:00.000000000",
          "2019-03-01T00:00:00.000000000",
          "2019-05-01T00:00:00.000000000",
          "2019-07-01T00:00:00.000000000",
          "2019-09-01T00:00:00.000000000",
          "2019-11-01T00:00:00.000000000",
          "2020-01-01T00:00:00.000000000",
          "2020-03-01T00:00:00.000000000",
          "2020-05-01T00:00:00.000000000",
          "2020-07-01T00:00:00.000000000",
          "2020-09-01T00:00:00.000000000",
          "2020-11-01T00:00:00.000000000",
          "2021-01-01T00:00:00.000000000",
          "2021-03-01T00:00:00.000000000",
          "2021-05-01T00:00:00.000000000",
          "2021-07-01T00:00:00.000000000",
          "2021-09-01T00:00:00.000000000",
          "2021-11-01T00:00:00.000000000"
         ],
         "y": [
          3.3,
          3.3,
          3.3,
          3.3,
          3.3,
          3.3,
          3.3,
          3.3,
          3.3,
          3.3,
          3.3,
          3.3,
          3.3,
          3.3,
          3.3,
          3.3,
          3.3,
          3.3,
          3.3,
          3.3,
          3.3,
          3.3,
          3.3,
          3.3,
          3.3,
          3.3,
          3.3,
          3.3,
          3.3,
          3.3,
          3.3,
          3.3,
          3.3,
          3.3,
          3.3,
          3.3,
          3.3,
          3.3,
          3.3,
          3.3,
          3.3,
          3.3,
          3.3,
          3.3,
          3.3,
          3.3,
          3.3,
          3.3,
          3.3,
          3.3,
          3.3,
          3.3,
          3.3,
          3.3,
          3.3,
          3.3,
          3.3,
          3.3,
          3.3,
          3.3,
          3.3,
          3.3,
          3.3,
          3.3,
          3.3,
          3.3,
          3.3,
          3.3,
          3.3,
          3.3,
          3.3,
          3.3,
          3.3,
          3.3,
          3.3,
          3.3,
          3.3,
          3.3,
          3.3,
          3.3,
          3.3,
          3.3,
          3.3,
          3.3
         ]
        }
       ],
       "layout": {
        "template": {
         "data": {
          "bar": [
           {
            "error_x": {
             "color": "#2a3f5f"
            },
            "error_y": {
             "color": "#2a3f5f"
            },
            "marker": {
             "line": {
              "color": "#E5ECF6",
              "width": 0.5
             },
             "pattern": {
              "fillmode": "overlay",
              "size": 10,
              "solidity": 0.2
             }
            },
            "type": "bar"
           }
          ],
          "barpolar": [
           {
            "marker": {
             "line": {
              "color": "#E5ECF6",
              "width": 0.5
             },
             "pattern": {
              "fillmode": "overlay",
              "size": 10,
              "solidity": 0.2
             }
            },
            "type": "barpolar"
           }
          ],
          "carpet": [
           {
            "aaxis": {
             "endlinecolor": "#2a3f5f",
             "gridcolor": "white",
             "linecolor": "white",
             "minorgridcolor": "white",
             "startlinecolor": "#2a3f5f"
            },
            "baxis": {
             "endlinecolor": "#2a3f5f",
             "gridcolor": "white",
             "linecolor": "white",
             "minorgridcolor": "white",
             "startlinecolor": "#2a3f5f"
            },
            "type": "carpet"
           }
          ],
          "choropleth": [
           {
            "colorbar": {
             "outlinewidth": 0,
             "ticks": ""
            },
            "type": "choropleth"
           }
          ],
          "contour": [
           {
            "colorbar": {
             "outlinewidth": 0,
             "ticks": ""
            },
            "colorscale": [
             [
              0,
              "#0d0887"
             ],
             [
              0.1111111111111111,
              "#46039f"
             ],
             [
              0.2222222222222222,
              "#7201a8"
             ],
             [
              0.3333333333333333,
              "#9c179e"
             ],
             [
              0.4444444444444444,
              "#bd3786"
             ],
             [
              0.5555555555555556,
              "#d8576b"
             ],
             [
              0.6666666666666666,
              "#ed7953"
             ],
             [
              0.7777777777777778,
              "#fb9f3a"
             ],
             [
              0.8888888888888888,
              "#fdca26"
             ],
             [
              1,
              "#f0f921"
             ]
            ],
            "type": "contour"
           }
          ],
          "contourcarpet": [
           {
            "colorbar": {
             "outlinewidth": 0,
             "ticks": ""
            },
            "type": "contourcarpet"
           }
          ],
          "heatmap": [
           {
            "colorbar": {
             "outlinewidth": 0,
             "ticks": ""
            },
            "colorscale": [
             [
              0,
              "#0d0887"
             ],
             [
              0.1111111111111111,
              "#46039f"
             ],
             [
              0.2222222222222222,
              "#7201a8"
             ],
             [
              0.3333333333333333,
              "#9c179e"
             ],
             [
              0.4444444444444444,
              "#bd3786"
             ],
             [
              0.5555555555555556,
              "#d8576b"
             ],
             [
              0.6666666666666666,
              "#ed7953"
             ],
             [
              0.7777777777777778,
              "#fb9f3a"
             ],
             [
              0.8888888888888888,
              "#fdca26"
             ],
             [
              1,
              "#f0f921"
             ]
            ],
            "type": "heatmap"
           }
          ],
          "heatmapgl": [
           {
            "colorbar": {
             "outlinewidth": 0,
             "ticks": ""
            },
            "colorscale": [
             [
              0,
              "#0d0887"
             ],
             [
              0.1111111111111111,
              "#46039f"
             ],
             [
              0.2222222222222222,
              "#7201a8"
             ],
             [
              0.3333333333333333,
              "#9c179e"
             ],
             [
              0.4444444444444444,
              "#bd3786"
             ],
             [
              0.5555555555555556,
              "#d8576b"
             ],
             [
              0.6666666666666666,
              "#ed7953"
             ],
             [
              0.7777777777777778,
              "#fb9f3a"
             ],
             [
              0.8888888888888888,
              "#fdca26"
             ],
             [
              1,
              "#f0f921"
             ]
            ],
            "type": "heatmapgl"
           }
          ],
          "histogram": [
           {
            "marker": {
             "pattern": {
              "fillmode": "overlay",
              "size": 10,
              "solidity": 0.2
             }
            },
            "type": "histogram"
           }
          ],
          "histogram2d": [
           {
            "colorbar": {
             "outlinewidth": 0,
             "ticks": ""
            },
            "colorscale": [
             [
              0,
              "#0d0887"
             ],
             [
              0.1111111111111111,
              "#46039f"
             ],
             [
              0.2222222222222222,
              "#7201a8"
             ],
             [
              0.3333333333333333,
              "#9c179e"
             ],
             [
              0.4444444444444444,
              "#bd3786"
             ],
             [
              0.5555555555555556,
              "#d8576b"
             ],
             [
              0.6666666666666666,
              "#ed7953"
             ],
             [
              0.7777777777777778,
              "#fb9f3a"
             ],
             [
              0.8888888888888888,
              "#fdca26"
             ],
             [
              1,
              "#f0f921"
             ]
            ],
            "type": "histogram2d"
           }
          ],
          "histogram2dcontour": [
           {
            "colorbar": {
             "outlinewidth": 0,
             "ticks": ""
            },
            "colorscale": [
             [
              0,
              "#0d0887"
             ],
             [
              0.1111111111111111,
              "#46039f"
             ],
             [
              0.2222222222222222,
              "#7201a8"
             ],
             [
              0.3333333333333333,
              "#9c179e"
             ],
             [
              0.4444444444444444,
              "#bd3786"
             ],
             [
              0.5555555555555556,
              "#d8576b"
             ],
             [
              0.6666666666666666,
              "#ed7953"
             ],
             [
              0.7777777777777778,
              "#fb9f3a"
             ],
             [
              0.8888888888888888,
              "#fdca26"
             ],
             [
              1,
              "#f0f921"
             ]
            ],
            "type": "histogram2dcontour"
           }
          ],
          "mesh3d": [
           {
            "colorbar": {
             "outlinewidth": 0,
             "ticks": ""
            },
            "type": "mesh3d"
           }
          ],
          "parcoords": [
           {
            "line": {
             "colorbar": {
              "outlinewidth": 0,
              "ticks": ""
             }
            },
            "type": "parcoords"
           }
          ],
          "pie": [
           {
            "automargin": true,
            "type": "pie"
           }
          ],
          "scatter": [
           {
            "fillpattern": {
             "fillmode": "overlay",
             "size": 10,
             "solidity": 0.2
            },
            "type": "scatter"
           }
          ],
          "scatter3d": [
           {
            "line": {
             "colorbar": {
              "outlinewidth": 0,
              "ticks": ""
             }
            },
            "marker": {
             "colorbar": {
              "outlinewidth": 0,
              "ticks": ""
             }
            },
            "type": "scatter3d"
           }
          ],
          "scattercarpet": [
           {
            "marker": {
             "colorbar": {
              "outlinewidth": 0,
              "ticks": ""
             }
            },
            "type": "scattercarpet"
           }
          ],
          "scattergeo": [
           {
            "marker": {
             "colorbar": {
              "outlinewidth": 0,
              "ticks": ""
             }
            },
            "type": "scattergeo"
           }
          ],
          "scattergl": [
           {
            "marker": {
             "colorbar": {
              "outlinewidth": 0,
              "ticks": ""
             }
            },
            "type": "scattergl"
           }
          ],
          "scattermapbox": [
           {
            "marker": {
             "colorbar": {
              "outlinewidth": 0,
              "ticks": ""
             }
            },
            "type": "scattermapbox"
           }
          ],
          "scatterpolar": [
           {
            "marker": {
             "colorbar": {
              "outlinewidth": 0,
              "ticks": ""
             }
            },
            "type": "scatterpolar"
           }
          ],
          "scatterpolargl": [
           {
            "marker": {
             "colorbar": {
              "outlinewidth": 0,
              "ticks": ""
             }
            },
            "type": "scatterpolargl"
           }
          ],
          "scatterternary": [
           {
            "marker": {
             "colorbar": {
              "outlinewidth": 0,
              "ticks": ""
             }
            },
            "type": "scatterternary"
           }
          ],
          "surface": [
           {
            "colorbar": {
             "outlinewidth": 0,
             "ticks": ""
            },
            "colorscale": [
             [
              0,
              "#0d0887"
             ],
             [
              0.1111111111111111,
              "#46039f"
             ],
             [
              0.2222222222222222,
              "#7201a8"
             ],
             [
              0.3333333333333333,
              "#9c179e"
             ],
             [
              0.4444444444444444,
              "#bd3786"
             ],
             [
              0.5555555555555556,
              "#d8576b"
             ],
             [
              0.6666666666666666,
              "#ed7953"
             ],
             [
              0.7777777777777778,
              "#fb9f3a"
             ],
             [
              0.8888888888888888,
              "#fdca26"
             ],
             [
              1,
              "#f0f921"
             ]
            ],
            "type": "surface"
           }
          ],
          "table": [
           {
            "cells": {
             "fill": {
              "color": "#EBF0F8"
             },
             "line": {
              "color": "white"
             }
            },
            "header": {
             "fill": {
              "color": "#C8D4E3"
             },
             "line": {
              "color": "white"
             }
            },
            "type": "table"
           }
          ]
         },
         "layout": {
          "annotationdefaults": {
           "arrowcolor": "#2a3f5f",
           "arrowhead": 0,
           "arrowwidth": 1
          },
          "autotypenumbers": "strict",
          "coloraxis": {
           "colorbar": {
            "outlinewidth": 0,
            "ticks": ""
           }
          },
          "colorscale": {
           "diverging": [
            [
             0,
             "#8e0152"
            ],
            [
             0.1,
             "#c51b7d"
            ],
            [
             0.2,
             "#de77ae"
            ],
            [
             0.3,
             "#f1b6da"
            ],
            [
             0.4,
             "#fde0ef"
            ],
            [
             0.5,
             "#f7f7f7"
            ],
            [
             0.6,
             "#e6f5d0"
            ],
            [
             0.7,
             "#b8e186"
            ],
            [
             0.8,
             "#7fbc41"
            ],
            [
             0.9,
             "#4d9221"
            ],
            [
             1,
             "#276419"
            ]
           ],
           "sequential": [
            [
             0,
             "#0d0887"
            ],
            [
             0.1111111111111111,
             "#46039f"
            ],
            [
             0.2222222222222222,
             "#7201a8"
            ],
            [
             0.3333333333333333,
             "#9c179e"
            ],
            [
             0.4444444444444444,
             "#bd3786"
            ],
            [
             0.5555555555555556,
             "#d8576b"
            ],
            [
             0.6666666666666666,
             "#ed7953"
            ],
            [
             0.7777777777777778,
             "#fb9f3a"
            ],
            [
             0.8888888888888888,
             "#fdca26"
            ],
            [
             1,
             "#f0f921"
            ]
           ],
           "sequentialminus": [
            [
             0,
             "#0d0887"
            ],
            [
             0.1111111111111111,
             "#46039f"
            ],
            [
             0.2222222222222222,
             "#7201a8"
            ],
            [
             0.3333333333333333,
             "#9c179e"
            ],
            [
             0.4444444444444444,
             "#bd3786"
            ],
            [
             0.5555555555555556,
             "#d8576b"
            ],
            [
             0.6666666666666666,
             "#ed7953"
            ],
            [
             0.7777777777777778,
             "#fb9f3a"
            ],
            [
             0.8888888888888888,
             "#fdca26"
            ],
            [
             1,
             "#f0f921"
            ]
           ]
          },
          "colorway": [
           "#636efa",
           "#EF553B",
           "#00cc96",
           "#ab63fa",
           "#FFA15A",
           "#19d3f3",
           "#FF6692",
           "#B6E880",
           "#FF97FF",
           "#FECB52"
          ],
          "font": {
           "color": "#2a3f5f"
          },
          "geo": {
           "bgcolor": "white",
           "lakecolor": "white",
           "landcolor": "#E5ECF6",
           "showlakes": true,
           "showland": true,
           "subunitcolor": "white"
          },
          "hoverlabel": {
           "align": "left"
          },
          "hovermode": "closest",
          "mapbox": {
           "style": "light"
          },
          "paper_bgcolor": "white",
          "plot_bgcolor": "#E5ECF6",
          "polar": {
           "angularaxis": {
            "gridcolor": "white",
            "linecolor": "white",
            "ticks": ""
           },
           "bgcolor": "#E5ECF6",
           "radialaxis": {
            "gridcolor": "white",
            "linecolor": "white",
            "ticks": ""
           }
          },
          "scene": {
           "xaxis": {
            "backgroundcolor": "#E5ECF6",
            "gridcolor": "white",
            "gridwidth": 2,
            "linecolor": "white",
            "showbackground": true,
            "ticks": "",
            "zerolinecolor": "white"
           },
           "yaxis": {
            "backgroundcolor": "#E5ECF6",
            "gridcolor": "white",
            "gridwidth": 2,
            "linecolor": "white",
            "showbackground": true,
            "ticks": "",
            "zerolinecolor": "white"
           },
           "zaxis": {
            "backgroundcolor": "#E5ECF6",
            "gridcolor": "white",
            "gridwidth": 2,
            "linecolor": "white",
            "showbackground": true,
            "ticks": "",
            "zerolinecolor": "white"
           }
          },
          "shapedefaults": {
           "line": {
            "color": "#2a3f5f"
           }
          },
          "ternary": {
           "aaxis": {
            "gridcolor": "white",
            "linecolor": "white",
            "ticks": ""
           },
           "baxis": {
            "gridcolor": "white",
            "linecolor": "white",
            "ticks": ""
           },
           "bgcolor": "#E5ECF6",
           "caxis": {
            "gridcolor": "white",
            "linecolor": "white",
            "ticks": ""
           }
          },
          "title": {
           "x": 0.05
          },
          "xaxis": {
           "automargin": true,
           "gridcolor": "white",
           "linecolor": "white",
           "ticks": "",
           "title": {
            "standoff": 15
           },
           "zerolinecolor": "white",
           "zerolinewidth": 2
          },
          "yaxis": {
           "automargin": true,
           "gridcolor": "white",
           "linecolor": "white",
           "ticks": "",
           "title": {
            "standoff": 15
           },
           "zerolinecolor": "white",
           "zerolinewidth": 2
          }
         }
        },
        "title": {
         "text": "Station (A4260903) BiMonthly Maximum Water Course Levels with Structure Crest Height"
        },
        "xaxis": {
         "tickformat": "%d %B (%a)<br>%y",
         "title": {
          "text": "Time"
         }
        },
        "yaxis": {
         "title": {
          "text": "Heights (meter)"
         }
        }
       }
      }
     },
     "metadata": {},
     "output_type": "display_data"
    },
    {
     "name": "stderr",
     "output_type": "stream",
     "text": [
      "c:\\office12\\bomwater-notebook\\.venv\\lib\\site-packages\\xarray\\core\\variable.py:305: UnitStrippedWarning:\n",
      "\n",
      "The unit of the quantity is stripped when downcasting to ndarray.\n",
      "\n"
     ]
    },
    {
     "data": {
      "application/vnd.plotly.v1+json": {
       "config": {
        "plotlyServerURL": "https://plot.ly"
       },
       "data": [
        {
         "line": {
          "shape": "linear"
         },
         "mode": "lines",
         "name": "Water Course Level meter",
         "type": "scatter",
         "x": [
          "2008-04-01T00:00:00.000000000",
          "2008-06-01T00:00:00.000000000",
          "2008-08-01T00:00:00.000000000",
          "2008-10-01T00:00:00.000000000",
          "2008-12-01T00:00:00.000000000",
          "2009-02-01T00:00:00.000000000",
          "2009-04-01T00:00:00.000000000",
          "2009-06-01T00:00:00.000000000",
          "2009-08-01T00:00:00.000000000",
          "2009-10-01T00:00:00.000000000",
          "2009-12-01T00:00:00.000000000",
          "2010-02-01T00:00:00.000000000",
          "2010-04-01T00:00:00.000000000",
          "2010-06-01T00:00:00.000000000",
          "2010-08-01T00:00:00.000000000",
          "2010-10-01T00:00:00.000000000",
          "2010-12-01T00:00:00.000000000",
          "2011-02-01T00:00:00.000000000",
          "2011-04-01T00:00:00.000000000",
          "2011-06-01T00:00:00.000000000",
          "2011-08-01T00:00:00.000000000",
          "2011-10-01T00:00:00.000000000",
          "2011-12-01T00:00:00.000000000",
          "2012-02-01T00:00:00.000000000",
          "2012-04-01T00:00:00.000000000",
          "2012-06-01T00:00:00.000000000",
          "2012-08-01T00:00:00.000000000",
          "2012-10-01T00:00:00.000000000",
          "2012-12-01T00:00:00.000000000",
          "2013-02-01T00:00:00.000000000",
          "2013-04-01T00:00:00.000000000",
          "2013-06-01T00:00:00.000000000",
          "2013-08-01T00:00:00.000000000",
          "2013-10-01T00:00:00.000000000",
          "2013-12-01T00:00:00.000000000",
          "2014-02-01T00:00:00.000000000",
          "2014-04-01T00:00:00.000000000",
          "2014-06-01T00:00:00.000000000",
          "2014-08-01T00:00:00.000000000",
          "2014-10-01T00:00:00.000000000",
          "2014-12-01T00:00:00.000000000",
          "2015-02-01T00:00:00.000000000",
          "2015-04-01T00:00:00.000000000",
          "2015-06-01T00:00:00.000000000",
          "2015-08-01T00:00:00.000000000",
          "2015-10-01T00:00:00.000000000",
          "2015-12-01T00:00:00.000000000",
          "2016-02-01T00:00:00.000000000",
          "2016-04-01T00:00:00.000000000",
          "2016-06-01T00:00:00.000000000",
          "2016-08-01T00:00:00.000000000",
          "2016-10-01T00:00:00.000000000",
          "2016-12-01T00:00:00.000000000",
          "2017-02-01T00:00:00.000000000",
          "2017-04-01T00:00:00.000000000",
          "2017-06-01T00:00:00.000000000",
          "2017-08-01T00:00:00.000000000",
          "2017-10-01T00:00:00.000000000",
          "2017-12-01T00:00:00.000000000",
          "2018-02-01T00:00:00.000000000",
          "2018-04-01T00:00:00.000000000",
          "2018-06-01T00:00:00.000000000",
          "2018-08-01T00:00:00.000000000",
          "2018-10-01T00:00:00.000000000",
          "2018-12-01T00:00:00.000000000",
          "2019-02-01T00:00:00.000000000",
          "2019-04-01T00:00:00.000000000",
          "2019-06-01T00:00:00.000000000",
          "2019-08-01T00:00:00.000000000",
          "2019-10-01T00:00:00.000000000",
          "2019-12-01T00:00:00.000000000",
          "2020-02-01T00:00:00.000000000",
          "2020-04-01T00:00:00.000000000",
          "2020-06-01T00:00:00.000000000",
          "2020-08-01T00:00:00.000000000",
          "2020-10-01T00:00:00.000000000",
          "2020-12-01T00:00:00.000000000",
          "2021-02-01T00:00:00.000000000",
          "2021-04-01T00:00:00.000000000",
          "2021-06-01T00:00:00.000000000",
          "2021-08-01T00:00:00.000000000",
          "2021-10-01T00:00:00.000000000",
          "2021-12-01T00:00:00.000000000"
         ],
         "y": [
          3.343,
          3.506,
          3.418,
          3.428,
          3.426,
          3.382,
          3.383,
          3.367,
          3.397,
          3.493,
          3.606,
          3.807,
          3.573,
          3.488,
          4.485,
          5.889,
          7.085,
          8.097,
          7.929,
          5.577,
          5.969,
          5.45,
          4.556,
          5.965,
          6.857,
          6.272,
          6.301,
          6.403,
          4.389,
          3.841,
          3.752,
          3.656,
          4.77,
          4.797,
          3.785,
          3.628,
          3.68,
          4.069,
          4.365,
          4.026,
          3.532,
          3.508,
          3.424,
          3.596,
          3.515,
          3.519,
          3.365,
          3.442,
          3.342,
          4.414,
          5.607,
          7.186,
          8.169,
          3.555,
          3.658,
          3.782,
          3.465,
          3.75,
          4.02,
          3.401,
          3.508,
          3.696,
          3.465,
          3.608,
          3.596,
          3.498,
          3.482,
          3.687,
          3.693,
          3.977,
          3.478,
          3.493,
          3.541,
          4.046,
          3.853,
          4.05,
          3.932,
          3.494,
          3.395,
          3.545,
          4.949,
          5.525,
          5.258
         ]
        },
        {
         "line": {
          "shape": "linear"
         },
         "mode": "lines",
         "name": "Heights meter",
         "type": "scatter",
         "x": [
          "2008-04-01T00:00:00.000000000",
          "2008-06-01T00:00:00.000000000",
          "2008-08-01T00:00:00.000000000",
          "2008-10-01T00:00:00.000000000",
          "2008-12-01T00:00:00.000000000",
          "2009-02-01T00:00:00.000000000",
          "2009-04-01T00:00:00.000000000",
          "2009-06-01T00:00:00.000000000",
          "2009-08-01T00:00:00.000000000",
          "2009-10-01T00:00:00.000000000",
          "2009-12-01T00:00:00.000000000",
          "2010-02-01T00:00:00.000000000",
          "2010-04-01T00:00:00.000000000",
          "2010-06-01T00:00:00.000000000",
          "2010-08-01T00:00:00.000000000",
          "2010-10-01T00:00:00.000000000",
          "2010-12-01T00:00:00.000000000",
          "2011-02-01T00:00:00.000000000",
          "2011-04-01T00:00:00.000000000",
          "2011-06-01T00:00:00.000000000",
          "2011-08-01T00:00:00.000000000",
          "2011-10-01T00:00:00.000000000",
          "2011-12-01T00:00:00.000000000",
          "2012-02-01T00:00:00.000000000",
          "2012-04-01T00:00:00.000000000",
          "2012-06-01T00:00:00.000000000",
          "2012-08-01T00:00:00.000000000",
          "2012-10-01T00:00:00.000000000",
          "2012-12-01T00:00:00.000000000",
          "2013-02-01T00:00:00.000000000",
          "2013-04-01T00:00:00.000000000",
          "2013-06-01T00:00:00.000000000",
          "2013-08-01T00:00:00.000000000",
          "2013-10-01T00:00:00.000000000",
          "2013-12-01T00:00:00.000000000",
          "2014-02-01T00:00:00.000000000",
          "2014-04-01T00:00:00.000000000",
          "2014-06-01T00:00:00.000000000",
          "2014-08-01T00:00:00.000000000",
          "2014-10-01T00:00:00.000000000",
          "2014-12-01T00:00:00.000000000",
          "2015-02-01T00:00:00.000000000",
          "2015-04-01T00:00:00.000000000",
          "2015-06-01T00:00:00.000000000",
          "2015-08-01T00:00:00.000000000",
          "2015-10-01T00:00:00.000000000",
          "2015-12-01T00:00:00.000000000",
          "2016-02-01T00:00:00.000000000",
          "2016-04-01T00:00:00.000000000",
          "2016-06-01T00:00:00.000000000",
          "2016-08-01T00:00:00.000000000",
          "2016-10-01T00:00:00.000000000",
          "2016-12-01T00:00:00.000000000",
          "2017-02-01T00:00:00.000000000",
          "2017-04-01T00:00:00.000000000",
          "2017-06-01T00:00:00.000000000",
          "2017-08-01T00:00:00.000000000",
          "2017-10-01T00:00:00.000000000",
          "2017-12-01T00:00:00.000000000",
          "2018-02-01T00:00:00.000000000",
          "2018-04-01T00:00:00.000000000",
          "2018-06-01T00:00:00.000000000",
          "2018-08-01T00:00:00.000000000",
          "2018-10-01T00:00:00.000000000",
          "2018-12-01T00:00:00.000000000",
          "2019-02-01T00:00:00.000000000",
          "2019-04-01T00:00:00.000000000",
          "2019-06-01T00:00:00.000000000",
          "2019-08-01T00:00:00.000000000",
          "2019-10-01T00:00:00.000000000",
          "2019-12-01T00:00:00.000000000",
          "2020-02-01T00:00:00.000000000",
          "2020-04-01T00:00:00.000000000",
          "2020-06-01T00:00:00.000000000",
          "2020-08-01T00:00:00.000000000",
          "2020-10-01T00:00:00.000000000",
          "2020-12-01T00:00:00.000000000",
          "2021-02-01T00:00:00.000000000",
          "2021-04-01T00:00:00.000000000",
          "2021-06-01T00:00:00.000000000",
          "2021-08-01T00:00:00.000000000",
          "2021-10-01T00:00:00.000000000",
          "2021-12-01T00:00:00.000000000"
         ],
         "y": [
          6.1,
          6.1,
          6.1,
          6.1,
          6.1,
          6.1,
          6.1,
          6.1,
          6.1,
          6.1,
          6.1,
          6.1,
          6.1,
          6.1,
          6.1,
          6.1,
          6.1,
          6.1,
          6.1,
          6.1,
          6.1,
          6.1,
          6.1,
          6.1,
          6.1,
          6.1,
          6.1,
          6.1,
          6.1,
          6.1,
          6.1,
          6.1,
          6.1,
          6.1,
          6.1,
          6.1,
          6.1,
          6.1,
          6.1,
          6.1,
          6.1,
          6.1,
          6.1,
          6.1,
          6.1,
          6.1,
          6.1,
          6.1,
          6.1,
          6.1,
          6.1,
          6.1,
          6.1,
          6.1,
          6.1,
          6.1,
          6.1,
          6.1,
          6.1,
          6.1,
          6.1,
          6.1,
          6.1,
          6.1,
          6.1,
          6.1,
          6.1,
          6.1,
          6.1,
          6.1,
          6.1,
          6.1,
          6.1,
          6.1,
          6.1,
          6.1,
          6.1,
          6.1,
          6.1,
          6.1,
          6.1,
          6.1,
          6.1
         ]
        }
       ],
       "layout": {
        "template": {
         "data": {
          "bar": [
           {
            "error_x": {
             "color": "#2a3f5f"
            },
            "error_y": {
             "color": "#2a3f5f"
            },
            "marker": {
             "line": {
              "color": "#E5ECF6",
              "width": 0.5
             },
             "pattern": {
              "fillmode": "overlay",
              "size": 10,
              "solidity": 0.2
             }
            },
            "type": "bar"
           }
          ],
          "barpolar": [
           {
            "marker": {
             "line": {
              "color": "#E5ECF6",
              "width": 0.5
             },
             "pattern": {
              "fillmode": "overlay",
              "size": 10,
              "solidity": 0.2
             }
            },
            "type": "barpolar"
           }
          ],
          "carpet": [
           {
            "aaxis": {
             "endlinecolor": "#2a3f5f",
             "gridcolor": "white",
             "linecolor": "white",
             "minorgridcolor": "white",
             "startlinecolor": "#2a3f5f"
            },
            "baxis": {
             "endlinecolor": "#2a3f5f",
             "gridcolor": "white",
             "linecolor": "white",
             "minorgridcolor": "white",
             "startlinecolor": "#2a3f5f"
            },
            "type": "carpet"
           }
          ],
          "choropleth": [
           {
            "colorbar": {
             "outlinewidth": 0,
             "ticks": ""
            },
            "type": "choropleth"
           }
          ],
          "contour": [
           {
            "colorbar": {
             "outlinewidth": 0,
             "ticks": ""
            },
            "colorscale": [
             [
              0,
              "#0d0887"
             ],
             [
              0.1111111111111111,
              "#46039f"
             ],
             [
              0.2222222222222222,
              "#7201a8"
             ],
             [
              0.3333333333333333,
              "#9c179e"
             ],
             [
              0.4444444444444444,
              "#bd3786"
             ],
             [
              0.5555555555555556,
              "#d8576b"
             ],
             [
              0.6666666666666666,
              "#ed7953"
             ],
             [
              0.7777777777777778,
              "#fb9f3a"
             ],
             [
              0.8888888888888888,
              "#fdca26"
             ],
             [
              1,
              "#f0f921"
             ]
            ],
            "type": "contour"
           }
          ],
          "contourcarpet": [
           {
            "colorbar": {
             "outlinewidth": 0,
             "ticks": ""
            },
            "type": "contourcarpet"
           }
          ],
          "heatmap": [
           {
            "colorbar": {
             "outlinewidth": 0,
             "ticks": ""
            },
            "colorscale": [
             [
              0,
              "#0d0887"
             ],
             [
              0.1111111111111111,
              "#46039f"
             ],
             [
              0.2222222222222222,
              "#7201a8"
             ],
             [
              0.3333333333333333,
              "#9c179e"
             ],
             [
              0.4444444444444444,
              "#bd3786"
             ],
             [
              0.5555555555555556,
              "#d8576b"
             ],
             [
              0.6666666666666666,
              "#ed7953"
             ],
             [
              0.7777777777777778,
              "#fb9f3a"
             ],
             [
              0.8888888888888888,
              "#fdca26"
             ],
             [
              1,
              "#f0f921"
             ]
            ],
            "type": "heatmap"
           }
          ],
          "heatmapgl": [
           {
            "colorbar": {
             "outlinewidth": 0,
             "ticks": ""
            },
            "colorscale": [
             [
              0,
              "#0d0887"
             ],
             [
              0.1111111111111111,
              "#46039f"
             ],
             [
              0.2222222222222222,
              "#7201a8"
             ],
             [
              0.3333333333333333,
              "#9c179e"
             ],
             [
              0.4444444444444444,
              "#bd3786"
             ],
             [
              0.5555555555555556,
              "#d8576b"
             ],
             [
              0.6666666666666666,
              "#ed7953"
             ],
             [
              0.7777777777777778,
              "#fb9f3a"
             ],
             [
              0.8888888888888888,
              "#fdca26"
             ],
             [
              1,
              "#f0f921"
             ]
            ],
            "type": "heatmapgl"
           }
          ],
          "histogram": [
           {
            "marker": {
             "pattern": {
              "fillmode": "overlay",
              "size": 10,
              "solidity": 0.2
             }
            },
            "type": "histogram"
           }
          ],
          "histogram2d": [
           {
            "colorbar": {
             "outlinewidth": 0,
             "ticks": ""
            },
            "colorscale": [
             [
              0,
              "#0d0887"
             ],
             [
              0.1111111111111111,
              "#46039f"
             ],
             [
              0.2222222222222222,
              "#7201a8"
             ],
             [
              0.3333333333333333,
              "#9c179e"
             ],
             [
              0.4444444444444444,
              "#bd3786"
             ],
             [
              0.5555555555555556,
              "#d8576b"
             ],
             [
              0.6666666666666666,
              "#ed7953"
             ],
             [
              0.7777777777777778,
              "#fb9f3a"
             ],
             [
              0.8888888888888888,
              "#fdca26"
             ],
             [
              1,
              "#f0f921"
             ]
            ],
            "type": "histogram2d"
           }
          ],
          "histogram2dcontour": [
           {
            "colorbar": {
             "outlinewidth": 0,
             "ticks": ""
            },
            "colorscale": [
             [
              0,
              "#0d0887"
             ],
             [
              0.1111111111111111,
              "#46039f"
             ],
             [
              0.2222222222222222,
              "#7201a8"
             ],
             [
              0.3333333333333333,
              "#9c179e"
             ],
             [
              0.4444444444444444,
              "#bd3786"
             ],
             [
              0.5555555555555556,
              "#d8576b"
             ],
             [
              0.6666666666666666,
              "#ed7953"
             ],
             [
              0.7777777777777778,
              "#fb9f3a"
             ],
             [
              0.8888888888888888,
              "#fdca26"
             ],
             [
              1,
              "#f0f921"
             ]
            ],
            "type": "histogram2dcontour"
           }
          ],
          "mesh3d": [
           {
            "colorbar": {
             "outlinewidth": 0,
             "ticks": ""
            },
            "type": "mesh3d"
           }
          ],
          "parcoords": [
           {
            "line": {
             "colorbar": {
              "outlinewidth": 0,
              "ticks": ""
             }
            },
            "type": "parcoords"
           }
          ],
          "pie": [
           {
            "automargin": true,
            "type": "pie"
           }
          ],
          "scatter": [
           {
            "fillpattern": {
             "fillmode": "overlay",
             "size": 10,
             "solidity": 0.2
            },
            "type": "scatter"
           }
          ],
          "scatter3d": [
           {
            "line": {
             "colorbar": {
              "outlinewidth": 0,
              "ticks": ""
             }
            },
            "marker": {
             "colorbar": {
              "outlinewidth": 0,
              "ticks": ""
             }
            },
            "type": "scatter3d"
           }
          ],
          "scattercarpet": [
           {
            "marker": {
             "colorbar": {
              "outlinewidth": 0,
              "ticks": ""
             }
            },
            "type": "scattercarpet"
           }
          ],
          "scattergeo": [
           {
            "marker": {
             "colorbar": {
              "outlinewidth": 0,
              "ticks": ""
             }
            },
            "type": "scattergeo"
           }
          ],
          "scattergl": [
           {
            "marker": {
             "colorbar": {
              "outlinewidth": 0,
              "ticks": ""
             }
            },
            "type": "scattergl"
           }
          ],
          "scattermapbox": [
           {
            "marker": {
             "colorbar": {
              "outlinewidth": 0,
              "ticks": ""
             }
            },
            "type": "scattermapbox"
           }
          ],
          "scatterpolar": [
           {
            "marker": {
             "colorbar": {
              "outlinewidth": 0,
              "ticks": ""
             }
            },
            "type": "scatterpolar"
           }
          ],
          "scatterpolargl": [
           {
            "marker": {
             "colorbar": {
              "outlinewidth": 0,
              "ticks": ""
             }
            },
            "type": "scatterpolargl"
           }
          ],
          "scatterternary": [
           {
            "marker": {
             "colorbar": {
              "outlinewidth": 0,
              "ticks": ""
             }
            },
            "type": "scatterternary"
           }
          ],
          "surface": [
           {
            "colorbar": {
             "outlinewidth": 0,
             "ticks": ""
            },
            "colorscale": [
             [
              0,
              "#0d0887"
             ],
             [
              0.1111111111111111,
              "#46039f"
             ],
             [
              0.2222222222222222,
              "#7201a8"
             ],
             [
              0.3333333333333333,
              "#9c179e"
             ],
             [
              0.4444444444444444,
              "#bd3786"
             ],
             [
              0.5555555555555556,
              "#d8576b"
             ],
             [
              0.6666666666666666,
              "#ed7953"
             ],
             [
              0.7777777777777778,
              "#fb9f3a"
             ],
             [
              0.8888888888888888,
              "#fdca26"
             ],
             [
              1,
              "#f0f921"
             ]
            ],
            "type": "surface"
           }
          ],
          "table": [
           {
            "cells": {
             "fill": {
              "color": "#EBF0F8"
             },
             "line": {
              "color": "white"
             }
            },
            "header": {
             "fill": {
              "color": "#C8D4E3"
             },
             "line": {
              "color": "white"
             }
            },
            "type": "table"
           }
          ]
         },
         "layout": {
          "annotationdefaults": {
           "arrowcolor": "#2a3f5f",
           "arrowhead": 0,
           "arrowwidth": 1
          },
          "autotypenumbers": "strict",
          "coloraxis": {
           "colorbar": {
            "outlinewidth": 0,
            "ticks": ""
           }
          },
          "colorscale": {
           "diverging": [
            [
             0,
             "#8e0152"
            ],
            [
             0.1,
             "#c51b7d"
            ],
            [
             0.2,
             "#de77ae"
            ],
            [
             0.3,
             "#f1b6da"
            ],
            [
             0.4,
             "#fde0ef"
            ],
            [
             0.5,
             "#f7f7f7"
            ],
            [
             0.6,
             "#e6f5d0"
            ],
            [
             0.7,
             "#b8e186"
            ],
            [
             0.8,
             "#7fbc41"
            ],
            [
             0.9,
             "#4d9221"
            ],
            [
             1,
             "#276419"
            ]
           ],
           "sequential": [
            [
             0,
             "#0d0887"
            ],
            [
             0.1111111111111111,
             "#46039f"
            ],
            [
             0.2222222222222222,
             "#7201a8"
            ],
            [
             0.3333333333333333,
             "#9c179e"
            ],
            [
             0.4444444444444444,
             "#bd3786"
            ],
            [
             0.5555555555555556,
             "#d8576b"
            ],
            [
             0.6666666666666666,
             "#ed7953"
            ],
            [
             0.7777777777777778,
             "#fb9f3a"
            ],
            [
             0.8888888888888888,
             "#fdca26"
            ],
            [
             1,
             "#f0f921"
            ]
           ],
           "sequentialminus": [
            [
             0,
             "#0d0887"
            ],
            [
             0.1111111111111111,
             "#46039f"
            ],
            [
             0.2222222222222222,
             "#7201a8"
            ],
            [
             0.3333333333333333,
             "#9c179e"
            ],
            [
             0.4444444444444444,
             "#bd3786"
            ],
            [
             0.5555555555555556,
             "#d8576b"
            ],
            [
             0.6666666666666666,
             "#ed7953"
            ],
            [
             0.7777777777777778,
             "#fb9f3a"
            ],
            [
             0.8888888888888888,
             "#fdca26"
            ],
            [
             1,
             "#f0f921"
            ]
           ]
          },
          "colorway": [
           "#636efa",
           "#EF553B",
           "#00cc96",
           "#ab63fa",
           "#FFA15A",
           "#19d3f3",
           "#FF6692",
           "#B6E880",
           "#FF97FF",
           "#FECB52"
          ],
          "font": {
           "color": "#2a3f5f"
          },
          "geo": {
           "bgcolor": "white",
           "lakecolor": "white",
           "landcolor": "#E5ECF6",
           "showlakes": true,
           "showland": true,
           "subunitcolor": "white"
          },
          "hoverlabel": {
           "align": "left"
          },
          "hovermode": "closest",
          "mapbox": {
           "style": "light"
          },
          "paper_bgcolor": "white",
          "plot_bgcolor": "#E5ECF6",
          "polar": {
           "angularaxis": {
            "gridcolor": "white",
            "linecolor": "white",
            "ticks": ""
           },
           "bgcolor": "#E5ECF6",
           "radialaxis": {
            "gridcolor": "white",
            "linecolor": "white",
            "ticks": ""
           }
          },
          "scene": {
           "xaxis": {
            "backgroundcolor": "#E5ECF6",
            "gridcolor": "white",
            "gridwidth": 2,
            "linecolor": "white",
            "showbackground": true,
            "ticks": "",
            "zerolinecolor": "white"
           },
           "yaxis": {
            "backgroundcolor": "#E5ECF6",
            "gridcolor": "white",
            "gridwidth": 2,
            "linecolor": "white",
            "showbackground": true,
            "ticks": "",
            "zerolinecolor": "white"
           },
           "zaxis": {
            "backgroundcolor": "#E5ECF6",
            "gridcolor": "white",
            "gridwidth": 2,
            "linecolor": "white",
            "showbackground": true,
            "ticks": "",
            "zerolinecolor": "white"
           }
          },
          "shapedefaults": {
           "line": {
            "color": "#2a3f5f"
           }
          },
          "ternary": {
           "aaxis": {
            "gridcolor": "white",
            "linecolor": "white",
            "ticks": ""
           },
           "baxis": {
            "gridcolor": "white",
            "linecolor": "white",
            "ticks": ""
           },
           "bgcolor": "#E5ECF6",
           "caxis": {
            "gridcolor": "white",
            "linecolor": "white",
            "ticks": ""
           }
          },
          "title": {
           "x": 0.05
          },
          "xaxis": {
           "automargin": true,
           "gridcolor": "white",
           "linecolor": "white",
           "ticks": "",
           "title": {
            "standoff": 15
           },
           "zerolinecolor": "white",
           "zerolinewidth": 2
          },
          "yaxis": {
           "automargin": true,
           "gridcolor": "white",
           "linecolor": "white",
           "ticks": "",
           "title": {
            "standoff": 15
           },
           "zerolinecolor": "white",
           "zerolinewidth": 2
          }
         }
        },
        "title": {
         "text": "Station (A4260519) BiMonthly Maximum Water Course Levels with Structure Crest Height"
        },
        "xaxis": {
         "tickformat": "%d %B (%a)<br>%y",
         "title": {
          "text": "Time"
         }
        },
        "yaxis": {
         "title": {
          "text": "Heights (meter)"
         }
        }
       }
      }
     },
     "metadata": {},
     "output_type": "display_data"
    },
    {
     "name": "stderr",
     "output_type": "stream",
     "text": [
      "c:\\office12\\bomwater-notebook\\.venv\\lib\\site-packages\\xarray\\core\\variable.py:305: UnitStrippedWarning:\n",
      "\n",
      "The unit of the quantity is stripped when downcasting to ndarray.\n",
      "\n"
     ]
    },
    {
     "data": {
      "application/vnd.plotly.v1+json": {
       "config": {
        "plotlyServerURL": "https://plot.ly"
       },
       "data": [
        {
         "line": {
          "shape": "linear"
         },
         "mode": "lines",
         "name": "Water Course Level meter",
         "type": "scatter",
         "x": [
          "2008-08-01T00:00:00.000000000",
          "2008-10-01T00:00:00.000000000",
          "2008-12-01T00:00:00.000000000",
          "2009-02-01T00:00:00.000000000",
          "2009-04-01T00:00:00.000000000",
          "2009-06-01T00:00:00.000000000",
          "2009-08-01T00:00:00.000000000",
          "2009-10-01T00:00:00.000000000",
          "2009-12-01T00:00:00.000000000",
          "2010-02-01T00:00:00.000000000",
          "2010-04-01T00:00:00.000000000",
          "2010-06-01T00:00:00.000000000",
          "2010-08-01T00:00:00.000000000",
          "2010-10-01T00:00:00.000000000",
          "2010-12-01T00:00:00.000000000",
          "2011-02-01T00:00:00.000000000",
          "2011-04-01T00:00:00.000000000",
          "2011-06-01T00:00:00.000000000",
          "2011-08-01T00:00:00.000000000",
          "2011-10-01T00:00:00.000000000",
          "2011-12-01T00:00:00.000000000",
          "2012-02-01T00:00:00.000000000",
          "2012-04-01T00:00:00.000000000",
          "2012-06-01T00:00:00.000000000",
          "2012-08-01T00:00:00.000000000",
          "2012-10-01T00:00:00.000000000",
          "2012-12-01T00:00:00.000000000",
          "2013-02-01T00:00:00.000000000",
          "2013-04-01T00:00:00.000000000",
          "2013-06-01T00:00:00.000000000",
          "2013-08-01T00:00:00.000000000",
          "2013-10-01T00:00:00.000000000",
          "2013-12-01T00:00:00.000000000",
          "2014-02-01T00:00:00.000000000",
          "2014-04-01T00:00:00.000000000",
          "2014-06-01T00:00:00.000000000",
          "2014-08-01T00:00:00.000000000",
          "2014-10-01T00:00:00.000000000",
          "2014-12-01T00:00:00.000000000",
          "2015-02-01T00:00:00.000000000",
          "2015-04-01T00:00:00.000000000",
          "2015-06-01T00:00:00.000000000",
          "2015-08-01T00:00:00.000000000",
          "2015-10-01T00:00:00.000000000",
          "2015-12-01T00:00:00.000000000",
          "2016-02-01T00:00:00.000000000",
          "2016-04-01T00:00:00.000000000",
          "2016-06-01T00:00:00.000000000",
          "2016-08-01T00:00:00.000000000",
          "2016-10-01T00:00:00.000000000",
          "2016-12-01T00:00:00.000000000",
          "2017-02-01T00:00:00.000000000",
          "2017-04-01T00:00:00.000000000",
          "2017-06-01T00:00:00.000000000",
          "2017-08-01T00:00:00.000000000",
          "2017-10-01T00:00:00.000000000",
          "2017-12-01T00:00:00.000000000",
          "2018-02-01T00:00:00.000000000",
          "2018-04-01T00:00:00.000000000",
          "2018-06-01T00:00:00.000000000",
          "2018-08-01T00:00:00.000000000",
          "2018-10-01T00:00:00.000000000",
          "2018-12-01T00:00:00.000000000",
          "2019-02-01T00:00:00.000000000",
          "2019-04-01T00:00:00.000000000",
          "2019-06-01T00:00:00.000000000",
          "2019-08-01T00:00:00.000000000",
          "2019-10-01T00:00:00.000000000",
          "2019-12-01T00:00:00.000000000",
          "2020-02-01T00:00:00.000000000",
          "2020-04-01T00:00:00.000000000",
          "2020-06-01T00:00:00.000000000",
          "2020-08-01T00:00:00.000000000",
          "2020-10-01T00:00:00.000000000",
          "2020-12-01T00:00:00.000000000",
          "2021-02-01T00:00:00.000000000",
          "2021-04-01T00:00:00.000000000",
          "2021-06-01T00:00:00.000000000",
          "2021-08-01T00:00:00.000000000",
          "2021-10-01T00:00:00.000000000",
          "2021-12-01T00:00:00.000000000"
         ],
         "y": [
          6.37,
          6.32,
          6.394,
          6.374,
          6.275,
          6.426,
          6.395,
          6.447,
          6.47,
          6.795,
          6.592,
          6.538,
          7.586,
          9.033,
          9.95,
          10.772,
          10.607,
          8.372,
          8.732,
          8.27,
          7.436,
          8.846,
          9.639,
          8.989,
          9.069,
          9.099,
          7.181,
          6.578,
          6.513,
          6.511,
          7.6,
          7.63,
          6.761,
          6.695,
          6.66,
          6.98,
          7.182,
          6.951,
          6.525,
          7.259,
          6.445,
          6.557,
          6.828,
          6.951,
          6.428,
          6.501,
          6.42,
          7.388,
          8.534,
          10.001,
          10.88,
          6.574,
          6.658,
          6.715,
          6.951,
          6.844,
          7.01,
          6.441,
          6.459,
          6.663,
          6.791,
          6.738,
          6.583,
          6.472,
          6.48,
          6.626,
          6.86,
          6.933,
          6.437,
          6.462,
          6.524,
          6.952,
          6.773,
          7,
          6.884,
          6.442,
          6.407,
          6.672,
          8.003,
          8.378,
          8.151
         ]
        },
        {
         "line": {
          "shape": "linear"
         },
         "mode": "lines",
         "name": "Heights meter",
         "type": "scatter",
         "x": [
          "2008-08-01T00:00:00.000000000",
          "2008-10-01T00:00:00.000000000",
          "2008-12-01T00:00:00.000000000",
          "2009-02-01T00:00:00.000000000",
          "2009-04-01T00:00:00.000000000",
          "2009-06-01T00:00:00.000000000",
          "2009-08-01T00:00:00.000000000",
          "2009-10-01T00:00:00.000000000",
          "2009-12-01T00:00:00.000000000",
          "2010-02-01T00:00:00.000000000",
          "2010-04-01T00:00:00.000000000",
          "2010-06-01T00:00:00.000000000",
          "2010-08-01T00:00:00.000000000",
          "2010-10-01T00:00:00.000000000",
          "2010-12-01T00:00:00.000000000",
          "2011-02-01T00:00:00.000000000",
          "2011-04-01T00:00:00.000000000",
          "2011-06-01T00:00:00.000000000",
          "2011-08-01T00:00:00.000000000",
          "2011-10-01T00:00:00.000000000",
          "2011-12-01T00:00:00.000000000",
          "2012-02-01T00:00:00.000000000",
          "2012-04-01T00:00:00.000000000",
          "2012-06-01T00:00:00.000000000",
          "2012-08-01T00:00:00.000000000",
          "2012-10-01T00:00:00.000000000",
          "2012-12-01T00:00:00.000000000",
          "2013-02-01T00:00:00.000000000",
          "2013-04-01T00:00:00.000000000",
          "2013-06-01T00:00:00.000000000",
          "2013-08-01T00:00:00.000000000",
          "2013-10-01T00:00:00.000000000",
          "2013-12-01T00:00:00.000000000",
          "2014-02-01T00:00:00.000000000",
          "2014-04-01T00:00:00.000000000",
          "2014-06-01T00:00:00.000000000",
          "2014-08-01T00:00:00.000000000",
          "2014-10-01T00:00:00.000000000",
          "2014-12-01T00:00:00.000000000",
          "2015-02-01T00:00:00.000000000",
          "2015-04-01T00:00:00.000000000",
          "2015-06-01T00:00:00.000000000",
          "2015-08-01T00:00:00.000000000",
          "2015-10-01T00:00:00.000000000",
          "2015-12-01T00:00:00.000000000",
          "2016-02-01T00:00:00.000000000",
          "2016-04-01T00:00:00.000000000",
          "2016-06-01T00:00:00.000000000",
          "2016-08-01T00:00:00.000000000",
          "2016-10-01T00:00:00.000000000",
          "2016-12-01T00:00:00.000000000",
          "2017-02-01T00:00:00.000000000",
          "2017-04-01T00:00:00.000000000",
          "2017-06-01T00:00:00.000000000",
          "2017-08-01T00:00:00.000000000",
          "2017-10-01T00:00:00.000000000",
          "2017-12-01T00:00:00.000000000",
          "2018-02-01T00:00:00.000000000",
          "2018-04-01T00:00:00.000000000",
          "2018-06-01T00:00:00.000000000",
          "2018-08-01T00:00:00.000000000",
          "2018-10-01T00:00:00.000000000",
          "2018-12-01T00:00:00.000000000",
          "2019-02-01T00:00:00.000000000",
          "2019-04-01T00:00:00.000000000",
          "2019-06-01T00:00:00.000000000",
          "2019-08-01T00:00:00.000000000",
          "2019-10-01T00:00:00.000000000",
          "2019-12-01T00:00:00.000000000",
          "2020-02-01T00:00:00.000000000",
          "2020-04-01T00:00:00.000000000",
          "2020-06-01T00:00:00.000000000",
          "2020-08-01T00:00:00.000000000",
          "2020-10-01T00:00:00.000000000",
          "2020-12-01T00:00:00.000000000",
          "2021-02-01T00:00:00.000000000",
          "2021-04-01T00:00:00.000000000",
          "2021-06-01T00:00:00.000000000",
          "2021-08-01T00:00:00.000000000",
          "2021-10-01T00:00:00.000000000",
          "2021-12-01T00:00:00.000000000"
         ],
         "y": [
          9.8,
          9.8,
          9.8,
          9.8,
          9.8,
          9.8,
          9.8,
          9.8,
          9.8,
          9.8,
          9.8,
          9.8,
          9.8,
          9.8,
          9.8,
          9.8,
          9.8,
          9.8,
          9.8,
          9.8,
          9.8,
          9.8,
          9.8,
          9.8,
          9.8,
          9.8,
          9.8,
          9.8,
          9.8,
          9.8,
          9.8,
          9.8,
          9.8,
          9.8,
          9.8,
          9.8,
          9.8,
          9.8,
          9.8,
          9.8,
          9.8,
          9.8,
          9.8,
          9.8,
          9.8,
          9.8,
          9.8,
          9.8,
          9.8,
          9.8,
          9.8,
          9.8,
          9.8,
          9.8,
          9.8,
          9.8,
          9.8,
          9.8,
          9.8,
          9.8,
          9.8,
          9.8,
          9.8,
          9.8,
          9.8,
          9.8,
          9.8,
          9.8,
          9.8,
          9.8,
          9.8,
          9.8,
          9.8,
          9.8,
          9.8,
          9.8,
          9.8,
          9.8,
          9.8,
          9.8,
          9.8
         ]
        }
       ],
       "layout": {
        "template": {
         "data": {
          "bar": [
           {
            "error_x": {
             "color": "#2a3f5f"
            },
            "error_y": {
             "color": "#2a3f5f"
            },
            "marker": {
             "line": {
              "color": "#E5ECF6",
              "width": 0.5
             },
             "pattern": {
              "fillmode": "overlay",
              "size": 10,
              "solidity": 0.2
             }
            },
            "type": "bar"
           }
          ],
          "barpolar": [
           {
            "marker": {
             "line": {
              "color": "#E5ECF6",
              "width": 0.5
             },
             "pattern": {
              "fillmode": "overlay",
              "size": 10,
              "solidity": 0.2
             }
            },
            "type": "barpolar"
           }
          ],
          "carpet": [
           {
            "aaxis": {
             "endlinecolor": "#2a3f5f",
             "gridcolor": "white",
             "linecolor": "white",
             "minorgridcolor": "white",
             "startlinecolor": "#2a3f5f"
            },
            "baxis": {
             "endlinecolor": "#2a3f5f",
             "gridcolor": "white",
             "linecolor": "white",
             "minorgridcolor": "white",
             "startlinecolor": "#2a3f5f"
            },
            "type": "carpet"
           }
          ],
          "choropleth": [
           {
            "colorbar": {
             "outlinewidth": 0,
             "ticks": ""
            },
            "type": "choropleth"
           }
          ],
          "contour": [
           {
            "colorbar": {
             "outlinewidth": 0,
             "ticks": ""
            },
            "colorscale": [
             [
              0,
              "#0d0887"
             ],
             [
              0.1111111111111111,
              "#46039f"
             ],
             [
              0.2222222222222222,
              "#7201a8"
             ],
             [
              0.3333333333333333,
              "#9c179e"
             ],
             [
              0.4444444444444444,
              "#bd3786"
             ],
             [
              0.5555555555555556,
              "#d8576b"
             ],
             [
              0.6666666666666666,
              "#ed7953"
             ],
             [
              0.7777777777777778,
              "#fb9f3a"
             ],
             [
              0.8888888888888888,
              "#fdca26"
             ],
             [
              1,
              "#f0f921"
             ]
            ],
            "type": "contour"
           }
          ],
          "contourcarpet": [
           {
            "colorbar": {
             "outlinewidth": 0,
             "ticks": ""
            },
            "type": "contourcarpet"
           }
          ],
          "heatmap": [
           {
            "colorbar": {
             "outlinewidth": 0,
             "ticks": ""
            },
            "colorscale": [
             [
              0,
              "#0d0887"
             ],
             [
              0.1111111111111111,
              "#46039f"
             ],
             [
              0.2222222222222222,
              "#7201a8"
             ],
             [
              0.3333333333333333,
              "#9c179e"
             ],
             [
              0.4444444444444444,
              "#bd3786"
             ],
             [
              0.5555555555555556,
              "#d8576b"
             ],
             [
              0.6666666666666666,
              "#ed7953"
             ],
             [
              0.7777777777777778,
              "#fb9f3a"
             ],
             [
              0.8888888888888888,
              "#fdca26"
             ],
             [
              1,
              "#f0f921"
             ]
            ],
            "type": "heatmap"
           }
          ],
          "heatmapgl": [
           {
            "colorbar": {
             "outlinewidth": 0,
             "ticks": ""
            },
            "colorscale": [
             [
              0,
              "#0d0887"
             ],
             [
              0.1111111111111111,
              "#46039f"
             ],
             [
              0.2222222222222222,
              "#7201a8"
             ],
             [
              0.3333333333333333,
              "#9c179e"
             ],
             [
              0.4444444444444444,
              "#bd3786"
             ],
             [
              0.5555555555555556,
              "#d8576b"
             ],
             [
              0.6666666666666666,
              "#ed7953"
             ],
             [
              0.7777777777777778,
              "#fb9f3a"
             ],
             [
              0.8888888888888888,
              "#fdca26"
             ],
             [
              1,
              "#f0f921"
             ]
            ],
            "type": "heatmapgl"
           }
          ],
          "histogram": [
           {
            "marker": {
             "pattern": {
              "fillmode": "overlay",
              "size": 10,
              "solidity": 0.2
             }
            },
            "type": "histogram"
           }
          ],
          "histogram2d": [
           {
            "colorbar": {
             "outlinewidth": 0,
             "ticks": ""
            },
            "colorscale": [
             [
              0,
              "#0d0887"
             ],
             [
              0.1111111111111111,
              "#46039f"
             ],
             [
              0.2222222222222222,
              "#7201a8"
             ],
             [
              0.3333333333333333,
              "#9c179e"
             ],
             [
              0.4444444444444444,
              "#bd3786"
             ],
             [
              0.5555555555555556,
              "#d8576b"
             ],
             [
              0.6666666666666666,
              "#ed7953"
             ],
             [
              0.7777777777777778,
              "#fb9f3a"
             ],
             [
              0.8888888888888888,
              "#fdca26"
             ],
             [
              1,
              "#f0f921"
             ]
            ],
            "type": "histogram2d"
           }
          ],
          "histogram2dcontour": [
           {
            "colorbar": {
             "outlinewidth": 0,
             "ticks": ""
            },
            "colorscale": [
             [
              0,
              "#0d0887"
             ],
             [
              0.1111111111111111,
              "#46039f"
             ],
             [
              0.2222222222222222,
              "#7201a8"
             ],
             [
              0.3333333333333333,
              "#9c179e"
             ],
             [
              0.4444444444444444,
              "#bd3786"
             ],
             [
              0.5555555555555556,
              "#d8576b"
             ],
             [
              0.6666666666666666,
              "#ed7953"
             ],
             [
              0.7777777777777778,
              "#fb9f3a"
             ],
             [
              0.8888888888888888,
              "#fdca26"
             ],
             [
              1,
              "#f0f921"
             ]
            ],
            "type": "histogram2dcontour"
           }
          ],
          "mesh3d": [
           {
            "colorbar": {
             "outlinewidth": 0,
             "ticks": ""
            },
            "type": "mesh3d"
           }
          ],
          "parcoords": [
           {
            "line": {
             "colorbar": {
              "outlinewidth": 0,
              "ticks": ""
             }
            },
            "type": "parcoords"
           }
          ],
          "pie": [
           {
            "automargin": true,
            "type": "pie"
           }
          ],
          "scatter": [
           {
            "fillpattern": {
             "fillmode": "overlay",
             "size": 10,
             "solidity": 0.2
            },
            "type": "scatter"
           }
          ],
          "scatter3d": [
           {
            "line": {
             "colorbar": {
              "outlinewidth": 0,
              "ticks": ""
             }
            },
            "marker": {
             "colorbar": {
              "outlinewidth": 0,
              "ticks": ""
             }
            },
            "type": "scatter3d"
           }
          ],
          "scattercarpet": [
           {
            "marker": {
             "colorbar": {
              "outlinewidth": 0,
              "ticks": ""
             }
            },
            "type": "scattercarpet"
           }
          ],
          "scattergeo": [
           {
            "marker": {
             "colorbar": {
              "outlinewidth": 0,
              "ticks": ""
             }
            },
            "type": "scattergeo"
           }
          ],
          "scattergl": [
           {
            "marker": {
             "colorbar": {
              "outlinewidth": 0,
              "ticks": ""
             }
            },
            "type": "scattergl"
           }
          ],
          "scattermapbox": [
           {
            "marker": {
             "colorbar": {
              "outlinewidth": 0,
              "ticks": ""
             }
            },
            "type": "scattermapbox"
           }
          ],
          "scatterpolar": [
           {
            "marker": {
             "colorbar": {
              "outlinewidth": 0,
              "ticks": ""
             }
            },
            "type": "scatterpolar"
           }
          ],
          "scatterpolargl": [
           {
            "marker": {
             "colorbar": {
              "outlinewidth": 0,
              "ticks": ""
             }
            },
            "type": "scatterpolargl"
           }
          ],
          "scatterternary": [
           {
            "marker": {
             "colorbar": {
              "outlinewidth": 0,
              "ticks": ""
             }
            },
            "type": "scatterternary"
           }
          ],
          "surface": [
           {
            "colorbar": {
             "outlinewidth": 0,
             "ticks": ""
            },
            "colorscale": [
             [
              0,
              "#0d0887"
             ],
             [
              0.1111111111111111,
              "#46039f"
             ],
             [
              0.2222222222222222,
              "#7201a8"
             ],
             [
              0.3333333333333333,
              "#9c179e"
             ],
             [
              0.4444444444444444,
              "#bd3786"
             ],
             [
              0.5555555555555556,
              "#d8576b"
             ],
             [
              0.6666666666666666,
              "#ed7953"
             ],
             [
              0.7777777777777778,
              "#fb9f3a"
             ],
             [
              0.8888888888888888,
              "#fdca26"
             ],
             [
              1,
              "#f0f921"
             ]
            ],
            "type": "surface"
           }
          ],
          "table": [
           {
            "cells": {
             "fill": {
              "color": "#EBF0F8"
             },
             "line": {
              "color": "white"
             }
            },
            "header": {
             "fill": {
              "color": "#C8D4E3"
             },
             "line": {
              "color": "white"
             }
            },
            "type": "table"
           }
          ]
         },
         "layout": {
          "annotationdefaults": {
           "arrowcolor": "#2a3f5f",
           "arrowhead": 0,
           "arrowwidth": 1
          },
          "autotypenumbers": "strict",
          "coloraxis": {
           "colorbar": {
            "outlinewidth": 0,
            "ticks": ""
           }
          },
          "colorscale": {
           "diverging": [
            [
             0,
             "#8e0152"
            ],
            [
             0.1,
             "#c51b7d"
            ],
            [
             0.2,
             "#de77ae"
            ],
            [
             0.3,
             "#f1b6da"
            ],
            [
             0.4,
             "#fde0ef"
            ],
            [
             0.5,
             "#f7f7f7"
            ],
            [
             0.6,
             "#e6f5d0"
            ],
            [
             0.7,
             "#b8e186"
            ],
            [
             0.8,
             "#7fbc41"
            ],
            [
             0.9,
             "#4d9221"
            ],
            [
             1,
             "#276419"
            ]
           ],
           "sequential": [
            [
             0,
             "#0d0887"
            ],
            [
             0.1111111111111111,
             "#46039f"
            ],
            [
             0.2222222222222222,
             "#7201a8"
            ],
            [
             0.3333333333333333,
             "#9c179e"
            ],
            [
             0.4444444444444444,
             "#bd3786"
            ],
            [
             0.5555555555555556,
             "#d8576b"
            ],
            [
             0.6666666666666666,
             "#ed7953"
            ],
            [
             0.7777777777777778,
             "#fb9f3a"
            ],
            [
             0.8888888888888888,
             "#fdca26"
            ],
            [
             1,
             "#f0f921"
            ]
           ],
           "sequentialminus": [
            [
             0,
             "#0d0887"
            ],
            [
             0.1111111111111111,
             "#46039f"
            ],
            [
             0.2222222222222222,
             "#7201a8"
            ],
            [
             0.3333333333333333,
             "#9c179e"
            ],
            [
             0.4444444444444444,
             "#bd3786"
            ],
            [
             0.5555555555555556,
             "#d8576b"
            ],
            [
             0.6666666666666666,
             "#ed7953"
            ],
            [
             0.7777777777777778,
             "#fb9f3a"
            ],
            [
             0.8888888888888888,
             "#fdca26"
            ],
            [
             1,
             "#f0f921"
            ]
           ]
          },
          "colorway": [
           "#636efa",
           "#EF553B",
           "#00cc96",
           "#ab63fa",
           "#FFA15A",
           "#19d3f3",
           "#FF6692",
           "#B6E880",
           "#FF97FF",
           "#FECB52"
          ],
          "font": {
           "color": "#2a3f5f"
          },
          "geo": {
           "bgcolor": "white",
           "lakecolor": "white",
           "landcolor": "#E5ECF6",
           "showlakes": true,
           "showland": true,
           "subunitcolor": "white"
          },
          "hoverlabel": {
           "align": "left"
          },
          "hovermode": "closest",
          "mapbox": {
           "style": "light"
          },
          "paper_bgcolor": "white",
          "plot_bgcolor": "#E5ECF6",
          "polar": {
           "angularaxis": {
            "gridcolor": "white",
            "linecolor": "white",
            "ticks": ""
           },
           "bgcolor": "#E5ECF6",
           "radialaxis": {
            "gridcolor": "white",
            "linecolor": "white",
            "ticks": ""
           }
          },
          "scene": {
           "xaxis": {
            "backgroundcolor": "#E5ECF6",
            "gridcolor": "white",
            "gridwidth": 2,
            "linecolor": "white",
            "showbackground": true,
            "ticks": "",
            "zerolinecolor": "white"
           },
           "yaxis": {
            "backgroundcolor": "#E5ECF6",
            "gridcolor": "white",
            "gridwidth": 2,
            "linecolor": "white",
            "showbackground": true,
            "ticks": "",
            "zerolinecolor": "white"
           },
           "zaxis": {
            "backgroundcolor": "#E5ECF6",
            "gridcolor": "white",
            "gridwidth": 2,
            "linecolor": "white",
            "showbackground": true,
            "ticks": "",
            "zerolinecolor": "white"
           }
          },
          "shapedefaults": {
           "line": {
            "color": "#2a3f5f"
           }
          },
          "ternary": {
           "aaxis": {
            "gridcolor": "white",
            "linecolor": "white",
            "ticks": ""
           },
           "baxis": {
            "gridcolor": "white",
            "linecolor": "white",
            "ticks": ""
           },
           "bgcolor": "#E5ECF6",
           "caxis": {
            "gridcolor": "white",
            "linecolor": "white",
            "ticks": ""
           }
          },
          "title": {
           "x": 0.05
          },
          "xaxis": {
           "automargin": true,
           "gridcolor": "white",
           "linecolor": "white",
           "ticks": "",
           "title": {
            "standoff": 15
           },
           "zerolinecolor": "white",
           "zerolinewidth": 2
          },
          "yaxis": {
           "automargin": true,
           "gridcolor": "white",
           "linecolor": "white",
           "ticks": "",
           "title": {
            "standoff": 15
           },
           "zerolinecolor": "white",
           "zerolinewidth": 2
          }
         }
        },
        "title": {
         "text": "Station (A4260517) BiMonthly Maximum Water Course Levels with Structure Crest Height"
        },
        "xaxis": {
         "tickformat": "%d %B (%a)<br>%y",
         "title": {
          "text": "Time"
         }
        },
        "yaxis": {
         "title": {
          "text": "Heights (meter)"
         }
        }
       }
      }
     },
     "metadata": {},
     "output_type": "display_data"
    },
    {
     "name": "stderr",
     "output_type": "stream",
     "text": [
      "c:\\office12\\bomwater-notebook\\.venv\\lib\\site-packages\\xarray\\core\\variable.py:305: UnitStrippedWarning:\n",
      "\n",
      "The unit of the quantity is stripped when downcasting to ndarray.\n",
      "\n"
     ]
    },
    {
     "data": {
      "application/vnd.plotly.v1+json": {
       "config": {
        "plotlyServerURL": "https://plot.ly"
       },
       "data": [
        {
         "line": {
          "shape": "linear"
         },
         "mode": "lines",
         "name": "Water Course Level meter",
         "type": "scatter",
         "x": [
          "2008-08-01T00:00:00.000000000",
          "2008-10-01T00:00:00.000000000",
          "2008-12-01T00:00:00.000000000",
          "2009-02-01T00:00:00.000000000",
          "2009-04-01T00:00:00.000000000",
          "2009-06-01T00:00:00.000000000",
          "2009-08-01T00:00:00.000000000",
          "2009-10-01T00:00:00.000000000",
          "2009-12-01T00:00:00.000000000",
          "2010-02-01T00:00:00.000000000",
          "2010-04-01T00:00:00.000000000",
          "2010-06-01T00:00:00.000000000",
          "2010-08-01T00:00:00.000000000",
          "2010-10-01T00:00:00.000000000",
          "2010-12-01T00:00:00.000000000",
          "2011-02-01T00:00:00.000000000",
          "2011-04-01T00:00:00.000000000",
          "2011-06-01T00:00:00.000000000",
          "2011-08-01T00:00:00.000000000",
          "2011-10-01T00:00:00.000000000",
          "2011-12-01T00:00:00.000000000",
          "2012-02-01T00:00:00.000000000",
          "2012-04-01T00:00:00.000000000",
          "2012-06-01T00:00:00.000000000",
          "2012-08-01T00:00:00.000000000",
          "2012-10-01T00:00:00.000000000",
          "2012-12-01T00:00:00.000000000",
          "2013-02-01T00:00:00.000000000",
          "2013-04-01T00:00:00.000000000",
          "2013-06-01T00:00:00.000000000",
          "2013-08-01T00:00:00.000000000",
          "2013-10-01T00:00:00.000000000",
          "2013-12-01T00:00:00.000000000",
          "2014-02-01T00:00:00.000000000",
          "2014-04-01T00:00:00.000000000",
          "2014-06-01T00:00:00.000000000",
          "2014-08-01T00:00:00.000000000",
          "2014-10-01T00:00:00.000000000",
          "2014-12-01T00:00:00.000000000",
          "2015-02-01T00:00:00.000000000",
          "2015-04-01T00:00:00.000000000",
          "2015-06-01T00:00:00.000000000",
          "2015-08-01T00:00:00.000000000",
          "2015-10-01T00:00:00.000000000",
          "2015-12-01T00:00:00.000000000",
          "2016-02-01T00:00:00.000000000",
          "2016-04-01T00:00:00.000000000",
          "2016-06-01T00:00:00.000000000",
          "2016-08-01T00:00:00.000000000",
          "2016-10-01T00:00:00.000000000",
          "2016-12-01T00:00:00.000000000",
          "2017-02-01T00:00:00.000000000",
          "2017-04-01T00:00:00.000000000",
          "2017-06-01T00:00:00.000000000",
          "2017-08-01T00:00:00.000000000",
          "2017-10-01T00:00:00.000000000",
          "2017-12-01T00:00:00.000000000",
          "2018-02-01T00:00:00.000000000",
          "2018-04-01T00:00:00.000000000",
          "2018-06-01T00:00:00.000000000",
          "2018-08-01T00:00:00.000000000",
          "2018-10-01T00:00:00.000000000",
          "2018-12-01T00:00:00.000000000",
          "2019-02-01T00:00:00.000000000",
          "2019-04-01T00:00:00.000000000",
          "2019-06-01T00:00:00.000000000",
          "2019-08-01T00:00:00.000000000",
          "2019-10-01T00:00:00.000000000",
          "2019-12-01T00:00:00.000000000",
          "2020-02-01T00:00:00.000000000",
          "2020-04-01T00:00:00.000000000",
          "2020-06-01T00:00:00.000000000",
          "2020-08-01T00:00:00.000000000",
          "2020-10-01T00:00:00.000000000",
          "2020-12-01T00:00:00.000000000",
          "2021-02-01T00:00:00.000000000",
          "2021-04-01T00:00:00.000000000",
          "2021-06-01T00:00:00.000000000",
          "2021-08-01T00:00:00.000000000",
          "2021-10-01T00:00:00.000000000",
          "2021-12-01T00:00:00.000000000"
         ],
         "y": [
          10.142,
          10.271,
          10.318,
          10.341,
          10.207,
          10.112,
          10.209,
          10.455,
          10.871,
          11.028,
          10.658,
          10.569,
          11.814,
          13.436,
          14.106,
          14.5,
          14.353,
          12.664,
          13.07,
          12.559,
          11.866,
          13.422,
          13.843,
          13.137,
          13.421,
          13.463,
          11.631,
          10.993,
          10.795,
          10.738,
          11.939,
          11.941,
          11.128,
          10.824,
          10.874,
          11.305,
          11.502,
          10.976,
          10.916,
          11.001,
          10.74,
          11.029,
          10.976,
          11.077,
          10.724,
          10.963,
          10.718,
          11.765,
          12.821,
          14.403,
          14.611,
          11.028,
          11.023,
          11.09,
          10.712,
          11.211,
          11.426,
          10.695,
          10.466,
          10.984,
          10.609,
          10.901,
          10.978,
          10.76,
          10.71,
          10.959,
          11.023,
          11.348,
          10.647,
          10.678,
          10.583,
          11.211,
          11.103,
          11.394,
          11.338,
          10.651,
          10.571,
          10.704,
          12.169,
          12.717,
          12.582
         ]
        },
        {
         "line": {
          "shape": "linear"
         },
         "mode": "lines",
         "name": "Heights meter",
         "type": "scatter",
         "x": [
          "2008-08-01T00:00:00.000000000",
          "2008-10-01T00:00:00.000000000",
          "2008-12-01T00:00:00.000000000",
          "2009-02-01T00:00:00.000000000",
          "2009-04-01T00:00:00.000000000",
          "2009-06-01T00:00:00.000000000",
          "2009-08-01T00:00:00.000000000",
          "2009-10-01T00:00:00.000000000",
          "2009-12-01T00:00:00.000000000",
          "2010-02-01T00:00:00.000000000",
          "2010-04-01T00:00:00.000000000",
          "2010-06-01T00:00:00.000000000",
          "2010-08-01T00:00:00.000000000",
          "2010-10-01T00:00:00.000000000",
          "2010-12-01T00:00:00.000000000",
          "2011-02-01T00:00:00.000000000",
          "2011-04-01T00:00:00.000000000",
          "2011-06-01T00:00:00.000000000",
          "2011-08-01T00:00:00.000000000",
          "2011-10-01T00:00:00.000000000",
          "2011-12-01T00:00:00.000000000",
          "2012-02-01T00:00:00.000000000",
          "2012-04-01T00:00:00.000000000",
          "2012-06-01T00:00:00.000000000",
          "2012-08-01T00:00:00.000000000",
          "2012-10-01T00:00:00.000000000",
          "2012-12-01T00:00:00.000000000",
          "2013-02-01T00:00:00.000000000",
          "2013-04-01T00:00:00.000000000",
          "2013-06-01T00:00:00.000000000",
          "2013-08-01T00:00:00.000000000",
          "2013-10-01T00:00:00.000000000",
          "2013-12-01T00:00:00.000000000",
          "2014-02-01T00:00:00.000000000",
          "2014-04-01T00:00:00.000000000",
          "2014-06-01T00:00:00.000000000",
          "2014-08-01T00:00:00.000000000",
          "2014-10-01T00:00:00.000000000",
          "2014-12-01T00:00:00.000000000",
          "2015-02-01T00:00:00.000000000",
          "2015-04-01T00:00:00.000000000",
          "2015-06-01T00:00:00.000000000",
          "2015-08-01T00:00:00.000000000",
          "2015-10-01T00:00:00.000000000",
          "2015-12-01T00:00:00.000000000",
          "2016-02-01T00:00:00.000000000",
          "2016-04-01T00:00:00.000000000",
          "2016-06-01T00:00:00.000000000",
          "2016-08-01T00:00:00.000000000",
          "2016-10-01T00:00:00.000000000",
          "2016-12-01T00:00:00.000000000",
          "2017-02-01T00:00:00.000000000",
          "2017-04-01T00:00:00.000000000",
          "2017-06-01T00:00:00.000000000",
          "2017-08-01T00:00:00.000000000",
          "2017-10-01T00:00:00.000000000",
          "2017-12-01T00:00:00.000000000",
          "2018-02-01T00:00:00.000000000",
          "2018-04-01T00:00:00.000000000",
          "2018-06-01T00:00:00.000000000",
          "2018-08-01T00:00:00.000000000",
          "2018-10-01T00:00:00.000000000",
          "2018-12-01T00:00:00.000000000",
          "2019-02-01T00:00:00.000000000",
          "2019-04-01T00:00:00.000000000",
          "2019-06-01T00:00:00.000000000",
          "2019-08-01T00:00:00.000000000",
          "2019-10-01T00:00:00.000000000",
          "2019-12-01T00:00:00.000000000",
          "2020-02-01T00:00:00.000000000",
          "2020-04-01T00:00:00.000000000",
          "2020-06-01T00:00:00.000000000",
          "2020-08-01T00:00:00.000000000",
          "2020-10-01T00:00:00.000000000",
          "2020-12-01T00:00:00.000000000",
          "2021-02-01T00:00:00.000000000",
          "2021-04-01T00:00:00.000000000",
          "2021-06-01T00:00:00.000000000",
          "2021-08-01T00:00:00.000000000",
          "2021-10-01T00:00:00.000000000",
          "2021-12-01T00:00:00.000000000"
         ],
         "y": [
          13.2,
          13.2,
          13.2,
          13.2,
          13.2,
          13.2,
          13.2,
          13.2,
          13.2,
          13.2,
          13.2,
          13.2,
          13.2,
          13.2,
          13.2,
          13.2,
          13.2,
          13.2,
          13.2,
          13.2,
          13.2,
          13.2,
          13.2,
          13.2,
          13.2,
          13.2,
          13.2,
          13.2,
          13.2,
          13.2,
          13.2,
          13.2,
          13.2,
          13.2,
          13.2,
          13.2,
          13.2,
          13.2,
          13.2,
          13.2,
          13.2,
          13.2,
          13.2,
          13.2,
          13.2,
          13.2,
          13.2,
          13.2,
          13.2,
          13.2,
          13.2,
          13.2,
          13.2,
          13.2,
          13.2,
          13.2,
          13.2,
          13.2,
          13.2,
          13.2,
          13.2,
          13.2,
          13.2,
          13.2,
          13.2,
          13.2,
          13.2,
          13.2,
          13.2,
          13.2,
          13.2,
          13.2,
          13.2,
          13.2,
          13.2,
          13.2,
          13.2,
          13.2,
          13.2,
          13.2,
          13.2
         ]
        }
       ],
       "layout": {
        "template": {
         "data": {
          "bar": [
           {
            "error_x": {
             "color": "#2a3f5f"
            },
            "error_y": {
             "color": "#2a3f5f"
            },
            "marker": {
             "line": {
              "color": "#E5ECF6",
              "width": 0.5
             },
             "pattern": {
              "fillmode": "overlay",
              "size": 10,
              "solidity": 0.2
             }
            },
            "type": "bar"
           }
          ],
          "barpolar": [
           {
            "marker": {
             "line": {
              "color": "#E5ECF6",
              "width": 0.5
             },
             "pattern": {
              "fillmode": "overlay",
              "size": 10,
              "solidity": 0.2
             }
            },
            "type": "barpolar"
           }
          ],
          "carpet": [
           {
            "aaxis": {
             "endlinecolor": "#2a3f5f",
             "gridcolor": "white",
             "linecolor": "white",
             "minorgridcolor": "white",
             "startlinecolor": "#2a3f5f"
            },
            "baxis": {
             "endlinecolor": "#2a3f5f",
             "gridcolor": "white",
             "linecolor": "white",
             "minorgridcolor": "white",
             "startlinecolor": "#2a3f5f"
            },
            "type": "carpet"
           }
          ],
          "choropleth": [
           {
            "colorbar": {
             "outlinewidth": 0,
             "ticks": ""
            },
            "type": "choropleth"
           }
          ],
          "contour": [
           {
            "colorbar": {
             "outlinewidth": 0,
             "ticks": ""
            },
            "colorscale": [
             [
              0,
              "#0d0887"
             ],
             [
              0.1111111111111111,
              "#46039f"
             ],
             [
              0.2222222222222222,
              "#7201a8"
             ],
             [
              0.3333333333333333,
              "#9c179e"
             ],
             [
              0.4444444444444444,
              "#bd3786"
             ],
             [
              0.5555555555555556,
              "#d8576b"
             ],
             [
              0.6666666666666666,
              "#ed7953"
             ],
             [
              0.7777777777777778,
              "#fb9f3a"
             ],
             [
              0.8888888888888888,
              "#fdca26"
             ],
             [
              1,
              "#f0f921"
             ]
            ],
            "type": "contour"
           }
          ],
          "contourcarpet": [
           {
            "colorbar": {
             "outlinewidth": 0,
             "ticks": ""
            },
            "type": "contourcarpet"
           }
          ],
          "heatmap": [
           {
            "colorbar": {
             "outlinewidth": 0,
             "ticks": ""
            },
            "colorscale": [
             [
              0,
              "#0d0887"
             ],
             [
              0.1111111111111111,
              "#46039f"
             ],
             [
              0.2222222222222222,
              "#7201a8"
             ],
             [
              0.3333333333333333,
              "#9c179e"
             ],
             [
              0.4444444444444444,
              "#bd3786"
             ],
             [
              0.5555555555555556,
              "#d8576b"
             ],
             [
              0.6666666666666666,
              "#ed7953"
             ],
             [
              0.7777777777777778,
              "#fb9f3a"
             ],
             [
              0.8888888888888888,
              "#fdca26"
             ],
             [
              1,
              "#f0f921"
             ]
            ],
            "type": "heatmap"
           }
          ],
          "heatmapgl": [
           {
            "colorbar": {
             "outlinewidth": 0,
             "ticks": ""
            },
            "colorscale": [
             [
              0,
              "#0d0887"
             ],
             [
              0.1111111111111111,
              "#46039f"
             ],
             [
              0.2222222222222222,
              "#7201a8"
             ],
             [
              0.3333333333333333,
              "#9c179e"
             ],
             [
              0.4444444444444444,
              "#bd3786"
             ],
             [
              0.5555555555555556,
              "#d8576b"
             ],
             [
              0.6666666666666666,
              "#ed7953"
             ],
             [
              0.7777777777777778,
              "#fb9f3a"
             ],
             [
              0.8888888888888888,
              "#fdca26"
             ],
             [
              1,
              "#f0f921"
             ]
            ],
            "type": "heatmapgl"
           }
          ],
          "histogram": [
           {
            "marker": {
             "pattern": {
              "fillmode": "overlay",
              "size": 10,
              "solidity": 0.2
             }
            },
            "type": "histogram"
           }
          ],
          "histogram2d": [
           {
            "colorbar": {
             "outlinewidth": 0,
             "ticks": ""
            },
            "colorscale": [
             [
              0,
              "#0d0887"
             ],
             [
              0.1111111111111111,
              "#46039f"
             ],
             [
              0.2222222222222222,
              "#7201a8"
             ],
             [
              0.3333333333333333,
              "#9c179e"
             ],
             [
              0.4444444444444444,
              "#bd3786"
             ],
             [
              0.5555555555555556,
              "#d8576b"
             ],
             [
              0.6666666666666666,
              "#ed7953"
             ],
             [
              0.7777777777777778,
              "#fb9f3a"
             ],
             [
              0.8888888888888888,
              "#fdca26"
             ],
             [
              1,
              "#f0f921"
             ]
            ],
            "type": "histogram2d"
           }
          ],
          "histogram2dcontour": [
           {
            "colorbar": {
             "outlinewidth": 0,
             "ticks": ""
            },
            "colorscale": [
             [
              0,
              "#0d0887"
             ],
             [
              0.1111111111111111,
              "#46039f"
             ],
             [
              0.2222222222222222,
              "#7201a8"
             ],
             [
              0.3333333333333333,
              "#9c179e"
             ],
             [
              0.4444444444444444,
              "#bd3786"
             ],
             [
              0.5555555555555556,
              "#d8576b"
             ],
             [
              0.6666666666666666,
              "#ed7953"
             ],
             [
              0.7777777777777778,
              "#fb9f3a"
             ],
             [
              0.8888888888888888,
              "#fdca26"
             ],
             [
              1,
              "#f0f921"
             ]
            ],
            "type": "histogram2dcontour"
           }
          ],
          "mesh3d": [
           {
            "colorbar": {
             "outlinewidth": 0,
             "ticks": ""
            },
            "type": "mesh3d"
           }
          ],
          "parcoords": [
           {
            "line": {
             "colorbar": {
              "outlinewidth": 0,
              "ticks": ""
             }
            },
            "type": "parcoords"
           }
          ],
          "pie": [
           {
            "automargin": true,
            "type": "pie"
           }
          ],
          "scatter": [
           {
            "fillpattern": {
             "fillmode": "overlay",
             "size": 10,
             "solidity": 0.2
            },
            "type": "scatter"
           }
          ],
          "scatter3d": [
           {
            "line": {
             "colorbar": {
              "outlinewidth": 0,
              "ticks": ""
             }
            },
            "marker": {
             "colorbar": {
              "outlinewidth": 0,
              "ticks": ""
             }
            },
            "type": "scatter3d"
           }
          ],
          "scattercarpet": [
           {
            "marker": {
             "colorbar": {
              "outlinewidth": 0,
              "ticks": ""
             }
            },
            "type": "scattercarpet"
           }
          ],
          "scattergeo": [
           {
            "marker": {
             "colorbar": {
              "outlinewidth": 0,
              "ticks": ""
             }
            },
            "type": "scattergeo"
           }
          ],
          "scattergl": [
           {
            "marker": {
             "colorbar": {
              "outlinewidth": 0,
              "ticks": ""
             }
            },
            "type": "scattergl"
           }
          ],
          "scattermapbox": [
           {
            "marker": {
             "colorbar": {
              "outlinewidth": 0,
              "ticks": ""
             }
            },
            "type": "scattermapbox"
           }
          ],
          "scatterpolar": [
           {
            "marker": {
             "colorbar": {
              "outlinewidth": 0,
              "ticks": ""
             }
            },
            "type": "scatterpolar"
           }
          ],
          "scatterpolargl": [
           {
            "marker": {
             "colorbar": {
              "outlinewidth": 0,
              "ticks": ""
             }
            },
            "type": "scatterpolargl"
           }
          ],
          "scatterternary": [
           {
            "marker": {
             "colorbar": {
              "outlinewidth": 0,
              "ticks": ""
             }
            },
            "type": "scatterternary"
           }
          ],
          "surface": [
           {
            "colorbar": {
             "outlinewidth": 0,
             "ticks": ""
            },
            "colorscale": [
             [
              0,
              "#0d0887"
             ],
             [
              0.1111111111111111,
              "#46039f"
             ],
             [
              0.2222222222222222,
              "#7201a8"
             ],
             [
              0.3333333333333333,
              "#9c179e"
             ],
             [
              0.4444444444444444,
              "#bd3786"
             ],
             [
              0.5555555555555556,
              "#d8576b"
             ],
             [
              0.6666666666666666,
              "#ed7953"
             ],
             [
              0.7777777777777778,
              "#fb9f3a"
             ],
             [
              0.8888888888888888,
              "#fdca26"
             ],
             [
              1,
              "#f0f921"
             ]
            ],
            "type": "surface"
           }
          ],
          "table": [
           {
            "cells": {
             "fill": {
              "color": "#EBF0F8"
             },
             "line": {
              "color": "white"
             }
            },
            "header": {
             "fill": {
              "color": "#C8D4E3"
             },
             "line": {
              "color": "white"
             }
            },
            "type": "table"
           }
          ]
         },
         "layout": {
          "annotationdefaults": {
           "arrowcolor": "#2a3f5f",
           "arrowhead": 0,
           "arrowwidth": 1
          },
          "autotypenumbers": "strict",
          "coloraxis": {
           "colorbar": {
            "outlinewidth": 0,
            "ticks": ""
           }
          },
          "colorscale": {
           "diverging": [
            [
             0,
             "#8e0152"
            ],
            [
             0.1,
             "#c51b7d"
            ],
            [
             0.2,
             "#de77ae"
            ],
            [
             0.3,
             "#f1b6da"
            ],
            [
             0.4,
             "#fde0ef"
            ],
            [
             0.5,
             "#f7f7f7"
            ],
            [
             0.6,
             "#e6f5d0"
            ],
            [
             0.7,
             "#b8e186"
            ],
            [
             0.8,
             "#7fbc41"
            ],
            [
             0.9,
             "#4d9221"
            ],
            [
             1,
             "#276419"
            ]
           ],
           "sequential": [
            [
             0,
             "#0d0887"
            ],
            [
             0.1111111111111111,
             "#46039f"
            ],
            [
             0.2222222222222222,
             "#7201a8"
            ],
            [
             0.3333333333333333,
             "#9c179e"
            ],
            [
             0.4444444444444444,
             "#bd3786"
            ],
            [
             0.5555555555555556,
             "#d8576b"
            ],
            [
             0.6666666666666666,
             "#ed7953"
            ],
            [
             0.7777777777777778,
             "#fb9f3a"
            ],
            [
             0.8888888888888888,
             "#fdca26"
            ],
            [
             1,
             "#f0f921"
            ]
           ],
           "sequentialminus": [
            [
             0,
             "#0d0887"
            ],
            [
             0.1111111111111111,
             "#46039f"
            ],
            [
             0.2222222222222222,
             "#7201a8"
            ],
            [
             0.3333333333333333,
             "#9c179e"
            ],
            [
             0.4444444444444444,
             "#bd3786"
            ],
            [
             0.5555555555555556,
             "#d8576b"
            ],
            [
             0.6666666666666666,
             "#ed7953"
            ],
            [
             0.7777777777777778,
             "#fb9f3a"
            ],
            [
             0.8888888888888888,
             "#fdca26"
            ],
            [
             1,
             "#f0f921"
            ]
           ]
          },
          "colorway": [
           "#636efa",
           "#EF553B",
           "#00cc96",
           "#ab63fa",
           "#FFA15A",
           "#19d3f3",
           "#FF6692",
           "#B6E880",
           "#FF97FF",
           "#FECB52"
          ],
          "font": {
           "color": "#2a3f5f"
          },
          "geo": {
           "bgcolor": "white",
           "lakecolor": "white",
           "landcolor": "#E5ECF6",
           "showlakes": true,
           "showland": true,
           "subunitcolor": "white"
          },
          "hoverlabel": {
           "align": "left"
          },
          "hovermode": "closest",
          "mapbox": {
           "style": "light"
          },
          "paper_bgcolor": "white",
          "plot_bgcolor": "#E5ECF6",
          "polar": {
           "angularaxis": {
            "gridcolor": "white",
            "linecolor": "white",
            "ticks": ""
           },
           "bgcolor": "#E5ECF6",
           "radialaxis": {
            "gridcolor": "white",
            "linecolor": "white",
            "ticks": ""
           }
          },
          "scene": {
           "xaxis": {
            "backgroundcolor": "#E5ECF6",
            "gridcolor": "white",
            "gridwidth": 2,
            "linecolor": "white",
            "showbackground": true,
            "ticks": "",
            "zerolinecolor": "white"
           },
           "yaxis": {
            "backgroundcolor": "#E5ECF6",
            "gridcolor": "white",
            "gridwidth": 2,
            "linecolor": "white",
            "showbackground": true,
            "ticks": "",
            "zerolinecolor": "white"
           },
           "zaxis": {
            "backgroundcolor": "#E5ECF6",
            "gridcolor": "white",
            "gridwidth": 2,
            "linecolor": "white",
            "showbackground": true,
            "ticks": "",
            "zerolinecolor": "white"
           }
          },
          "shapedefaults": {
           "line": {
            "color": "#2a3f5f"
           }
          },
          "ternary": {
           "aaxis": {
            "gridcolor": "white",
            "linecolor": "white",
            "ticks": ""
           },
           "baxis": {
            "gridcolor": "white",
            "linecolor": "white",
            "ticks": ""
           },
           "bgcolor": "#E5ECF6",
           "caxis": {
            "gridcolor": "white",
            "linecolor": "white",
            "ticks": ""
           }
          },
          "title": {
           "x": 0.05
          },
          "xaxis": {
           "automargin": true,
           "gridcolor": "white",
           "linecolor": "white",
           "ticks": "",
           "title": {
            "standoff": 15
           },
           "zerolinecolor": "white",
           "zerolinewidth": 2
          },
          "yaxis": {
           "automargin": true,
           "gridcolor": "white",
           "linecolor": "white",
           "ticks": "",
           "title": {
            "standoff": 15
           },
           "zerolinecolor": "white",
           "zerolinewidth": 2
          }
         }
        },
        "title": {
         "text": "Station (A4260515) BiMonthly Maximum Water Course Levels with Structure Crest Height"
        },
        "xaxis": {
         "tickformat": "%d %B (%a)<br>%y",
         "title": {
          "text": "Time"
         }
        },
        "yaxis": {
         "title": {
          "text": "Heights (meter)"
         }
        }
       }
      }
     },
     "metadata": {},
     "output_type": "display_data"
    },
    {
     "name": "stderr",
     "output_type": "stream",
     "text": [
      "c:\\office12\\bomwater-notebook\\.venv\\lib\\site-packages\\xarray\\core\\variable.py:305: UnitStrippedWarning:\n",
      "\n",
      "The unit of the quantity is stripped when downcasting to ndarray.\n",
      "\n"
     ]
    },
    {
     "data": {
      "application/vnd.plotly.v1+json": {
       "config": {
        "plotlyServerURL": "https://plot.ly"
       },
       "data": [
        {
         "line": {
          "shape": "linear"
         },
         "mode": "lines",
         "name": "Water Course Level meter",
         "type": "scatter",
         "x": [
          "2008-07-01T00:00:00.000000000",
          "2008-09-01T00:00:00.000000000",
          "2008-11-01T00:00:00.000000000",
          "2009-01-01T00:00:00.000000000",
          "2009-03-01T00:00:00.000000000",
          "2009-05-01T00:00:00.000000000",
          "2009-07-01T00:00:00.000000000",
          "2009-09-01T00:00:00.000000000",
          "2009-11-01T00:00:00.000000000",
          "2010-01-01T00:00:00.000000000",
          "2010-03-01T00:00:00.000000000",
          "2010-05-01T00:00:00.000000000",
          "2010-07-01T00:00:00.000000000",
          "2010-09-01T00:00:00.000000000",
          "2010-11-01T00:00:00.000000000",
          "2011-01-01T00:00:00.000000000",
          "2011-03-01T00:00:00.000000000",
          "2011-05-01T00:00:00.000000000",
          "2011-07-01T00:00:00.000000000",
          "2011-09-01T00:00:00.000000000",
          "2011-11-01T00:00:00.000000000",
          "2012-01-01T00:00:00.000000000",
          "2012-03-01T00:00:00.000000000",
          "2012-05-01T00:00:00.000000000",
          "2012-07-01T00:00:00.000000000",
          "2012-09-01T00:00:00.000000000",
          "2012-11-01T00:00:00.000000000",
          "2013-01-01T00:00:00.000000000",
          "2013-03-01T00:00:00.000000000",
          "2013-05-01T00:00:00.000000000",
          "2013-07-01T00:00:00.000000000",
          "2013-09-01T00:00:00.000000000",
          "2013-11-01T00:00:00.000000000",
          "2014-01-01T00:00:00.000000000",
          "2014-03-01T00:00:00.000000000",
          "2014-05-01T00:00:00.000000000",
          "2014-07-01T00:00:00.000000000",
          "2014-09-01T00:00:00.000000000",
          "2014-11-01T00:00:00.000000000",
          "2015-01-01T00:00:00.000000000",
          "2015-03-01T00:00:00.000000000",
          "2015-05-01T00:00:00.000000000",
          "2015-07-01T00:00:00.000000000",
          "2015-09-01T00:00:00.000000000",
          "2015-11-01T00:00:00.000000000",
          "2016-01-01T00:00:00.000000000",
          "2016-03-01T00:00:00.000000000",
          "2016-05-01T00:00:00.000000000",
          "2016-07-01T00:00:00.000000000",
          "2016-09-01T00:00:00.000000000",
          "2016-11-01T00:00:00.000000000",
          "2017-01-01T00:00:00.000000000",
          "2017-03-01T00:00:00.000000000",
          "2017-05-01T00:00:00.000000000",
          "2017-07-01T00:00:00.000000000",
          "2017-09-01T00:00:00.000000000",
          "2017-11-01T00:00:00.000000000",
          "2018-01-01T00:00:00.000000000",
          "2018-03-01T00:00:00.000000000",
          "2018-05-01T00:00:00.000000000",
          "2018-07-01T00:00:00.000000000",
          "2018-09-01T00:00:00.000000000",
          "2018-11-01T00:00:00.000000000",
          "2019-01-01T00:00:00.000000000",
          "2019-03-01T00:00:00.000000000",
          "2019-05-01T00:00:00.000000000",
          "2019-07-01T00:00:00.000000000",
          "2019-09-01T00:00:00.000000000",
          "2019-11-01T00:00:00.000000000",
          "2020-01-01T00:00:00.000000000",
          "2020-03-01T00:00:00.000000000",
          "2020-05-01T00:00:00.000000000",
          "2020-07-01T00:00:00.000000000",
          "2020-09-01T00:00:00.000000000",
          "2020-11-01T00:00:00.000000000",
          "2021-01-01T00:00:00.000000000",
          "2021-03-01T00:00:00.000000000",
          "2021-05-01T00:00:00.000000000",
          "2021-07-01T00:00:00.000000000",
          "2021-09-01T00:00:00.000000000",
          "2021-11-01T00:00:00.000000000"
         ],
         "y": [
          13.364,
          13.282,
          13.395,
          13.339,
          13.292,
          13.3,
          13.354,
          13.343,
          13.404,
          13.514,
          13.648,
          13.454,
          13.604,
          14.901,
          16.262,
          16.838,
          16.765,
          15.74,
          15.303,
          15.233,
          14.392,
          14.52,
          16.016,
          15.963,
          15.384,
          15.622,
          14.249,
          13.679,
          13.667,
          13.445,
          13.461,
          13.476,
          13.491,
          13.506,
          13.522,
          13.537,
          13.552,
          13.568,
          13.583,
          13.598,
          13.613,
          13.628,
          13.644,
          13.659,
          13.675,
          13.69,
          13.705,
          13.72,
          13.736,
          13.751,
          13.766,
          13.781,
          13.797,
          13.812,
          13.827,
          13.843,
          13.858,
          13.873,
          13.888,
          13.904,
          13.919,
          13.934,
          13.95,
          13.964,
          13.98,
          13.995,
          14.011,
          14.026,
          14.041,
          14.056,
          14.072,
          14.087,
          14.103,
          14.118,
          14.133,
          14.148,
          14.163,
          14.179,
          14.194,
          14.209,
          14.224
         ]
        },
        {
         "line": {
          "shape": "linear"
         },
         "mode": "lines",
         "name": "Heights meter",
         "type": "scatter",
         "x": [
          "2008-07-01T00:00:00.000000000",
          "2008-09-01T00:00:00.000000000",
          "2008-11-01T00:00:00.000000000",
          "2009-01-01T00:00:00.000000000",
          "2009-03-01T00:00:00.000000000",
          "2009-05-01T00:00:00.000000000",
          "2009-07-01T00:00:00.000000000",
          "2009-09-01T00:00:00.000000000",
          "2009-11-01T00:00:00.000000000",
          "2010-01-01T00:00:00.000000000",
          "2010-03-01T00:00:00.000000000",
          "2010-05-01T00:00:00.000000000",
          "2010-07-01T00:00:00.000000000",
          "2010-09-01T00:00:00.000000000",
          "2010-11-01T00:00:00.000000000",
          "2011-01-01T00:00:00.000000000",
          "2011-03-01T00:00:00.000000000",
          "2011-05-01T00:00:00.000000000",
          "2011-07-01T00:00:00.000000000",
          "2011-09-01T00:00:00.000000000",
          "2011-11-01T00:00:00.000000000",
          "2012-01-01T00:00:00.000000000",
          "2012-03-01T00:00:00.000000000",
          "2012-05-01T00:00:00.000000000",
          "2012-07-01T00:00:00.000000000",
          "2012-09-01T00:00:00.000000000",
          "2012-11-01T00:00:00.000000000",
          "2013-01-01T00:00:00.000000000",
          "2013-03-01T00:00:00.000000000",
          "2013-05-01T00:00:00.000000000",
          "2013-07-01T00:00:00.000000000",
          "2013-09-01T00:00:00.000000000",
          "2013-11-01T00:00:00.000000000",
          "2014-01-01T00:00:00.000000000",
          "2014-03-01T00:00:00.000000000",
          "2014-05-01T00:00:00.000000000",
          "2014-07-01T00:00:00.000000000",
          "2014-09-01T00:00:00.000000000",
          "2014-11-01T00:00:00.000000000",
          "2015-01-01T00:00:00.000000000",
          "2015-03-01T00:00:00.000000000",
          "2015-05-01T00:00:00.000000000",
          "2015-07-01T00:00:00.000000000",
          "2015-09-01T00:00:00.000000000",
          "2015-11-01T00:00:00.000000000",
          "2016-01-01T00:00:00.000000000",
          "2016-03-01T00:00:00.000000000",
          "2016-05-01T00:00:00.000000000",
          "2016-07-01T00:00:00.000000000",
          "2016-09-01T00:00:00.000000000",
          "2016-11-01T00:00:00.000000000",
          "2017-01-01T00:00:00.000000000",
          "2017-03-01T00:00:00.000000000",
          "2017-05-01T00:00:00.000000000",
          "2017-07-01T00:00:00.000000000",
          "2017-09-01T00:00:00.000000000",
          "2017-11-01T00:00:00.000000000",
          "2018-01-01T00:00:00.000000000",
          "2018-03-01T00:00:00.000000000",
          "2018-05-01T00:00:00.000000000",
          "2018-07-01T00:00:00.000000000",
          "2018-09-01T00:00:00.000000000",
          "2018-11-01T00:00:00.000000000",
          "2019-01-01T00:00:00.000000000",
          "2019-03-01T00:00:00.000000000",
          "2019-05-01T00:00:00.000000000",
          "2019-07-01T00:00:00.000000000",
          "2019-09-01T00:00:00.000000000",
          "2019-11-01T00:00:00.000000000",
          "2020-01-01T00:00:00.000000000",
          "2020-03-01T00:00:00.000000000",
          "2020-05-01T00:00:00.000000000",
          "2020-07-01T00:00:00.000000000",
          "2020-09-01T00:00:00.000000000",
          "2020-11-01T00:00:00.000000000",
          "2021-01-01T00:00:00.000000000",
          "2021-03-01T00:00:00.000000000",
          "2021-05-01T00:00:00.000000000",
          "2021-07-01T00:00:00.000000000",
          "2021-09-01T00:00:00.000000000",
          "2021-11-01T00:00:00.000000000"
         ],
         "y": [
          16.3,
          16.3,
          16.3,
          16.3,
          16.3,
          16.3,
          16.3,
          16.3,
          16.3,
          16.3,
          16.3,
          16.3,
          16.3,
          16.3,
          16.3,
          16.3,
          16.3,
          16.3,
          16.3,
          16.3,
          16.3,
          16.3,
          16.3,
          16.3,
          16.3,
          16.3,
          16.3,
          16.3,
          16.3,
          16.3,
          16.3,
          16.3,
          16.3,
          16.3,
          16.3,
          16.3,
          16.3,
          16.3,
          16.3,
          16.3,
          16.3,
          16.3,
          16.3,
          16.3,
          16.3,
          16.3,
          16.3,
          16.3,
          16.3,
          16.3,
          16.3,
          16.3,
          16.3,
          16.3,
          16.3,
          16.3,
          16.3,
          16.3,
          16.3,
          16.3,
          16.3,
          16.3,
          16.3,
          16.3,
          16.3,
          16.3,
          16.3,
          16.3,
          16.3,
          16.3,
          16.3,
          16.3,
          16.3,
          16.3,
          16.3,
          16.3,
          16.3,
          16.3,
          16.3,
          16.3,
          16.3
         ]
        }
       ],
       "layout": {
        "template": {
         "data": {
          "bar": [
           {
            "error_x": {
             "color": "#2a3f5f"
            },
            "error_y": {
             "color": "#2a3f5f"
            },
            "marker": {
             "line": {
              "color": "#E5ECF6",
              "width": 0.5
             },
             "pattern": {
              "fillmode": "overlay",
              "size": 10,
              "solidity": 0.2
             }
            },
            "type": "bar"
           }
          ],
          "barpolar": [
           {
            "marker": {
             "line": {
              "color": "#E5ECF6",
              "width": 0.5
             },
             "pattern": {
              "fillmode": "overlay",
              "size": 10,
              "solidity": 0.2
             }
            },
            "type": "barpolar"
           }
          ],
          "carpet": [
           {
            "aaxis": {
             "endlinecolor": "#2a3f5f",
             "gridcolor": "white",
             "linecolor": "white",
             "minorgridcolor": "white",
             "startlinecolor": "#2a3f5f"
            },
            "baxis": {
             "endlinecolor": "#2a3f5f",
             "gridcolor": "white",
             "linecolor": "white",
             "minorgridcolor": "white",
             "startlinecolor": "#2a3f5f"
            },
            "type": "carpet"
           }
          ],
          "choropleth": [
           {
            "colorbar": {
             "outlinewidth": 0,
             "ticks": ""
            },
            "type": "choropleth"
           }
          ],
          "contour": [
           {
            "colorbar": {
             "outlinewidth": 0,
             "ticks": ""
            },
            "colorscale": [
             [
              0,
              "#0d0887"
             ],
             [
              0.1111111111111111,
              "#46039f"
             ],
             [
              0.2222222222222222,
              "#7201a8"
             ],
             [
              0.3333333333333333,
              "#9c179e"
             ],
             [
              0.4444444444444444,
              "#bd3786"
             ],
             [
              0.5555555555555556,
              "#d8576b"
             ],
             [
              0.6666666666666666,
              "#ed7953"
             ],
             [
              0.7777777777777778,
              "#fb9f3a"
             ],
             [
              0.8888888888888888,
              "#fdca26"
             ],
             [
              1,
              "#f0f921"
             ]
            ],
            "type": "contour"
           }
          ],
          "contourcarpet": [
           {
            "colorbar": {
             "outlinewidth": 0,
             "ticks": ""
            },
            "type": "contourcarpet"
           }
          ],
          "heatmap": [
           {
            "colorbar": {
             "outlinewidth": 0,
             "ticks": ""
            },
            "colorscale": [
             [
              0,
              "#0d0887"
             ],
             [
              0.1111111111111111,
              "#46039f"
             ],
             [
              0.2222222222222222,
              "#7201a8"
             ],
             [
              0.3333333333333333,
              "#9c179e"
             ],
             [
              0.4444444444444444,
              "#bd3786"
             ],
             [
              0.5555555555555556,
              "#d8576b"
             ],
             [
              0.6666666666666666,
              "#ed7953"
             ],
             [
              0.7777777777777778,
              "#fb9f3a"
             ],
             [
              0.8888888888888888,
              "#fdca26"
             ],
             [
              1,
              "#f0f921"
             ]
            ],
            "type": "heatmap"
           }
          ],
          "heatmapgl": [
           {
            "colorbar": {
             "outlinewidth": 0,
             "ticks": ""
            },
            "colorscale": [
             [
              0,
              "#0d0887"
             ],
             [
              0.1111111111111111,
              "#46039f"
             ],
             [
              0.2222222222222222,
              "#7201a8"
             ],
             [
              0.3333333333333333,
              "#9c179e"
             ],
             [
              0.4444444444444444,
              "#bd3786"
             ],
             [
              0.5555555555555556,
              "#d8576b"
             ],
             [
              0.6666666666666666,
              "#ed7953"
             ],
             [
              0.7777777777777778,
              "#fb9f3a"
             ],
             [
              0.8888888888888888,
              "#fdca26"
             ],
             [
              1,
              "#f0f921"
             ]
            ],
            "type": "heatmapgl"
           }
          ],
          "histogram": [
           {
            "marker": {
             "pattern": {
              "fillmode": "overlay",
              "size": 10,
              "solidity": 0.2
             }
            },
            "type": "histogram"
           }
          ],
          "histogram2d": [
           {
            "colorbar": {
             "outlinewidth": 0,
             "ticks": ""
            },
            "colorscale": [
             [
              0,
              "#0d0887"
             ],
             [
              0.1111111111111111,
              "#46039f"
             ],
             [
              0.2222222222222222,
              "#7201a8"
             ],
             [
              0.3333333333333333,
              "#9c179e"
             ],
             [
              0.4444444444444444,
              "#bd3786"
             ],
             [
              0.5555555555555556,
              "#d8576b"
             ],
             [
              0.6666666666666666,
              "#ed7953"
             ],
             [
              0.7777777777777778,
              "#fb9f3a"
             ],
             [
              0.8888888888888888,
              "#fdca26"
             ],
             [
              1,
              "#f0f921"
             ]
            ],
            "type": "histogram2d"
           }
          ],
          "histogram2dcontour": [
           {
            "colorbar": {
             "outlinewidth": 0,
             "ticks": ""
            },
            "colorscale": [
             [
              0,
              "#0d0887"
             ],
             [
              0.1111111111111111,
              "#46039f"
             ],
             [
              0.2222222222222222,
              "#7201a8"
             ],
             [
              0.3333333333333333,
              "#9c179e"
             ],
             [
              0.4444444444444444,
              "#bd3786"
             ],
             [
              0.5555555555555556,
              "#d8576b"
             ],
             [
              0.6666666666666666,
              "#ed7953"
             ],
             [
              0.7777777777777778,
              "#fb9f3a"
             ],
             [
              0.8888888888888888,
              "#fdca26"
             ],
             [
              1,
              "#f0f921"
             ]
            ],
            "type": "histogram2dcontour"
           }
          ],
          "mesh3d": [
           {
            "colorbar": {
             "outlinewidth": 0,
             "ticks": ""
            },
            "type": "mesh3d"
           }
          ],
          "parcoords": [
           {
            "line": {
             "colorbar": {
              "outlinewidth": 0,
              "ticks": ""
             }
            },
            "type": "parcoords"
           }
          ],
          "pie": [
           {
            "automargin": true,
            "type": "pie"
           }
          ],
          "scatter": [
           {
            "fillpattern": {
             "fillmode": "overlay",
             "size": 10,
             "solidity": 0.2
            },
            "type": "scatter"
           }
          ],
          "scatter3d": [
           {
            "line": {
             "colorbar": {
              "outlinewidth": 0,
              "ticks": ""
             }
            },
            "marker": {
             "colorbar": {
              "outlinewidth": 0,
              "ticks": ""
             }
            },
            "type": "scatter3d"
           }
          ],
          "scattercarpet": [
           {
            "marker": {
             "colorbar": {
              "outlinewidth": 0,
              "ticks": ""
             }
            },
            "type": "scattercarpet"
           }
          ],
          "scattergeo": [
           {
            "marker": {
             "colorbar": {
              "outlinewidth": 0,
              "ticks": ""
             }
            },
            "type": "scattergeo"
           }
          ],
          "scattergl": [
           {
            "marker": {
             "colorbar": {
              "outlinewidth": 0,
              "ticks": ""
             }
            },
            "type": "scattergl"
           }
          ],
          "scattermapbox": [
           {
            "marker": {
             "colorbar": {
              "outlinewidth": 0,
              "ticks": ""
             }
            },
            "type": "scattermapbox"
           }
          ],
          "scatterpolar": [
           {
            "marker": {
             "colorbar": {
              "outlinewidth": 0,
              "ticks": ""
             }
            },
            "type": "scatterpolar"
           }
          ],
          "scatterpolargl": [
           {
            "marker": {
             "colorbar": {
              "outlinewidth": 0,
              "ticks": ""
             }
            },
            "type": "scatterpolargl"
           }
          ],
          "scatterternary": [
           {
            "marker": {
             "colorbar": {
              "outlinewidth": 0,
              "ticks": ""
             }
            },
            "type": "scatterternary"
           }
          ],
          "surface": [
           {
            "colorbar": {
             "outlinewidth": 0,
             "ticks": ""
            },
            "colorscale": [
             [
              0,
              "#0d0887"
             ],
             [
              0.1111111111111111,
              "#46039f"
             ],
             [
              0.2222222222222222,
              "#7201a8"
             ],
             [
              0.3333333333333333,
              "#9c179e"
             ],
             [
              0.4444444444444444,
              "#bd3786"
             ],
             [
              0.5555555555555556,
              "#d8576b"
             ],
             [
              0.6666666666666666,
              "#ed7953"
             ],
             [
              0.7777777777777778,
              "#fb9f3a"
             ],
             [
              0.8888888888888888,
              "#fdca26"
             ],
             [
              1,
              "#f0f921"
             ]
            ],
            "type": "surface"
           }
          ],
          "table": [
           {
            "cells": {
             "fill": {
              "color": "#EBF0F8"
             },
             "line": {
              "color": "white"
             }
            },
            "header": {
             "fill": {
              "color": "#C8D4E3"
             },
             "line": {
              "color": "white"
             }
            },
            "type": "table"
           }
          ]
         },
         "layout": {
          "annotationdefaults": {
           "arrowcolor": "#2a3f5f",
           "arrowhead": 0,
           "arrowwidth": 1
          },
          "autotypenumbers": "strict",
          "coloraxis": {
           "colorbar": {
            "outlinewidth": 0,
            "ticks": ""
           }
          },
          "colorscale": {
           "diverging": [
            [
             0,
             "#8e0152"
            ],
            [
             0.1,
             "#c51b7d"
            ],
            [
             0.2,
             "#de77ae"
            ],
            [
             0.3,
             "#f1b6da"
            ],
            [
             0.4,
             "#fde0ef"
            ],
            [
             0.5,
             "#f7f7f7"
            ],
            [
             0.6,
             "#e6f5d0"
            ],
            [
             0.7,
             "#b8e186"
            ],
            [
             0.8,
             "#7fbc41"
            ],
            [
             0.9,
             "#4d9221"
            ],
            [
             1,
             "#276419"
            ]
           ],
           "sequential": [
            [
             0,
             "#0d0887"
            ],
            [
             0.1111111111111111,
             "#46039f"
            ],
            [
             0.2222222222222222,
             "#7201a8"
            ],
            [
             0.3333333333333333,
             "#9c179e"
            ],
            [
             0.4444444444444444,
             "#bd3786"
            ],
            [
             0.5555555555555556,
             "#d8576b"
            ],
            [
             0.6666666666666666,
             "#ed7953"
            ],
            [
             0.7777777777777778,
             "#fb9f3a"
            ],
            [
             0.8888888888888888,
             "#fdca26"
            ],
            [
             1,
             "#f0f921"
            ]
           ],
           "sequentialminus": [
            [
             0,
             "#0d0887"
            ],
            [
             0.1111111111111111,
             "#46039f"
            ],
            [
             0.2222222222222222,
             "#7201a8"
            ],
            [
             0.3333333333333333,
             "#9c179e"
            ],
            [
             0.4444444444444444,
             "#bd3786"
            ],
            [
             0.5555555555555556,
             "#d8576b"
            ],
            [
             0.6666666666666666,
             "#ed7953"
            ],
            [
             0.7777777777777778,
             "#fb9f3a"
            ],
            [
             0.8888888888888888,
             "#fdca26"
            ],
            [
             1,
             "#f0f921"
            ]
           ]
          },
          "colorway": [
           "#636efa",
           "#EF553B",
           "#00cc96",
           "#ab63fa",
           "#FFA15A",
           "#19d3f3",
           "#FF6692",
           "#B6E880",
           "#FF97FF",
           "#FECB52"
          ],
          "font": {
           "color": "#2a3f5f"
          },
          "geo": {
           "bgcolor": "white",
           "lakecolor": "white",
           "landcolor": "#E5ECF6",
           "showlakes": true,
           "showland": true,
           "subunitcolor": "white"
          },
          "hoverlabel": {
           "align": "left"
          },
          "hovermode": "closest",
          "mapbox": {
           "style": "light"
          },
          "paper_bgcolor": "white",
          "plot_bgcolor": "#E5ECF6",
          "polar": {
           "angularaxis": {
            "gridcolor": "white",
            "linecolor": "white",
            "ticks": ""
           },
           "bgcolor": "#E5ECF6",
           "radialaxis": {
            "gridcolor": "white",
            "linecolor": "white",
            "ticks": ""
           }
          },
          "scene": {
           "xaxis": {
            "backgroundcolor": "#E5ECF6",
            "gridcolor": "white",
            "gridwidth": 2,
            "linecolor": "white",
            "showbackground": true,
            "ticks": "",
            "zerolinecolor": "white"
           },
           "yaxis": {
            "backgroundcolor": "#E5ECF6",
            "gridcolor": "white",
            "gridwidth": 2,
            "linecolor": "white",
            "showbackground": true,
            "ticks": "",
            "zerolinecolor": "white"
           },
           "zaxis": {
            "backgroundcolor": "#E5ECF6",
            "gridcolor": "white",
            "gridwidth": 2,
            "linecolor": "white",
            "showbackground": true,
            "ticks": "",
            "zerolinecolor": "white"
           }
          },
          "shapedefaults": {
           "line": {
            "color": "#2a3f5f"
           }
          },
          "ternary": {
           "aaxis": {
            "gridcolor": "white",
            "linecolor": "white",
            "ticks": ""
           },
           "baxis": {
            "gridcolor": "white",
            "linecolor": "white",
            "ticks": ""
           },
           "bgcolor": "#E5ECF6",
           "caxis": {
            "gridcolor": "white",
            "linecolor": "white",
            "ticks": ""
           }
          },
          "title": {
           "x": 0.05
          },
          "xaxis": {
           "automargin": true,
           "gridcolor": "white",
           "linecolor": "white",
           "ticks": "",
           "title": {
            "standoff": 15
           },
           "zerolinecolor": "white",
           "zerolinewidth": 2
          },
          "yaxis": {
           "automargin": true,
           "gridcolor": "white",
           "linecolor": "white",
           "ticks": "",
           "title": {
            "standoff": 15
           },
           "zerolinecolor": "white",
           "zerolinewidth": 2
          }
         }
        },
        "title": {
         "text": "Station (A4260513) BiMonthly Maximum Water Course Levels with Structure Crest Height"
        },
        "xaxis": {
         "tickformat": "%d %B (%a)<br>%y",
         "title": {
          "text": "Time"
         }
        },
        "yaxis": {
         "title": {
          "text": "Heights (meter)"
         }
        }
       }
      }
     },
     "metadata": {},
     "output_type": "display_data"
    },
    {
     "name": "stderr",
     "output_type": "stream",
     "text": [
      "c:\\office12\\bomwater-notebook\\.venv\\lib\\site-packages\\xarray\\core\\variable.py:305: UnitStrippedWarning:\n",
      "\n",
      "The unit of the quantity is stripped when downcasting to ndarray.\n",
      "\n"
     ]
    },
    {
     "data": {
      "application/vnd.plotly.v1+json": {
       "config": {
        "plotlyServerURL": "https://plot.ly"
       },
       "data": [
        {
         "line": {
          "shape": "linear"
         },
         "mode": "lines",
         "name": "Water Course Level meter",
         "type": "scatter",
         "x": [
          "2008-05-01T00:00:00.000000000",
          "2008-07-01T00:00:00.000000000",
          "2008-09-01T00:00:00.000000000",
          "2008-11-01T00:00:00.000000000",
          "2009-01-01T00:00:00.000000000",
          "2009-03-01T00:00:00.000000000",
          "2009-05-01T00:00:00.000000000",
          "2009-07-01T00:00:00.000000000",
          "2009-09-01T00:00:00.000000000",
          "2009-11-01T00:00:00.000000000",
          "2010-01-01T00:00:00.000000000",
          "2010-03-01T00:00:00.000000000",
          "2010-05-01T00:00:00.000000000",
          "2010-07-01T00:00:00.000000000",
          "2010-09-01T00:00:00.000000000",
          "2010-11-01T00:00:00.000000000",
          "2011-01-01T00:00:00.000000000",
          "2011-03-01T00:00:00.000000000",
          "2011-05-01T00:00:00.000000000",
          "2011-07-01T00:00:00.000000000",
          "2011-09-01T00:00:00.000000000",
          "2011-11-01T00:00:00.000000000",
          "2012-01-01T00:00:00.000000000",
          "2012-03-01T00:00:00.000000000",
          "2012-05-01T00:00:00.000000000",
          "2012-07-01T00:00:00.000000000",
          "2012-09-01T00:00:00.000000000",
          "2012-11-01T00:00:00.000000000",
          "2013-01-01T00:00:00.000000000",
          "2013-03-01T00:00:00.000000000",
          "2013-05-01T00:00:00.000000000",
          "2013-07-01T00:00:00.000000000",
          "2013-09-01T00:00:00.000000000",
          "2013-11-01T00:00:00.000000000",
          "2014-01-01T00:00:00.000000000",
          "2014-03-01T00:00:00.000000000",
          "2014-05-01T00:00:00.000000000",
          "2014-07-01T00:00:00.000000000",
          "2014-09-01T00:00:00.000000000",
          "2014-11-01T00:00:00.000000000",
          "2015-01-01T00:00:00.000000000",
          "2015-03-01T00:00:00.000000000",
          "2015-05-01T00:00:00.000000000",
          "2015-07-01T00:00:00.000000000",
          "2015-09-01T00:00:00.000000000",
          "2015-11-01T00:00:00.000000000",
          "2016-01-01T00:00:00.000000000",
          "2016-03-01T00:00:00.000000000",
          "2016-05-01T00:00:00.000000000",
          "2016-07-01T00:00:00.000000000",
          "2016-09-01T00:00:00.000000000",
          "2016-11-01T00:00:00.000000000",
          "2017-01-01T00:00:00.000000000",
          "2017-03-01T00:00:00.000000000",
          "2017-05-01T00:00:00.000000000",
          "2017-07-01T00:00:00.000000000",
          "2017-09-01T00:00:00.000000000",
          "2017-11-01T00:00:00.000000000",
          "2018-01-01T00:00:00.000000000",
          "2018-03-01T00:00:00.000000000",
          "2018-05-01T00:00:00.000000000",
          "2018-07-01T00:00:00.000000000",
          "2018-09-01T00:00:00.000000000",
          "2018-11-01T00:00:00.000000000",
          "2019-01-01T00:00:00.000000000",
          "2019-03-01T00:00:00.000000000",
          "2019-05-01T00:00:00.000000000",
          "2019-07-01T00:00:00.000000000",
          "2019-09-01T00:00:00.000000000",
          "2019-11-01T00:00:00.000000000",
          "2020-01-01T00:00:00.000000000",
          "2020-03-01T00:00:00.000000000",
          "2020-05-01T00:00:00.000000000",
          "2020-07-01T00:00:00.000000000",
          "2020-09-01T00:00:00.000000000",
          "2020-11-01T00:00:00.000000000",
          "2021-01-01T00:00:00.000000000",
          "2021-03-01T00:00:00.000000000",
          "2021-05-01T00:00:00.000000000",
          "2021-07-01T00:00:00.000000000",
          "2021-09-01T00:00:00.000000000",
          "2021-11-01T00:00:00.000000000"
         ],
         "y": [
          16.476,
          16.39,
          16.33,
          16.403,
          16.395,
          16.341,
          16.309,
          16.348,
          16.353,
          16.368,
          16.523,
          16.586,
          16.435,
          16.58,
          18.268,
          19.565,
          20.008,
          19.894,
          19.037,
          18.715,
          18.545,
          17.71,
          17.825,
          19.587,
          19.49,
          18.842,
          19.035,
          17.383,
          16.79,
          16.673,
          16.426,
          17.27,
          17.808,
          16.979,
          16.764,
          16.732,
          16.373,
          17.2,
          16.659,
          16.646,
          16.567,
          16.639,
          16.362,
          16.693,
          17.041,
          16.965,
          16.603,
          16.622,
          16.372,
          18.089,
          19.065,
          20.095,
          17.322,
          16.646,
          16.747,
          16.82,
          16.885,
          17.123,
          16.645,
          16.463,
          16.517,
          16.742,
          16.722,
          16.75,
          16.741,
          16.559,
          16.402,
          16.723,
          16.994,
          16.532,
          16.538,
          16.413,
          16.454,
          16.879,
          16.913,
          17.338,
          16.609,
          16.457,
          16.465,
          17.727,
          18.241,
          18.485
         ]
        },
        {
         "line": {
          "shape": "linear"
         },
         "mode": "lines",
         "name": "Heights meter",
         "type": "scatter",
         "x": [
          "2008-05-01T00:00:00.000000000",
          "2008-07-01T00:00:00.000000000",
          "2008-09-01T00:00:00.000000000",
          "2008-11-01T00:00:00.000000000",
          "2009-01-01T00:00:00.000000000",
          "2009-03-01T00:00:00.000000000",
          "2009-05-01T00:00:00.000000000",
          "2009-07-01T00:00:00.000000000",
          "2009-09-01T00:00:00.000000000",
          "2009-11-01T00:00:00.000000000",
          "2010-01-01T00:00:00.000000000",
          "2010-03-01T00:00:00.000000000",
          "2010-05-01T00:00:00.000000000",
          "2010-07-01T00:00:00.000000000",
          "2010-09-01T00:00:00.000000000",
          "2010-11-01T00:00:00.000000000",
          "2011-01-01T00:00:00.000000000",
          "2011-03-01T00:00:00.000000000",
          "2011-05-01T00:00:00.000000000",
          "2011-07-01T00:00:00.000000000",
          "2011-09-01T00:00:00.000000000",
          "2011-11-01T00:00:00.000000000",
          "2012-01-01T00:00:00.000000000",
          "2012-03-01T00:00:00.000000000",
          "2012-05-01T00:00:00.000000000",
          "2012-07-01T00:00:00.000000000",
          "2012-09-01T00:00:00.000000000",
          "2012-11-01T00:00:00.000000000",
          "2013-01-01T00:00:00.000000000",
          "2013-03-01T00:00:00.000000000",
          "2013-05-01T00:00:00.000000000",
          "2013-07-01T00:00:00.000000000",
          "2013-09-01T00:00:00.000000000",
          "2013-11-01T00:00:00.000000000",
          "2014-01-01T00:00:00.000000000",
          "2014-03-01T00:00:00.000000000",
          "2014-05-01T00:00:00.000000000",
          "2014-07-01T00:00:00.000000000",
          "2014-09-01T00:00:00.000000000",
          "2014-11-01T00:00:00.000000000",
          "2015-01-01T00:00:00.000000000",
          "2015-03-01T00:00:00.000000000",
          "2015-05-01T00:00:00.000000000",
          "2015-07-01T00:00:00.000000000",
          "2015-09-01T00:00:00.000000000",
          "2015-11-01T00:00:00.000000000",
          "2016-01-01T00:00:00.000000000",
          "2016-03-01T00:00:00.000000000",
          "2016-05-01T00:00:00.000000000",
          "2016-07-01T00:00:00.000000000",
          "2016-09-01T00:00:00.000000000",
          "2016-11-01T00:00:00.000000000",
          "2017-01-01T00:00:00.000000000",
          "2017-03-01T00:00:00.000000000",
          "2017-05-01T00:00:00.000000000",
          "2017-07-01T00:00:00.000000000",
          "2017-09-01T00:00:00.000000000",
          "2017-11-01T00:00:00.000000000",
          "2018-01-01T00:00:00.000000000",
          "2018-03-01T00:00:00.000000000",
          "2018-05-01T00:00:00.000000000",
          "2018-07-01T00:00:00.000000000",
          "2018-09-01T00:00:00.000000000",
          "2018-11-01T00:00:00.000000000",
          "2019-01-01T00:00:00.000000000",
          "2019-03-01T00:00:00.000000000",
          "2019-05-01T00:00:00.000000000",
          "2019-07-01T00:00:00.000000000",
          "2019-09-01T00:00:00.000000000",
          "2019-11-01T00:00:00.000000000",
          "2020-01-01T00:00:00.000000000",
          "2020-03-01T00:00:00.000000000",
          "2020-05-01T00:00:00.000000000",
          "2020-07-01T00:00:00.000000000",
          "2020-09-01T00:00:00.000000000",
          "2020-11-01T00:00:00.000000000",
          "2021-01-01T00:00:00.000000000",
          "2021-03-01T00:00:00.000000000",
          "2021-05-01T00:00:00.000000000",
          "2021-07-01T00:00:00.000000000",
          "2021-09-01T00:00:00.000000000",
          "2021-11-01T00:00:00.000000000"
         ],
         "y": [
          19.2,
          19.2,
          19.2,
          19.2,
          19.2,
          19.2,
          19.2,
          19.2,
          19.2,
          19.2,
          19.2,
          19.2,
          19.2,
          19.2,
          19.2,
          19.2,
          19.2,
          19.2,
          19.2,
          19.2,
          19.2,
          19.2,
          19.2,
          19.2,
          19.2,
          19.2,
          19.2,
          19.2,
          19.2,
          19.2,
          19.2,
          19.2,
          19.2,
          19.2,
          19.2,
          19.2,
          19.2,
          19.2,
          19.2,
          19.2,
          19.2,
          19.2,
          19.2,
          19.2,
          19.2,
          19.2,
          19.2,
          19.2,
          19.2,
          19.2,
          19.2,
          19.2,
          19.2,
          19.2,
          19.2,
          19.2,
          19.2,
          19.2,
          19.2,
          19.2,
          19.2,
          19.2,
          19.2,
          19.2,
          19.2,
          19.2,
          19.2,
          19.2,
          19.2,
          19.2,
          19.2,
          19.2,
          19.2,
          19.2,
          19.2,
          19.2,
          19.2,
          19.2,
          19.2,
          19.2,
          19.2,
          19.2
         ]
        }
       ],
       "layout": {
        "template": {
         "data": {
          "bar": [
           {
            "error_x": {
             "color": "#2a3f5f"
            },
            "error_y": {
             "color": "#2a3f5f"
            },
            "marker": {
             "line": {
              "color": "#E5ECF6",
              "width": 0.5
             },
             "pattern": {
              "fillmode": "overlay",
              "size": 10,
              "solidity": 0.2
             }
            },
            "type": "bar"
           }
          ],
          "barpolar": [
           {
            "marker": {
             "line": {
              "color": "#E5ECF6",
              "width": 0.5
             },
             "pattern": {
              "fillmode": "overlay",
              "size": 10,
              "solidity": 0.2
             }
            },
            "type": "barpolar"
           }
          ],
          "carpet": [
           {
            "aaxis": {
             "endlinecolor": "#2a3f5f",
             "gridcolor": "white",
             "linecolor": "white",
             "minorgridcolor": "white",
             "startlinecolor": "#2a3f5f"
            },
            "baxis": {
             "endlinecolor": "#2a3f5f",
             "gridcolor": "white",
             "linecolor": "white",
             "minorgridcolor": "white",
             "startlinecolor": "#2a3f5f"
            },
            "type": "carpet"
           }
          ],
          "choropleth": [
           {
            "colorbar": {
             "outlinewidth": 0,
             "ticks": ""
            },
            "type": "choropleth"
           }
          ],
          "contour": [
           {
            "colorbar": {
             "outlinewidth": 0,
             "ticks": ""
            },
            "colorscale": [
             [
              0,
              "#0d0887"
             ],
             [
              0.1111111111111111,
              "#46039f"
             ],
             [
              0.2222222222222222,
              "#7201a8"
             ],
             [
              0.3333333333333333,
              "#9c179e"
             ],
             [
              0.4444444444444444,
              "#bd3786"
             ],
             [
              0.5555555555555556,
              "#d8576b"
             ],
             [
              0.6666666666666666,
              "#ed7953"
             ],
             [
              0.7777777777777778,
              "#fb9f3a"
             ],
             [
              0.8888888888888888,
              "#fdca26"
             ],
             [
              1,
              "#f0f921"
             ]
            ],
            "type": "contour"
           }
          ],
          "contourcarpet": [
           {
            "colorbar": {
             "outlinewidth": 0,
             "ticks": ""
            },
            "type": "contourcarpet"
           }
          ],
          "heatmap": [
           {
            "colorbar": {
             "outlinewidth": 0,
             "ticks": ""
            },
            "colorscale": [
             [
              0,
              "#0d0887"
             ],
             [
              0.1111111111111111,
              "#46039f"
             ],
             [
              0.2222222222222222,
              "#7201a8"
             ],
             [
              0.3333333333333333,
              "#9c179e"
             ],
             [
              0.4444444444444444,
              "#bd3786"
             ],
             [
              0.5555555555555556,
              "#d8576b"
             ],
             [
              0.6666666666666666,
              "#ed7953"
             ],
             [
              0.7777777777777778,
              "#fb9f3a"
             ],
             [
              0.8888888888888888,
              "#fdca26"
             ],
             [
              1,
              "#f0f921"
             ]
            ],
            "type": "heatmap"
           }
          ],
          "heatmapgl": [
           {
            "colorbar": {
             "outlinewidth": 0,
             "ticks": ""
            },
            "colorscale": [
             [
              0,
              "#0d0887"
             ],
             [
              0.1111111111111111,
              "#46039f"
             ],
             [
              0.2222222222222222,
              "#7201a8"
             ],
             [
              0.3333333333333333,
              "#9c179e"
             ],
             [
              0.4444444444444444,
              "#bd3786"
             ],
             [
              0.5555555555555556,
              "#d8576b"
             ],
             [
              0.6666666666666666,
              "#ed7953"
             ],
             [
              0.7777777777777778,
              "#fb9f3a"
             ],
             [
              0.8888888888888888,
              "#fdca26"
             ],
             [
              1,
              "#f0f921"
             ]
            ],
            "type": "heatmapgl"
           }
          ],
          "histogram": [
           {
            "marker": {
             "pattern": {
              "fillmode": "overlay",
              "size": 10,
              "solidity": 0.2
             }
            },
            "type": "histogram"
           }
          ],
          "histogram2d": [
           {
            "colorbar": {
             "outlinewidth": 0,
             "ticks": ""
            },
            "colorscale": [
             [
              0,
              "#0d0887"
             ],
             [
              0.1111111111111111,
              "#46039f"
             ],
             [
              0.2222222222222222,
              "#7201a8"
             ],
             [
              0.3333333333333333,
              "#9c179e"
             ],
             [
              0.4444444444444444,
              "#bd3786"
             ],
             [
              0.5555555555555556,
              "#d8576b"
             ],
             [
              0.6666666666666666,
              "#ed7953"
             ],
             [
              0.7777777777777778,
              "#fb9f3a"
             ],
             [
              0.8888888888888888,
              "#fdca26"
             ],
             [
              1,
              "#f0f921"
             ]
            ],
            "type": "histogram2d"
           }
          ],
          "histogram2dcontour": [
           {
            "colorbar": {
             "outlinewidth": 0,
             "ticks": ""
            },
            "colorscale": [
             [
              0,
              "#0d0887"
             ],
             [
              0.1111111111111111,
              "#46039f"
             ],
             [
              0.2222222222222222,
              "#7201a8"
             ],
             [
              0.3333333333333333,
              "#9c179e"
             ],
             [
              0.4444444444444444,
              "#bd3786"
             ],
             [
              0.5555555555555556,
              "#d8576b"
             ],
             [
              0.6666666666666666,
              "#ed7953"
             ],
             [
              0.7777777777777778,
              "#fb9f3a"
             ],
             [
              0.8888888888888888,
              "#fdca26"
             ],
             [
              1,
              "#f0f921"
             ]
            ],
            "type": "histogram2dcontour"
           }
          ],
          "mesh3d": [
           {
            "colorbar": {
             "outlinewidth": 0,
             "ticks": ""
            },
            "type": "mesh3d"
           }
          ],
          "parcoords": [
           {
            "line": {
             "colorbar": {
              "outlinewidth": 0,
              "ticks": ""
             }
            },
            "type": "parcoords"
           }
          ],
          "pie": [
           {
            "automargin": true,
            "type": "pie"
           }
          ],
          "scatter": [
           {
            "fillpattern": {
             "fillmode": "overlay",
             "size": 10,
             "solidity": 0.2
            },
            "type": "scatter"
           }
          ],
          "scatter3d": [
           {
            "line": {
             "colorbar": {
              "outlinewidth": 0,
              "ticks": ""
             }
            },
            "marker": {
             "colorbar": {
              "outlinewidth": 0,
              "ticks": ""
             }
            },
            "type": "scatter3d"
           }
          ],
          "scattercarpet": [
           {
            "marker": {
             "colorbar": {
              "outlinewidth": 0,
              "ticks": ""
             }
            },
            "type": "scattercarpet"
           }
          ],
          "scattergeo": [
           {
            "marker": {
             "colorbar": {
              "outlinewidth": 0,
              "ticks": ""
             }
            },
            "type": "scattergeo"
           }
          ],
          "scattergl": [
           {
            "marker": {
             "colorbar": {
              "outlinewidth": 0,
              "ticks": ""
             }
            },
            "type": "scattergl"
           }
          ],
          "scattermapbox": [
           {
            "marker": {
             "colorbar": {
              "outlinewidth": 0,
              "ticks": ""
             }
            },
            "type": "scattermapbox"
           }
          ],
          "scatterpolar": [
           {
            "marker": {
             "colorbar": {
              "outlinewidth": 0,
              "ticks": ""
             }
            },
            "type": "scatterpolar"
           }
          ],
          "scatterpolargl": [
           {
            "marker": {
             "colorbar": {
              "outlinewidth": 0,
              "ticks": ""
             }
            },
            "type": "scatterpolargl"
           }
          ],
          "scatterternary": [
           {
            "marker": {
             "colorbar": {
              "outlinewidth": 0,
              "ticks": ""
             }
            },
            "type": "scatterternary"
           }
          ],
          "surface": [
           {
            "colorbar": {
             "outlinewidth": 0,
             "ticks": ""
            },
            "colorscale": [
             [
              0,
              "#0d0887"
             ],
             [
              0.1111111111111111,
              "#46039f"
             ],
             [
              0.2222222222222222,
              "#7201a8"
             ],
             [
              0.3333333333333333,
              "#9c179e"
             ],
             [
              0.4444444444444444,
              "#bd3786"
             ],
             [
              0.5555555555555556,
              "#d8576b"
             ],
             [
              0.6666666666666666,
              "#ed7953"
             ],
             [
              0.7777777777777778,
              "#fb9f3a"
             ],
             [
              0.8888888888888888,
              "#fdca26"
             ],
             [
              1,
              "#f0f921"
             ]
            ],
            "type": "surface"
           }
          ],
          "table": [
           {
            "cells": {
             "fill": {
              "color": "#EBF0F8"
             },
             "line": {
              "color": "white"
             }
            },
            "header": {
             "fill": {
              "color": "#C8D4E3"
             },
             "line": {
              "color": "white"
             }
            },
            "type": "table"
           }
          ]
         },
         "layout": {
          "annotationdefaults": {
           "arrowcolor": "#2a3f5f",
           "arrowhead": 0,
           "arrowwidth": 1
          },
          "autotypenumbers": "strict",
          "coloraxis": {
           "colorbar": {
            "outlinewidth": 0,
            "ticks": ""
           }
          },
          "colorscale": {
           "diverging": [
            [
             0,
             "#8e0152"
            ],
            [
             0.1,
             "#c51b7d"
            ],
            [
             0.2,
             "#de77ae"
            ],
            [
             0.3,
             "#f1b6da"
            ],
            [
             0.4,
             "#fde0ef"
            ],
            [
             0.5,
             "#f7f7f7"
            ],
            [
             0.6,
             "#e6f5d0"
            ],
            [
             0.7,
             "#b8e186"
            ],
            [
             0.8,
             "#7fbc41"
            ],
            [
             0.9,
             "#4d9221"
            ],
            [
             1,
             "#276419"
            ]
           ],
           "sequential": [
            [
             0,
             "#0d0887"
            ],
            [
             0.1111111111111111,
             "#46039f"
            ],
            [
             0.2222222222222222,
             "#7201a8"
            ],
            [
             0.3333333333333333,
             "#9c179e"
            ],
            [
             0.4444444444444444,
             "#bd3786"
            ],
            [
             0.5555555555555556,
             "#d8576b"
            ],
            [
             0.6666666666666666,
             "#ed7953"
            ],
            [
             0.7777777777777778,
             "#fb9f3a"
            ],
            [
             0.8888888888888888,
             "#fdca26"
            ],
            [
             1,
             "#f0f921"
            ]
           ],
           "sequentialminus": [
            [
             0,
             "#0d0887"
            ],
            [
             0.1111111111111111,
             "#46039f"
            ],
            [
             0.2222222222222222,
             "#7201a8"
            ],
            [
             0.3333333333333333,
             "#9c179e"
            ],
            [
             0.4444444444444444,
             "#bd3786"
            ],
            [
             0.5555555555555556,
             "#d8576b"
            ],
            [
             0.6666666666666666,
             "#ed7953"
            ],
            [
             0.7777777777777778,
             "#fb9f3a"
            ],
            [
             0.8888888888888888,
             "#fdca26"
            ],
            [
             1,
             "#f0f921"
            ]
           ]
          },
          "colorway": [
           "#636efa",
           "#EF553B",
           "#00cc96",
           "#ab63fa",
           "#FFA15A",
           "#19d3f3",
           "#FF6692",
           "#B6E880",
           "#FF97FF",
           "#FECB52"
          ],
          "font": {
           "color": "#2a3f5f"
          },
          "geo": {
           "bgcolor": "white",
           "lakecolor": "white",
           "landcolor": "#E5ECF6",
           "showlakes": true,
           "showland": true,
           "subunitcolor": "white"
          },
          "hoverlabel": {
           "align": "left"
          },
          "hovermode": "closest",
          "mapbox": {
           "style": "light"
          },
          "paper_bgcolor": "white",
          "plot_bgcolor": "#E5ECF6",
          "polar": {
           "angularaxis": {
            "gridcolor": "white",
            "linecolor": "white",
            "ticks": ""
           },
           "bgcolor": "#E5ECF6",
           "radialaxis": {
            "gridcolor": "white",
            "linecolor": "white",
            "ticks": ""
           }
          },
          "scene": {
           "xaxis": {
            "backgroundcolor": "#E5ECF6",
            "gridcolor": "white",
            "gridwidth": 2,
            "linecolor": "white",
            "showbackground": true,
            "ticks": "",
            "zerolinecolor": "white"
           },
           "yaxis": {
            "backgroundcolor": "#E5ECF6",
            "gridcolor": "white",
            "gridwidth": 2,
            "linecolor": "white",
            "showbackground": true,
            "ticks": "",
            "zerolinecolor": "white"
           },
           "zaxis": {
            "backgroundcolor": "#E5ECF6",
            "gridcolor": "white",
            "gridwidth": 2,
            "linecolor": "white",
            "showbackground": true,
            "ticks": "",
            "zerolinecolor": "white"
           }
          },
          "shapedefaults": {
           "line": {
            "color": "#2a3f5f"
           }
          },
          "ternary": {
           "aaxis": {
            "gridcolor": "white",
            "linecolor": "white",
            "ticks": ""
           },
           "baxis": {
            "gridcolor": "white",
            "linecolor": "white",
            "ticks": ""
           },
           "bgcolor": "#E5ECF6",
           "caxis": {
            "gridcolor": "white",
            "linecolor": "white",
            "ticks": ""
           }
          },
          "title": {
           "x": 0.05
          },
          "xaxis": {
           "automargin": true,
           "gridcolor": "white",
           "linecolor": "white",
           "ticks": "",
           "title": {
            "standoff": 15
           },
           "zerolinecolor": "white",
           "zerolinewidth": 2
          },
          "yaxis": {
           "automargin": true,
           "gridcolor": "white",
           "linecolor": "white",
           "ticks": "",
           "title": {
            "standoff": 15
           },
           "zerolinecolor": "white",
           "zerolinewidth": 2
          }
         }
        },
        "title": {
         "text": "Station (A4260511) BiMonthly Maximum Water Course Levels with Structure Crest Height"
        },
        "xaxis": {
         "tickformat": "%d %B (%a)<br>%y",
         "title": {
          "text": "Time"
         }
        },
        "yaxis": {
         "title": {
          "text": "Heights (meter)"
         }
        }
       }
      }
     },
     "metadata": {},
     "output_type": "display_data"
    },
    {
     "name": "stderr",
     "output_type": "stream",
     "text": [
      "c:\\office12\\bomwater-notebook\\.venv\\lib\\site-packages\\xarray\\core\\variable.py:305: UnitStrippedWarning:\n",
      "\n",
      "The unit of the quantity is stripped when downcasting to ndarray.\n",
      "\n"
     ]
    },
    {
     "data": {
      "application/vnd.plotly.v1+json": {
       "config": {
        "plotlyServerURL": "https://plot.ly"
       },
       "data": [
        {
         "line": {
          "shape": "linear"
         },
         "mode": "lines",
         "name": "Water Course Level meter",
         "type": "scatter",
         "x": [
          "2008-05-01T00:00:00.000000000",
          "2008-07-01T00:00:00.000000000",
          "2008-09-01T00:00:00.000000000",
          "2008-11-01T00:00:00.000000000",
          "2009-01-01T00:00:00.000000000",
          "2009-03-01T00:00:00.000000000",
          "2009-05-01T00:00:00.000000000",
          "2009-07-01T00:00:00.000000000",
          "2009-09-01T00:00:00.000000000",
          "2009-11-01T00:00:00.000000000",
          "2010-01-01T00:00:00.000000000",
          "2010-03-01T00:00:00.000000000",
          "2010-05-01T00:00:00.000000000",
          "2010-07-01T00:00:00.000000000",
          "2010-09-01T00:00:00.000000000",
          "2010-11-01T00:00:00.000000000",
          "2011-01-01T00:00:00.000000000",
          "2011-03-01T00:00:00.000000000",
          "2011-05-01T00:00:00.000000000",
          "2011-07-01T00:00:00.000000000",
          "2011-09-01T00:00:00.000000000",
          "2011-11-01T00:00:00.000000000",
          "2012-01-01T00:00:00.000000000",
          "2012-03-01T00:00:00.000000000",
          "2012-05-01T00:00:00.000000000",
          "2012-07-01T00:00:00.000000000",
          "2012-09-01T00:00:00.000000000",
          "2012-11-01T00:00:00.000000000",
          "2013-01-01T00:00:00.000000000",
          "2013-03-01T00:00:00.000000000",
          "2013-05-01T00:00:00.000000000",
          "2013-07-01T00:00:00.000000000",
          "2013-09-01T00:00:00.000000000",
          "2013-11-01T00:00:00.000000000",
          "2014-01-01T00:00:00.000000000",
          "2014-03-01T00:00:00.000000000",
          "2014-05-01T00:00:00.000000000",
          "2014-07-01T00:00:00.000000000",
          "2014-09-01T00:00:00.000000000",
          "2014-11-01T00:00:00.000000000",
          "2015-01-01T00:00:00.000000000",
          "2015-03-01T00:00:00.000000000",
          "2015-05-01T00:00:00.000000000",
          "2015-07-01T00:00:00.000000000",
          "2015-09-01T00:00:00.000000000",
          "2015-11-01T00:00:00.000000000",
          "2016-01-01T00:00:00.000000000",
          "2016-03-01T00:00:00.000000000",
          "2016-05-01T00:00:00.000000000",
          "2016-07-01T00:00:00.000000000",
          "2016-09-01T00:00:00.000000000",
          "2016-11-01T00:00:00.000000000",
          "2017-01-01T00:00:00.000000000",
          "2017-03-01T00:00:00.000000000",
          "2017-05-01T00:00:00.000000000",
          "2017-07-01T00:00:00.000000000",
          "2017-09-01T00:00:00.000000000",
          "2017-11-01T00:00:00.000000000",
          "2018-01-01T00:00:00.000000000",
          "2018-03-01T00:00:00.000000000",
          "2018-05-01T00:00:00.000000000",
          "2018-07-01T00:00:00.000000000",
          "2018-09-01T00:00:00.000000000",
          "2018-11-01T00:00:00.000000000",
          "2019-01-01T00:00:00.000000000",
          "2019-03-01T00:00:00.000000000",
          "2019-05-01T00:00:00.000000000",
          "2019-07-01T00:00:00.000000000",
          "2019-09-01T00:00:00.000000000",
          "2019-11-01T00:00:00.000000000",
          "2020-01-01T00:00:00.000000000",
          "2020-03-01T00:00:00.000000000",
          "2020-05-01T00:00:00.000000000",
          "2020-07-01T00:00:00.000000000",
          "2020-09-01T00:00:00.000000000",
          "2020-11-01T00:00:00.000000000",
          "2021-01-01T00:00:00.000000000",
          "2021-03-01T00:00:00.000000000",
          "2021-05-01T00:00:00.000000000",
          "2021-07-01T00:00:00.000000000",
          "2021-09-01T00:00:00.000000000",
          "2021-11-01T00:00:00.000000000"
         ],
         "y": [
          20.692,
          19.692,
          19.963,
          20.067,
          20.182,
          19.997,
          19.598,
          19.522,
          19.786,
          20.311,
          20.778,
          20.737,
          20.576,
          20.914,
          23,
          24.375,
          null,
          null,
          22.775,
          23.531,
          23.261,
          22.557,
          22.562,
          23.566,
          22.084,
          23.686,
          23.875,
          22.151,
          21.131,
          20.892,
          20.181,
          22.047,
          22.582,
          21.474,
          21.035,
          20.771,
          19.99,
          21.869,
          20.859,
          20.927,
          20.946,
          20.878,
          20.25,
          20.817,
          21.165,
          20.894,
          20.972,
          20.727,
          19.911,
          22.985,
          23.363,
          null,
          21.756,
          21.037,
          20.976,
          21.166,
          20.949,
          21.876,
          21.048,
          20.564,
          20.216,
          21.021,
          20.959,
          21.192,
          21.141,
          20.851,
          20.09,
          21.007,
          21.604,
          20.637,
          20.717,
          20.373,
          20.387,
          21.432,
          21.157,
          21.861,
          20.849,
          20.424,
          20.666,
          22.488,
          23.046,
          23.379
         ]
        },
        {
         "line": {
          "shape": "linear"
         },
         "mode": "lines",
         "name": "Heights meter",
         "type": "scatter",
         "x": [
          "2008-05-01T00:00:00.000000000",
          "2008-07-01T00:00:00.000000000",
          "2008-09-01T00:00:00.000000000",
          "2008-11-01T00:00:00.000000000",
          "2009-01-01T00:00:00.000000000",
          "2009-03-01T00:00:00.000000000",
          "2009-05-01T00:00:00.000000000",
          "2009-07-01T00:00:00.000000000",
          "2009-09-01T00:00:00.000000000",
          "2009-11-01T00:00:00.000000000",
          "2010-01-01T00:00:00.000000000",
          "2010-03-01T00:00:00.000000000",
          "2010-05-01T00:00:00.000000000",
          "2010-07-01T00:00:00.000000000",
          "2010-09-01T00:00:00.000000000",
          "2010-11-01T00:00:00.000000000",
          "2011-01-01T00:00:00.000000000",
          "2011-03-01T00:00:00.000000000",
          "2011-05-01T00:00:00.000000000",
          "2011-07-01T00:00:00.000000000",
          "2011-09-01T00:00:00.000000000",
          "2011-11-01T00:00:00.000000000",
          "2012-01-01T00:00:00.000000000",
          "2012-03-01T00:00:00.000000000",
          "2012-05-01T00:00:00.000000000",
          "2012-07-01T00:00:00.000000000",
          "2012-09-01T00:00:00.000000000",
          "2012-11-01T00:00:00.000000000",
          "2013-01-01T00:00:00.000000000",
          "2013-03-01T00:00:00.000000000",
          "2013-05-01T00:00:00.000000000",
          "2013-07-01T00:00:00.000000000",
          "2013-09-01T00:00:00.000000000",
          "2013-11-01T00:00:00.000000000",
          "2014-01-01T00:00:00.000000000",
          "2014-03-01T00:00:00.000000000",
          "2014-05-01T00:00:00.000000000",
          "2014-07-01T00:00:00.000000000",
          "2014-09-01T00:00:00.000000000",
          "2014-11-01T00:00:00.000000000",
          "2015-01-01T00:00:00.000000000",
          "2015-03-01T00:00:00.000000000",
          "2015-05-01T00:00:00.000000000",
          "2015-07-01T00:00:00.000000000",
          "2015-09-01T00:00:00.000000000",
          "2015-11-01T00:00:00.000000000",
          "2016-01-01T00:00:00.000000000",
          "2016-03-01T00:00:00.000000000",
          "2016-05-01T00:00:00.000000000",
          "2016-07-01T00:00:00.000000000",
          "2016-09-01T00:00:00.000000000",
          "2016-11-01T00:00:00.000000000",
          "2017-01-01T00:00:00.000000000",
          "2017-03-01T00:00:00.000000000",
          "2017-05-01T00:00:00.000000000",
          "2017-07-01T00:00:00.000000000",
          "2017-09-01T00:00:00.000000000",
          "2017-11-01T00:00:00.000000000",
          "2018-01-01T00:00:00.000000000",
          "2018-03-01T00:00:00.000000000",
          "2018-05-01T00:00:00.000000000",
          "2018-07-01T00:00:00.000000000",
          "2018-09-01T00:00:00.000000000",
          "2018-11-01T00:00:00.000000000",
          "2019-01-01T00:00:00.000000000",
          "2019-03-01T00:00:00.000000000",
          "2019-05-01T00:00:00.000000000",
          "2019-07-01T00:00:00.000000000",
          "2019-09-01T00:00:00.000000000",
          "2019-11-01T00:00:00.000000000",
          "2020-01-01T00:00:00.000000000",
          "2020-03-01T00:00:00.000000000",
          "2020-05-01T00:00:00.000000000",
          "2020-07-01T00:00:00.000000000",
          "2020-09-01T00:00:00.000000000",
          "2020-11-01T00:00:00.000000000",
          "2021-01-01T00:00:00.000000000",
          "2021-03-01T00:00:00.000000000",
          "2021-05-01T00:00:00.000000000",
          "2021-07-01T00:00:00.000000000",
          "2021-09-01T00:00:00.000000000",
          "2021-11-01T00:00:00.000000000"
         ],
         "y": [
          22.1,
          22.1,
          22.1,
          22.1,
          22.1,
          22.1,
          22.1,
          22.1,
          22.1,
          22.1,
          22.1,
          22.1,
          22.1,
          22.1,
          22.1,
          22.1,
          22.1,
          22.1,
          22.1,
          22.1,
          22.1,
          22.1,
          22.1,
          22.1,
          22.1,
          22.1,
          22.1,
          22.1,
          22.1,
          22.1,
          22.1,
          22.1,
          22.1,
          22.1,
          22.1,
          22.1,
          22.1,
          22.1,
          22.1,
          22.1,
          22.1,
          22.1,
          22.1,
          22.1,
          22.1,
          22.1,
          22.1,
          22.1,
          22.1,
          22.1,
          22.1,
          22.1,
          22.1,
          22.1,
          22.1,
          22.1,
          22.1,
          22.1,
          22.1,
          22.1,
          22.1,
          22.1,
          22.1,
          22.1,
          22.1,
          22.1,
          22.1,
          22.1,
          22.1,
          22.1,
          22.1,
          22.1,
          22.1,
          22.1,
          22.1,
          22.1,
          22.1,
          22.1,
          22.1,
          22.1,
          22.1,
          22.1
         ]
        }
       ],
       "layout": {
        "template": {
         "data": {
          "bar": [
           {
            "error_x": {
             "color": "#2a3f5f"
            },
            "error_y": {
             "color": "#2a3f5f"
            },
            "marker": {
             "line": {
              "color": "#E5ECF6",
              "width": 0.5
             },
             "pattern": {
              "fillmode": "overlay",
              "size": 10,
              "solidity": 0.2
             }
            },
            "type": "bar"
           }
          ],
          "barpolar": [
           {
            "marker": {
             "line": {
              "color": "#E5ECF6",
              "width": 0.5
             },
             "pattern": {
              "fillmode": "overlay",
              "size": 10,
              "solidity": 0.2
             }
            },
            "type": "barpolar"
           }
          ],
          "carpet": [
           {
            "aaxis": {
             "endlinecolor": "#2a3f5f",
             "gridcolor": "white",
             "linecolor": "white",
             "minorgridcolor": "white",
             "startlinecolor": "#2a3f5f"
            },
            "baxis": {
             "endlinecolor": "#2a3f5f",
             "gridcolor": "white",
             "linecolor": "white",
             "minorgridcolor": "white",
             "startlinecolor": "#2a3f5f"
            },
            "type": "carpet"
           }
          ],
          "choropleth": [
           {
            "colorbar": {
             "outlinewidth": 0,
             "ticks": ""
            },
            "type": "choropleth"
           }
          ],
          "contour": [
           {
            "colorbar": {
             "outlinewidth": 0,
             "ticks": ""
            },
            "colorscale": [
             [
              0,
              "#0d0887"
             ],
             [
              0.1111111111111111,
              "#46039f"
             ],
             [
              0.2222222222222222,
              "#7201a8"
             ],
             [
              0.3333333333333333,
              "#9c179e"
             ],
             [
              0.4444444444444444,
              "#bd3786"
             ],
             [
              0.5555555555555556,
              "#d8576b"
             ],
             [
              0.6666666666666666,
              "#ed7953"
             ],
             [
              0.7777777777777778,
              "#fb9f3a"
             ],
             [
              0.8888888888888888,
              "#fdca26"
             ],
             [
              1,
              "#f0f921"
             ]
            ],
            "type": "contour"
           }
          ],
          "contourcarpet": [
           {
            "colorbar": {
             "outlinewidth": 0,
             "ticks": ""
            },
            "type": "contourcarpet"
           }
          ],
          "heatmap": [
           {
            "colorbar": {
             "outlinewidth": 0,
             "ticks": ""
            },
            "colorscale": [
             [
              0,
              "#0d0887"
             ],
             [
              0.1111111111111111,
              "#46039f"
             ],
             [
              0.2222222222222222,
              "#7201a8"
             ],
             [
              0.3333333333333333,
              "#9c179e"
             ],
             [
              0.4444444444444444,
              "#bd3786"
             ],
             [
              0.5555555555555556,
              "#d8576b"
             ],
             [
              0.6666666666666666,
              "#ed7953"
             ],
             [
              0.7777777777777778,
              "#fb9f3a"
             ],
             [
              0.8888888888888888,
              "#fdca26"
             ],
             [
              1,
              "#f0f921"
             ]
            ],
            "type": "heatmap"
           }
          ],
          "heatmapgl": [
           {
            "colorbar": {
             "outlinewidth": 0,
             "ticks": ""
            },
            "colorscale": [
             [
              0,
              "#0d0887"
             ],
             [
              0.1111111111111111,
              "#46039f"
             ],
             [
              0.2222222222222222,
              "#7201a8"
             ],
             [
              0.3333333333333333,
              "#9c179e"
             ],
             [
              0.4444444444444444,
              "#bd3786"
             ],
             [
              0.5555555555555556,
              "#d8576b"
             ],
             [
              0.6666666666666666,
              "#ed7953"
             ],
             [
              0.7777777777777778,
              "#fb9f3a"
             ],
             [
              0.8888888888888888,
              "#fdca26"
             ],
             [
              1,
              "#f0f921"
             ]
            ],
            "type": "heatmapgl"
           }
          ],
          "histogram": [
           {
            "marker": {
             "pattern": {
              "fillmode": "overlay",
              "size": 10,
              "solidity": 0.2
             }
            },
            "type": "histogram"
           }
          ],
          "histogram2d": [
           {
            "colorbar": {
             "outlinewidth": 0,
             "ticks": ""
            },
            "colorscale": [
             [
              0,
              "#0d0887"
             ],
             [
              0.1111111111111111,
              "#46039f"
             ],
             [
              0.2222222222222222,
              "#7201a8"
             ],
             [
              0.3333333333333333,
              "#9c179e"
             ],
             [
              0.4444444444444444,
              "#bd3786"
             ],
             [
              0.5555555555555556,
              "#d8576b"
             ],
             [
              0.6666666666666666,
              "#ed7953"
             ],
             [
              0.7777777777777778,
              "#fb9f3a"
             ],
             [
              0.8888888888888888,
              "#fdca26"
             ],
             [
              1,
              "#f0f921"
             ]
            ],
            "type": "histogram2d"
           }
          ],
          "histogram2dcontour": [
           {
            "colorbar": {
             "outlinewidth": 0,
             "ticks": ""
            },
            "colorscale": [
             [
              0,
              "#0d0887"
             ],
             [
              0.1111111111111111,
              "#46039f"
             ],
             [
              0.2222222222222222,
              "#7201a8"
             ],
             [
              0.3333333333333333,
              "#9c179e"
             ],
             [
              0.4444444444444444,
              "#bd3786"
             ],
             [
              0.5555555555555556,
              "#d8576b"
             ],
             [
              0.6666666666666666,
              "#ed7953"
             ],
             [
              0.7777777777777778,
              "#fb9f3a"
             ],
             [
              0.8888888888888888,
              "#fdca26"
             ],
             [
              1,
              "#f0f921"
             ]
            ],
            "type": "histogram2dcontour"
           }
          ],
          "mesh3d": [
           {
            "colorbar": {
             "outlinewidth": 0,
             "ticks": ""
            },
            "type": "mesh3d"
           }
          ],
          "parcoords": [
           {
            "line": {
             "colorbar": {
              "outlinewidth": 0,
              "ticks": ""
             }
            },
            "type": "parcoords"
           }
          ],
          "pie": [
           {
            "automargin": true,
            "type": "pie"
           }
          ],
          "scatter": [
           {
            "fillpattern": {
             "fillmode": "overlay",
             "size": 10,
             "solidity": 0.2
            },
            "type": "scatter"
           }
          ],
          "scatter3d": [
           {
            "line": {
             "colorbar": {
              "outlinewidth": 0,
              "ticks": ""
             }
            },
            "marker": {
             "colorbar": {
              "outlinewidth": 0,
              "ticks": ""
             }
            },
            "type": "scatter3d"
           }
          ],
          "scattercarpet": [
           {
            "marker": {
             "colorbar": {
              "outlinewidth": 0,
              "ticks": ""
             }
            },
            "type": "scattercarpet"
           }
          ],
          "scattergeo": [
           {
            "marker": {
             "colorbar": {
              "outlinewidth": 0,
              "ticks": ""
             }
            },
            "type": "scattergeo"
           }
          ],
          "scattergl": [
           {
            "marker": {
             "colorbar": {
              "outlinewidth": 0,
              "ticks": ""
             }
            },
            "type": "scattergl"
           }
          ],
          "scattermapbox": [
           {
            "marker": {
             "colorbar": {
              "outlinewidth": 0,
              "ticks": ""
             }
            },
            "type": "scattermapbox"
           }
          ],
          "scatterpolar": [
           {
            "marker": {
             "colorbar": {
              "outlinewidth": 0,
              "ticks": ""
             }
            },
            "type": "scatterpolar"
           }
          ],
          "scatterpolargl": [
           {
            "marker": {
             "colorbar": {
              "outlinewidth": 0,
              "ticks": ""
             }
            },
            "type": "scatterpolargl"
           }
          ],
          "scatterternary": [
           {
            "marker": {
             "colorbar": {
              "outlinewidth": 0,
              "ticks": ""
             }
            },
            "type": "scatterternary"
           }
          ],
          "surface": [
           {
            "colorbar": {
             "outlinewidth": 0,
             "ticks": ""
            },
            "colorscale": [
             [
              0,
              "#0d0887"
             ],
             [
              0.1111111111111111,
              "#46039f"
             ],
             [
              0.2222222222222222,
              "#7201a8"
             ],
             [
              0.3333333333333333,
              "#9c179e"
             ],
             [
              0.4444444444444444,
              "#bd3786"
             ],
             [
              0.5555555555555556,
              "#d8576b"
             ],
             [
              0.6666666666666666,
              "#ed7953"
             ],
             [
              0.7777777777777778,
              "#fb9f3a"
             ],
             [
              0.8888888888888888,
              "#fdca26"
             ],
             [
              1,
              "#f0f921"
             ]
            ],
            "type": "surface"
           }
          ],
          "table": [
           {
            "cells": {
             "fill": {
              "color": "#EBF0F8"
             },
             "line": {
              "color": "white"
             }
            },
            "header": {
             "fill": {
              "color": "#C8D4E3"
             },
             "line": {
              "color": "white"
             }
            },
            "type": "table"
           }
          ]
         },
         "layout": {
          "annotationdefaults": {
           "arrowcolor": "#2a3f5f",
           "arrowhead": 0,
           "arrowwidth": 1
          },
          "autotypenumbers": "strict",
          "coloraxis": {
           "colorbar": {
            "outlinewidth": 0,
            "ticks": ""
           }
          },
          "colorscale": {
           "diverging": [
            [
             0,
             "#8e0152"
            ],
            [
             0.1,
             "#c51b7d"
            ],
            [
             0.2,
             "#de77ae"
            ],
            [
             0.3,
             "#f1b6da"
            ],
            [
             0.4,
             "#fde0ef"
            ],
            [
             0.5,
             "#f7f7f7"
            ],
            [
             0.6,
             "#e6f5d0"
            ],
            [
             0.7,
             "#b8e186"
            ],
            [
             0.8,
             "#7fbc41"
            ],
            [
             0.9,
             "#4d9221"
            ],
            [
             1,
             "#276419"
            ]
           ],
           "sequential": [
            [
             0,
             "#0d0887"
            ],
            [
             0.1111111111111111,
             "#46039f"
            ],
            [
             0.2222222222222222,
             "#7201a8"
            ],
            [
             0.3333333333333333,
             "#9c179e"
            ],
            [
             0.4444444444444444,
             "#bd3786"
            ],
            [
             0.5555555555555556,
             "#d8576b"
            ],
            [
             0.6666666666666666,
             "#ed7953"
            ],
            [
             0.7777777777777778,
             "#fb9f3a"
            ],
            [
             0.8888888888888888,
             "#fdca26"
            ],
            [
             1,
             "#f0f921"
            ]
           ],
           "sequentialminus": [
            [
             0,
             "#0d0887"
            ],
            [
             0.1111111111111111,
             "#46039f"
            ],
            [
             0.2222222222222222,
             "#7201a8"
            ],
            [
             0.3333333333333333,
             "#9c179e"
            ],
            [
             0.4444444444444444,
             "#bd3786"
            ],
            [
             0.5555555555555556,
             "#d8576b"
            ],
            [
             0.6666666666666666,
             "#ed7953"
            ],
            [
             0.7777777777777778,
             "#fb9f3a"
            ],
            [
             0.8888888888888888,
             "#fdca26"
            ],
            [
             1,
             "#f0f921"
            ]
           ]
          },
          "colorway": [
           "#636efa",
           "#EF553B",
           "#00cc96",
           "#ab63fa",
           "#FFA15A",
           "#19d3f3",
           "#FF6692",
           "#B6E880",
           "#FF97FF",
           "#FECB52"
          ],
          "font": {
           "color": "#2a3f5f"
          },
          "geo": {
           "bgcolor": "white",
           "lakecolor": "white",
           "landcolor": "#E5ECF6",
           "showlakes": true,
           "showland": true,
           "subunitcolor": "white"
          },
          "hoverlabel": {
           "align": "left"
          },
          "hovermode": "closest",
          "mapbox": {
           "style": "light"
          },
          "paper_bgcolor": "white",
          "plot_bgcolor": "#E5ECF6",
          "polar": {
           "angularaxis": {
            "gridcolor": "white",
            "linecolor": "white",
            "ticks": ""
           },
           "bgcolor": "#E5ECF6",
           "radialaxis": {
            "gridcolor": "white",
            "linecolor": "white",
            "ticks": ""
           }
          },
          "scene": {
           "xaxis": {
            "backgroundcolor": "#E5ECF6",
            "gridcolor": "white",
            "gridwidth": 2,
            "linecolor": "white",
            "showbackground": true,
            "ticks": "",
            "zerolinecolor": "white"
           },
           "yaxis": {
            "backgroundcolor": "#E5ECF6",
            "gridcolor": "white",
            "gridwidth": 2,
            "linecolor": "white",
            "showbackground": true,
            "ticks": "",
            "zerolinecolor": "white"
           },
           "zaxis": {
            "backgroundcolor": "#E5ECF6",
            "gridcolor": "white",
            "gridwidth": 2,
            "linecolor": "white",
            "showbackground": true,
            "ticks": "",
            "zerolinecolor": "white"
           }
          },
          "shapedefaults": {
           "line": {
            "color": "#2a3f5f"
           }
          },
          "ternary": {
           "aaxis": {
            "gridcolor": "white",
            "linecolor": "white",
            "ticks": ""
           },
           "baxis": {
            "gridcolor": "white",
            "linecolor": "white",
            "ticks": ""
           },
           "bgcolor": "#E5ECF6",
           "caxis": {
            "gridcolor": "white",
            "linecolor": "white",
            "ticks": ""
           }
          },
          "title": {
           "x": 0.05
          },
          "xaxis": {
           "automargin": true,
           "gridcolor": "white",
           "linecolor": "white",
           "ticks": "",
           "title": {
            "standoff": 15
           },
           "zerolinecolor": "white",
           "zerolinewidth": 2
          },
          "yaxis": {
           "automargin": true,
           "gridcolor": "white",
           "linecolor": "white",
           "ticks": "",
           "title": {
            "standoff": 15
           },
           "zerolinecolor": "white",
           "zerolinewidth": 2
          }
         }
        },
        "title": {
         "text": "Station (A4260509) BiMonthly Maximum Water Course Levels with Structure Crest Height"
        },
        "xaxis": {
         "tickformat": "%d %B (%a)<br>%y",
         "title": {
          "text": "Time"
         }
        },
        "yaxis": {
         "title": {
          "text": "Heights (meter)"
         }
        }
       }
      }
     },
     "metadata": {},
     "output_type": "display_data"
    },
    {
     "name": "stderr",
     "output_type": "stream",
     "text": [
      "c:\\office12\\bomwater-notebook\\.venv\\lib\\site-packages\\xarray\\core\\variable.py:305: UnitStrippedWarning:\n",
      "\n",
      "The unit of the quantity is stripped when downcasting to ndarray.\n",
      "\n"
     ]
    },
    {
     "data": {
      "application/vnd.plotly.v1+json": {
       "config": {
        "plotlyServerURL": "https://plot.ly"
       },
       "data": [
        {
         "line": {
          "shape": "linear"
         },
         "mode": "lines",
         "name": "Water Course Level meter",
         "type": "scatter",
         "x": [
          "2009-02-01T00:00:00.000000000",
          "2009-04-01T00:00:00.000000000",
          "2009-06-01T00:00:00.000000000",
          "2009-08-01T00:00:00.000000000",
          "2009-10-01T00:00:00.000000000",
          "2009-12-01T00:00:00.000000000",
          "2010-02-01T00:00:00.000000000",
          "2010-04-01T00:00:00.000000000",
          "2010-06-01T00:00:00.000000000",
          "2010-08-01T00:00:00.000000000",
          "2010-10-01T00:00:00.000000000",
          "2010-12-01T00:00:00.000000000",
          "2011-02-01T00:00:00.000000000",
          "2011-04-01T00:00:00.000000000",
          "2011-06-01T00:00:00.000000000",
          "2011-08-01T00:00:00.000000000",
          "2011-10-01T00:00:00.000000000",
          "2011-12-01T00:00:00.000000000",
          "2012-02-01T00:00:00.000000000",
          "2012-04-01T00:00:00.000000000",
          "2012-06-01T00:00:00.000000000",
          "2012-08-01T00:00:00.000000000",
          "2012-10-01T00:00:00.000000000",
          "2012-12-01T00:00:00.000000000",
          "2013-02-01T00:00:00.000000000",
          "2013-04-01T00:00:00.000000000",
          "2013-06-01T00:00:00.000000000",
          "2013-08-01T00:00:00.000000000",
          "2013-10-01T00:00:00.000000000",
          "2013-12-01T00:00:00.000000000",
          "2014-02-01T00:00:00.000000000",
          "2014-04-01T00:00:00.000000000",
          "2014-06-01T00:00:00.000000000",
          "2014-08-01T00:00:00.000000000",
          "2014-10-01T00:00:00.000000000",
          "2014-12-01T00:00:00.000000000",
          "2015-02-01T00:00:00.000000000",
          "2015-04-01T00:00:00.000000000",
          "2015-06-01T00:00:00.000000000",
          "2015-08-01T00:00:00.000000000",
          "2015-10-01T00:00:00.000000000",
          "2015-12-01T00:00:00.000000000",
          "2016-02-01T00:00:00.000000000",
          "2016-04-01T00:00:00.000000000",
          "2016-06-01T00:00:00.000000000",
          "2016-08-01T00:00:00.000000000",
          "2016-10-01T00:00:00.000000000",
          "2016-12-01T00:00:00.000000000",
          "2017-02-01T00:00:00.000000000",
          "2017-04-01T00:00:00.000000000",
          "2017-06-01T00:00:00.000000000",
          "2017-08-01T00:00:00.000000000",
          "2017-10-01T00:00:00.000000000",
          "2017-12-01T00:00:00.000000000",
          "2018-02-01T00:00:00.000000000",
          "2018-04-01T00:00:00.000000000",
          "2018-06-01T00:00:00.000000000",
          "2018-08-01T00:00:00.000000000",
          "2018-10-01T00:00:00.000000000",
          "2018-12-01T00:00:00.000000000",
          "2019-02-01T00:00:00.000000000",
          "2019-04-01T00:00:00.000000000",
          "2019-06-01T00:00:00.000000000",
          "2019-08-01T00:00:00.000000000",
          "2019-10-01T00:00:00.000000000",
          "2019-12-01T00:00:00.000000000",
          "2020-02-01T00:00:00.000000000",
          "2020-04-01T00:00:00.000000000",
          "2020-06-01T00:00:00.000000000",
          "2020-08-01T00:00:00.000000000",
          "2020-10-01T00:00:00.000000000",
          "2020-12-01T00:00:00.000000000",
          "2021-02-01T00:00:00.000000000",
          "2021-04-01T00:00:00.000000000",
          "2021-06-01T00:00:00.000000000",
          "2021-08-01T00:00:00.000000000",
          "2021-10-01T00:00:00.000000000",
          "2021-12-01T00:00:00.000000000"
         ],
         "y": [
          22.697,
          22.588,
          22.259,
          22.269,
          23.073,
          23.344,
          23.957,
          22.767,
          22.823,
          24.271,
          25.729,
          26.519,
          26.67,
          25.756,
          24.182,
          24.826,
          23.572,
          23.584,
          25.529,
          25.78,
          24.578,
          25.321,
          25.265,
          23.208,
          22.315,
          22.406,
          22.249,
          23.447,
          23.454,
          22.795,
          22.569,
          22.381,
          22.931,
          23.167,
          22.484,
          22.547,
          22.358,
          22.405,
          22.401,
          22.946,
          22.927,
          22.793,
          22.124,
          22.257,
          23.613,
          24.75,
          25.9,
          22.734,
          22.434,
          22.382,
          22.523,
          22.757,
          22.886,
          22.894,
          22.469,
          22.174,
          22.468,
          22.387,
          22.711,
          22.549,
          22.072,
          22.118,
          22.431,
          22.882,
          23.181,
          22.255,
          21.878,
          22.13,
          22.817,
          22.608,
          22.714,
          22.592,
          21.943,
          22.779,
          22.957,
          24.17,
          24.645,
          24.737
         ]
        },
        {
         "line": {
          "shape": "linear"
         },
         "mode": "lines",
         "name": "Heights meter",
         "type": "scatter",
         "x": [
          "2009-02-01T00:00:00.000000000",
          "2009-04-01T00:00:00.000000000",
          "2009-06-01T00:00:00.000000000",
          "2009-08-01T00:00:00.000000000",
          "2009-10-01T00:00:00.000000000",
          "2009-12-01T00:00:00.000000000",
          "2010-02-01T00:00:00.000000000",
          "2010-04-01T00:00:00.000000000",
          "2010-06-01T00:00:00.000000000",
          "2010-08-01T00:00:00.000000000",
          "2010-10-01T00:00:00.000000000",
          "2010-12-01T00:00:00.000000000",
          "2011-02-01T00:00:00.000000000",
          "2011-04-01T00:00:00.000000000",
          "2011-06-01T00:00:00.000000000",
          "2011-08-01T00:00:00.000000000",
          "2011-10-01T00:00:00.000000000",
          "2011-12-01T00:00:00.000000000",
          "2012-02-01T00:00:00.000000000",
          "2012-04-01T00:00:00.000000000",
          "2012-06-01T00:00:00.000000000",
          "2012-08-01T00:00:00.000000000",
          "2012-10-01T00:00:00.000000000",
          "2012-12-01T00:00:00.000000000",
          "2013-02-01T00:00:00.000000000",
          "2013-04-01T00:00:00.000000000",
          "2013-06-01T00:00:00.000000000",
          "2013-08-01T00:00:00.000000000",
          "2013-10-01T00:00:00.000000000",
          "2013-12-01T00:00:00.000000000",
          "2014-02-01T00:00:00.000000000",
          "2014-04-01T00:00:00.000000000",
          "2014-06-01T00:00:00.000000000",
          "2014-08-01T00:00:00.000000000",
          "2014-10-01T00:00:00.000000000",
          "2014-12-01T00:00:00.000000000",
          "2015-02-01T00:00:00.000000000",
          "2015-04-01T00:00:00.000000000",
          "2015-06-01T00:00:00.000000000",
          "2015-08-01T00:00:00.000000000",
          "2015-10-01T00:00:00.000000000",
          "2015-12-01T00:00:00.000000000",
          "2016-02-01T00:00:00.000000000",
          "2016-04-01T00:00:00.000000000",
          "2016-06-01T00:00:00.000000000",
          "2016-08-01T00:00:00.000000000",
          "2016-10-01T00:00:00.000000000",
          "2016-12-01T00:00:00.000000000",
          "2017-02-01T00:00:00.000000000",
          "2017-04-01T00:00:00.000000000",
          "2017-06-01T00:00:00.000000000",
          "2017-08-01T00:00:00.000000000",
          "2017-10-01T00:00:00.000000000",
          "2017-12-01T00:00:00.000000000",
          "2018-02-01T00:00:00.000000000",
          "2018-04-01T00:00:00.000000000",
          "2018-06-01T00:00:00.000000000",
          "2018-08-01T00:00:00.000000000",
          "2018-10-01T00:00:00.000000000",
          "2018-12-01T00:00:00.000000000",
          "2019-02-01T00:00:00.000000000",
          "2019-04-01T00:00:00.000000000",
          "2019-06-01T00:00:00.000000000",
          "2019-08-01T00:00:00.000000000",
          "2019-10-01T00:00:00.000000000",
          "2019-12-01T00:00:00.000000000",
          "2020-02-01T00:00:00.000000000",
          "2020-04-01T00:00:00.000000000",
          "2020-06-01T00:00:00.000000000",
          "2020-08-01T00:00:00.000000000",
          "2020-10-01T00:00:00.000000000",
          "2020-12-01T00:00:00.000000000",
          "2021-02-01T00:00:00.000000000",
          "2021-04-01T00:00:00.000000000",
          "2021-06-01T00:00:00.000000000",
          "2021-08-01T00:00:00.000000000",
          "2021-10-01T00:00:00.000000000",
          "2021-12-01T00:00:00.000000000"
         ],
         "y": [
          24.6,
          24.6,
          24.6,
          24.6,
          24.6,
          24.6,
          24.6,
          24.6,
          24.6,
          24.6,
          24.6,
          24.6,
          24.6,
          24.6,
          24.6,
          24.6,
          24.6,
          24.6,
          24.6,
          24.6,
          24.6,
          24.6,
          24.6,
          24.6,
          24.6,
          24.6,
          24.6,
          24.6,
          24.6,
          24.6,
          24.6,
          24.6,
          24.6,
          24.6,
          24.6,
          24.6,
          24.6,
          24.6,
          24.6,
          24.6,
          24.6,
          24.6,
          24.6,
          24.6,
          24.6,
          24.6,
          24.6,
          24.6,
          24.6,
          24.6,
          24.6,
          24.6,
          24.6,
          24.6,
          24.6,
          24.6,
          24.6,
          24.6,
          24.6,
          24.6,
          24.6,
          24.6,
          24.6,
          24.6,
          24.6,
          24.6,
          24.6,
          24.6,
          24.6,
          24.6,
          24.6,
          24.6,
          24.6,
          24.6,
          24.6,
          24.6,
          24.6,
          24.6
         ]
        }
       ],
       "layout": {
        "template": {
         "data": {
          "bar": [
           {
            "error_x": {
             "color": "#2a3f5f"
            },
            "error_y": {
             "color": "#2a3f5f"
            },
            "marker": {
             "line": {
              "color": "#E5ECF6",
              "width": 0.5
             },
             "pattern": {
              "fillmode": "overlay",
              "size": 10,
              "solidity": 0.2
             }
            },
            "type": "bar"
           }
          ],
          "barpolar": [
           {
            "marker": {
             "line": {
              "color": "#E5ECF6",
              "width": 0.5
             },
             "pattern": {
              "fillmode": "overlay",
              "size": 10,
              "solidity": 0.2
             }
            },
            "type": "barpolar"
           }
          ],
          "carpet": [
           {
            "aaxis": {
             "endlinecolor": "#2a3f5f",
             "gridcolor": "white",
             "linecolor": "white",
             "minorgridcolor": "white",
             "startlinecolor": "#2a3f5f"
            },
            "baxis": {
             "endlinecolor": "#2a3f5f",
             "gridcolor": "white",
             "linecolor": "white",
             "minorgridcolor": "white",
             "startlinecolor": "#2a3f5f"
            },
            "type": "carpet"
           }
          ],
          "choropleth": [
           {
            "colorbar": {
             "outlinewidth": 0,
             "ticks": ""
            },
            "type": "choropleth"
           }
          ],
          "contour": [
           {
            "colorbar": {
             "outlinewidth": 0,
             "ticks": ""
            },
            "colorscale": [
             [
              0,
              "#0d0887"
             ],
             [
              0.1111111111111111,
              "#46039f"
             ],
             [
              0.2222222222222222,
              "#7201a8"
             ],
             [
              0.3333333333333333,
              "#9c179e"
             ],
             [
              0.4444444444444444,
              "#bd3786"
             ],
             [
              0.5555555555555556,
              "#d8576b"
             ],
             [
              0.6666666666666666,
              "#ed7953"
             ],
             [
              0.7777777777777778,
              "#fb9f3a"
             ],
             [
              0.8888888888888888,
              "#fdca26"
             ],
             [
              1,
              "#f0f921"
             ]
            ],
            "type": "contour"
           }
          ],
          "contourcarpet": [
           {
            "colorbar": {
             "outlinewidth": 0,
             "ticks": ""
            },
            "type": "contourcarpet"
           }
          ],
          "heatmap": [
           {
            "colorbar": {
             "outlinewidth": 0,
             "ticks": ""
            },
            "colorscale": [
             [
              0,
              "#0d0887"
             ],
             [
              0.1111111111111111,
              "#46039f"
             ],
             [
              0.2222222222222222,
              "#7201a8"
             ],
             [
              0.3333333333333333,
              "#9c179e"
             ],
             [
              0.4444444444444444,
              "#bd3786"
             ],
             [
              0.5555555555555556,
              "#d8576b"
             ],
             [
              0.6666666666666666,
              "#ed7953"
             ],
             [
              0.7777777777777778,
              "#fb9f3a"
             ],
             [
              0.8888888888888888,
              "#fdca26"
             ],
             [
              1,
              "#f0f921"
             ]
            ],
            "type": "heatmap"
           }
          ],
          "heatmapgl": [
           {
            "colorbar": {
             "outlinewidth": 0,
             "ticks": ""
            },
            "colorscale": [
             [
              0,
              "#0d0887"
             ],
             [
              0.1111111111111111,
              "#46039f"
             ],
             [
              0.2222222222222222,
              "#7201a8"
             ],
             [
              0.3333333333333333,
              "#9c179e"
             ],
             [
              0.4444444444444444,
              "#bd3786"
             ],
             [
              0.5555555555555556,
              "#d8576b"
             ],
             [
              0.6666666666666666,
              "#ed7953"
             ],
             [
              0.7777777777777778,
              "#fb9f3a"
             ],
             [
              0.8888888888888888,
              "#fdca26"
             ],
             [
              1,
              "#f0f921"
             ]
            ],
            "type": "heatmapgl"
           }
          ],
          "histogram": [
           {
            "marker": {
             "pattern": {
              "fillmode": "overlay",
              "size": 10,
              "solidity": 0.2
             }
            },
            "type": "histogram"
           }
          ],
          "histogram2d": [
           {
            "colorbar": {
             "outlinewidth": 0,
             "ticks": ""
            },
            "colorscale": [
             [
              0,
              "#0d0887"
             ],
             [
              0.1111111111111111,
              "#46039f"
             ],
             [
              0.2222222222222222,
              "#7201a8"
             ],
             [
              0.3333333333333333,
              "#9c179e"
             ],
             [
              0.4444444444444444,
              "#bd3786"
             ],
             [
              0.5555555555555556,
              "#d8576b"
             ],
             [
              0.6666666666666666,
              "#ed7953"
             ],
             [
              0.7777777777777778,
              "#fb9f3a"
             ],
             [
              0.8888888888888888,
              "#fdca26"
             ],
             [
              1,
              "#f0f921"
             ]
            ],
            "type": "histogram2d"
           }
          ],
          "histogram2dcontour": [
           {
            "colorbar": {
             "outlinewidth": 0,
             "ticks": ""
            },
            "colorscale": [
             [
              0,
              "#0d0887"
             ],
             [
              0.1111111111111111,
              "#46039f"
             ],
             [
              0.2222222222222222,
              "#7201a8"
             ],
             [
              0.3333333333333333,
              "#9c179e"
             ],
             [
              0.4444444444444444,
              "#bd3786"
             ],
             [
              0.5555555555555556,
              "#d8576b"
             ],
             [
              0.6666666666666666,
              "#ed7953"
             ],
             [
              0.7777777777777778,
              "#fb9f3a"
             ],
             [
              0.8888888888888888,
              "#fdca26"
             ],
             [
              1,
              "#f0f921"
             ]
            ],
            "type": "histogram2dcontour"
           }
          ],
          "mesh3d": [
           {
            "colorbar": {
             "outlinewidth": 0,
             "ticks": ""
            },
            "type": "mesh3d"
           }
          ],
          "parcoords": [
           {
            "line": {
             "colorbar": {
              "outlinewidth": 0,
              "ticks": ""
             }
            },
            "type": "parcoords"
           }
          ],
          "pie": [
           {
            "automargin": true,
            "type": "pie"
           }
          ],
          "scatter": [
           {
            "fillpattern": {
             "fillmode": "overlay",
             "size": 10,
             "solidity": 0.2
            },
            "type": "scatter"
           }
          ],
          "scatter3d": [
           {
            "line": {
             "colorbar": {
              "outlinewidth": 0,
              "ticks": ""
             }
            },
            "marker": {
             "colorbar": {
              "outlinewidth": 0,
              "ticks": ""
             }
            },
            "type": "scatter3d"
           }
          ],
          "scattercarpet": [
           {
            "marker": {
             "colorbar": {
              "outlinewidth": 0,
              "ticks": ""
             }
            },
            "type": "scattercarpet"
           }
          ],
          "scattergeo": [
           {
            "marker": {
             "colorbar": {
              "outlinewidth": 0,
              "ticks": ""
             }
            },
            "type": "scattergeo"
           }
          ],
          "scattergl": [
           {
            "marker": {
             "colorbar": {
              "outlinewidth": 0,
              "ticks": ""
             }
            },
            "type": "scattergl"
           }
          ],
          "scattermapbox": [
           {
            "marker": {
             "colorbar": {
              "outlinewidth": 0,
              "ticks": ""
             }
            },
            "type": "scattermapbox"
           }
          ],
          "scatterpolar": [
           {
            "marker": {
             "colorbar": {
              "outlinewidth": 0,
              "ticks": ""
             }
            },
            "type": "scatterpolar"
           }
          ],
          "scatterpolargl": [
           {
            "marker": {
             "colorbar": {
              "outlinewidth": 0,
              "ticks": ""
             }
            },
            "type": "scatterpolargl"
           }
          ],
          "scatterternary": [
           {
            "marker": {
             "colorbar": {
              "outlinewidth": 0,
              "ticks": ""
             }
            },
            "type": "scatterternary"
           }
          ],
          "surface": [
           {
            "colorbar": {
             "outlinewidth": 0,
             "ticks": ""
            },
            "colorscale": [
             [
              0,
              "#0d0887"
             ],
             [
              0.1111111111111111,
              "#46039f"
             ],
             [
              0.2222222222222222,
              "#7201a8"
             ],
             [
              0.3333333333333333,
              "#9c179e"
             ],
             [
              0.4444444444444444,
              "#bd3786"
             ],
             [
              0.5555555555555556,
              "#d8576b"
             ],
             [
              0.6666666666666666,
              "#ed7953"
             ],
             [
              0.7777777777777778,
              "#fb9f3a"
             ],
             [
              0.8888888888888888,
              "#fdca26"
             ],
             [
              1,
              "#f0f921"
             ]
            ],
            "type": "surface"
           }
          ],
          "table": [
           {
            "cells": {
             "fill": {
              "color": "#EBF0F8"
             },
             "line": {
              "color": "white"
             }
            },
            "header": {
             "fill": {
              "color": "#C8D4E3"
             },
             "line": {
              "color": "white"
             }
            },
            "type": "table"
           }
          ]
         },
         "layout": {
          "annotationdefaults": {
           "arrowcolor": "#2a3f5f",
           "arrowhead": 0,
           "arrowwidth": 1
          },
          "autotypenumbers": "strict",
          "coloraxis": {
           "colorbar": {
            "outlinewidth": 0,
            "ticks": ""
           }
          },
          "colorscale": {
           "diverging": [
            [
             0,
             "#8e0152"
            ],
            [
             0.1,
             "#c51b7d"
            ],
            [
             0.2,
             "#de77ae"
            ],
            [
             0.3,
             "#f1b6da"
            ],
            [
             0.4,
             "#fde0ef"
            ],
            [
             0.5,
             "#f7f7f7"
            ],
            [
             0.6,
             "#e6f5d0"
            ],
            [
             0.7,
             "#b8e186"
            ],
            [
             0.8,
             "#7fbc41"
            ],
            [
             0.9,
             "#4d9221"
            ],
            [
             1,
             "#276419"
            ]
           ],
           "sequential": [
            [
             0,
             "#0d0887"
            ],
            [
             0.1111111111111111,
             "#46039f"
            ],
            [
             0.2222222222222222,
             "#7201a8"
            ],
            [
             0.3333333333333333,
             "#9c179e"
            ],
            [
             0.4444444444444444,
             "#bd3786"
            ],
            [
             0.5555555555555556,
             "#d8576b"
            ],
            [
             0.6666666666666666,
             "#ed7953"
            ],
            [
             0.7777777777777778,
             "#fb9f3a"
            ],
            [
             0.8888888888888888,
             "#fdca26"
            ],
            [
             1,
             "#f0f921"
            ]
           ],
           "sequentialminus": [
            [
             0,
             "#0d0887"
            ],
            [
             0.1111111111111111,
             "#46039f"
            ],
            [
             0.2222222222222222,
             "#7201a8"
            ],
            [
             0.3333333333333333,
             "#9c179e"
            ],
            [
             0.4444444444444444,
             "#bd3786"
            ],
            [
             0.5555555555555556,
             "#d8576b"
            ],
            [
             0.6666666666666666,
             "#ed7953"
            ],
            [
             0.7777777777777778,
             "#fb9f3a"
            ],
            [
             0.8888888888888888,
             "#fdca26"
            ],
            [
             1,
             "#f0f921"
            ]
           ]
          },
          "colorway": [
           "#636efa",
           "#EF553B",
           "#00cc96",
           "#ab63fa",
           "#FFA15A",
           "#19d3f3",
           "#FF6692",
           "#B6E880",
           "#FF97FF",
           "#FECB52"
          ],
          "font": {
           "color": "#2a3f5f"
          },
          "geo": {
           "bgcolor": "white",
           "lakecolor": "white",
           "landcolor": "#E5ECF6",
           "showlakes": true,
           "showland": true,
           "subunitcolor": "white"
          },
          "hoverlabel": {
           "align": "left"
          },
          "hovermode": "closest",
          "mapbox": {
           "style": "light"
          },
          "paper_bgcolor": "white",
          "plot_bgcolor": "#E5ECF6",
          "polar": {
           "angularaxis": {
            "gridcolor": "white",
            "linecolor": "white",
            "ticks": ""
           },
           "bgcolor": "#E5ECF6",
           "radialaxis": {
            "gridcolor": "white",
            "linecolor": "white",
            "ticks": ""
           }
          },
          "scene": {
           "xaxis": {
            "backgroundcolor": "#E5ECF6",
            "gridcolor": "white",
            "gridwidth": 2,
            "linecolor": "white",
            "showbackground": true,
            "ticks": "",
            "zerolinecolor": "white"
           },
           "yaxis": {
            "backgroundcolor": "#E5ECF6",
            "gridcolor": "white",
            "gridwidth": 2,
            "linecolor": "white",
            "showbackground": true,
            "ticks": "",
            "zerolinecolor": "white"
           },
           "zaxis": {
            "backgroundcolor": "#E5ECF6",
            "gridcolor": "white",
            "gridwidth": 2,
            "linecolor": "white",
            "showbackground": true,
            "ticks": "",
            "zerolinecolor": "white"
           }
          },
          "shapedefaults": {
           "line": {
            "color": "#2a3f5f"
           }
          },
          "ternary": {
           "aaxis": {
            "gridcolor": "white",
            "linecolor": "white",
            "ticks": ""
           },
           "baxis": {
            "gridcolor": "white",
            "linecolor": "white",
            "ticks": ""
           },
           "bgcolor": "#E5ECF6",
           "caxis": {
            "gridcolor": "white",
            "linecolor": "white",
            "ticks": ""
           }
          },
          "title": {
           "x": 0.05
          },
          "xaxis": {
           "automargin": true,
           "gridcolor": "white",
           "linecolor": "white",
           "ticks": "",
           "title": {
            "standoff": 15
           },
           "zerolinecolor": "white",
           "zerolinewidth": 2
          },
          "yaxis": {
           "automargin": true,
           "gridcolor": "white",
           "linecolor": "white",
           "ticks": "",
           "title": {
            "standoff": 15
           },
           "zerolinecolor": "white",
           "zerolinewidth": 2
          }
         }
        },
        "title": {
         "text": "Station (A4260507) BiMonthly Maximum Water Course Levels with Structure Crest Height"
        },
        "xaxis": {
         "tickformat": "%d %B (%a)<br>%y",
         "title": {
          "text": "Time"
         }
        },
        "yaxis": {
         "title": {
          "text": "Heights (meter)"
         }
        }
       }
      }
     },
     "metadata": {},
     "output_type": "display_data"
    },
    {
     "name": "stderr",
     "output_type": "stream",
     "text": [
      "c:\\office12\\bomwater-notebook\\.venv\\lib\\site-packages\\xarray\\core\\variable.py:305: UnitStrippedWarning:\n",
      "\n",
      "The unit of the quantity is stripped when downcasting to ndarray.\n",
      "\n"
     ]
    },
    {
     "data": {
      "application/vnd.plotly.v1+json": {
       "config": {
        "plotlyServerURL": "https://plot.ly"
       },
       "data": [
        {
         "line": {
          "shape": "linear"
         },
         "mode": "lines",
         "name": "Water Course Level meter",
         "type": "scatter",
         "x": [
          "2008-11-01T00:00:00.000000000",
          "2009-01-01T00:00:00.000000000",
          "2009-03-01T00:00:00.000000000",
          "2009-05-01T00:00:00.000000000",
          "2009-07-01T00:00:00.000000000",
          "2009-09-01T00:00:00.000000000",
          "2009-11-01T00:00:00.000000000",
          "2010-01-01T00:00:00.000000000",
          "2010-03-01T00:00:00.000000000",
          "2010-05-01T00:00:00.000000000",
          "2010-07-01T00:00:00.000000000",
          "2010-09-01T00:00:00.000000000",
          "2010-11-01T00:00:00.000000000",
          "2011-01-01T00:00:00.000000000",
          "2011-03-01T00:00:00.000000000",
          "2011-05-01T00:00:00.000000000",
          "2011-07-01T00:00:00.000000000",
          "2011-09-01T00:00:00.000000000",
          "2011-11-01T00:00:00.000000000",
          "2012-01-01T00:00:00.000000000",
          "2012-03-01T00:00:00.000000000",
          "2012-05-01T00:00:00.000000000",
          "2012-07-01T00:00:00.000000000",
          "2012-09-01T00:00:00.000000000",
          "2012-11-01T00:00:00.000000000",
          "2013-01-01T00:00:00.000000000",
          "2013-03-01T00:00:00.000000000",
          "2013-05-01T00:00:00.000000000",
          "2013-07-01T00:00:00.000000000",
          "2013-09-01T00:00:00.000000000",
          "2013-11-01T00:00:00.000000000",
          "2014-01-01T00:00:00.000000000",
          "2014-03-01T00:00:00.000000000",
          "2014-05-01T00:00:00.000000000",
          "2014-07-01T00:00:00.000000000",
          "2014-09-01T00:00:00.000000000",
          "2014-11-01T00:00:00.000000000",
          "2015-01-01T00:00:00.000000000",
          "2015-03-01T00:00:00.000000000",
          "2015-05-01T00:00:00.000000000",
          "2015-07-01T00:00:00.000000000",
          "2015-09-01T00:00:00.000000000",
          "2015-11-01T00:00:00.000000000",
          "2016-01-01T00:00:00.000000000",
          "2016-03-01T00:00:00.000000000",
          "2016-05-01T00:00:00.000000000",
          "2016-07-01T00:00:00.000000000",
          "2016-09-01T00:00:00.000000000",
          "2016-11-01T00:00:00.000000000",
          "2017-01-01T00:00:00.000000000",
          "2017-03-01T00:00:00.000000000",
          "2017-05-01T00:00:00.000000000",
          "2017-07-01T00:00:00.000000000",
          "2017-09-01T00:00:00.000000000",
          "2017-11-01T00:00:00.000000000",
          "2018-01-01T00:00:00.000000000",
          "2018-03-01T00:00:00.000000000",
          "2018-05-01T00:00:00.000000000",
          "2018-07-01T00:00:00.000000000",
          "2018-09-01T00:00:00.000000000",
          "2018-11-01T00:00:00.000000000",
          "2019-01-01T00:00:00.000000000",
          "2019-03-01T00:00:00.000000000",
          "2019-05-01T00:00:00.000000000",
          "2019-07-01T00:00:00.000000000",
          "2019-09-01T00:00:00.000000000",
          "2019-11-01T00:00:00.000000000",
          "2020-01-01T00:00:00.000000000",
          "2020-03-01T00:00:00.000000000",
          "2020-05-01T00:00:00.000000000",
          "2020-07-01T00:00:00.000000000",
          "2020-09-01T00:00:00.000000000",
          "2020-11-01T00:00:00.000000000",
          "2021-01-01T00:00:00.000000000",
          "2021-03-01T00:00:00.000000000",
          "2021-05-01T00:00:00.000000000",
          "2021-07-01T00:00:00.000000000",
          "2021-09-01T00:00:00.000000000",
          "2021-11-01T00:00:00.000000000"
         ],
         "y": [
          24.779,
          24.7,
          24.767,
          25.039,
          24.633,
          24.764,
          24.701,
          24.813,
          24.903,
          24.5,
          24.844,
          26.1,
          27.731,
          28.676,
          28.377,
          26.479,
          26.436,
          26.185,
          25.428,
          25.402,
          27.54,
          27.603,
          27.075,
          27.166,
          25.351,
          25.25,
          25.086,
          24.891,
          25.341,
          25.593,
          25.165,
          24.828,
          24.792,
          25.202,
          25.439,
          25.529,
          25.555,
          24.688,
          24.211,
          24.667,
          25.271,
          25.547,
          24.526,
          24.235,
          24.634,
          24.644,
          26.359,
          27.442,
          28.838,
          25.182,
          24.386,
          24.711,
          24.359,
          25.084,
          25.105,
          24.734,
          24.416,
          24.386,
          24.619,
          24.43,
          24.371,
          24.287,
          24.158,
          24.277,
          24.779,
          25.737,
          25.499,
          23.88,
          23.825,
          24.216,
          24.787,
          24.957,
          24.977,
          24.315,
          24.288,
          24.324,
          25.918,
          26.274,
          26.4
         ]
        },
        {
         "line": {
          "shape": "linear"
         },
         "mode": "lines",
         "name": "Heights meter",
         "type": "scatter",
         "x": [
          "2008-11-01T00:00:00.000000000",
          "2009-01-01T00:00:00.000000000",
          "2009-03-01T00:00:00.000000000",
          "2009-05-01T00:00:00.000000000",
          "2009-07-01T00:00:00.000000000",
          "2009-09-01T00:00:00.000000000",
          "2009-11-01T00:00:00.000000000",
          "2010-01-01T00:00:00.000000000",
          "2010-03-01T00:00:00.000000000",
          "2010-05-01T00:00:00.000000000",
          "2010-07-01T00:00:00.000000000",
          "2010-09-01T00:00:00.000000000",
          "2010-11-01T00:00:00.000000000",
          "2011-01-01T00:00:00.000000000",
          "2011-03-01T00:00:00.000000000",
          "2011-05-01T00:00:00.000000000",
          "2011-07-01T00:00:00.000000000",
          "2011-09-01T00:00:00.000000000",
          "2011-11-01T00:00:00.000000000",
          "2012-01-01T00:00:00.000000000",
          "2012-03-01T00:00:00.000000000",
          "2012-05-01T00:00:00.000000000",
          "2012-07-01T00:00:00.000000000",
          "2012-09-01T00:00:00.000000000",
          "2012-11-01T00:00:00.000000000",
          "2013-01-01T00:00:00.000000000",
          "2013-03-01T00:00:00.000000000",
          "2013-05-01T00:00:00.000000000",
          "2013-07-01T00:00:00.000000000",
          "2013-09-01T00:00:00.000000000",
          "2013-11-01T00:00:00.000000000",
          "2014-01-01T00:00:00.000000000",
          "2014-03-01T00:00:00.000000000",
          "2014-05-01T00:00:00.000000000",
          "2014-07-01T00:00:00.000000000",
          "2014-09-01T00:00:00.000000000",
          "2014-11-01T00:00:00.000000000",
          "2015-01-01T00:00:00.000000000",
          "2015-03-01T00:00:00.000000000",
          "2015-05-01T00:00:00.000000000",
          "2015-07-01T00:00:00.000000000",
          "2015-09-01T00:00:00.000000000",
          "2015-11-01T00:00:00.000000000",
          "2016-01-01T00:00:00.000000000",
          "2016-03-01T00:00:00.000000000",
          "2016-05-01T00:00:00.000000000",
          "2016-07-01T00:00:00.000000000",
          "2016-09-01T00:00:00.000000000",
          "2016-11-01T00:00:00.000000000",
          "2017-01-01T00:00:00.000000000",
          "2017-03-01T00:00:00.000000000",
          "2017-05-01T00:00:00.000000000",
          "2017-07-01T00:00:00.000000000",
          "2017-09-01T00:00:00.000000000",
          "2017-11-01T00:00:00.000000000",
          "2018-01-01T00:00:00.000000000",
          "2018-03-01T00:00:00.000000000",
          "2018-05-01T00:00:00.000000000",
          "2018-07-01T00:00:00.000000000",
          "2018-09-01T00:00:00.000000000",
          "2018-11-01T00:00:00.000000000",
          "2019-01-01T00:00:00.000000000",
          "2019-03-01T00:00:00.000000000",
          "2019-05-01T00:00:00.000000000",
          "2019-07-01T00:00:00.000000000",
          "2019-09-01T00:00:00.000000000",
          "2019-11-01T00:00:00.000000000",
          "2020-01-01T00:00:00.000000000",
          "2020-03-01T00:00:00.000000000",
          "2020-05-01T00:00:00.000000000",
          "2020-07-01T00:00:00.000000000",
          "2020-09-01T00:00:00.000000000",
          "2020-11-01T00:00:00.000000000",
          "2021-01-01T00:00:00.000000000",
          "2021-03-01T00:00:00.000000000",
          "2021-05-01T00:00:00.000000000",
          "2021-07-01T00:00:00.000000000",
          "2021-09-01T00:00:00.000000000",
          "2021-11-01T00:00:00.000000000"
         ],
         "y": [
          27.4,
          27.4,
          27.4,
          27.4,
          27.4,
          27.4,
          27.4,
          27.4,
          27.4,
          27.4,
          27.4,
          27.4,
          27.4,
          27.4,
          27.4,
          27.4,
          27.4,
          27.4,
          27.4,
          27.4,
          27.4,
          27.4,
          27.4,
          27.4,
          27.4,
          27.4,
          27.4,
          27.4,
          27.4,
          27.4,
          27.4,
          27.4,
          27.4,
          27.4,
          27.4,
          27.4,
          27.4,
          27.4,
          27.4,
          27.4,
          27.4,
          27.4,
          27.4,
          27.4,
          27.4,
          27.4,
          27.4,
          27.4,
          27.4,
          27.4,
          27.4,
          27.4,
          27.4,
          27.4,
          27.4,
          27.4,
          27.4,
          27.4,
          27.4,
          27.4,
          27.4,
          27.4,
          27.4,
          27.4,
          27.4,
          27.4,
          27.4,
          27.4,
          27.4,
          27.4,
          27.4,
          27.4,
          27.4,
          27.4,
          27.4,
          27.4,
          27.4,
          27.4,
          27.4
         ]
        }
       ],
       "layout": {
        "template": {
         "data": {
          "bar": [
           {
            "error_x": {
             "color": "#2a3f5f"
            },
            "error_y": {
             "color": "#2a3f5f"
            },
            "marker": {
             "line": {
              "color": "#E5ECF6",
              "width": 0.5
             },
             "pattern": {
              "fillmode": "overlay",
              "size": 10,
              "solidity": 0.2
             }
            },
            "type": "bar"
           }
          ],
          "barpolar": [
           {
            "marker": {
             "line": {
              "color": "#E5ECF6",
              "width": 0.5
             },
             "pattern": {
              "fillmode": "overlay",
              "size": 10,
              "solidity": 0.2
             }
            },
            "type": "barpolar"
           }
          ],
          "carpet": [
           {
            "aaxis": {
             "endlinecolor": "#2a3f5f",
             "gridcolor": "white",
             "linecolor": "white",
             "minorgridcolor": "white",
             "startlinecolor": "#2a3f5f"
            },
            "baxis": {
             "endlinecolor": "#2a3f5f",
             "gridcolor": "white",
             "linecolor": "white",
             "minorgridcolor": "white",
             "startlinecolor": "#2a3f5f"
            },
            "type": "carpet"
           }
          ],
          "choropleth": [
           {
            "colorbar": {
             "outlinewidth": 0,
             "ticks": ""
            },
            "type": "choropleth"
           }
          ],
          "contour": [
           {
            "colorbar": {
             "outlinewidth": 0,
             "ticks": ""
            },
            "colorscale": [
             [
              0,
              "#0d0887"
             ],
             [
              0.1111111111111111,
              "#46039f"
             ],
             [
              0.2222222222222222,
              "#7201a8"
             ],
             [
              0.3333333333333333,
              "#9c179e"
             ],
             [
              0.4444444444444444,
              "#bd3786"
             ],
             [
              0.5555555555555556,
              "#d8576b"
             ],
             [
              0.6666666666666666,
              "#ed7953"
             ],
             [
              0.7777777777777778,
              "#fb9f3a"
             ],
             [
              0.8888888888888888,
              "#fdca26"
             ],
             [
              1,
              "#f0f921"
             ]
            ],
            "type": "contour"
           }
          ],
          "contourcarpet": [
           {
            "colorbar": {
             "outlinewidth": 0,
             "ticks": ""
            },
            "type": "contourcarpet"
           }
          ],
          "heatmap": [
           {
            "colorbar": {
             "outlinewidth": 0,
             "ticks": ""
            },
            "colorscale": [
             [
              0,
              "#0d0887"
             ],
             [
              0.1111111111111111,
              "#46039f"
             ],
             [
              0.2222222222222222,
              "#7201a8"
             ],
             [
              0.3333333333333333,
              "#9c179e"
             ],
             [
              0.4444444444444444,
              "#bd3786"
             ],
             [
              0.5555555555555556,
              "#d8576b"
             ],
             [
              0.6666666666666666,
              "#ed7953"
             ],
             [
              0.7777777777777778,
              "#fb9f3a"
             ],
             [
              0.8888888888888888,
              "#fdca26"
             ],
             [
              1,
              "#f0f921"
             ]
            ],
            "type": "heatmap"
           }
          ],
          "heatmapgl": [
           {
            "colorbar": {
             "outlinewidth": 0,
             "ticks": ""
            },
            "colorscale": [
             [
              0,
              "#0d0887"
             ],
             [
              0.1111111111111111,
              "#46039f"
             ],
             [
              0.2222222222222222,
              "#7201a8"
             ],
             [
              0.3333333333333333,
              "#9c179e"
             ],
             [
              0.4444444444444444,
              "#bd3786"
             ],
             [
              0.5555555555555556,
              "#d8576b"
             ],
             [
              0.6666666666666666,
              "#ed7953"
             ],
             [
              0.7777777777777778,
              "#fb9f3a"
             ],
             [
              0.8888888888888888,
              "#fdca26"
             ],
             [
              1,
              "#f0f921"
             ]
            ],
            "type": "heatmapgl"
           }
          ],
          "histogram": [
           {
            "marker": {
             "pattern": {
              "fillmode": "overlay",
              "size": 10,
              "solidity": 0.2
             }
            },
            "type": "histogram"
           }
          ],
          "histogram2d": [
           {
            "colorbar": {
             "outlinewidth": 0,
             "ticks": ""
            },
            "colorscale": [
             [
              0,
              "#0d0887"
             ],
             [
              0.1111111111111111,
              "#46039f"
             ],
             [
              0.2222222222222222,
              "#7201a8"
             ],
             [
              0.3333333333333333,
              "#9c179e"
             ],
             [
              0.4444444444444444,
              "#bd3786"
             ],
             [
              0.5555555555555556,
              "#d8576b"
             ],
             [
              0.6666666666666666,
              "#ed7953"
             ],
             [
              0.7777777777777778,
              "#fb9f3a"
             ],
             [
              0.8888888888888888,
              "#fdca26"
             ],
             [
              1,
              "#f0f921"
             ]
            ],
            "type": "histogram2d"
           }
          ],
          "histogram2dcontour": [
           {
            "colorbar": {
             "outlinewidth": 0,
             "ticks": ""
            },
            "colorscale": [
             [
              0,
              "#0d0887"
             ],
             [
              0.1111111111111111,
              "#46039f"
             ],
             [
              0.2222222222222222,
              "#7201a8"
             ],
             [
              0.3333333333333333,
              "#9c179e"
             ],
             [
              0.4444444444444444,
              "#bd3786"
             ],
             [
              0.5555555555555556,
              "#d8576b"
             ],
             [
              0.6666666666666666,
              "#ed7953"
             ],
             [
              0.7777777777777778,
              "#fb9f3a"
             ],
             [
              0.8888888888888888,
              "#fdca26"
             ],
             [
              1,
              "#f0f921"
             ]
            ],
            "type": "histogram2dcontour"
           }
          ],
          "mesh3d": [
           {
            "colorbar": {
             "outlinewidth": 0,
             "ticks": ""
            },
            "type": "mesh3d"
           }
          ],
          "parcoords": [
           {
            "line": {
             "colorbar": {
              "outlinewidth": 0,
              "ticks": ""
             }
            },
            "type": "parcoords"
           }
          ],
          "pie": [
           {
            "automargin": true,
            "type": "pie"
           }
          ],
          "scatter": [
           {
            "fillpattern": {
             "fillmode": "overlay",
             "size": 10,
             "solidity": 0.2
            },
            "type": "scatter"
           }
          ],
          "scatter3d": [
           {
            "line": {
             "colorbar": {
              "outlinewidth": 0,
              "ticks": ""
             }
            },
            "marker": {
             "colorbar": {
              "outlinewidth": 0,
              "ticks": ""
             }
            },
            "type": "scatter3d"
           }
          ],
          "scattercarpet": [
           {
            "marker": {
             "colorbar": {
              "outlinewidth": 0,
              "ticks": ""
             }
            },
            "type": "scattercarpet"
           }
          ],
          "scattergeo": [
           {
            "marker": {
             "colorbar": {
              "outlinewidth": 0,
              "ticks": ""
             }
            },
            "type": "scattergeo"
           }
          ],
          "scattergl": [
           {
            "marker": {
             "colorbar": {
              "outlinewidth": 0,
              "ticks": ""
             }
            },
            "type": "scattergl"
           }
          ],
          "scattermapbox": [
           {
            "marker": {
             "colorbar": {
              "outlinewidth": 0,
              "ticks": ""
             }
            },
            "type": "scattermapbox"
           }
          ],
          "scatterpolar": [
           {
            "marker": {
             "colorbar": {
              "outlinewidth": 0,
              "ticks": ""
             }
            },
            "type": "scatterpolar"
           }
          ],
          "scatterpolargl": [
           {
            "marker": {
             "colorbar": {
              "outlinewidth": 0,
              "ticks": ""
             }
            },
            "type": "scatterpolargl"
           }
          ],
          "scatterternary": [
           {
            "marker": {
             "colorbar": {
              "outlinewidth": 0,
              "ticks": ""
             }
            },
            "type": "scatterternary"
           }
          ],
          "surface": [
           {
            "colorbar": {
             "outlinewidth": 0,
             "ticks": ""
            },
            "colorscale": [
             [
              0,
              "#0d0887"
             ],
             [
              0.1111111111111111,
              "#46039f"
             ],
             [
              0.2222222222222222,
              "#7201a8"
             ],
             [
              0.3333333333333333,
              "#9c179e"
             ],
             [
              0.4444444444444444,
              "#bd3786"
             ],
             [
              0.5555555555555556,
              "#d8576b"
             ],
             [
              0.6666666666666666,
              "#ed7953"
             ],
             [
              0.7777777777777778,
              "#fb9f3a"
             ],
             [
              0.8888888888888888,
              "#fdca26"
             ],
             [
              1,
              "#f0f921"
             ]
            ],
            "type": "surface"
           }
          ],
          "table": [
           {
            "cells": {
             "fill": {
              "color": "#EBF0F8"
             },
             "line": {
              "color": "white"
             }
            },
            "header": {
             "fill": {
              "color": "#C8D4E3"
             },
             "line": {
              "color": "white"
             }
            },
            "type": "table"
           }
          ]
         },
         "layout": {
          "annotationdefaults": {
           "arrowcolor": "#2a3f5f",
           "arrowhead": 0,
           "arrowwidth": 1
          },
          "autotypenumbers": "strict",
          "coloraxis": {
           "colorbar": {
            "outlinewidth": 0,
            "ticks": ""
           }
          },
          "colorscale": {
           "diverging": [
            [
             0,
             "#8e0152"
            ],
            [
             0.1,
             "#c51b7d"
            ],
            [
             0.2,
             "#de77ae"
            ],
            [
             0.3,
             "#f1b6da"
            ],
            [
             0.4,
             "#fde0ef"
            ],
            [
             0.5,
             "#f7f7f7"
            ],
            [
             0.6,
             "#e6f5d0"
            ],
            [
             0.7,
             "#b8e186"
            ],
            [
             0.8,
             "#7fbc41"
            ],
            [
             0.9,
             "#4d9221"
            ],
            [
             1,
             "#276419"
            ]
           ],
           "sequential": [
            [
             0,
             "#0d0887"
            ],
            [
             0.1111111111111111,
             "#46039f"
            ],
            [
             0.2222222222222222,
             "#7201a8"
            ],
            [
             0.3333333333333333,
             "#9c179e"
            ],
            [
             0.4444444444444444,
             "#bd3786"
            ],
            [
             0.5555555555555556,
             "#d8576b"
            ],
            [
             0.6666666666666666,
             "#ed7953"
            ],
            [
             0.7777777777777778,
             "#fb9f3a"
            ],
            [
             0.8888888888888888,
             "#fdca26"
            ],
            [
             1,
             "#f0f921"
            ]
           ],
           "sequentialminus": [
            [
             0,
             "#0d0887"
            ],
            [
             0.1111111111111111,
             "#46039f"
            ],
            [
             0.2222222222222222,
             "#7201a8"
            ],
            [
             0.3333333333333333,
             "#9c179e"
            ],
            [
             0.4444444444444444,
             "#bd3786"
            ],
            [
             0.5555555555555556,
             "#d8576b"
            ],
            [
             0.6666666666666666,
             "#ed7953"
            ],
            [
             0.7777777777777778,
             "#fb9f3a"
            ],
            [
             0.8888888888888888,
             "#fdca26"
            ],
            [
             1,
             "#f0f921"
            ]
           ]
          },
          "colorway": [
           "#636efa",
           "#EF553B",
           "#00cc96",
           "#ab63fa",
           "#FFA15A",
           "#19d3f3",
           "#FF6692",
           "#B6E880",
           "#FF97FF",
           "#FECB52"
          ],
          "font": {
           "color": "#2a3f5f"
          },
          "geo": {
           "bgcolor": "white",
           "lakecolor": "white",
           "landcolor": "#E5ECF6",
           "showlakes": true,
           "showland": true,
           "subunitcolor": "white"
          },
          "hoverlabel": {
           "align": "left"
          },
          "hovermode": "closest",
          "mapbox": {
           "style": "light"
          },
          "paper_bgcolor": "white",
          "plot_bgcolor": "#E5ECF6",
          "polar": {
           "angularaxis": {
            "gridcolor": "white",
            "linecolor": "white",
            "ticks": ""
           },
           "bgcolor": "#E5ECF6",
           "radialaxis": {
            "gridcolor": "white",
            "linecolor": "white",
            "ticks": ""
           }
          },
          "scene": {
           "xaxis": {
            "backgroundcolor": "#E5ECF6",
            "gridcolor": "white",
            "gridwidth": 2,
            "linecolor": "white",
            "showbackground": true,
            "ticks": "",
            "zerolinecolor": "white"
           },
           "yaxis": {
            "backgroundcolor": "#E5ECF6",
            "gridcolor": "white",
            "gridwidth": 2,
            "linecolor": "white",
            "showbackground": true,
            "ticks": "",
            "zerolinecolor": "white"
           },
           "zaxis": {
            "backgroundcolor": "#E5ECF6",
            "gridcolor": "white",
            "gridwidth": 2,
            "linecolor": "white",
            "showbackground": true,
            "ticks": "",
            "zerolinecolor": "white"
           }
          },
          "shapedefaults": {
           "line": {
            "color": "#2a3f5f"
           }
          },
          "ternary": {
           "aaxis": {
            "gridcolor": "white",
            "linecolor": "white",
            "ticks": ""
           },
           "baxis": {
            "gridcolor": "white",
            "linecolor": "white",
            "ticks": ""
           },
           "bgcolor": "#E5ECF6",
           "caxis": {
            "gridcolor": "white",
            "linecolor": "white",
            "ticks": ""
           }
          },
          "title": {
           "x": 0.05
          },
          "xaxis": {
           "automargin": true,
           "gridcolor": "white",
           "linecolor": "white",
           "ticks": "",
           "title": {
            "standoff": 15
           },
           "zerolinecolor": "white",
           "zerolinewidth": 2
          },
          "yaxis": {
           "automargin": true,
           "gridcolor": "white",
           "linecolor": "white",
           "ticks": "",
           "title": {
            "standoff": 15
           },
           "zerolinecolor": "white",
           "zerolinewidth": 2
          }
         }
        },
        "title": {
         "text": "Station (A4260505) BiMonthly Maximum Water Course Levels with Structure Crest Height"
        },
        "xaxis": {
         "tickformat": "%d %B (%a)<br>%y",
         "title": {
          "text": "Time"
         }
        },
        "yaxis": {
         "title": {
          "text": "Heights (meter)"
         }
        }
       }
      }
     },
     "metadata": {},
     "output_type": "display_data"
    }
   ],
   "source": [
    "'''Note: Folders should exist before running'''\n",
    "#Create a dataframe to frame a constant period. As gauge observation data will have varing start and end dates\n",
    "date1 = dt.date(1988, 1, 1)\n",
    "date2 = dt.date(2021, 12, 31)\n",
    "dates = {'time':pd.date_range(start=date1, end=date2)}\n",
    "values = pd.Series(-1, range(len(dates)))\n",
    "period = pd.DataFrame(dates, )\n",
    "period['time'] = pd.to_datetime(period['time'])\n",
    "#Define the period requested from the BoM Water service\n",
    "t_begin = \"1988-01-01T01:00:00+10\"\n",
    "t_end = \"2021-12-31T00:00:00+10\"\n",
    "#Define the Procedure and Properties to request from the service\n",
    "procedure = _bm.procedures.Pat3_C_B_1_DailyMax  \n",
    "prop = _bm.properties.Water_Course_Level\n",
    "result_set = []\n",
    "\n",
    "bbox = [None, None]\n",
    "features = []\n",
    "for station in lock_sites:\n",
    "    station_long_name = station['properties']['long_name']\n",
    "    features.append(station_long_name) \n",
    "water_course_levels = _bm.get_observations(features, prop, procedure, t_begin, t_end, bbox)\n",
    "\n",
    "\n",
    "for sites in lock_sites:\n",
    "    try:\n",
    "        #Request from BoM Water server\n",
    "        # response = _bm.request(_bm.actions.GetObservation, sites['properties']['stationNo'], prop, procedure, t_begin, t_end)\n",
    "        # ts = _bm.parse_data(response)\n",
    "        weir_station_no = sites['properties']['stationNo']\n",
    "        weir_station_longname = sites['properties']['long_name']\n",
    "        for wcl_chunk in water_course_levels:\n",
    "            for wcl in wcl_chunk:\n",
    "                if wcl == weir_station_longname:\n",
    "                    wcl_da =  wcl_chunk[wcl]\n",
    "                    break\n",
    "        \n",
    "        if len(wcl_da) < 1:\n",
    "            logger.warning(f'Data length is zero for station: {weir_station_no}')\n",
    "        else:\n",
    "            dir = f'./bomwater_data/mdb_water_course_level/'\n",
    "            #Save raw data\n",
    "            comp = dict(zlib=True, complevel=5)\n",
    "            encoding = {var: comp for var in wcl_da.data_vars}\n",
    "            wcl_da.to_netcdf(f'{dir}{weir_station_no}.nc', format=\"NETCDF4\", engine=\"netcdf4\")#, encoding=encoding)\n",
    "            \n",
    "            \n",
    "            station_data = wcl_da#.to_dataframe()#ts.reset_index()\n",
    "            #Get Station from filter list\n",
    "            found = list(filter(lambda x:x[\"station_id\"]==weir_station_no,station_info))\n",
    "            \n",
    "            #Resample raw data with static period to make standard length files and so bi monthly periods start at the same month\n",
    "            station_data = station_data.sel(time=slice(date1, date2))\n",
    "            \n",
    "            #Group by bi monthly max\n",
    "            result = station_data.resample(time='2MS').max()\n",
    "            \n",
    "            #Include the crest height with the final dataset\n",
    "            # result['Structure Crest Height(m)'] = found[0]['crest_height']\n",
    "            result = result.rename({'Water Course Level [m]': 'BiMonthly Maximum Water_Course_Level(m)'})\n",
    "\n",
    "            crest_height = xr.DataArray(pd.Series(found[0]['crest_height'], index=result.time), coords=[result.time], dims=['time'])\n",
    "            result = result.assign(Structure_Crest_Height=lambda x: x.Quality - x.Quality + crest_height )\n",
    "            result['Structure_Crest_Height'] = result['Structure_Crest_Height'].pint.quantify({'Structure_Crest_Height': ureg.meter})\n",
    "\n",
    "\n",
    "            #Apply units (meters) to the data variable \n",
    "            result['BiMonthly Maximum Water_Course_Level(m)'] = result['BiMonthly Maximum Water_Course_Level(m)'].pint.quantify({'BiMonthly Maximum Water_Course_Level(m)': ureg.meter})\n",
    "\n",
    "            #Save result to same directory as the raw data\n",
    "            result.pint.dequantify().to_netcdf(f'{dir}biMonthlyMax{weir_station_no}.nc', format=\"NETCDF4\", engine=\"netcdf4\")\n",
    "\n",
    "            \n",
    "            result_set.append(result)\n",
    "            \n",
    "\n",
    "            # y = result['BiMonthly Maximum Water_Course_Level(m)']\n",
    "            # x = result.time\n",
    "            # plt.figure()\n",
    "            # plt.title(f'Station ({weir_station_no}) Water Course Levels (m)')\n",
    "            # plt.ylabel('BiMonthly Maximum Water Course Level (m)')\n",
    "            # plt.xlabel('Dates')\n",
    "            # plt.plot( x, y, label=weir_station_no )\n",
    "            # crest_height = pd.Series(found[0]['crest_height'], index=range(len(result.time)))\n",
    "            # plt.plot(x, crest_height, label='Crest Height')\n",
    "            \n",
    "\n",
    "            # plt.savefig(f'{dir}{weir_station_no}_plot.jpg')\n",
    "            fig = go.Figure()\n",
    "            hydro_plot_data( result['BiMonthly Maximum Water_Course_Level(m)'], prop, f'Station ({weir_station_no}) BiMonthly Maximum Water Course Levels (m)', fig)\n",
    "\n",
    "            hydro_plot_data( result.Structure_Crest_Height, 'Heights', f'Station ({weir_station_no}) BiMonthly Maximum Water Course Levels with Structure Crest Height', fig)\n",
    "            fig.show()\n",
    "            \n",
    "    except:\n",
    "        e = sys.exc_info()[0]\n",
    "        weir_station_no = sites['properties']['stationNo']\n",
    "        logger.warning(f'Processing failed with system info: {e} for station: {weir_station_no}')\n",
    "        \n",
    "    "
   ]
  }
 ],
 "metadata": {
  "kernelspec": {
   "display_name": "Python 3 (ipykernel)",
   "language": "python",
   "name": "python3"
  },
  "language_info": {
   "codemirror_mode": {
    "name": "ipython",
    "version": 3
   },
   "file_extension": ".py",
   "mimetype": "text/x-python",
   "name": "python",
   "nbconvert_exporter": "python",
   "pygments_lexer": "ipython3",
   "version": "3.10.5"
  },
  "vscode": {
   "interpreter": {
    "hash": "2181d7092e74a19a5508a8334aee51df8ea5cf5b2ce40cd8563ee7545dc8350c"
   }
  }
 },
 "nbformat": 4,
 "nbformat_minor": 4
}
