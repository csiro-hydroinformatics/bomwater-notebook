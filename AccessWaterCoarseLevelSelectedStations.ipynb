{
 "cells": [
  {
   "cell_type": "markdown",
   "metadata": {},
   "source": [
    "# Generating a Bi-Monthly Maximum Water Course Level dataset\n"
   ]
  },
  {
   "cell_type": "code",
   "execution_count": 146,
   "metadata": {
    "tags": []
   },
   "outputs": [],
   "source": [
    "import pybomwater.bom_water as bm\n",
    "from sidecar import Sidecar\n",
    "from ipyleaflet import Map, GeoJSON, Polygon\n",
    "from IPython.display import display, clear_output, HTML, JSON, Markdown, clear_output\n",
    "import plotly.express as px\n",
    "import plotly.graph_objects as go\n",
    "import plotly.io as pio\n",
    "# pio.renderers.default = 'jupyterlab'\n",
    "from plotly.subplots import make_subplots\n",
    "import shapely\n",
    "import shapely.geometry\n",
    "import json\n",
    "import requests\n",
    "import sys\n",
    "from geojson import Feature, FeatureCollection, Point\n",
    "import pandas as pd\n",
    "import matplotlib.pyplot as plt\n",
    "import numpy as np\n",
    "import math\n",
    "import datetime as dt\n",
    "import logging\n",
    "import sys\n",
    "from pint import UnitRegistry, set_application_registry\n",
    "import pint_xarray\n",
    "from datetime import datetime, timedelta\n",
    "import xarray as xr\n",
    "import cftime\n",
    "import os\n",
    "\n",
    "import warnings\n",
    "warnings.filterwarnings(\"ignore\")"
   ]
  },
  {
   "cell_type": "markdown",
   "metadata": {},
   "source": [
    "### Setup some constants"
   ]
  },
  {
   "cell_type": "code",
   "execution_count": 57,
   "metadata": {},
   "outputs": [
    {
     "data": {
      "text/plain": [
       "'The unit for a day: day, used for daily data'"
      ]
     },
     "metadata": {},
     "output_type": "display_data"
    }
   ],
   "source": [
    "#setup unit registry for later use.  Using the library of units we can be consistent \n",
    "ureg = UnitRegistry(force_ndarray=True)\n",
    "set_application_registry(ureg) #sync this ureg with xarray unit registry\n",
    "\n",
    "display(f'The unit for a day: {ureg.d}, used for daily data')"
   ]
  },
  {
   "cell_type": "code",
   "execution_count": 58,
   "metadata": {
    "tags": []
   },
   "outputs": [
    {
     "data": {
      "text/plain": [
       "'Procedure: Pat3_C_B_1_DailyMax, Property: Water Course Level'"
      ]
     },
     "metadata": {},
     "output_type": "display_data"
    }
   ],
   "source": [
    "#Get an instance of the api package that will be used to access the BoM service\n",
    "\n",
    "_bm = bm.BomWater()\n",
    "procedure = _bm.procedures.Pat3_C_B_1_DailyMax \n",
    "prop = _bm.properties.Water_Course_Level\n",
    "display(f'Procedure: {procedure}, Property: {prop}')"
   ]
  },
  {
   "cell_type": "code",
   "execution_count": 60,
   "metadata": {
    "tags": []
   },
   "outputs": [],
   "source": [
    "def write_json_features(features, file):\n",
    "    collection = FeatureCollection(features)\n",
    "    with open(file, \"w\") as f:\n",
    "        f.write('%s' % collection)"
   ]
  },
  {
   "cell_type": "code",
   "execution_count": 59,
   "metadata": {
    "tags": []
   },
   "outputs": [],
   "source": [
    "logging.basicConfig(\n",
    "    level=logging.INFO, \n",
    "    format='[{%(filename)s:%(lineno)d} %(levelname)s - %(message)s',\n",
    "    handlers=[\n",
    "        logging.FileHandler(filename='tmp5a.log'),\n",
    "        logging.StreamHandler(sys.stdout)\n",
    "    ]\n",
    ")\n",
    "\n",
    "logger = logging.getLogger('TS_Saver')"
   ]
  },
  {
   "cell_type": "markdown",
   "metadata": {},
   "source": [
    "### Bounding Box for the MDB\n",
    "\n",
    "This bounding box is to do a first pass filter "
   ]
  },
  {
   "cell_type": "code",
   "execution_count": 61,
   "metadata": {
    "tags": []
   },
   "outputs": [],
   "source": [
    "low_left_lat = -37.505032\n",
    "low_left_long = 138.00\n",
    "upper_right_lat = -24.00\n",
    "upper_right_long = 154.00\n",
    "\n",
    "lower_left_coords = f'{low_left_lat} {low_left_long}'\n",
    "upper_right_coords = f'{upper_right_lat} {upper_right_long}'\n",
    "coords = tuple((lower_left_coords, upper_right_coords))"
   ]
  },
  {
   "cell_type": "markdown",
   "metadata": {},
   "source": [
    "### Filtering gauges using the bounding box and static station Id list"
   ]
  },
  {
   "cell_type": "code",
   "execution_count": 62,
   "metadata": {
    "tags": []
   },
   "outputs": [
    {
     "name": "stdout",
     "output_type": "stream",
     "text": [
      "Match found: {\"geometry\": {\"coordinates\": [142.759783, -34.599668], \"type\": \"Point\"}, \"properties\": {\"long_name\": \"http://bom.gov.au/waterdata/services/stations/414209\", \"name\": \"MURRAY_@_LOCK_15\", \"stationId\": null, \"stationNo\": \"414209\"}, \"type\": \"Feature\"} and [{'station_id': '414209', 'crest_height': 47.9}]\n",
      "Match found: {\"geometry\": {\"coordinates\": [141.9045, -34.11], \"type\": \"Point\"}, \"properties\": {\"long_name\": \"http://bom.gov.au/waterdata/services/stations/425010\", \"name\": \"MURRAY@L10_WENTWORTH\", \"stationId\": null, \"stationNo\": \"425010\"}, \"type\": \"Feature\"} and [{'station_id': '425010', 'crest_height': 30.8}]\n",
      "Match found: {\"geometry\": {\"coordinates\": [139.615749, -34.35095], \"type\": \"Point\"}, \"properties\": {\"long_name\": \"http://bom.gov.au/waterdata/services/stations/A4260903\", \"name\": \"River_Murray_at_Lock_1_Downstream_(AMTD_274.3km)\", \"stationId\": null, \"stationNo\": \"A4260903\"}, \"type\": \"Feature\"} and [{'station_id': 'A4260903', 'crest_height': 3.3}]\n",
      "Match found: {\"geometry\": {\"coordinates\": [139.931064, -34.07685], \"type\": \"Point\"}, \"properties\": {\"long_name\": \"http://bom.gov.au/waterdata/services/stations/A4260519\", \"name\": \"River_Murray_at_Lock_2_Downstream_(AMTD_362.1km)\", \"stationId\": null, \"stationNo\": \"A4260519\"}, \"type\": \"Feature\"} and [{'station_id': 'A4260519', 'crest_height': 6.1}]\n",
      "Match found: {\"geometry\": {\"coordinates\": [140.358238, -34.187308], \"type\": \"Point\"}, \"properties\": {\"long_name\": \"http://bom.gov.au/waterdata/services/stations/A4260517\", \"name\": \"River_Murray_at_Lock_3_Downstream_(AMTD_431.4km)\", \"stationId\": null, \"stationNo\": \"A4260517\"}, \"type\": \"Feature\"} and [{'station_id': 'A4260517', 'crest_height': 9.8}]\n",
      "Match found: {\"geometry\": {\"coordinates\": [140.577316, -34.343186], \"type\": \"Point\"}, \"properties\": {\"long_name\": \"http://bom.gov.au/waterdata/services/stations/A4260515\", \"name\": \"River_Murray_at_Lock_4_Downstream_(AMTD_516.2km)\", \"stationId\": null, \"stationNo\": \"A4260515\"}, \"type\": \"Feature\"} and [{'station_id': 'A4260515', 'crest_height': 13.2}]\n",
      "Match found: {\"geometry\": {\"coordinates\": [140.765483, -34.188906], \"type\": \"Point\"}, \"properties\": {\"long_name\": \"http://bom.gov.au/waterdata/services/stations/A4260513\", \"name\": \"River_Murray_at_Lock_5_Downstream_(AMTD_562.4km)\", \"stationId\": null, \"stationNo\": \"A4260513\"}, \"type\": \"Feature\"} and [{'station_id': 'A4260513', 'crest_height': 16.3}]\n",
      "Match found: {\"geometry\": {\"coordinates\": [140.886735, -33.995881], \"type\": \"Point\"}, \"properties\": {\"long_name\": \"http://bom.gov.au/waterdata/services/stations/A4260511\", \"name\": \"River_Murray_at_Lock_6_Downstream_(AMTD_619.8km)\", \"stationId\": null, \"stationNo\": \"A4260511\"}, \"type\": \"Feature\"} and [{'station_id': 'A4260511', 'crest_height': 19.2}]\n",
      "Match found: {\"geometry\": {\"coordinates\": [141.244875, -34.067185], \"type\": \"Point\"}, \"properties\": {\"long_name\": \"http://bom.gov.au/waterdata/services/stations/A4260509\", \"name\": \"River_Murray_at_Lock_7_Downstream_(AMTD_702km)\", \"stationId\": null, \"stationNo\": \"A4260509\"}, \"type\": \"Feature\"} and [{'station_id': 'A4260509', 'crest_height': 22.1}]\n",
      "Match found: {\"geometry\": {\"coordinates\": [141.398045, -34.128678], \"type\": \"Point\"}, \"properties\": {\"long_name\": \"http://bom.gov.au/waterdata/services/stations/A4260507\", \"name\": \"River_Murray_at_Lock_8_Downstream_(AMTD_725.7km)\", \"stationId\": null, \"stationNo\": \"A4260507\"}, \"type\": \"Feature\"} and [{'station_id': 'A4260507', 'crest_height': 24.6}]\n",
      "Match found: {\"geometry\": {\"coordinates\": [141.596673, -34.191506], \"type\": \"Point\"}, \"properties\": {\"long_name\": \"http://bom.gov.au/waterdata/services/stations/A4260505\", \"name\": \"River_Murray_at_Lock_9_Downstream_(AMTD_764.8km)\", \"stationId\": null, \"stationNo\": \"A4260505\"}, \"type\": \"Feature\"} and [{'station_id': 'A4260505', 'crest_height': 27.4}]\n"
     ]
    }
   ],
   "source": [
    "station_info=[{\"station_id\": \"A4260903\", \"crest_height\": 3.3},\n",
    "{\"station_id\": \"A4260519\", \"crest_height\": 6.1},\n",
    "{\"station_id\": \"A4260517\", \"crest_height\": 9.8},\n",
    "{\"station_id\": \"A4260515\", \"crest_height\": 13.2},\n",
    "{\"station_id\": \"A4260513\", \"crest_height\": 16.3},\n",
    "{\"station_id\": \"A4260511\", \"crest_height\": 19.2},\n",
    "{\"station_id\": \"A4260509\", \"crest_height\": 22.1},\n",
    "{\"station_id\": \"A4260507\", \"crest_height\": 24.6},\n",
    "{\"station_id\": \"A4260505\", \"crest_height\": 27.4},\n",
    "{\"station_id\": \"425010\", \"crest_height\": 30.8},\n",
    "{\"station_id\": \"414209\", \"crest_height\": 47.9}]\n",
    "response = _bm.request(_bm.actions.GetFeatureOfInterest, None, prop, procedure, None, None, lower_left_coords, upper_right_coords  )\n",
    "lock_sites = []\n",
    "if response.status_code == 200:\n",
    "    response_json = _bm.xml_to_json(response.text)\n",
    "    '''bomwater creates a FeatureCollection which can be used for mapping'''\n",
    "    feature_list = _bm.create_feature_list(response_json, None )\n",
    "    for f in feature_list['features']:\n",
    "\n",
    "        # if f.properties['stationNo'] in station_ids:\n",
    "        found = list(filter(lambda x:x[\"station_id\"]==f.properties['stationNo'],station_info))\n",
    "        if found:\n",
    "            print(f'Match found: {f} and {found}')\n",
    "            lock_sites.append(f)\n",
    "            \n",
    "else:\n",
    "    print(response.status_code)\n"
   ]
  },
  {
   "cell_type": "markdown",
   "metadata": {},
   "source": [
    "### Process and save raw and result data\n",
    "- Load required gauge data \n",
    "- Convert to desired timestep (eg bi monthly max)\n",
    "- Write all data to disk (raw and processed)"
   ]
  },
  {
   "cell_type": "code",
   "execution_count": 96,
   "metadata": {},
   "outputs": [],
   "source": [
    "def create_da_daily_dates(start_date, days_since_start):\n",
    "    datetime_values = xr.DataArray([start_date + timedelta(days=int(days)) for days in days_since_start])\n",
    "    return datetime_values\n",
    "\n",
    "def get_date_from_str(contains_string: str):\n",
    "    # Parse the string to obtain the datetime object\n",
    "    result_datetime = cftime.datetime.strptime(contains_string, 'days since %Y-%m-%d %H:%M:%S')\n",
    "    return result_datetime\n",
    "\n",
    "def hydro_plot_data(da, var_name, title=None, fig=None):\n",
    "    single_plot = False\n",
    "    if fig == None:\n",
    "        fig = go.Figure()\n",
    "        single_plot = True\n",
    "    if not hasattr(da.data,'units'):\n",
    "        raise Exception('This data array has no units!!')\n",
    "    unit = da.data.units\n",
    " \n",
    "    if not isinstance(da['time'].values[0], np.datetime64):\n",
    "        start_date = get_date_from_str(da['time'].attrs.get('units', None))\n",
    "        dates = create_da_daily_dates(start_date=start_date, days_since_start=da['time'].values)\n",
    "    else:\n",
    "        dates = da.time\n",
    "    fig.add_trace(go.Scatter(x=dates, y=da, mode='lines', name=f'{var_name} {unit}', line_shape='linear'))\n",
    "    # Customize the layout (optional)\n",
    "    if title:\n",
    "        graph_title = f'{title}'\n",
    "    else:\n",
    "        graph_title = f'{var_name} Hydrograph'\n",
    "    fig.update_layout(\n",
    "        title=graph_title,\n",
    "        xaxis_title='Time',\n",
    "        yaxis_title=f'{var_name} ({unit})',\n",
    "        xaxis_tickformat = '%d %B (%a)<br>%y'\n",
    "        # xaxis=dict(tickmode='linear'),\n",
    "    )\n",
    "\n",
    "    if single_plot:\n",
    "        fig.show()\n",
    "    else:\n",
    "        return fig"
   ]
  },
  {
   "cell_type": "code",
   "execution_count": 148,
   "metadata": {
    "tags": []
   },
   "outputs": [
    {
     "data": {
      "text/markdown": [
       "[Click to open graph for stations No.: 414209, station name: MURRAY_@_LOCK_15 graph](http://htmlpreview.github.io/?https://github.com/csiro-hydroinformatics/bomwater-notebook/blob/feature/graphwithplotly/bomwater_data/mdb_water_course_level/414209.html)"
      ],
      "text/plain": [
       "<IPython.core.display.Markdown object>"
      ]
     },
     "metadata": {},
     "output_type": "display_data"
    },
    {
     "data": {
      "text/markdown": [
       "[Click to open graph for stations No.: 425010, station name: MURRAY@L10_WENTWORTH graph](http://htmlpreview.github.io/?https://github.com/csiro-hydroinformatics/bomwater-notebook/blob/feature/graphwithplotly/bomwater_data/mdb_water_course_level/425010.html)"
      ],
      "text/plain": [
       "<IPython.core.display.Markdown object>"
      ]
     },
     "metadata": {},
     "output_type": "display_data"
    },
    {
     "data": {
      "text/markdown": [
       "[Click to open graph for stations No.: A4260903, station name: River_Murray_at_Lock_1_Downstream_(AMTD_274.3km) graph](http://htmlpreview.github.io/?https://github.com/csiro-hydroinformatics/bomwater-notebook/blob/feature/graphwithplotly/bomwater_data/mdb_water_course_level/A4260903.html)"
      ],
      "text/plain": [
       "<IPython.core.display.Markdown object>"
      ]
     },
     "metadata": {},
     "output_type": "display_data"
    },
    {
     "data": {
      "text/markdown": [
       "[Click to open graph for stations No.: A4260519, station name: River_Murray_at_Lock_2_Downstream_(AMTD_362.1km) graph](http://htmlpreview.github.io/?https://github.com/csiro-hydroinformatics/bomwater-notebook/blob/feature/graphwithplotly/bomwater_data/mdb_water_course_level/A4260519.html)"
      ],
      "text/plain": [
       "<IPython.core.display.Markdown object>"
      ]
     },
     "metadata": {},
     "output_type": "display_data"
    },
    {
     "data": {
      "text/markdown": [
       "[Click to open graph for stations No.: A4260517, station name: River_Murray_at_Lock_3_Downstream_(AMTD_431.4km) graph](http://htmlpreview.github.io/?https://github.com/csiro-hydroinformatics/bomwater-notebook/blob/feature/graphwithplotly/bomwater_data/mdb_water_course_level/A4260517.html)"
      ],
      "text/plain": [
       "<IPython.core.display.Markdown object>"
      ]
     },
     "metadata": {},
     "output_type": "display_data"
    },
    {
     "data": {
      "text/markdown": [
       "[Click to open graph for stations No.: A4260515, station name: River_Murray_at_Lock_4_Downstream_(AMTD_516.2km) graph](http://htmlpreview.github.io/?https://github.com/csiro-hydroinformatics/bomwater-notebook/blob/feature/graphwithplotly/bomwater_data/mdb_water_course_level/A4260515.html)"
      ],
      "text/plain": [
       "<IPython.core.display.Markdown object>"
      ]
     },
     "metadata": {},
     "output_type": "display_data"
    },
    {
     "data": {
      "text/markdown": [
       "[Click to open graph for stations No.: A4260513, station name: River_Murray_at_Lock_5_Downstream_(AMTD_562.4km) graph](http://htmlpreview.github.io/?https://github.com/csiro-hydroinformatics/bomwater-notebook/blob/feature/graphwithplotly/bomwater_data/mdb_water_course_level/A4260513.html)"
      ],
      "text/plain": [
       "<IPython.core.display.Markdown object>"
      ]
     },
     "metadata": {},
     "output_type": "display_data"
    },
    {
     "data": {
      "text/markdown": [
       "[Click to open graph for stations No.: A4260511, station name: River_Murray_at_Lock_6_Downstream_(AMTD_619.8km) graph](http://htmlpreview.github.io/?https://github.com/csiro-hydroinformatics/bomwater-notebook/blob/feature/graphwithplotly/bomwater_data/mdb_water_course_level/A4260511.html)"
      ],
      "text/plain": [
       "<IPython.core.display.Markdown object>"
      ]
     },
     "metadata": {},
     "output_type": "display_data"
    },
    {
     "data": {
      "text/markdown": [
       "[Click to open graph for stations No.: A4260509, station name: River_Murray_at_Lock_7_Downstream_(AMTD_702km) graph](http://htmlpreview.github.io/?https://github.com/csiro-hydroinformatics/bomwater-notebook/blob/feature/graphwithplotly/bomwater_data/mdb_water_course_level/A4260509.html)"
      ],
      "text/plain": [
       "<IPython.core.display.Markdown object>"
      ]
     },
     "metadata": {},
     "output_type": "display_data"
    },
    {
     "data": {
      "text/markdown": [
       "[Click to open graph for stations No.: A4260507, station name: River_Murray_at_Lock_8_Downstream_(AMTD_725.7km) graph](http://htmlpreview.github.io/?https://github.com/csiro-hydroinformatics/bomwater-notebook/blob/feature/graphwithplotly/bomwater_data/mdb_water_course_level/A4260507.html)"
      ],
      "text/plain": [
       "<IPython.core.display.Markdown object>"
      ]
     },
     "metadata": {},
     "output_type": "display_data"
    },
    {
     "data": {
      "text/markdown": [
       "[Click to open graph for stations No.: A4260505, station name: River_Murray_at_Lock_9_Downstream_(AMTD_764.8km) graph](http://htmlpreview.github.io/?https://github.com/csiro-hydroinformatics/bomwater-notebook/blob/feature/graphwithplotly/bomwater_data/mdb_water_course_level/A4260505.html)"
      ],
      "text/plain": [
       "<IPython.core.display.Markdown object>"
      ]
     },
     "metadata": {},
     "output_type": "display_data"
    }
   ],
   "source": [
    "'''Note: Folders should exist before running'''\n",
    "#Create a dataframe to frame a constant period. As gauge observation data will have varing start and end dates\n",
    "date1 = dt.date(1988, 1, 1)\n",
    "date2 = dt.date(2021, 12, 31)\n",
    "dates = {'time':pd.date_range(start=date1, end=date2)}\n",
    "values = pd.Series(-1, range(len(dates)))\n",
    "period = pd.DataFrame(dates, )\n",
    "period['time'] = pd.to_datetime(period['time'])\n",
    "#Define the period requested from the BoM Water service\n",
    "t_begin = \"1988-01-01T01:00:00+10\"\n",
    "t_end = \"2021-12-31T00:00:00+10\"\n",
    "#Define the Procedure and Properties to request from the service\n",
    "procedure = _bm.procedures.Pat3_C_B_1_DailyMax  \n",
    "prop = _bm.properties.Water_Course_Level\n",
    "result_set = []\n",
    "\n",
    "bbox = [None, None]\n",
    "features = []\n",
    "for station in lock_sites:\n",
    "    station_long_name = station['properties']['long_name']\n",
    "    features.append(station_long_name) \n",
    "display('Requesting station data from BoM Online Service')\n",
    "water_course_levels = _bm.get_observations(features, prop, procedure, t_begin, t_end, bbox)\n",
    "\n",
    "clear_output(wait=True)\n",
    "for sites in lock_sites:\n",
    "    try:\n",
    "        #Request from BoM Water server\n",
    "        # response = _bm.request(_bm.actions.GetObservation, sites['properties']['stationNo'], prop, procedure, t_begin, t_end)\n",
    "        # ts = _bm.parse_data(response)\n",
    "        weir_station_no = sites['properties']['stationNo']\n",
    "        weir_station_longname = sites['properties']['long_name']\n",
    "        for wcl_chunk in water_course_levels:\n",
    "            for wcl in wcl_chunk:\n",
    "                if wcl == weir_station_longname:\n",
    "                    wcl_da =  wcl_chunk[wcl]\n",
    "                    break\n",
    "        \n",
    "        if len(wcl_da) < 1:\n",
    "            logger.warning(f'Data length is zero for station: {weir_station_no}')\n",
    "        else:\n",
    "            dir = f'./bomwater_data/mdb_water_course_level/'\n",
    "            #Save raw data\n",
    "            comp = dict(zlib=True, complevel=5)\n",
    "            encoding = {var: comp for var in wcl_da.data_vars}\n",
    "            wcl_da.to_netcdf(f'{dir}{weir_station_no}.nc', format=\"NETCDF4\", engine=\"netcdf4\")#, encoding=encoding)\n",
    "            \n",
    "            \n",
    "            station_data = wcl_da#.to_dataframe()#ts.reset_index()\n",
    "            #Get Station from filter list\n",
    "            found = list(filter(lambda x:x[\"station_id\"]==weir_station_no,station_info))\n",
    "            \n",
    "            #Resample raw data with static period to make standard length files and so bi monthly periods start at the same month\n",
    "            station_data = station_data.sel(time=slice(date1, date2))\n",
    "            \n",
    "            #Group by bi monthly max\n",
    "            result = station_data.resample(time='2MS').max()\n",
    "            \n",
    "            #Include the crest height with the final dataset\n",
    "            # result['Structure Crest Height(m)'] = found[0]['crest_height']\n",
    "            result = result.rename({'Water Course Level [m]': 'BiMonthly Maximum Water_Course_Level(m)'})\n",
    "\n",
    "            crest_height = xr.DataArray(pd.Series(found[0]['crest_height'], index=result.time), coords=[result.time], dims=['time'])\n",
    "            result = result.assign(Structure_Crest_Height=lambda x: x.Quality - x.Quality + crest_height )\n",
    "            result['Structure_Crest_Height'] = result['Structure_Crest_Height'].pint.quantify({'Structure_Crest_Height': ureg.meter})\n",
    "\n",
    "\n",
    "            #Apply units (meters) to the data variable \n",
    "            result['BiMonthly Maximum Water_Course_Level(m)'] = result['BiMonthly Maximum Water_Course_Level(m)'].pint.quantify({'BiMonthly Maximum Water_Course_Level(m)': ureg.meter})\n",
    "\n",
    "            #Save result to same directory as the raw data\n",
    "            result.pint.dequantify().to_netcdf(f'{dir}biMonthlyMax{weir_station_no}.nc', format=\"NETCDF4\", engine=\"netcdf4\")\n",
    "\n",
    "            \n",
    "            result_set.append(result)\n",
    "            \n",
    "            # The following is left here to demonstate generating matplotlib outputs \n",
    "            # y = result['BiMonthly Maximum Water_Course_Level(m)']\n",
    "            # x = result.time\n",
    "            # plt.figure()\n",
    "            # plt.title(f'Station ({weir_station_no}) Water Course Levels (m)')\n",
    "            # plt.ylabel('BiMonthly Maximum Water Course Level (m)')\n",
    "            # plt.xlabel('Dates')\n",
    "            # plt.plot( x, y, label=weir_station_no )\n",
    "            # crest_height = pd.Series(found[0]['crest_height'], index=range(len(result.time)))\n",
    "            # plt.plot(x, crest_height, label='Crest Height')\n",
    "\n",
    "            # plt.savefig(f'{dir}{weir_station_no}_plot.jpg')\n",
    "            \n",
    "            #Plot using Plotly as the html dynamic ouputs are cool :-)\n",
    "            fig = go.Figure()\n",
    "            hydro_plot_data( result['BiMonthly Maximum Water_Course_Level(m)'], prop, f'Station ({weir_station_no}) BiMonthly Maximum Water Course Levels (m)', fig)\n",
    "\n",
    "            hydro_plot_data( result.Structure_Crest_Height, 'Heights', f'Station ({weir_station_no}) BiMonthly Maximum Water Course Levels with Structure Crest Height', fig)\n",
    "            \n",
    "            os.makedirs(dir, exist_ok=True)\n",
    "            path = os.path.join(dir,weir_station_no)\n",
    "            fig.write_html(f'{path}.html')\n",
    "            \n",
    "            # The following is for allowing people to browse results from GitHub.\n",
    "            local_github_url = 'https://github.com/csiro-hydroinformatics/bomwater-notebook/blob/feature/graphwithplotly/'\n",
    "            html_view_url = 'http://htmlpreview.github.io/?'\n",
    "            path = path.replace('./', '')\n",
    "            final_path = f'{html_view_url}{local_github_url}{path}.html'\n",
    "            station_name = sites['properties']['name']\n",
    "            link_text = f'Click to open graph for stations No.: {weir_station_no}, station name: {station_name} graph'\n",
    "            display(Markdown(f'[{link_text}]({final_path})'))\n",
    "            \n",
    "            \n",
    "\n",
    "    except:\n",
    "        e = sys.exc_info()[0]\n",
    "        weir_station_no = sites['properties']['stationNo']\n",
    "        logger.warning(f'Processing failed with system info: {e} for station: {weir_station_no}')\n",
    "        \n",
    "    "
   ]
  }
 ],
 "metadata": {
  "kernelspec": {
   "display_name": "Python 3 (ipykernel)",
   "language": "python",
   "name": "python3"
  },
  "language_info": {
   "codemirror_mode": {
    "name": "ipython",
    "version": 3
   },
   "file_extension": ".py",
   "mimetype": "text/x-python",
   "name": "python",
   "nbconvert_exporter": "python",
   "pygments_lexer": "ipython3",
   "version": "3.10.5"
  },
  "vscode": {
   "interpreter": {
    "hash": "2181d7092e74a19a5508a8334aee51df8ea5cf5b2ce40cd8563ee7545dc8350c"
   }
  }
 },
 "nbformat": 4,
 "nbformat_minor": 4
}
