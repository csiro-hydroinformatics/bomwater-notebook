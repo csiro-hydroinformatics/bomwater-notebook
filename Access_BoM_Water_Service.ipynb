{
 "cells": [
  {
   "cell_type": "code",
   "execution_count": 1,
   "metadata": {
    "tags": []
   },
   "outputs": [],
   "source": [
    "import pybomwater.bom_water as bm\n",
    "from sidecar import Sidecar\n",
    "from ipyleaflet import Map, GeoJSON, Polygon\n",
    "from IPython.display import display, clear_output, HTML, JSON\n",
    "import json\n",
    "import requests\n",
    "import geopandas as gpd"
   ]
  },
  {
   "cell_type": "markdown",
   "metadata": {},
   "source": [
    "## Get Capability"
   ]
  },
  {
   "cell_type": "code",
   "execution_count": 2,
   "metadata": {
    "tags": []
   },
   "outputs": [
    {
     "data": {
      "application/json": {
       "sos:Capabilities": {
        "@version": "2.0.0",
        "@xmlns:fes": "http://www.opengis.net/fes/2.0",
        "@xmlns:gml": "http://www.opengis.net/gml/3.2",
        "@xmlns:ogc": "http://www.opengis.net/ogc",
        "@xmlns:ows": "http://www.opengis.net/ows/1.1",
        "@xmlns:sos": "http://www.opengis.net/sos/2.0",
        "@xmlns:swe": "http://www.opengis.net/swe/2.0",
        "@xmlns:swes": "http://www.opengis.net/swes/2.0",
        "@xmlns:wsa": "http://www.w3.org/2005/08/addressing",
        "@xmlns:xlink": "http://www.w3.org/1999/xlink",
        "@xmlns:xsi": "http://www.w3.org/2001/XMLSchema-instance",
        "@xsi:schemaLocation": "http://www.opengis.net/sos/2.0 http://schemas.opengis.net/sos/2.0/sos.xsd",
        "ows:OperationsMetadata": {
         "ows:Operation": [
          {
           "@name": "DescribeSensor",
           "ows:DCP": {
            "ows:HTTP": {
             "ows:Get": {
              "@xlink:href": "http://wdo-prod-01/waterdata/services?datasource=0",
              "ows:Constraint": {
               "@name": "Content-Type",
               "ows:AllowedValues": {
                "ows:Value": "application/x-kvp"
               }
              }
             },
             "ows:Post": {
              "@xlink:href": "http://wdo-prod-01/waterdata/services?datasource=0",
              "ows:Constraint": {
               "@name": "Content-Type",
               "ows:AllowedValues": {
                "ows:Value": [
                 "application/soap+xml",
                 "application/xml"
                ]
               }
              }
             }
            }
           }
          },
          {
           "@name": "GetCapabilities",
           "ows:DCP": {
            "ows:HTTP": {
             "ows:Get": {
              "@xlink:href": "http://wdo-prod-01/waterdata/services?datasource=0",
              "ows:Constraint": {
               "@name": "Content-Type",
               "ows:AllowedValues": {
                "ows:Value": "application/x-kvp"
               }
              }
             },
             "ows:Post": {
              "@xlink:href": "http://wdo-prod-01/waterdata/services?datasource=0",
              "ows:Constraint": {
               "@name": "Content-Type",
               "ows:AllowedValues": {
                "ows:Value": [
                 "application/soap+xml",
                 "application/xml"
                ]
               }
              }
             }
            }
           }
          },
          {
           "@name": "GetDataAvailability",
           "ows:DCP": {
            "ows:HTTP": {
             "ows:Get": {
              "@xlink:href": "http://wdo-prod-01/waterdata/services?datasource=0",
              "ows:Constraint": {
               "@name": "Content-Type",
               "ows:AllowedValues": {
                "ows:Value": "application/x-kvp"
               }
              }
             },
             "ows:Post": {
              "@xlink:href": "http://wdo-prod-01/waterdata/services?datasource=0",
              "ows:Constraint": {
               "@name": "Content-Type",
               "ows:AllowedValues": {
                "ows:Value": [
                 "application/soap+xml",
                 "application/xml"
                ]
               }
              }
             }
            }
           }
          },
          {
           "@name": "GetFeatureOfInterest",
           "ows:DCP": {
            "ows:HTTP": {
             "ows:Get": {
              "@xlink:href": "http://wdo-prod-01/waterdata/services?datasource=0",
              "ows:Constraint": {
               "@name": "Content-Type",
               "ows:AllowedValues": {
                "ows:Value": "application/x-kvp"
               }
              }
             },
             "ows:Post": {
              "@xlink:href": "http://wdo-prod-01/waterdata/services?datasource=0",
              "ows:Constraint": {
               "@name": "Content-Type",
               "ows:AllowedValues": {
                "ows:Value": [
                 "application/soap+xml",
                 "application/xml"
                ]
               }
              }
             }
            }
           }
          },
          {
           "@name": "GetObservation",
           "ows:DCP": {
            "ows:HTTP": {
             "ows:Get": {
              "@xlink:href": "http://wdo-prod-01/waterdata/services?datasource=0",
              "ows:Constraint": {
               "@name": "Content-Type",
               "ows:AllowedValues": {
                "ows:Value": "application/x-kvp"
               }
              }
             },
             "ows:Post": {
              "@xlink:href": "http://wdo-prod-01/waterdata/services?datasource=0",
              "ows:Constraint": {
               "@name": "Content-Type",
               "ows:AllowedValues": {
                "ows:Value": [
                 "application/soap+xml",
                 "application/xml"
                ]
               }
              }
             }
            }
           }
          }
         ],
         "ows:Parameter": [
          {
           "@name": "service",
           "ows:AllowedValues": {
            "ows:Value": "SOS"
           }
          },
          {
           "@name": "version",
           "ows:AllowedValues": {
            "ows:Value": [
             "2.0",
             "2.0.0"
            ]
           }
          }
         ]
        },
        "ows:ServiceIdentification": {
         "ows:AccessConstraints": [
          "maxNumberOfReturnedValues=2000000",
          "maxNumberOfReturnedTimeSeries=10000"
         ],
         "ows:Profile": [
          "http://www.opengis.net/spec/SOS/2.0/conf/core",
          "http://www.opengis.net/spec/SOS/2.0/conf/soap",
          "http://www.opengis.net/spec/SOS/2.0/conf/kvp-core",
          "http://www.opengis.net/spec/SOS/2.0/conf/foiRetrieval",
          "http://www.opengis.net/spec/SOS/2.0/conf/gda",
          "http://www.opengis.net/spec/SOS/2.0/conf/xml",
          "http://www.opengis.net/spec/SOS_application-profile_hydrology/1.0/req/hydrosos"
         ],
         "ows:ServiceType": "SOS",
         "ows:ServiceTypeVersion": "2.0.0",
         "ows:Title": "KISTERS KiWIS SOS2"
        },
        "ows:ServiceProvider": {
         "ows:ServiceContact": {
          "ows:ContactInfo": {
           "ows:Address": null
          }
         }
        },
        "sos:contents": {
         "sos:Contents": {
          "sos:observationType": "http://www.opengis.net/def/observationType/OGC-OM/2.0/OM_Measurement",
          "sos:responseFormat": "http://www.opengis.net/waterml/2.0",
          "swes:observableProperty": [
           "http://bom.gov.au/waterdata/services/parameters/Water Course Discharge",
           "http://bom.gov.au/waterdata/services/parameters/Water Course Level",
           "http://bom.gov.au/waterdata/services/parameters/Rainfall",
           "http://bom.gov.au/waterdata/services/parameters/Ground Water Level",
           "http://bom.gov.au/waterdata/services/parameters/Dry Air Temperature",
           "http://bom.gov.au/waterdata/services/parameters/Relative Humidity",
           "http://bom.gov.au/waterdata/services/parameters/Wind Speed",
           "http://bom.gov.au/waterdata/services/parameters/Electrical Conductivity @ 25C",
           "http://bom.gov.au/waterdata/services/parameters/Evaporation",
           "http://bom.gov.au/waterdata/services/parameters/Wind Direction",
           "http://bom.gov.au/waterdata/services/parameters/Turbidity",
           "http://bom.gov.au/waterdata/services/parameters/Water Temperature",
           "http://bom.gov.au/waterdata/services/parameters/pH",
           "http://bom.gov.au/waterdata/services/parameters/Storage Volume",
           "http://bom.gov.au/waterdata/services/parameters/Storage Level",
           "http://bom.gov.au/waterdata/services/parameters/Generic",
           "http://bom.gov.au/waterdata/services/parameters/Wet Air Temperature",
           "http://bom.gov.au/waterdata/services/parameters/S"
          ],
          "swes:offering": [
           {
            "sos:ObservationOffering": {
             "sos:observedArea": {
              "gml:Envelope": {
               "@srsName": "http://www.opengis.net/def/crs/EPSG/0/4326",
               "gml:lowerCorner": "-90.0 -159.8474",
               "gml:upperCorner": "90.0 168.80790000000002"
              }
             },
             "swes:description": "Offering for timeseries type DMQaQc.Auto.AsStored.1",
             "swes:identifier": "http://bom.gov.au/waterdata/services/tstypes/Pat9_C_Std_QaQc_1",
             "swes:name": "DMQaQc.Auto.AsStored.1",
             "swes:procedure": "http://bom.gov.au/waterdata/services/tstypes/Pat9_C_Std_QaQc_1"
            }
           },
           {
            "sos:ObservationOffering": {
             "sos:observedArea": {
              "gml:Envelope": {
               "@srsName": "http://www.opengis.net/def/crs/EPSG/0/4326",
               "gml:lowerCorner": "-90.0 -159.8474",
               "gml:upperCorner": "90.0 168.80790000000002"
              }
             },
             "swes:description": "Offering for timeseries type DMmanQC.Manual.AsStored.1",
             "swes:identifier": "http://bom.gov.au/waterdata/services/tstypes/Pat9_C_Std_Qcf_1",
             "swes:name": "DMmanQC.Manual.AsStored.1",
             "swes:procedure": "http://bom.gov.au/waterdata/services/tstypes/Pat9_C_Std_Qcf_1"
            }
           },
           {
            "sos:ObservationOffering": {
             "sos:observedArea": {
              "gml:Envelope": {
               "@srsName": "http://www.opengis.net/def/crs/EPSG/0/4326",
               "gml:lowerCorner": "-90.0 -159.8474",
               "gml:upperCorner": "90.0 168.80790000000002"
              }
             },
             "swes:description": "Offering for timeseries type DMQaQc.Merged.DailyMean.24HR",
             "swes:identifier": "http://bom.gov.au/waterdata/services/tstypes/Pat9_C_B_1_DailyMean",
             "swes:name": "DMQaQc.Merged.DailyMean.24HR",
             "swes:procedure": "http://bom.gov.au/waterdata/services/tstypes/Pat9_C_B_1_DailyMean"
            }
           },
           {
            "sos:ObservationOffering": {
             "sos:observedArea": {
              "gml:Envelope": {
               "@srsName": "http://www.opengis.net/def/crs/EPSG/0/4326",
               "gml:lowerCorner": "-90.0 -159.8474",
               "gml:upperCorner": "90.0 168.80790000000002"
              }
             },
             "swes:description": "Offering for timeseries type DMQaQc.Merged.DailyMax.24HR",
             "swes:identifier": "http://bom.gov.au/waterdata/services/tstypes/Pat9_C_B_1_DailyMax",
             "swes:name": "DMQaQc.Merged.DailyMax.24HR",
             "swes:procedure": "http://bom.gov.au/waterdata/services/tstypes/Pat9_C_B_1_DailyMax"
            }
           },
           {
            "sos:ObservationOffering": {
             "sos:observedArea": {
              "gml:Envelope": {
               "@srsName": "http://www.opengis.net/def/crs/EPSG/0/4326",
               "gml:lowerCorner": "-90.0 -159.8474",
               "gml:upperCorner": "90.0 168.80790000000002"
              }
             },
             "swes:description": "Offering for timeseries type Harmonised.Provisionalbest.AsStored.1",
             "swes:identifier": "http://bom.gov.au/waterdata/services/tstypes/Pat9_PB_1",
             "swes:name": "Harmonised.Provisionalbest.AsStored.1",
             "swes:procedure": "http://bom.gov.au/waterdata/services/tstypes/Pat9_PB_1"
            }
           },
           {
            "sos:ObservationOffering": {
             "sos:observedArea": {
              "gml:Envelope": {
               "@srsName": "http://www.opengis.net/def/crs/EPSG/0/4326",
               "gml:lowerCorner": "-90.0 -159.8474",
               "gml:upperCorner": "90.0 168.80790000000002"
              }
             },
             "swes:description": "Offering for timeseries type DMQaQc.Merged.DailyMin.24HR",
             "swes:identifier": "http://bom.gov.au/waterdata/services/tstypes/Pat9_C_B_1_DailyMin",
             "swes:name": "DMQaQc.Merged.DailyMin.24HR",
             "swes:procedure": "http://bom.gov.au/waterdata/services/tstypes/Pat9_C_B_1_DailyMin"
            }
           },
           {
            "sos:ObservationOffering": {
             "sos:observedArea": {
              "gml:Envelope": {
               "@srsName": "http://www.opengis.net/def/crs/EPSG/0/4326",
               "gml:lowerCorner": "-90.0 -159.8474",
               "gml:upperCorner": "90.0 168.80790000000002"
              }
             },
             "swes:description": "Offering for timeseries type DMQaQc.Merged.MonthlyMean.CalMonth",
             "swes:identifier": "http://bom.gov.au/waterdata/services/tstypes/Pat9_C_B_1_MonthlyMean",
             "swes:name": "DMQaQc.Merged.MonthlyMean.CalMonth",
             "swes:procedure": "http://bom.gov.au/waterdata/services/tstypes/Pat9_C_B_1_MonthlyMean"
            }
           },
           {
            "sos:ObservationOffering": {
             "sos:observedArea": {
              "gml:Envelope": {
               "@srsName": "http://www.opengis.net/def/crs/EPSG/0/4326",
               "gml:lowerCorner": "-90.0 -159.8474",
               "gml:upperCorner": "90.0 168.80790000000002"
              }
             },
             "swes:description": "Offering for timeseries type DMQaQc.Merged.YearlyMean.CalYear",
             "swes:identifier": "http://bom.gov.au/waterdata/services/tstypes/Pat9_C_B_1_YearlyMean",
             "swes:name": "DMQaQc.Merged.YearlyMean.CalYear",
             "swes:procedure": "http://bom.gov.au/waterdata/services/tstypes/Pat9_C_B_1_YearlyMean"
            }
           },
           {
            "sos:ObservationOffering": {
             "sos:observedArea": {
              "gml:Envelope": {
               "@srsName": "http://www.opengis.net/def/crs/EPSG/0/4326",
               "gml:lowerCorner": "-90.0 -159.8474",
               "gml:upperCorner": "90.0 168.80790000000002"
              }
             },
             "swes:description": "Offering for timeseries type Harmonised.Provisional.AsStored.1",
             "swes:identifier": "http://bom.gov.au/waterdata/services/tstypes/Pat9_P_1",
             "swes:name": "Harmonised.Provisional.AsStored.1",
             "swes:procedure": "http://bom.gov.au/waterdata/services/tstypes/Pat9_P_1"
            }
           },
           {
            "sos:ObservationOffering": {
             "sos:observedArea": {
              "gml:Envelope": {
               "@srsName": "http://www.opengis.net/def/crs/EPSG/0/4326",
               "gml:lowerCorner": "-90.0 -159.8474",
               "gml:upperCorner": "90.0 168.80790000000002"
              }
             },
             "swes:description": "Offering for timeseries type DMQaQc.Merged.AsStored.1",
             "swes:identifier": "http://bom.gov.au/waterdata/services/tstypes/Pat9_C_B_1",
             "swes:name": "DMQaQc.Merged.AsStored.1",
             "swes:procedure": "http://bom.gov.au/waterdata/services/tstypes/Pat9_C_B_1"
            }
           },
           {
            "sos:ObservationOffering": {
             "sos:observedArea": {
              "gml:Envelope": {
               "@srsName": "http://www.opengis.net/def/crs/EPSG/0/4326",
               "gml:lowerCorner": "-90.0 -159.8474",
               "gml:upperCorner": "90.0 168.80790000000002"
              }
             },
             "swes:description": "Offering for timeseries type Received.Combined.AsStored.1",
             "swes:identifier": "http://bom.gov.au/waterdata/services/tstypes/R_PC_1ST",
             "swes:name": "Received.Combined.AsStored.1",
             "swes:procedure": "http://bom.gov.au/waterdata/services/tstypes/R_PC_1ST"
            }
           },
           {
            "sos:ObservationOffering": {
             "sos:observedArea": {
              "gml:Envelope": {
               "@srsName": "http://www.opengis.net/def/crs/EPSG/0/4326",
               "gml:lowerCorner": "-90.0 -159.8474",
               "gml:upperCorner": "90.0 168.80790000000002"
              }
             },
             "swes:description": "Offering for timeseries type Received.Provisional.AsStored.1",
             "swes:identifier": "http://bom.gov.au/waterdata/services/tstypes/R_P_1ST",
             "swes:name": "Received.Provisional.AsStored.1",
             "swes:procedure": "http://bom.gov.au/waterdata/services/tstypes/R_P_1ST"
            }
           },
           {
            "sos:ObservationOffering": {
             "sos:observedArea": {
              "gml:Envelope": {
               "@srsName": "http://www.opengis.net/def/crs/EPSG/0/4326",
               "gml:lowerCorner": "-90.0 -159.8474",
               "gml:upperCorner": "90.0 168.80790000000002"
              }
             },
             "swes:description": "Offering for timeseries type Harmonised.Combined.AsStored.1",
             "swes:identifier": "http://bom.gov.au/waterdata/services/tstypes/Pat1_PC_1",
             "swes:name": "Harmonised.Combined.AsStored.1",
             "swes:procedure": "http://bom.gov.au/waterdata/services/tstypes/Pat1_PC_1"
            }
           },
           {
            "sos:ObservationOffering": {
             "sos:observedArea": {
              "gml:Envelope": {
               "@srsName": "http://www.opengis.net/def/crs/EPSG/0/4326",
               "gml:lowerCorner": "-90.0 -159.8474",
               "gml:upperCorner": "90.0 168.80790000000002"
              }
             },
             "swes:description": "Offering for timeseries type DMQaQc.Merged.DailyMin.24HR",
             "swes:identifier": "http://bom.gov.au/waterdata/services/tstypes/Pat1_C_B_1_DailyMin",
             "swes:name": "DMQaQc.Merged.DailyMin.24HR",
             "swes:procedure": "http://bom.gov.au/waterdata/services/tstypes/Pat1_C_B_1_DailyMin"
            }
           },
           {
            "sos:ObservationOffering": {
             "sos:observedArea": {
              "gml:Envelope": {
               "@srsName": "http://www.opengis.net/def/crs/EPSG/0/4326",
               "gml:lowerCorner": "-90.0 -159.8474",
               "gml:upperCorner": "90.0 168.80790000000002"
              }
             },
             "swes:description": "Offering for timeseries type Received.Validated.AsStored.1",
             "swes:identifier": "http://bom.gov.au/waterdata/services/tstypes/R_V_1ST",
             "swes:name": "Received.Validated.AsStored.1",
             "swes:procedure": "http://bom.gov.au/waterdata/services/tstypes/R_V_1ST"
            }
           },
           {
            "sos:ObservationOffering": {
             "sos:observedArea": {
              "gml:Envelope": {
               "@srsName": "http://www.opengis.net/def/crs/EPSG/0/4326",
               "gml:lowerCorner": "-90.0 -159.8474",
               "gml:upperCorner": "90.0 168.80790000000002"
              }
             },
             "swes:description": "Offering for timeseries type CombinedProv.Merged.AsStored.1",
             "swes:identifier": "http://bom.gov.au/waterdata/services/tstypes/Pat9_P_C_1",
             "swes:name": "CombinedProv.Merged.AsStored.1",
             "swes:procedure": "http://bom.gov.au/waterdata/services/tstypes/Pat9_P_C_1"
            }
           },
           {
            "sos:ObservationOffering": {
             "sos:observedArea": {
              "gml:Envelope": {
               "@srsName": "http://www.opengis.net/def/crs/EPSG/0/4326",
               "gml:lowerCorner": "-90.0 -159.8474",
               "gml:upperCorner": "90.0 168.80790000000002"
              }
             },
             "swes:description": "Offering for timeseries type ObsPOR.Merged.AsStored.1",
             "swes:identifier": "http://bom.gov.au/waterdata/services/tstypes/Pat9_C_Std_1",
             "swes:name": "ObsPOR.Merged.AsStored.1",
             "swes:procedure": "http://bom.gov.au/waterdata/services/tstypes/Pat9_C_Std_1"
            }
           },
           {
            "sos:ObservationOffering": {
             "sos:observedArea": {
              "gml:Envelope": {
               "@srsName": "http://www.opengis.net/def/crs/EPSG/0/4326",
               "gml:lowerCorner": "-90.0 -159.8474",
               "gml:upperCorner": "90.0 168.80790000000002"
              }
             },
             "swes:description": "Offering for timeseries type Harmonised.Combined.AsStored.1",
             "swes:identifier": "http://bom.gov.au/waterdata/services/tstypes/Pat9_PC_1",
             "swes:name": "Harmonised.Combined.AsStored.1",
             "swes:procedure": "http://bom.gov.au/waterdata/services/tstypes/Pat9_PC_1"
            }
           },
           {
            "sos:ObservationOffering": {
             "sos:observedArea": {
              "gml:Envelope": {
               "@srsName": "http://www.opengis.net/def/crs/EPSG/0/4326",
               "gml:lowerCorner": "-90.0 -159.8474",
               "gml:upperCorner": "90.0 168.80790000000002"
              }
             },
             "swes:description": "Offering for timeseries type Standard.Validated.AsStored.1",
             "swes:identifier": "http://bom.gov.au/waterdata/services/tstypes/Pat9_V_Std_1",
             "swes:name": "Standard.Validated.AsStored.1",
             "swes:procedure": "http://bom.gov.au/waterdata/services/tstypes/Pat9_V_Std_1"
            }
           },
           {
            "sos:ObservationOffering": {
             "sos:observedArea": {
              "gml:Envelope": {
               "@srsName": "http://www.opengis.net/def/crs/EPSG/0/4326",
               "gml:lowerCorner": "-90.0 -159.8474",
               "gml:upperCorner": "90.0 168.80790000000002"
              }
             },
             "swes:description": "Offering for timeseries type Harmonised.Validated.AsStored.1",
             "swes:identifier": "http://bom.gov.au/waterdata/services/tstypes/Pat9_V_1",
             "swes:name": "Harmonised.Validated.AsStored.1",
             "swes:procedure": "http://bom.gov.au/waterdata/services/tstypes/Pat9_V_1"
            }
           },
           {
            "sos:ObservationOffering": {
             "sos:observedArea": {
              "gml:Envelope": {
               "@srsName": "http://www.opengis.net/def/crs/EPSG/0/4326",
               "gml:lowerCorner": "-90.0 -159.8474",
               "gml:upperCorner": "90.0 168.80790000000002"
              }
             },
             "swes:description": "Offering for timeseries type DMQaQc.Merged.AsStored.1",
             "swes:identifier": "http://bom.gov.au/waterdata/services/tstypes/Pat1_C_B_1",
             "swes:name": "DMQaQc.Merged.AsStored.1",
             "swes:procedure": "http://bom.gov.au/waterdata/services/tstypes/Pat1_C_B_1"
            }
           },
           {
            "sos:ObservationOffering": {
             "sos:observedArea": {
              "gml:Envelope": {
               "@srsName": "http://www.opengis.net/def/crs/EPSG/0/4326",
               "gml:lowerCorner": "-90.0 -159.8474",
               "gml:upperCorner": "90.0 168.80790000000002"
              }
             },
             "swes:description": "Offering for timeseries type DMQaQc.Merged.MonthlyMean.CalMonth",
             "swes:identifier": "http://bom.gov.au/waterdata/services/tstypes/Pat1_C_B_1_MonthlyMean",
             "swes:name": "DMQaQc.Merged.MonthlyMean.CalMonth",
             "swes:procedure": "http://bom.gov.au/waterdata/services/tstypes/Pat1_C_B_1_MonthlyMean"
            }
           },
           {
            "sos:ObservationOffering": {
             "sos:observedArea": {
              "gml:Envelope": {
               "@srsName": "http://www.opengis.net/def/crs/EPSG/0/4326",
               "gml:lowerCorner": "-90.0 -159.8474",
               "gml:upperCorner": "90.0 168.80790000000002"
              }
             },
             "swes:description": "Offering for timeseries type Received.Provisionalbest.AsStored.1",
             "swes:identifier": "http://bom.gov.au/waterdata/services/tstypes/R_PB_1ST",
             "swes:name": "Received.Provisionalbest.AsStored.1",
             "swes:procedure": "http://bom.gov.au/waterdata/services/tstypes/R_PB_1ST"
            }
           },
           {
            "sos:ObservationOffering": {
             "sos:observedArea": {
              "gml:Envelope": {
               "@srsName": "http://www.opengis.net/def/crs/EPSG/0/4326",
               "gml:lowerCorner": "-90.0 -159.8474",
               "gml:upperCorner": "90.0 168.80790000000002"
              }
             },
             "swes:description": "Offering for timeseries type ObsPOR.Merged.AsStored.1",
             "swes:identifier": "http://bom.gov.au/waterdata/services/tstypes/Pat2_C_STD_1",
             "swes:name": "ObsPOR.Merged.AsStored.1",
             "swes:procedure": "http://bom.gov.au/waterdata/services/tstypes/Pat2_C_STD_1"
            }
           },
           {
            "sos:ObservationOffering": {
             "sos:observedArea": {
              "gml:Envelope": {
               "@srsName": "http://www.opengis.net/def/crs/EPSG/0/4326",
               "gml:lowerCorner": "-90.0 -159.8474",
               "gml:upperCorner": "90.0 168.80790000000002"
              }
             },
             "swes:description": "Offering for timeseries type DMmanQC.Manual.AsStored.1",
             "swes:identifier": "http://bom.gov.au/waterdata/services/tstypes/Pat2_C_Std_Qcf_1",
             "swes:name": "DMmanQC.Manual.AsStored.1",
             "swes:procedure": "http://bom.gov.au/waterdata/services/tstypes/Pat2_C_Std_Qcf_1"
            }
           },
           {
            "sos:ObservationOffering": {
             "sos:observedArea": {
              "gml:Envelope": {
               "@srsName": "http://www.opengis.net/def/crs/EPSG/0/4326",
               "gml:lowerCorner": "-90.0 -159.8474",
               "gml:upperCorner": "90.0 168.80790000000002"
              }
             },
             "swes:description": "Offering for timeseries type DMQaQc.Merged.DailyTotal.09HR",
             "swes:identifier": "http://bom.gov.au/waterdata/services/tstypes/Pat2_C_B_1_DailyTot09",
             "swes:name": "DMQaQc.Merged.DailyTotal.09HR",
             "swes:procedure": "http://bom.gov.au/waterdata/services/tstypes/Pat2_C_B_1_DailyTot09"
            }
           },
           {
            "sos:ObservationOffering": {
             "sos:observedArea": {
              "gml:Envelope": {
               "@srsName": "http://www.opengis.net/def/crs/EPSG/0/4326",
               "gml:lowerCorner": "-90.0 -159.8474",
               "gml:upperCorner": "90.0 168.80790000000002"
              }
             },
             "swes:description": "Offering for timeseries type Received.ProvisionalFlood.AsStored.0",
             "swes:identifier": "http://bom.gov.au/waterdata/services/tstypes/Pat3_R_PF_0",
             "swes:name": "Received.ProvisionalFlood.AsStored.0",
             "swes:procedure": "http://bom.gov.au/waterdata/services/tstypes/Pat3_R_PF_0"
            }
           },
           {
            "sos:ObservationOffering": {
             "sos:observedArea": {
              "gml:Envelope": {
               "@srsName": "http://www.opengis.net/def/crs/EPSG/0/4326",
               "gml:lowerCorner": "-90.0 -159.8474",
               "gml:upperCorner": "90.0 168.80790000000002"
              }
             },
             "swes:description": "Offering for timeseries type Standard.Provisional.AsStored.1",
             "swes:identifier": "http://bom.gov.au/waterdata/services/tstypes/Pat9_P_Std_1",
             "swes:name": "Standard.Provisional.AsStored.1",
             "swes:procedure": "http://bom.gov.au/waterdata/services/tstypes/Pat9_P_Std_1"
            }
           },
           {
            "sos:ObservationOffering": {
             "sos:observedArea": {
              "gml:Envelope": {
               "@srsName": "http://www.opengis.net/def/crs/EPSG/0/4326",
               "gml:lowerCorner": "-90.0 -159.8474",
               "gml:upperCorner": "90.0 168.80790000000002"
              }
             },
             "swes:description": "Offering for timeseries type PR01ManQC.Manual.AsStored.1",
             "swes:identifier": "http://bom.gov.au/waterdata/services/tstypes/Pat4_C_Std_PR01ManQcf_1",
             "swes:name": "PR01ManQC.Manual.AsStored.1",
             "swes:procedure": "http://bom.gov.au/waterdata/services/tstypes/Pat4_C_Std_PR01ManQcf_1"
            }
           },
           {
            "sos:ObservationOffering": {
             "sos:observedArea": {
              "gml:Envelope": {
               "@srsName": "http://www.opengis.net/def/crs/EPSG/0/4326",
               "gml:lowerCorner": "-90.0 -159.8474",
               "gml:upperCorner": "90.0 168.80790000000002"
              }
             },
             "swes:description": "Offering for timeseries type PR01QaQc.Merged.Hourly.HR",
             "swes:identifier": "http://bom.gov.au/waterdata/services/tstypes/Pat4_C_B_1_Hourly_PR01",
             "swes:name": "PR01QaQc.Merged.Hourly.HR",
             "swes:procedure": "http://bom.gov.au/waterdata/services/tstypes/Pat4_C_B_1_Hourly_PR01"
            }
           },
           {
            "sos:ObservationOffering": {
             "sos:observedArea": {
              "gml:Envelope": {
               "@srsName": "http://www.opengis.net/def/crs/EPSG/0/4326",
               "gml:lowerCorner": "-90.0 -159.8474",
               "gml:upperCorner": "90.0 168.80790000000002"
              }
             },
             "swes:description": "Offering for timeseries type PR01ManQC.Manual.Daily.09HR",
             "swes:identifier": "http://bom.gov.au/waterdata/services/tstypes/Pat4_C_Std_PR01ManQcf_09hr",
             "swes:name": "PR01ManQC.Manual.Daily.09HR",
             "swes:procedure": "http://bom.gov.au/waterdata/services/tstypes/Pat4_C_Std_PR01ManQcf_09hr"
            }
           },
           {
            "sos:ObservationOffering": {
             "sos:observedArea": {
              "gml:Envelope": {
               "@srsName": "http://www.opengis.net/def/crs/EPSG/0/4326",
               "gml:lowerCorner": "-90.0 -159.8474",
               "gml:upperCorner": "90.0 168.80790000000002"
              }
             },
             "swes:description": "Offering for timeseries type PR01ManQC.Manual.Hourly.HR",
             "swes:identifier": "http://bom.gov.au/waterdata/services/tstypes/Pat4_C_Std_PR01ManQcf_HR",
             "swes:name": "PR01ManQC.Manual.Hourly.HR",
             "swes:procedure": "http://bom.gov.au/waterdata/services/tstypes/Pat4_C_Std_PR01ManQcf_HR"
            }
           },
           {
            "sos:ObservationOffering": {
             "sos:observedArea": {
              "gml:Envelope": {
               "@srsName": "http://www.opengis.net/def/crs/EPSG/0/4326",
               "gml:lowerCorner": "-90.0 -159.8474",
               "gml:upperCorner": "90.0 168.80790000000002"
              }
             },
             "swes:description": "Offering for timeseries type PR01QaQc.Merged.AsStored.1",
             "swes:identifier": "http://bom.gov.au/waterdata/services/tstypes/Pat4_C_B_1_PR01",
             "swes:name": "PR01QaQc.Merged.AsStored.1",
             "swes:procedure": "http://bom.gov.au/waterdata/services/tstypes/Pat4_C_B_1_PR01"
            }
           },
           {
            "sos:ObservationOffering": {
             "sos:observedArea": {
              "gml:Envelope": {
               "@srsName": "http://www.opengis.net/def/crs/EPSG/0/4326",
               "gml:lowerCorner": "-90.0 -159.8474",
               "gml:upperCorner": "90.0 168.80790000000002"
              }
             },
             "swes:description": "Offering for timeseries type PR01QaQc.Merged.HourlyMean.HR",
             "swes:identifier": "http://bom.gov.au/waterdata/services/tstypes/Pat4_C_B_1_HourlyMean_PR01",
             "swes:name": "PR01QaQc.Merged.HourlyMean.HR",
             "swes:procedure": "http://bom.gov.au/waterdata/services/tstypes/Pat4_C_B_1_HourlyMean_PR01"
            }
           },
           {
            "sos:ObservationOffering": {
             "sos:observedArea": {
              "gml:Envelope": {
               "@srsName": "http://www.opengis.net/def/crs/EPSG/0/4326",
               "gml:lowerCorner": "-90.0 -159.8474",
               "gml:upperCorner": "90.0 168.80790000000002"
              }
             },
             "swes:description": "Offering for timeseries type PR01QaQc.Merged.DailyMean.09HR",
             "swes:identifier": "http://bom.gov.au/waterdata/services/tstypes/Pat4_C_B_1_DailyMean09_PR01",
             "swes:name": "PR01QaQc.Merged.DailyMean.09HR",
             "swes:procedure": "http://bom.gov.au/waterdata/services/tstypes/Pat4_C_B_1_DailyMean09_PR01"
            }
           },
           {
            "sos:ObservationOffering": {
             "sos:observedArea": {
              "gml:Envelope": {
               "@srsName": "http://www.opengis.net/def/crs/EPSG/0/4326",
               "gml:lowerCorner": "-90.0 -159.8474",
               "gml:upperCorner": "90.0 168.80790000000002"
              }
             },
             "swes:description": "Offering for timeseries type CombinedProv.Merged.AsStored.1",
             "swes:identifier": "http://bom.gov.au/waterdata/services/tstypes/Pat3_P_C_1",
             "swes:name": "CombinedProv.Merged.AsStored.1",
             "swes:procedure": "http://bom.gov.au/waterdata/services/tstypes/Pat3_P_C_1"
            }
           },
           {
            "sos:ObservationOffering": {
             "sos:observedArea": {
              "gml:Envelope": {
               "@srsName": "http://www.opengis.net/def/crs/EPSG/0/4326",
               "gml:lowerCorner": "-90.0 -159.8474",
               "gml:upperCorner": "90.0 168.80790000000002"
              }
             },
             "swes:description": "Offering for timeseries type Harmonised.Combined.AsStored.1",
             "swes:identifier": "http://bom.gov.au/waterdata/services/tstypes/Pat3_PC_1",
             "swes:name": "Harmonised.Combined.AsStored.1",
             "swes:procedure": "http://bom.gov.au/waterdata/services/tstypes/Pat3_PC_1"
            }
           },
           {
            "sos:ObservationOffering": {
             "sos:observedArea": {
              "gml:Envelope": {
               "@srsName": "http://www.opengis.net/def/crs/EPSG/0/4326",
               "gml:lowerCorner": "-90.0 -159.8474",
               "gml:upperCorner": "90.0 168.80790000000002"
              }
             },
             "swes:description": "Offering for timeseries type DMQaQc.Auto.AsStored.1",
             "swes:identifier": "http://bom.gov.au/waterdata/services/tstypes/Pat3_C_Std_QaQc_1",
             "swes:name": "DMQaQc.Auto.AsStored.1",
             "swes:procedure": "http://bom.gov.au/waterdata/services/tstypes/Pat3_C_Std_QaQc_1"
            }
           },
           {
            "sos:ObservationOffering": {
             "sos:observedArea": {
              "gml:Envelope": {
               "@srsName": "http://www.opengis.net/def/crs/EPSG/0/4326",
               "gml:lowerCorner": "-90.0 -159.8474",
               "gml:upperCorner": "90.0 168.80790000000002"
              }
             },
             "swes:description": "Offering for timeseries type DMmanQC.Manual.AsStored.1",
             "swes:identifier": "http://bom.gov.au/waterdata/services/tstypes/Pat3_C_Std_Qcf_1",
             "swes:name": "DMmanQC.Manual.AsStored.1",
             "swes:procedure": "http://bom.gov.au/waterdata/services/tstypes/Pat3_C_Std_Qcf_1"
            }
           },
           {
            "sos:ObservationOffering": {
             "sos:observedArea": {
              "gml:Envelope": {
               "@srsName": "http://www.opengis.net/def/crs/EPSG/0/4326",
               "gml:lowerCorner": "-90.0 -159.8474",
               "gml:upperCorner": "90.0 168.80790000000002"
              }
             },
             "swes:description": "Offering for timeseries type Harmonised.Combined.AsStored.1",
             "swes:identifier": "http://bom.gov.au/waterdata/services/tstypes/Pat4_PC_1",
             "swes:name": "Harmonised.Combined.AsStored.1",
             "swes:procedure": "http://bom.gov.au/waterdata/services/tstypes/Pat4_PC_1"
            }
           },
           {
            "sos:ObservationOffering": {
             "sos:observedArea": {
              "gml:Envelope": {
               "@srsName": "http://www.opengis.net/def/crs/EPSG/0/4326",
               "gml:lowerCorner": "-90.0 -159.8474",
               "gml:upperCorner": "90.0 168.80790000000002"
              }
             },
             "swes:description": "Offering for timeseries type ObsPOR.Merged.AsStored.1",
             "swes:identifier": "http://bom.gov.au/waterdata/services/tstypes/Pat4_C_Std_1",
             "swes:name": "ObsPOR.Merged.AsStored.1",
             "swes:procedure": "http://bom.gov.au/waterdata/services/tstypes/Pat4_C_Std_1"
            }
           },
           {
            "sos:ObservationOffering": {
             "sos:observedArea": {
              "gml:Envelope": {
               "@srsName": "http://www.opengis.net/def/crs/EPSG/0/4326",
               "gml:lowerCorner": "-90.0 -159.8474",
               "gml:upperCorner": "90.0 168.80790000000002"
              }
             },
             "swes:description": "Offering for timeseries type DMQaQc.Merged.DailyMin.24HR",
             "swes:identifier": "http://bom.gov.au/waterdata/services/tstypes/Pat4_C_B_1_DailyMin",
             "swes:name": "DMQaQc.Merged.DailyMin.24HR",
             "swes:procedure": "http://bom.gov.au/waterdata/services/tstypes/Pat4_C_B_1_DailyMin"
            }
           },
           {
            "sos:ObservationOffering": {
             "sos:observedArea": {
              "gml:Envelope": {
               "@srsName": "http://www.opengis.net/def/crs/EPSG/0/4326",
               "gml:lowerCorner": "-90.0 -159.8474",
               "gml:upperCorner": "90.0 168.80790000000002"
              }
             },
             "swes:description": "Offering for timeseries type Harmonised.Provisional.AsStored.1",
             "swes:identifier": "http://bom.gov.au/waterdata/services/tstypes/Pat3_P_1",
             "swes:name": "Harmonised.Provisional.AsStored.1",
             "swes:procedure": "http://bom.gov.au/waterdata/services/tstypes/Pat3_P_1"
            }
           },
           {
            "sos:ObservationOffering": {
             "sos:observedArea": {
              "gml:Envelope": {
               "@srsName": "http://www.opengis.net/def/crs/EPSG/0/4326",
               "gml:lowerCorner": "-90.0 -159.8474",
               "gml:upperCorner": "90.0 168.80790000000002"
              }
             },
             "swes:description": "Offering for timeseries type Received.ProvisionalFlood.AsStored.4",
             "swes:identifier": "http://bom.gov.au/waterdata/services/tstypes/Pat3_R_PF_4",
             "swes:name": "Received.ProvisionalFlood.AsStored.4",
             "swes:procedure": "http://bom.gov.au/waterdata/services/tstypes/Pat3_R_PF_4"
            }
           },
           {
            "sos:ObservationOffering": {
             "sos:observedArea": {
              "gml:Envelope": {
               "@srsName": "http://www.opengis.net/def/crs/EPSG/0/4326",
               "gml:lowerCorner": "-90.0 -159.8474",
               "gml:upperCorner": "90.0 168.80790000000002"
              }
             },
             "swes:description": "Offering for timeseries type ObsPOR.Merged.AsStored.1",
             "swes:identifier": "http://bom.gov.au/waterdata/services/tstypes/Pat3_C_Std_1",
             "swes:name": "ObsPOR.Merged.AsStored.1",
             "swes:procedure": "http://bom.gov.au/waterdata/services/tstypes/Pat3_C_Std_1"
            }
           },
           {
            "sos:ObservationOffering": {
             "sos:observedArea": {
              "gml:Envelope": {
               "@srsName": "http://www.opengis.net/def/crs/EPSG/0/4326",
               "gml:lowerCorner": "-90.0 -159.8474",
               "gml:upperCorner": "90.0 168.80790000000002"
              }
             },
             "swes:description": "Offering for timeseries type DMQaQc.Merged.AsStored.1",
             "swes:identifier": "http://bom.gov.au/waterdata/services/tstypes/Pat4_C_B_1",
             "swes:name": "DMQaQc.Merged.AsStored.1",
             "swes:procedure": "http://bom.gov.au/waterdata/services/tstypes/Pat4_C_B_1"
            }
           },
           {
            "sos:ObservationOffering": {
             "sos:observedArea": {
              "gml:Envelope": {
               "@srsName": "http://www.opengis.net/def/crs/EPSG/0/4326",
               "gml:lowerCorner": "-90.0 -159.8474",
               "gml:upperCorner": "90.0 168.80790000000002"
              }
             },
             "swes:description": "Offering for timeseries type DMQaQc.Merged.MonthlyMean.CalMonth",
             "swes:identifier": "http://bom.gov.au/waterdata/services/tstypes/Pat4_C_B_1_MonthlyMean",
             "swes:name": "DMQaQc.Merged.MonthlyMean.CalMonth",
             "swes:procedure": "http://bom.gov.au/waterdata/services/tstypes/Pat4_C_B_1_MonthlyMean"
            }
           },
           {
            "sos:ObservationOffering": {
             "sos:observedArea": {
              "gml:Envelope": {
               "@srsName": "http://www.opengis.net/def/crs/EPSG/0/4326",
               "gml:lowerCorner": "-90.0 -159.8474",
               "gml:upperCorner": "90.0 168.80790000000002"
              }
             },
             "swes:description": "Offering for timeseries type Harmonised.Provisional.AsStored.1",
             "swes:identifier": "http://bom.gov.au/waterdata/services/tstypes/Pat4_P_1",
             "swes:name": "Harmonised.Provisional.AsStored.1",
             "swes:procedure": "http://bom.gov.au/waterdata/services/tstypes/Pat4_P_1"
            }
           },
           {
            "sos:ObservationOffering": {
             "sos:observedArea": {
              "gml:Envelope": {
               "@srsName": "http://www.opengis.net/def/crs/EPSG/0/4326",
               "gml:lowerCorner": "-90.0 -159.8474",
               "gml:upperCorner": "90.0 168.80790000000002"
              }
             },
             "swes:description": "Offering for timeseries type CombinedProv.Merged.AsStored.1",
             "swes:identifier": "http://bom.gov.au/waterdata/services/tstypes/Pat4_P_C_1",
             "swes:name": "CombinedProv.Merged.AsStored.1",
             "swes:procedure": "http://bom.gov.au/waterdata/services/tstypes/Pat4_P_C_1"
            }
           },
           {
            "sos:ObservationOffering": {
             "sos:observedArea": {
              "gml:Envelope": {
               "@srsName": "http://www.opengis.net/def/crs/EPSG/0/4326",
               "gml:lowerCorner": "-90.0 -159.8474",
               "gml:upperCorner": "90.0 168.80790000000002"
              }
             },
             "swes:description": "Offering for timeseries type DMQaQc.Merged.DailyMax.24HR",
             "swes:identifier": "http://bom.gov.au/waterdata/services/tstypes/Pat4_C_B_1_DailyMax",
             "swes:name": "DMQaQc.Merged.DailyMax.24HR",
             "swes:procedure": "http://bom.gov.au/waterdata/services/tstypes/Pat4_C_B_1_DailyMax"
            }
           },
           {
            "sos:ObservationOffering": {
             "sos:observedArea": {
              "gml:Envelope": {
               "@srsName": "http://www.opengis.net/def/crs/EPSG/0/4326",
               "gml:lowerCorner": "-90.0 -159.8474",
               "gml:upperCorner": "90.0 168.80790000000002"
              }
             },
             "swes:description": "Offering for timeseries type Received.ProvisionalFlood.AsStored.3",
             "swes:identifier": "http://bom.gov.au/waterdata/services/tstypes/Pat3_R_PF_3",
             "swes:name": "Received.ProvisionalFlood.AsStored.3",
             "swes:procedure": "http://bom.gov.au/waterdata/services/tstypes/Pat3_R_PF_3"
            }
           },
           {
            "sos:ObservationOffering": {
             "sos:observedArea": {
              "gml:Envelope": {
               "@srsName": "http://www.opengis.net/def/crs/EPSG/0/4326",
               "gml:lowerCorner": "-90.0 -159.8474",
               "gml:upperCorner": "90.0 168.80790000000002"
              }
             },
             "swes:description": "Offering for timeseries type DMQaQc.Merged.AsStored.1",
             "swes:identifier": "http://bom.gov.au/waterdata/services/tstypes/Pat3_C_B_1",
             "swes:name": "DMQaQc.Merged.AsStored.1",
             "swes:procedure": "http://bom.gov.au/waterdata/services/tstypes/Pat3_C_B_1"
            }
           },
           {
            "sos:ObservationOffering": {
             "sos:observedArea": {
              "gml:Envelope": {
               "@srsName": "http://www.opengis.net/def/crs/EPSG/0/4326",
               "gml:lowerCorner": "-90.0 -159.8474",
               "gml:upperCorner": "90.0 168.80790000000002"
              }
             },
             "swes:description": "Offering for timeseries type PR01ManQC.Manual.AsStored.1",
             "swes:identifier": "http://bom.gov.au/waterdata/services/tstypes/Pat3_C_PR01manQcf_1",
             "swes:name": "PR01ManQC.Manual.AsStored.1",
             "swes:procedure": "http://bom.gov.au/waterdata/services/tstypes/Pat3_C_PR01manQcf_1"
            }
           },
           {
            "sos:ObservationOffering": {
             "sos:observedArea": {
              "gml:Envelope": {
               "@srsName": "http://www.opengis.net/def/crs/EPSG/0/4326",
               "gml:lowerCorner": "-90.0 -159.8474",
               "gml:upperCorner": "90.0 168.80790000000002"
              }
             },
             "swes:description": "Offering for timeseries type DMQaQc.Merged.DailyMax.24HR",
             "swes:identifier": "http://bom.gov.au/waterdata/services/tstypes/Pat1_C_B_1_DailyMax",
             "swes:name": "DMQaQc.Merged.DailyMax.24HR",
             "swes:procedure": "http://bom.gov.au/waterdata/services/tstypes/Pat1_C_B_1_DailyMax"
            }
           },
           {
            "sos:ObservationOffering": {
             "sos:observedArea": {
              "gml:Envelope": {
               "@srsName": "http://www.opengis.net/def/crs/EPSG/0/4326",
               "gml:lowerCorner": "-90.0 -159.8474",
               "gml:upperCorner": "90.0 168.80790000000002"
              }
             },
             "swes:description": "Offering for timeseries type DMQaQc.Merged.DailyMean.24HR",
             "swes:identifier": "http://bom.gov.au/waterdata/services/tstypes/Pat4_C_B_1_DailyMean",
             "swes:name": "DMQaQc.Merged.DailyMean.24HR",
             "swes:procedure": "http://bom.gov.au/waterdata/services/tstypes/Pat4_C_B_1_DailyMean"
            }
           },
           {
            "sos:ObservationOffering": {
             "sos:observedArea": {
              "gml:Envelope": {
               "@srsName": "http://www.opengis.net/def/crs/EPSG/0/4326",
               "gml:lowerCorner": "-90.0 -159.8474",
               "gml:upperCorner": "90.0 168.80790000000002"
              }
             },
             "swes:description": "Offering for timeseries type ObsPOR.Merged.AsStored.1",
             "swes:identifier": "http://bom.gov.au/waterdata/services/tstypes/Pat1_C_Std_1",
             "swes:name": "ObsPOR.Merged.AsStored.1",
             "swes:procedure": "http://bom.gov.au/waterdata/services/tstypes/Pat1_C_Std_1"
            }
           },
           {
            "sos:ObservationOffering": {
             "sos:observedArea": {
              "gml:Envelope": {
               "@srsName": "http://www.opengis.net/def/crs/EPSG/0/4326",
               "gml:lowerCorner": "-90.0 -159.8474",
               "gml:upperCorner": "90.0 168.80790000000002"
              }
             },
             "swes:description": "Offering for timeseries type DMQaQc.Auto.AsStored.1",
             "swes:identifier": "http://bom.gov.au/waterdata/services/tstypes/Pat1_C_Std_QaQc_1",
             "swes:name": "DMQaQc.Auto.AsStored.1",
             "swes:procedure": "http://bom.gov.au/waterdata/services/tstypes/Pat1_C_Std_QaQc_1"
            }
           },
           {
            "sos:ObservationOffering": {
             "sos:observedArea": {
              "gml:Envelope": {
               "@srsName": "http://www.opengis.net/def/crs/EPSG/0/4326",
               "gml:lowerCorner": "-90.0 -159.8474",
               "gml:upperCorner": "90.0 168.80790000000002"
              }
             },
             "swes:description": "Offering for timeseries type Harmonised.Provisionalbest.AsStored.1",
             "swes:identifier": "http://bom.gov.au/waterdata/services/tstypes/Pat2_PB_1",
             "swes:name": "Harmonised.Provisionalbest.AsStored.1",
             "swes:procedure": "http://bom.gov.au/waterdata/services/tstypes/Pat2_PB_1"
            }
           },
           {
            "sos:ObservationOffering": {
             "sos:observedArea": {
              "gml:Envelope": {
               "@srsName": "http://www.opengis.net/def/crs/EPSG/0/4326",
               "gml:lowerCorner": "-90.0 -159.8474",
               "gml:upperCorner": "90.0 168.80790000000002"
              }
             },
             "swes:description": "Offering for timeseries type DMQaQc.Auto.AsStored.1",
             "swes:identifier": "http://bom.gov.au/waterdata/services/tstypes/Pat4_C_Std_QaQc_1",
             "swes:name": "DMQaQc.Auto.AsStored.1",
             "swes:procedure": "http://bom.gov.au/waterdata/services/tstypes/Pat4_C_Std_QaQc_1"
            }
           },
           {
            "sos:ObservationOffering": {
             "sos:observedArea": {
              "gml:Envelope": {
               "@srsName": "http://www.opengis.net/def/crs/EPSG/0/4326",
               "gml:lowerCorner": "-90.0 -159.8474",
               "gml:upperCorner": "90.0 168.80790000000002"
              }
             },
             "swes:description": "Offering for timeseries type DMmanQC.Manual.AsStored.1",
             "swes:identifier": "http://bom.gov.au/waterdata/services/tstypes/Pat4_C_Std_DMmanQcf_1",
             "swes:name": "DMmanQC.Manual.AsStored.1",
             "swes:procedure": "http://bom.gov.au/waterdata/services/tstypes/Pat4_C_Std_DMmanQcf_1"
            }
           },
           {
            "sos:ObservationOffering": {
             "sos:observedArea": {
              "gml:Envelope": {
               "@srsName": "http://www.opengis.net/def/crs/EPSG/0/4326",
               "gml:lowerCorner": "-90.0 -159.8474",
               "gml:upperCorner": "90.0 168.80790000000002"
              }
             },
             "swes:description": "Offering for timeseries type Harmonised.Provisional.AsStored.1",
             "swes:identifier": "http://bom.gov.au/waterdata/services/tstypes/Pat1_P_1",
             "swes:name": "Harmonised.Provisional.AsStored.1",
             "swes:procedure": "http://bom.gov.au/waterdata/services/tstypes/Pat1_P_1"
            }
           },
           {
            "sos:ObservationOffering": {
             "sos:observedArea": {
              "gml:Envelope": {
               "@srsName": "http://www.opengis.net/def/crs/EPSG/0/4326",
               "gml:lowerCorner": "-90.0 -159.8474",
               "gml:upperCorner": "90.0 168.80790000000002"
              }
             },
             "swes:description": "Offering for timeseries type Harmonised.Provisionalbest.AsStored.1",
             "swes:identifier": "http://bom.gov.au/waterdata/services/tstypes/Pat1_PB_1",
             "swes:name": "Harmonised.Provisionalbest.AsStored.1",
             "swes:procedure": "http://bom.gov.au/waterdata/services/tstypes/Pat1_PB_1"
            }
           },
           {
            "sos:ObservationOffering": {
             "sos:observedArea": {
              "gml:Envelope": {
               "@srsName": "http://www.opengis.net/def/crs/EPSG/0/4326",
               "gml:lowerCorner": "-90.0 -159.8474",
               "gml:upperCorner": "90.0 168.80790000000002"
              }
             },
             "swes:description": "Offering for timeseries type DMQaQc.Merged.HourlyMean.HR",
             "swes:identifier": "http://bom.gov.au/waterdata/services/tstypes/Pat4_C_B_1_HourlyMean",
             "swes:name": "DMQaQc.Merged.HourlyMean.HR",
             "swes:procedure": "http://bom.gov.au/waterdata/services/tstypes/Pat4_C_B_1_HourlyMean"
            }
           },
           {
            "sos:ObservationOffering": {
             "sos:observedArea": {
              "gml:Envelope": {
               "@srsName": "http://www.opengis.net/def/crs/EPSG/0/4326",
               "gml:lowerCorner": "-90.0 -159.8474",
               "gml:upperCorner": "90.0 168.80790000000002"
              }
             },
             "swes:description": "Offering for timeseries type DMQaQc.Merged.DailyMean.09HR",
             "swes:identifier": "http://bom.gov.au/waterdata/services/tstypes/Pat4_C_B_1_DailyMean09",
             "swes:name": "DMQaQc.Merged.DailyMean.09HR",
             "swes:procedure": "http://bom.gov.au/waterdata/services/tstypes/Pat4_C_B_1_DailyMean09"
            }
           },
           {
            "sos:ObservationOffering": {
             "sos:observedArea": {
              "gml:Envelope": {
               "@srsName": "http://www.opengis.net/def/crs/EPSG/0/4326",
               "gml:lowerCorner": "-90.0 -159.8474",
               "gml:upperCorner": "90.0 168.80790000000002"
              }
             },
             "swes:description": "Offering for timeseries type Received.ProvisionalFlood.AsStored.2",
             "swes:identifier": "http://bom.gov.au/waterdata/services/tstypes/Pat3_R_PF_2",
             "swes:name": "Received.ProvisionalFlood.AsStored.2",
             "swes:procedure": "http://bom.gov.au/waterdata/services/tstypes/Pat3_R_PF_2"
            }
           },
           {
            "sos:ObservationOffering": {
             "sos:observedArea": {
              "gml:Envelope": {
               "@srsName": "http://www.opengis.net/def/crs/EPSG/0/4326",
               "gml:lowerCorner": "-90.0 -159.8474",
               "gml:upperCorner": "90.0 168.80790000000002"
              }
             },
             "swes:description": "Offering for timeseries type DMQaQc.Merged.YearlyMean.CalYear",
             "swes:identifier": "http://bom.gov.au/waterdata/services/tstypes/Pat3_C_B_1_YearlyMean",
             "swes:name": "DMQaQc.Merged.YearlyMean.CalYear",
             "swes:procedure": "http://bom.gov.au/waterdata/services/tstypes/Pat3_C_B_1_YearlyMean"
            }
           },
           {
            "sos:ObservationOffering": {
             "sos:observedArea": {
              "gml:Envelope": {
               "@srsName": "http://www.opengis.net/def/crs/EPSG/0/4326",
               "gml:lowerCorner": "-90.0 -159.8474",
               "gml:upperCorner": "90.0 168.80790000000002"
              }
             },
             "swes:description": "Offering for timeseries type CombinedProv.Merged.AsStored.1",
             "swes:identifier": "http://bom.gov.au/waterdata/services/tstypes/Pat1_P_C_1",
             "swes:name": "CombinedProv.Merged.AsStored.1",
             "swes:procedure": "http://bom.gov.au/waterdata/services/tstypes/Pat1_P_C_1"
            }
           },
           {
            "sos:ObservationOffering": {
             "sos:observedArea": {
              "gml:Envelope": {
               "@srsName": "http://www.opengis.net/def/crs/EPSG/0/4326",
               "gml:lowerCorner": "-90.0 -159.8474",
               "gml:upperCorner": "90.0 168.80790000000002"
              }
             },
             "swes:description": "Offering for timeseries type Harmonised.Validated.AsStored.1",
             "swes:identifier": "http://bom.gov.au/waterdata/services/tstypes/Pat1_V_1",
             "swes:name": "Harmonised.Validated.AsStored.1",
             "swes:procedure": "http://bom.gov.au/waterdata/services/tstypes/Pat1_V_1"
            }
           },
           {
            "sos:ObservationOffering": {
             "sos:observedArea": {
              "gml:Envelope": {
               "@srsName": "http://www.opengis.net/def/crs/EPSG/0/4326",
               "gml:lowerCorner": "-90.0 -159.8474",
               "gml:upperCorner": "90.0 168.80790000000002"
              }
             },
             "swes:description": "Offering for timeseries type Harmonised.Validated.AsStored.1",
             "swes:identifier": "http://bom.gov.au/waterdata/services/tstypes/Pat4_V_1",
             "swes:name": "Harmonised.Validated.AsStored.1",
             "swes:procedure": "http://bom.gov.au/waterdata/services/tstypes/Pat4_V_1"
            }
           },
           {
            "sos:ObservationOffering": {
             "sos:observedArea": {
              "gml:Envelope": {
               "@srsName": "http://www.opengis.net/def/crs/EPSG/0/4326",
               "gml:lowerCorner": "-90.0 -159.8474",
               "gml:upperCorner": "90.0 168.80790000000002"
              }
             },
             "swes:description": "Offering for timeseries type DMQaQc.Merged.YearlyMean.CalYear",
             "swes:identifier": "http://bom.gov.au/waterdata/services/tstypes/Pat4_C_B_1_YearlyMean",
             "swes:name": "DMQaQc.Merged.YearlyMean.CalYear",
             "swes:procedure": "http://bom.gov.au/waterdata/services/tstypes/Pat4_C_B_1_YearlyMean"
            }
           },
           {
            "sos:ObservationOffering": {
             "sos:observedArea": {
              "gml:Envelope": {
               "@srsName": "http://www.opengis.net/def/crs/EPSG/0/4326",
               "gml:lowerCorner": "-90.0 -159.8474",
               "gml:upperCorner": "90.0 168.80790000000002"
              }
             },
             "swes:description": "Offering for timeseries type DMQaQc.Merged.DailyMin.24HR",
             "swes:identifier": "http://bom.gov.au/waterdata/services/tstypes/Pat3_C_B_1_DailyMin",
             "swes:name": "DMQaQc.Merged.DailyMin.24HR",
             "swes:procedure": "http://bom.gov.au/waterdata/services/tstypes/Pat3_C_B_1_DailyMin"
            }
           },
           {
            "sos:ObservationOffering": {
             "sos:observedArea": {
              "gml:Envelope": {
               "@srsName": "http://www.opengis.net/def/crs/EPSG/0/4326",
               "gml:lowerCorner": "-90.0 -159.8474",
               "gml:upperCorner": "90.0 168.80790000000002"
              }
             },
             "swes:description": "Offering for timeseries type Harmonised.Validated.AsStored.1",
             "swes:identifier": "http://bom.gov.au/waterdata/services/tstypes/Pat3_V_1",
             "swes:name": "Harmonised.Validated.AsStored.1",
             "swes:procedure": "http://bom.gov.au/waterdata/services/tstypes/Pat3_V_1"
            }
           },
           {
            "sos:ObservationOffering": {
             "sos:observedArea": {
              "gml:Envelope": {
               "@srsName": "http://www.opengis.net/def/crs/EPSG/0/4326",
               "gml:lowerCorner": "-90.0 -159.8474",
               "gml:upperCorner": "90.0 168.80790000000002"
              }
             },
             "swes:description": "Offering for timeseries type DMQaQc.Merged.DailyMean.24HR",
             "swes:identifier": "http://bom.gov.au/waterdata/services/tstypes/Pat3_C_B_1_DailyMean",
             "swes:name": "DMQaQc.Merged.DailyMean.24HR",
             "swes:procedure": "http://bom.gov.au/waterdata/services/tstypes/Pat3_C_B_1_DailyMean"
            }
           },
           {
            "sos:ObservationOffering": {
             "sos:observedArea": {
              "gml:Envelope": {
               "@srsName": "http://www.opengis.net/def/crs/EPSG/0/4326",
               "gml:lowerCorner": "-90.0 -159.8474",
               "gml:upperCorner": "90.0 168.80790000000002"
              }
             },
             "swes:description": "Offering for timeseries type DMQaQc.Merged.MonthlyMean.CalMonth",
             "swes:identifier": "http://bom.gov.au/waterdata/services/tstypes/Pat3_C_B_1_MonthlyMean",
             "swes:name": "DMQaQc.Merged.MonthlyMean.CalMonth",
             "swes:procedure": "http://bom.gov.au/waterdata/services/tstypes/Pat3_C_B_1_MonthlyMean"
            }
           },
           {
            "sos:ObservationOffering": {
             "sos:observedArea": {
              "gml:Envelope": {
               "@srsName": "http://www.opengis.net/def/crs/EPSG/0/4326",
               "gml:lowerCorner": "-90.0 -159.8474",
               "gml:upperCorner": "90.0 168.80790000000002"
              }
             },
             "swes:description": "Offering for timeseries type DMQaQc.Merged.YearlyMean.CalYear",
             "swes:identifier": "http://bom.gov.au/waterdata/services/tstypes/Pat1_C_B_1_YearlyMean",
             "swes:name": "DMQaQc.Merged.YearlyMean.CalYear",
             "swes:procedure": "http://bom.gov.au/waterdata/services/tstypes/Pat1_C_B_1_YearlyMean"
            }
           },
           {
            "sos:ObservationOffering": {
             "sos:observedArea": {
              "gml:Envelope": {
               "@srsName": "http://www.opengis.net/def/crs/EPSG/0/4326",
               "gml:lowerCorner": "-90.0 -159.8474",
               "gml:upperCorner": "90.0 168.80790000000002"
              }
             },
             "swes:description": "Offering for timeseries type DMQaQc.Merged.DailyMean.24HR",
             "swes:identifier": "http://bom.gov.au/waterdata/services/tstypes/Pat1_C_B_1_DailyMean",
             "swes:name": "DMQaQc.Merged.DailyMean.24HR",
             "swes:procedure": "http://bom.gov.au/waterdata/services/tstypes/Pat1_C_B_1_DailyMean"
            }
           },
           {
            "sos:ObservationOffering": {
             "sos:observedArea": {
              "gml:Envelope": {
               "@srsName": "http://www.opengis.net/def/crs/EPSG/0/4326",
               "gml:lowerCorner": "-90.0 -159.8474",
               "gml:upperCorner": "90.0 168.80790000000002"
              }
             },
             "swes:description": "Offering for timeseries type Harmonised.Provisionalbest.AsStored.1",
             "swes:identifier": "http://bom.gov.au/waterdata/services/tstypes/Pat4_PB_1",
             "swes:name": "Harmonised.Provisionalbest.AsStored.1",
             "swes:procedure": "http://bom.gov.au/waterdata/services/tstypes/Pat4_PB_1"
            }
           },
           {
            "sos:ObservationOffering": {
             "sos:observedArea": {
              "gml:Envelope": {
               "@srsName": "http://www.opengis.net/def/crs/EPSG/0/4326",
               "gml:lowerCorner": "-90.0 -159.8474",
               "gml:upperCorner": "90.0 168.80790000000002"
              }
             },
             "swes:description": "Offering for timeseries type DMQaQc.Merged.DailyTotal.24HR",
             "swes:identifier": "http://bom.gov.au/waterdata/services/tstypes/Pat2_C_B_1_DailyTot24",
             "swes:name": "DMQaQc.Merged.DailyTotal.24HR",
             "swes:procedure": "http://bom.gov.au/waterdata/services/tstypes/Pat2_C_B_1_DailyTot24"
            }
           },
           {
            "sos:ObservationOffering": {
             "sos:observedArea": {
              "gml:Envelope": {
               "@srsName": "http://www.opengis.net/def/crs/EPSG/0/4326",
               "gml:lowerCorner": "-90.0 -159.8474",
               "gml:upperCorner": "90.0 168.80790000000002"
              }
             },
             "swes:description": "Offering for timeseries type DMmanQC.Manual.AsStored.1",
             "swes:identifier": "http://bom.gov.au/waterdata/services/tstypes/Pat1_C_Std_Qcf_1",
             "swes:name": "DMmanQC.Manual.AsStored.1",
             "swes:procedure": "http://bom.gov.au/waterdata/services/tstypes/Pat1_C_Std_Qcf_1"
            }
           },
           {
            "sos:ObservationOffering": {
             "sos:observedArea": {
              "gml:Envelope": {
               "@srsName": "http://www.opengis.net/def/crs/EPSG/0/4326",
               "gml:lowerCorner": "-90.0 -159.8474",
               "gml:upperCorner": "90.0 168.80790000000002"
              }
             },
             "swes:description": "Offering for timeseries type Harmonised.Validated.AsStored.1",
             "swes:identifier": "http://bom.gov.au/waterdata/services/tstypes/Pat2_V_1",
             "swes:name": "Harmonised.Validated.AsStored.1",
             "swes:procedure": "http://bom.gov.au/waterdata/services/tstypes/Pat2_V_1"
            }
           },
           {
            "sos:ObservationOffering": {
             "sos:observedArea": {
              "gml:Envelope": {
               "@srsName": "http://www.opengis.net/def/crs/EPSG/0/4326",
               "gml:lowerCorner": "-90.0 -159.8474",
               "gml:upperCorner": "90.0 168.80790000000002"
              }
             },
             "swes:description": "Offering for timeseries type CombinedProv.Merged.AsStored.1",
             "swes:identifier": "http://bom.gov.au/waterdata/services/tstypes/Pat2_P_C_1",
             "swes:name": "CombinedProv.Merged.AsStored.1",
             "swes:procedure": "http://bom.gov.au/waterdata/services/tstypes/Pat2_P_C_1"
            }
           },
           {
            "sos:ObservationOffering": {
             "sos:observedArea": {
              "gml:Envelope": {
               "@srsName": "http://www.opengis.net/def/crs/EPSG/0/4326",
               "gml:lowerCorner": "-90.0 -159.8474",
               "gml:upperCorner": "90.0 168.80790000000002"
              }
             },
             "swes:description": "Offering for timeseries type DMQaQc.Merged.AsStored.1",
             "swes:identifier": "http://bom.gov.au/waterdata/services/tstypes/Pat2_C_B_1",
             "swes:name": "DMQaQc.Merged.AsStored.1",
             "swes:procedure": "http://bom.gov.au/waterdata/services/tstypes/Pat2_C_B_1"
            }
           },
           {
            "sos:ObservationOffering": {
             "sos:observedArea": {
              "gml:Envelope": {
               "@srsName": "http://www.opengis.net/def/crs/EPSG/0/4326",
               "gml:lowerCorner": "-90.0 -159.8474",
               "gml:upperCorner": "90.0 168.80790000000002"
              }
             },
             "swes:description": "Offering for timeseries type DMQaQc.Merged.MonthlyTotal.CalMonth",
             "swes:identifier": "http://bom.gov.au/waterdata/services/tstypes/Pat2_C_B_1_MonthlyTot24",
             "swes:name": "DMQaQc.Merged.MonthlyTotal.CalMonth",
             "swes:procedure": "http://bom.gov.au/waterdata/services/tstypes/Pat2_C_B_1_MonthlyTot24"
            }
           },
           {
            "sos:ObservationOffering": {
             "sos:observedArea": {
              "gml:Envelope": {
               "@srsName": "http://www.opengis.net/def/crs/EPSG/0/4326",
               "gml:lowerCorner": "-90.0 -159.8474",
               "gml:upperCorner": "90.0 168.80790000000002"
              }
             },
             "swes:description": "Offering for timeseries type DMQaQc.Merged.YearlyTotal.CalYear",
             "swes:identifier": "http://bom.gov.au/waterdata/services/tstypes/Pat2_C_B_1_YearlyTot24",
             "swes:name": "DMQaQc.Merged.YearlyTotal.CalYear",
             "swes:procedure": "http://bom.gov.au/waterdata/services/tstypes/Pat2_C_B_1_YearlyTot24"
            }
           },
           {
            "sos:ObservationOffering": {
             "sos:observedArea": {
              "gml:Envelope": {
               "@srsName": "http://www.opengis.net/def/crs/EPSG/0/4326",
               "gml:lowerCorner": "-90.0 -159.8474",
               "gml:upperCorner": "90.0 168.80790000000002"
              }
             },
             "swes:description": "Offering for timeseries type Derived.Flood.AsStored.1",
             "swes:identifier": "http://bom.gov.au/waterdata/services/tstypes/Pat4_D_F_1",
             "swes:name": "Derived.Flood.AsStored.1",
             "swes:procedure": "http://bom.gov.au/waterdata/services/tstypes/Pat4_D_F_1"
            }
           },
           {
            "sos:ObservationOffering": {
             "sos:observedArea": {
              "gml:Envelope": {
               "@srsName": "http://www.opengis.net/def/crs/EPSG/0/4326",
               "gml:lowerCorner": "-90.0 -159.8474",
               "gml:upperCorner": "90.0 168.80790000000002"
              }
             },
             "swes:description": "Offering for timeseries type Derived.Merged.AsStored.1",
             "swes:identifier": "http://bom.gov.au/waterdata/services/tstypes/Pat4_D_1",
             "swes:name": "Derived.Merged.AsStored.1",
             "swes:procedure": "http://bom.gov.au/waterdata/services/tstypes/Pat4_D_1"
            }
           },
           {
            "sos:ObservationOffering": {
             "sos:observedArea": {
              "gml:Envelope": {
               "@srsName": "http://www.opengis.net/def/crs/EPSG/0/4326",
               "gml:lowerCorner": "-90.0 -159.8474",
               "gml:upperCorner": "90.0 168.80790000000002"
              }
             },
             "swes:description": "Offering for timeseries type PR00QaQc.Merged.AsStored.1",
             "swes:identifier": "http://bom.gov.au/waterdata/services/tstypes/Pat2_C_B_1_PR00",
             "swes:name": "PR00QaQc.Merged.AsStored.1",
             "swes:procedure": "http://bom.gov.au/waterdata/services/tstypes/Pat2_C_B_1_PR00"
            }
           },
           {
            "sos:ObservationOffering": {
             "sos:observedArea": {
              "gml:Envelope": {
               "@srsName": "http://www.opengis.net/def/crs/EPSG/0/4326",
               "gml:lowerCorner": "-90.0 -159.8474",
               "gml:upperCorner": "90.0 168.80790000000002"
              }
             },
             "swes:description": "Offering for timeseries type Harmonised.Provisionalbest.AsStored.1",
             "swes:identifier": "http://bom.gov.au/waterdata/services/tstypes/Pat3_PB_1",
             "swes:name": "Harmonised.Provisionalbest.AsStored.1",
             "swes:procedure": "http://bom.gov.au/waterdata/services/tstypes/Pat3_PB_1"
            }
           },
           {
            "sos:ObservationOffering": {
             "sos:observedArea": {
              "gml:Envelope": {
               "@srsName": "http://www.opengis.net/def/crs/EPSG/0/4326",
               "gml:lowerCorner": "-90.0 -159.8474",
               "gml:upperCorner": "90.0 168.80790000000002"
              }
             },
             "swes:description": "Offering for timeseries type Received.ProvisionalFlood.AsStored.1",
             "swes:identifier": "http://bom.gov.au/waterdata/services/tstypes/Pat3_R_PF_1",
             "swes:name": "Received.ProvisionalFlood.AsStored.1",
             "swes:procedure": "http://bom.gov.au/waterdata/services/tstypes/Pat3_R_PF_1"
            }
           },
           {
            "sos:ObservationOffering": {
             "sos:observedArea": {
              "gml:Envelope": {
               "@srsName": "http://www.opengis.net/def/crs/EPSG/0/4326",
               "gml:lowerCorner": "-90.0 -159.8474",
               "gml:upperCorner": "90.0 168.80790000000002"
              }
             },
             "swes:description": "Offering for timeseries type DMQaQc.Merged.DailyMax.24HR",
             "swes:identifier": "http://bom.gov.au/waterdata/services/tstypes/Pat3_C_B_1_DailyMax",
             "swes:name": "DMQaQc.Merged.DailyMax.24HR",
             "swes:procedure": "http://bom.gov.au/waterdata/services/tstypes/Pat3_C_B_1_DailyMax"
            }
           },
           {
            "sos:ObservationOffering": {
             "sos:observedArea": {
              "gml:Envelope": {
               "@srsName": "http://www.opengis.net/def/crs/EPSG/0/4326",
               "gml:lowerCorner": "-90.0 -159.8474",
               "gml:upperCorner": "90.0 168.80790000000002"
              }
             },
             "swes:description": "Offering for timeseries type Harmonised.Provisional.AsStored.1",
             "swes:identifier": "http://bom.gov.au/waterdata/services/tstypes/Pat2_P_1",
             "swes:name": "Harmonised.Provisional.AsStored.1",
             "swes:procedure": "http://bom.gov.au/waterdata/services/tstypes/Pat2_P_1"
            }
           },
           {
            "sos:ObservationOffering": {
             "sos:observedArea": {
              "gml:Envelope": {
               "@srsName": "http://www.opengis.net/def/crs/EPSG/0/4326",
               "gml:lowerCorner": "-90.0 -159.8474",
               "gml:upperCorner": "90.0 168.80790000000002"
              }
             },
             "swes:description": "Offering for timeseries type PR01QaQc.Merged.Daily.09HR",
             "swes:identifier": "http://bom.gov.au/waterdata/services/tstypes/Pat4_C_B_1_Daily09_PR01",
             "swes:name": "PR01QaQc.Merged.Daily.09HR",
             "swes:procedure": "http://bom.gov.au/waterdata/services/tstypes/Pat4_C_B_1_Daily09_PR01"
            }
           },
           {
            "sos:ObservationOffering": {
             "sos:observedArea": {
              "gml:Envelope": {
               "@srsName": "http://www.opengis.net/def/crs/EPSG/0/4326",
               "gml:lowerCorner": "-90.0 -159.8474",
               "gml:upperCorner": "90.0 168.80790000000002"
              }
             },
             "swes:description": "Offering for timeseries type Harmonised.Combined.AsStored.1",
             "swes:identifier": "http://bom.gov.au/waterdata/services/tstypes/Pat2_PC_1",
             "swes:name": "Harmonised.Combined.AsStored.1",
             "swes:procedure": "http://bom.gov.au/waterdata/services/tstypes/Pat2_PC_1"
            }
           },
           {
            "sos:ObservationOffering": {
             "sos:observedArea": {
              "gml:Envelope": {
               "@srsName": "http://www.opengis.net/def/crs/EPSG/0/4326",
               "gml:lowerCorner": "-90.0 -159.8474",
               "gml:upperCorner": "90.0 168.80790000000002"
              }
             },
             "swes:description": "Offering for timeseries type DMQaQc.Auto.AsStored.1",
             "swes:identifier": "http://bom.gov.au/waterdata/services/tstypes/Pat2_C_Std_QaQc_1",
             "swes:name": "DMQaQc.Auto.AsStored.1",
             "swes:procedure": "http://bom.gov.au/waterdata/services/tstypes/Pat2_C_Std_QaQc_1"
            }
           },
           {
            "sos:ObservationOffering": {
             "sos:observedArea": {
              "gml:Envelope": {
               "@srsName": "http://www.opengis.net/def/crs/EPSG/0/4326",
               "gml:lowerCorner": "-90.0 -159.8474",
               "gml:upperCorner": "90.0 168.80790000000002"
              }
             },
             "swes:description": "Offering for timeseries type Harmonised.ProvisionalFlood.AsStored.1",
             "swes:identifier": "http://bom.gov.au/waterdata/services/tstypes/Pat3_PF_1",
             "swes:name": "Harmonised.ProvisionalFlood.AsStored.1",
             "swes:procedure": "http://bom.gov.au/waterdata/services/tstypes/Pat3_PF_1"
            }
           },
           {
            "sos:ObservationOffering": {
             "sos:observedArea": {
              "gml:Envelope": {
               "@srsName": "http://www.opengis.net/def/crs/EPSG/0/4326",
               "gml:lowerCorner": "-90.0 -159.8474",
               "gml:upperCorner": "90.0 168.80790000000002"
              }
             },
             "swes:description": "Offering for timeseries type DMQaQc.Merged.HourlyMean.HR",
             "swes:identifier": "http://bom.gov.au/waterdata/services/tstypes/Pat3_C_B_1_HourlyMean",
             "swes:name": "DMQaQc.Merged.HourlyMean.HR",
             "swes:procedure": "http://bom.gov.au/waterdata/services/tstypes/Pat3_C_B_1_HourlyMean"
            }
           },
           {
            "sos:ObservationOffering": {
             "sos:observedArea": {
              "gml:Envelope": {
               "@srsName": "http://www.opengis.net/def/crs/EPSG/0/4326",
               "gml:lowerCorner": "-90.0 -159.8474",
               "gml:upperCorner": "90.0 168.80790000000002"
              }
             },
             "swes:description": "Offering for timeseries type Harmonised.Provisional.AsStored.1",
             "swes:identifier": "http://bom.gov.au/waterdata/services/tstypes/Pat7_P_1",
             "swes:name": "Harmonised.Provisional.AsStored.1",
             "swes:procedure": "http://bom.gov.au/waterdata/services/tstypes/Pat7_P_1"
            }
           },
           {
            "sos:ObservationOffering": {
             "sos:observedArea": {
              "gml:Envelope": {
               "@srsName": "http://www.opengis.net/def/crs/EPSG/0/4326",
               "gml:lowerCorner": "-90.0 -159.8474",
               "gml:upperCorner": "90.0 168.80790000000002"
              }
             },
             "swes:description": "Offering for timeseries type DMmanQC.Manual.AsStored.1",
             "swes:identifier": "http://bom.gov.au/waterdata/services/tstypes/Pat6_C_Std_Qcf_1",
             "swes:name": "DMmanQC.Manual.AsStored.1",
             "swes:procedure": "http://bom.gov.au/waterdata/services/tstypes/Pat6_C_Std_Qcf_1"
            }
           },
           {
            "sos:ObservationOffering": {
             "sos:observedArea": {
              "gml:Envelope": {
               "@srsName": "http://www.opengis.net/def/crs/EPSG/0/4326",
               "gml:lowerCorner": "-90.0 -159.8474",
               "gml:upperCorner": "90.0 168.80790000000002"
              }
             },
             "swes:description": "Offering for timeseries type Derived.Merged.AsStored.1",
             "swes:identifier": "http://bom.gov.au/waterdata/services/tstypes/Pat6_D_1",
             "swes:name": "Derived.Merged.AsStored.1",
             "swes:procedure": "http://bom.gov.au/waterdata/services/tstypes/Pat6_D_1"
            }
           },
           {
            "sos:ObservationOffering": {
             "sos:observedArea": {
              "gml:Envelope": {
               "@srsName": "http://www.opengis.net/def/crs/EPSG/0/4326",
               "gml:lowerCorner": "-90.0 -159.8474",
               "gml:upperCorner": "90.0 168.80790000000002"
              }
             },
             "swes:description": "Offering for timeseries type PR02AVQaQc.Merged.DailyMean.24HR",
             "swes:identifier": "http://bom.gov.au/waterdata/services/tstypes/Pat6_PR02_AV_1_DailyMean",
             "swes:name": "PR02AVQaQc.Merged.DailyMean.24HR",
             "swes:procedure": "http://bom.gov.au/waterdata/services/tstypes/Pat6_PR02_AV_1_DailyMean"
            }
           },
           {
            "sos:ObservationOffering": {
             "sos:observedArea": {
              "gml:Envelope": {
               "@srsName": "http://www.opengis.net/def/crs/EPSG/0/4326",
               "gml:lowerCorner": "-90.0 -159.8474",
               "gml:upperCorner": "90.0 168.80790000000002"
              }
             },
             "swes:description": "Offering for timeseries type PR02AHDQaQc.Merged.AsStored.1",
             "swes:identifier": "http://bom.gov.au/waterdata/services/tstypes/Pat7_PR02_AHD_1",
             "swes:name": "PR02AHDQaQc.Merged.AsStored.1",
             "swes:procedure": "http://bom.gov.au/waterdata/services/tstypes/Pat7_PR02_AHD_1"
            }
           },
           {
            "sos:ObservationOffering": {
             "sos:observedArea": {
              "gml:Envelope": {
               "@srsName": "http://www.opengis.net/def/crs/EPSG/0/4326",
               "gml:lowerCorner": "-90.0 -159.8474",
               "gml:upperCorner": "90.0 168.80790000000002"
              }
             },
             "swes:description": "Offering for timeseries type Harmonised.Provisionalbest.AsStored.1",
             "swes:identifier": "http://bom.gov.au/waterdata/services/tstypes/Pat7_PB_1",
             "swes:name": "Harmonised.Provisionalbest.AsStored.1",
             "swes:procedure": "http://bom.gov.au/waterdata/services/tstypes/Pat7_PB_1"
            }
           },
           {
            "sos:ObservationOffering": {
             "sos:observedArea": {
              "gml:Envelope": {
               "@srsName": "http://www.opengis.net/def/crs/EPSG/0/4326",
               "gml:lowerCorner": "-90.0 -159.8474",
               "gml:upperCorner": "90.0 168.80790000000002"
              }
             },
             "swes:description": "Offering for timeseries type Harmonised.Combined.AsStored.1",
             "swes:identifier": "http://bom.gov.au/waterdata/services/tstypes/Pat7_PC_1",
             "swes:name": "Harmonised.Combined.AsStored.1",
             "swes:procedure": "http://bom.gov.au/waterdata/services/tstypes/Pat7_PC_1"
            }
           },
           {
            "sos:ObservationOffering": {
             "sos:observedArea": {
              "gml:Envelope": {
               "@srsName": "http://www.opengis.net/def/crs/EPSG/0/4326",
               "gml:lowerCorner": "-90.0 -159.8474",
               "gml:upperCorner": "90.0 168.80790000000002"
              }
             },
             "swes:description": "Offering for timeseries type ObsPOR.Merged.AsStored.1",
             "swes:identifier": "http://bom.gov.au/waterdata/services/tstypes/Pat7_C_Std_1",
             "swes:name": "ObsPOR.Merged.AsStored.1",
             "swes:procedure": "http://bom.gov.au/waterdata/services/tstypes/Pat7_C_Std_1"
            }
           },
           {
            "sos:ObservationOffering": {
             "sos:observedArea": {
              "gml:Envelope": {
               "@srsName": "http://www.opengis.net/def/crs/EPSG/0/4326",
               "gml:lowerCorner": "-90.0 -159.8474",
               "gml:upperCorner": "90.0 168.80790000000002"
              }
             },
             "swes:description": "Offering for timeseries type DMQaQc.Merged.DailyMax.24HR",
             "swes:identifier": "http://bom.gov.au/waterdata/services/tstypes/Pat7_C_B_1_DailyMax",
             "swes:name": "DMQaQc.Merged.DailyMax.24HR",
             "swes:procedure": "http://bom.gov.au/waterdata/services/tstypes/Pat7_C_B_1_DailyMax"
            }
           },
           {
            "sos:ObservationOffering": {
             "sos:observedArea": {
              "gml:Envelope": {
               "@srsName": "http://www.opengis.net/def/crs/EPSG/0/4326",
               "gml:lowerCorner": "-90.0 -159.8474",
               "gml:upperCorner": "90.0 168.80790000000002"
              }
             },
             "swes:description": "Offering for timeseries type DMQaQc.Merged.DailyMin.24HR",
             "swes:identifier": "http://bom.gov.au/waterdata/services/tstypes/Pat7_C_B_1_DailyMin",
             "swes:name": "DMQaQc.Merged.DailyMin.24HR",
             "swes:procedure": "http://bom.gov.au/waterdata/services/tstypes/Pat7_C_B_1_DailyMin"
            }
           },
           {
            "sos:ObservationOffering": {
             "sos:observedArea": {
              "gml:Envelope": {
               "@srsName": "http://www.opengis.net/def/crs/EPSG/0/4326",
               "gml:lowerCorner": "-90.0 -159.8474",
               "gml:upperCorner": "90.0 168.80790000000002"
              }
             },
             "swes:description": "Offering for timeseries type PR02ManQC.Manual.AsStored.1",
             "swes:identifier": "http://bom.gov.au/waterdata/services/tstypes/Pat6_PR02_ManQc_1",
             "swes:name": "PR02ManQC.Manual.AsStored.1",
             "swes:procedure": "http://bom.gov.au/waterdata/services/tstypes/Pat6_PR02_ManQc_1"
            }
           },
           {
            "sos:ObservationOffering": {
             "sos:observedArea": {
              "gml:Envelope": {
               "@srsName": "http://www.opengis.net/def/crs/EPSG/0/4326",
               "gml:lowerCorner": "-90.0 -159.8474",
               "gml:upperCorner": "90.0 168.80790000000002"
              }
             },
             "swes:description": "Offering for timeseries type DMQaQc.Merged.YearlyMean.CalYear",
             "swes:identifier": "http://bom.gov.au/waterdata/services/tstypes/Pat7_C_B_1_YearlyMean",
             "swes:name": "DMQaQc.Merged.YearlyMean.CalYear",
             "swes:procedure": "http://bom.gov.au/waterdata/services/tstypes/Pat7_C_B_1_YearlyMean"
            }
           },
           {
            "sos:ObservationOffering": {
             "sos:observedArea": {
              "gml:Envelope": {
               "@srsName": "http://www.opengis.net/def/crs/EPSG/0/4326",
               "gml:lowerCorner": "-90.0 -159.8474",
               "gml:upperCorner": "90.0 168.80790000000002"
              }
             },
             "swes:description": "Offering for timeseries type DMmanQC.Manual.AsStored.1",
             "swes:identifier": "http://bom.gov.au/waterdata/services/tstypes/Pat7_C_Std_DMmanQcf_1",
             "swes:name": "DMmanQC.Manual.AsStored.1",
             "swes:procedure": "http://bom.gov.au/waterdata/services/tstypes/Pat7_C_Std_DMmanQcf_1"
            }
           },
           {
            "sos:ObservationOffering": {
             "sos:observedArea": {
              "gml:Envelope": {
               "@srsName": "http://www.opengis.net/def/crs/EPSG/0/4326",
               "gml:lowerCorner": "-90.0 -159.8474",
               "gml:upperCorner": "90.0 168.80790000000002"
              }
             },
             "swes:description": "Offering for timeseries type DMQaQc.Merged.MonthlyMean.CalMonth",
             "swes:identifier": "http://bom.gov.au/waterdata/services/tstypes/Pat7_C_B_1_MonthlyMean",
             "swes:name": "DMQaQc.Merged.MonthlyMean.CalMonth",
             "swes:procedure": "http://bom.gov.au/waterdata/services/tstypes/Pat7_C_B_1_MonthlyMean"
            }
           },
           {
            "sos:ObservationOffering": {
             "sos:observedArea": {
              "gml:Envelope": {
               "@srsName": "http://www.opengis.net/def/crs/EPSG/0/4326",
               "gml:lowerCorner": "-90.0 -159.8474",
               "gml:upperCorner": "90.0 168.80790000000002"
              }
             },
             "swes:description": "Offering for timeseries type Harmonised.Combined.AsStored.1",
             "swes:identifier": "http://bom.gov.au/waterdata/services/tstypes/Pat6_PC_1",
             "swes:name": "Harmonised.Combined.AsStored.1",
             "swes:procedure": "http://bom.gov.au/waterdata/services/tstypes/Pat6_PC_1"
            }
           },
           {
            "sos:ObservationOffering": {
             "sos:observedArea": {
              "gml:Envelope": {
               "@srsName": "http://www.opengis.net/def/crs/EPSG/0/4326",
               "gml:lowerCorner": "-90.0 -159.8474",
               "gml:upperCorner": "90.0 168.80790000000002"
              }
             },
             "swes:description": "Offering for timeseries type DMQaQc.Merged.AsStored.1",
             "swes:identifier": "http://bom.gov.au/waterdata/services/tstypes/Pat7_C_B_1",
             "swes:name": "DMQaQc.Merged.AsStored.1",
             "swes:procedure": "http://bom.gov.au/waterdata/services/tstypes/Pat7_C_B_1"
            }
           },
           {
            "sos:ObservationOffering": {
             "sos:observedArea": {
              "gml:Envelope": {
               "@srsName": "http://www.opengis.net/def/crs/EPSG/0/4326",
               "gml:lowerCorner": "-90.0 -159.8474",
               "gml:upperCorner": "90.0 168.80790000000002"
              }
             },
             "swes:description": "Offering for timeseries type DMQaQc.Merged.HourlyMean.HR",
             "swes:identifier": "http://bom.gov.au/waterdata/services/tstypes/Pat7_C_B_1_HourlyMean",
             "swes:name": "DMQaQc.Merged.HourlyMean.HR",
             "swes:procedure": "http://bom.gov.au/waterdata/services/tstypes/Pat7_C_B_1_HourlyMean"
            }
           },
           {
            "sos:ObservationOffering": {
             "sos:observedArea": {
              "gml:Envelope": {
               "@srsName": "http://www.opengis.net/def/crs/EPSG/0/4326",
               "gml:lowerCorner": "-90.0 -159.8474",
               "gml:upperCorner": "90.0 168.80790000000002"
              }
             },
             "swes:description": "Offering for timeseries type Harmonised.Validated.AsStored.1",
             "swes:identifier": "http://bom.gov.au/waterdata/services/tstypes/Pat6_V_1",
             "swes:name": "Harmonised.Validated.AsStored.1",
             "swes:procedure": "http://bom.gov.au/waterdata/services/tstypes/Pat6_V_1"
            }
           },
           {
            "sos:ObservationOffering": {
             "sos:observedArea": {
              "gml:Envelope": {
               "@srsName": "http://www.opengis.net/def/crs/EPSG/0/4326",
               "gml:lowerCorner": "-90.0 -159.8474",
               "gml:upperCorner": "90.0 168.80790000000002"
              }
             },
             "swes:description": "Offering for timeseries type DMQaQc.Merged.DailyMax.24HR",
             "swes:identifier": "http://bom.gov.au/waterdata/services/tstypes/Pat6_C_B_1_DailyMax",
             "swes:name": "DMQaQc.Merged.DailyMax.24HR",
             "swes:procedure": "http://bom.gov.au/waterdata/services/tstypes/Pat6_C_B_1_DailyMax"
            }
           },
           {
            "sos:ObservationOffering": {
             "sos:observedArea": {
              "gml:Envelope": {
               "@srsName": "http://www.opengis.net/def/crs/EPSG/0/4326",
               "gml:lowerCorner": "-90.0 -159.8474",
               "gml:upperCorner": "90.0 168.80790000000002"
              }
             },
             "swes:description": "Offering for timeseries type DMQaQc.Merged.DailyMean.24HR",
             "swes:identifier": "http://bom.gov.au/waterdata/services/tstypes/Pat6_C_B_1_DailyMean",
             "swes:name": "DMQaQc.Merged.DailyMean.24HR",
             "swes:procedure": "http://bom.gov.au/waterdata/services/tstypes/Pat6_C_B_1_DailyMean"
            }
           },
           {
            "sos:ObservationOffering": {
             "sos:observedArea": {
              "gml:Envelope": {
               "@srsName": "http://www.opengis.net/def/crs/EPSG/0/4326",
               "gml:lowerCorner": "-90.0 -159.8474",
               "gml:upperCorner": "90.0 168.80790000000002"
              }
             },
             "swes:description": "Offering for timeseries type PR02TVQaQc.Merged.DailyMean.24HR",
             "swes:identifier": "http://bom.gov.au/waterdata/services/tstypes/Pat6_PR02_TV_1_DailyMean",
             "swes:name": "PR02TVQaQc.Merged.DailyMean.24HR",
             "swes:procedure": "http://bom.gov.au/waterdata/services/tstypes/Pat6_PR02_TV_1_DailyMean"
            }
           },
           {
            "sos:ObservationOffering": {
             "sos:observedArea": {
              "gml:Envelope": {
               "@srsName": "http://www.opengis.net/def/crs/EPSG/0/4326",
               "gml:lowerCorner": "-90.0 -159.8474",
               "gml:upperCorner": "90.0 168.80790000000002"
              }
             },
             "swes:description": "Offering for timeseries type PR02QaQc.Merged.AsStored.1",
             "swes:identifier": "http://bom.gov.au/waterdata/services/tstypes/Pat7_PR02_1",
             "swes:name": "PR02QaQc.Merged.AsStored.1",
             "swes:procedure": "http://bom.gov.au/waterdata/services/tstypes/Pat7_PR02_1"
            }
           },
           {
            "sos:ObservationOffering": {
             "sos:observedArea": {
              "gml:Envelope": {
               "@srsName": "http://www.opengis.net/def/crs/EPSG/0/4326",
               "gml:lowerCorner": "-90.0 -159.8474",
               "gml:upperCorner": "90.0 168.80790000000002"
              }
             },
             "swes:description": "Offering for timeseries type Harmonised.Provisionalbest.AsStored.1",
             "swes:identifier": "http://bom.gov.au/waterdata/services/tstypes/Pat6_PB_1",
             "swes:name": "Harmonised.Provisionalbest.AsStored.1",
             "swes:procedure": "http://bom.gov.au/waterdata/services/tstypes/Pat6_PB_1"
            }
           },
           {
            "sos:ObservationOffering": {
             "sos:observedArea": {
              "gml:Envelope": {
               "@srsName": "http://www.opengis.net/def/crs/EPSG/0/4326",
               "gml:lowerCorner": "-90.0 -159.8474",
               "gml:upperCorner": "90.0 168.80790000000002"
              }
             },
             "swes:description": "Offering for timeseries type DMQaQc.Merged.AsStored.1",
             "swes:identifier": "http://bom.gov.au/waterdata/services/tstypes/Pat6_C_B_1",
             "swes:name": "DMQaQc.Merged.AsStored.1",
             "swes:procedure": "http://bom.gov.au/waterdata/services/tstypes/Pat6_C_B_1"
            }
           },
           {
            "sos:ObservationOffering": {
             "sos:observedArea": {
              "gml:Envelope": {
               "@srsName": "http://www.opengis.net/def/crs/EPSG/0/4326",
               "gml:lowerCorner": "-90.0 -159.8474",
               "gml:upperCorner": "90.0 168.80790000000002"
              }
             },
             "swes:description": "Offering for timeseries type CombinedProv.Merged.AsStored.1",
             "swes:identifier": "http://bom.gov.au/waterdata/services/tstypes/Pat7_P_C_1",
             "swes:name": "CombinedProv.Merged.AsStored.1",
             "swes:procedure": "http://bom.gov.au/waterdata/services/tstypes/Pat7_P_C_1"
            }
           },
           {
            "sos:ObservationOffering": {
             "sos:observedArea": {
              "gml:Envelope": {
               "@srsName": "http://www.opengis.net/def/crs/EPSG/0/4326",
               "gml:lowerCorner": "-90.0 -159.8474",
               "gml:upperCorner": "90.0 168.80790000000002"
              }
             },
             "swes:description": "Offering for timeseries type DMQaQc.Auto.AsStored.1",
             "swes:identifier": "http://bom.gov.au/waterdata/services/tstypes/Pat6_C_Std_QaQc_1",
             "swes:name": "DMQaQc.Auto.AsStored.1",
             "swes:procedure": "http://bom.gov.au/waterdata/services/tstypes/Pat6_C_Std_QaQc_1"
            }
           },
           {
            "sos:ObservationOffering": {
             "sos:observedArea": {
              "gml:Envelope": {
               "@srsName": "http://www.opengis.net/def/crs/EPSG/0/4326",
               "gml:lowerCorner": "-90.0 -159.8474",
               "gml:upperCorner": "90.0 168.80790000000002"
              }
             },
             "swes:description": "Offering for timeseries type DMQaQc.Merged.MonthlyMean.CalMonth",
             "swes:identifier": "http://bom.gov.au/waterdata/services/tstypes/Pat6_C_B_1_MonthlyMean",
             "swes:name": "DMQaQc.Merged.MonthlyMean.CalMonth",
             "swes:procedure": "http://bom.gov.au/waterdata/services/tstypes/Pat6_C_B_1_MonthlyMean"
            }
           },
           {
            "sos:ObservationOffering": {
             "sos:observedArea": {
              "gml:Envelope": {
               "@srsName": "http://www.opengis.net/def/crs/EPSG/0/4326",
               "gml:lowerCorner": "-90.0 -159.8474",
               "gml:upperCorner": "90.0 168.80790000000002"
              }
             },
             "swes:description": "Offering for timeseries type DMQaQc.Merged.DailyMin.24HR",
             "swes:identifier": "http://bom.gov.au/waterdata/services/tstypes/Pat6_C_B_1_DailyMin",
             "swes:name": "DMQaQc.Merged.DailyMin.24HR",
             "swes:procedure": "http://bom.gov.au/waterdata/services/tstypes/Pat6_C_B_1_DailyMin"
            }
           },
           {
            "sos:ObservationOffering": {
             "sos:observedArea": {
              "gml:Envelope": {
               "@srsName": "http://www.opengis.net/def/crs/EPSG/0/4326",
               "gml:lowerCorner": "-90.0 -159.8474",
               "gml:upperCorner": "90.0 168.80790000000002"
              }
             },
             "swes:description": "Offering for timeseries type PR02AVQaQc.Merged.AsStored.1",
             "swes:identifier": "http://bom.gov.au/waterdata/services/tstypes/Pat6_PR02_AV_1",
             "swes:name": "PR02AVQaQc.Merged.AsStored.1",
             "swes:procedure": "http://bom.gov.au/waterdata/services/tstypes/Pat6_PR02_AV_1"
            }
           },
           {
            "sos:ObservationOffering": {
             "sos:observedArea": {
              "gml:Envelope": {
               "@srsName": "http://www.opengis.net/def/crs/EPSG/0/4326",
               "gml:lowerCorner": "-90.0 -159.8474",
               "gml:upperCorner": "90.0 168.80790000000002"
              }
             },
             "swes:description": "Offering for timeseries type Harmonised.Validated.AsStored.1",
             "swes:identifier": "http://bom.gov.au/waterdata/services/tstypes/Pat7_V_1",
             "swes:name": "Harmonised.Validated.AsStored.1",
             "swes:procedure": "http://bom.gov.au/waterdata/services/tstypes/Pat7_V_1"
            }
           },
           {
            "sos:ObservationOffering": {
             "sos:observedArea": {
              "gml:Envelope": {
               "@srsName": "http://www.opengis.net/def/crs/EPSG/0/4326",
               "gml:lowerCorner": "-90.0 -159.8474",
               "gml:upperCorner": "90.0 168.80790000000002"
              }
             },
             "swes:description": "Offering for timeseries type DMQaQc.Auto.AsStored.1",
             "swes:identifier": "http://bom.gov.au/waterdata/services/tstypes/Pat7_C_Std_QaQc_1",
             "swes:name": "DMQaQc.Auto.AsStored.1",
             "swes:procedure": "http://bom.gov.au/waterdata/services/tstypes/Pat7_C_Std_QaQc_1"
            }
           },
           {
            "sos:ObservationOffering": {
             "sos:observedArea": {
              "gml:Envelope": {
               "@srsName": "http://www.opengis.net/def/crs/EPSG/0/4326",
               "gml:lowerCorner": "-90.0 -159.8474",
               "gml:upperCorner": "90.0 168.80790000000002"
              }
             },
             "swes:description": "Offering for timeseries type DMQaQc.Merged.DailyMean.24HR",
             "swes:identifier": "http://bom.gov.au/waterdata/services/tstypes/Pat7_C_B_1_DailyMean",
             "swes:name": "DMQaQc.Merged.DailyMean.24HR",
             "swes:procedure": "http://bom.gov.au/waterdata/services/tstypes/Pat7_C_B_1_DailyMean"
            }
           },
           {
            "sos:ObservationOffering": {
             "sos:observedArea": {
              "gml:Envelope": {
               "@srsName": "http://www.opengis.net/def/crs/EPSG/0/4326",
               "gml:lowerCorner": "-90.0 -159.8474",
               "gml:upperCorner": "90.0 168.80790000000002"
              }
             },
             "swes:description": "Offering for timeseries type Harmonised.Provisional.AsStored.1",
             "swes:identifier": "http://bom.gov.au/waterdata/services/tstypes/Pat6_P_1",
             "swes:name": "Harmonised.Provisional.AsStored.1",
             "swes:procedure": "http://bom.gov.au/waterdata/services/tstypes/Pat6_P_1"
            }
           },
           {
            "sos:ObservationOffering": {
             "sos:observedArea": {
              "gml:Envelope": {
               "@srsName": "http://www.opengis.net/def/crs/EPSG/0/4326",
               "gml:lowerCorner": "-90.0 -159.8474",
               "gml:upperCorner": "90.0 168.80790000000002"
              }
             },
             "swes:description": "Offering for timeseries type CombinedProv.Merged.AsStored.1",
             "swes:identifier": "http://bom.gov.au/waterdata/services/tstypes/Pat6_P_C_1",
             "swes:name": "CombinedProv.Merged.AsStored.1",
             "swes:procedure": "http://bom.gov.au/waterdata/services/tstypes/Pat6_P_C_1"
            }
           },
           {
            "sos:ObservationOffering": {
             "sos:observedArea": {
              "gml:Envelope": {
               "@srsName": "http://www.opengis.net/def/crs/EPSG/0/4326",
               "gml:lowerCorner": "-90.0 -159.8474",
               "gml:upperCorner": "90.0 168.80790000000002"
              }
             },
             "swes:description": "Offering for timeseries type ObsPOR.Merged.AsStored.1",
             "swes:identifier": "http://bom.gov.au/waterdata/services/tstypes/Pat6_C_Std_1",
             "swes:name": "ObsPOR.Merged.AsStored.1",
             "swes:procedure": "http://bom.gov.au/waterdata/services/tstypes/Pat6_C_Std_1"
            }
           },
           {
            "sos:ObservationOffering": {
             "sos:observedArea": {
              "gml:Envelope": {
               "@srsName": "http://www.opengis.net/def/crs/EPSG/0/4326",
               "gml:lowerCorner": "-90.0 -159.8474",
               "gml:upperCorner": "90.0 168.80790000000002"
              }
             },
             "swes:description": "Offering for timeseries type PR02QaQc.Merged.AsStored.1",
             "swes:identifier": "http://bom.gov.au/waterdata/services/tstypes/Pat6_PR02_1",
             "swes:name": "PR02QaQc.Merged.AsStored.1",
             "swes:procedure": "http://bom.gov.au/waterdata/services/tstypes/Pat6_PR02_1"
            }
           },
           {
            "sos:ObservationOffering": {
             "sos:observedArea": {
              "gml:Envelope": {
               "@srsName": "http://www.opengis.net/def/crs/EPSG/0/4326",
               "gml:lowerCorner": "-90.0 -159.8474",
               "gml:upperCorner": "90.0 168.80790000000002"
              }
             },
             "swes:description": "Offering for timeseries type PR02ManQC.Manual.AsStored.1",
             "swes:identifier": "http://bom.gov.au/waterdata/services/tstypes/Pat7_PR02_ManQc_1",
             "swes:name": "PR02ManQC.Manual.AsStored.1",
             "swes:procedure": "http://bom.gov.au/waterdata/services/tstypes/Pat7_PR02_ManQc_1"
            }
           },
           {
            "sos:ObservationOffering": {
             "sos:observedArea": {
              "gml:Envelope": {
               "@srsName": "http://www.opengis.net/def/crs/EPSG/0/4326",
               "gml:lowerCorner": "-90.0 -159.8474",
               "gml:upperCorner": "90.0 168.80790000000002"
              }
             },
             "swes:description": "Offering for timeseries type DMQaQc.Merged.HourlyMean.HR",
             "swes:identifier": "http://bom.gov.au/waterdata/services/tstypes/Pat6_C_B_1_HourlyMean",
             "swes:name": "DMQaQc.Merged.HourlyMean.HR",
             "swes:procedure": "http://bom.gov.au/waterdata/services/tstypes/Pat6_C_B_1_HourlyMean"
            }
           },
           {
            "sos:ObservationOffering": {
             "sos:observedArea": {
              "gml:Envelope": {
               "@srsName": "http://www.opengis.net/def/crs/EPSG/0/4326",
               "gml:lowerCorner": "-90.0 -159.8474",
               "gml:upperCorner": "90.0 168.80790000000002"
              }
             },
             "swes:description": "Offering for timeseries type DMQaQc.Merged.YearlyMean.CalYear",
             "swes:identifier": "http://bom.gov.au/waterdata/services/tstypes/Pat6_C_B_1_YearlyMean",
             "swes:name": "DMQaQc.Merged.YearlyMean.CalYear",
             "swes:procedure": "http://bom.gov.au/waterdata/services/tstypes/Pat6_C_B_1_YearlyMean"
            }
           },
           {
            "sos:ObservationOffering": {
             "sos:observedArea": {
              "gml:Envelope": {
               "@srsName": "http://www.opengis.net/def/crs/EPSG/0/4326",
               "gml:lowerCorner": "-90.0 -159.8474",
               "gml:upperCorner": "90.0 168.80790000000002"
              }
             },
             "swes:description": "Offering for timeseries type PR02AHDQaQc.Merged.DailyMean.24HR",
             "swes:identifier": "http://bom.gov.au/waterdata/services/tstypes/Pat7_PR02_AHD_1_DailyMean",
             "swes:name": "PR02AHDQaQc.Merged.DailyMean.24HR",
             "swes:procedure": "http://bom.gov.au/waterdata/services/tstypes/Pat7_PR02_AHD_1_DailyMean"
            }
           },
           {
            "sos:ObservationOffering": {
             "sos:observedArea": {
              "gml:Envelope": {
               "@srsName": "http://www.opengis.net/def/crs/EPSG/0/4326",
               "gml:lowerCorner": "-90.0 -159.8474",
               "gml:upperCorner": "90.0 168.80790000000002"
              }
             },
             "swes:description": "Offering for timeseries type Harmonised.Provisionalbest.AsStored.1",
             "swes:identifier": "http://bom.gov.au/waterdata/services/tstypes/Pat8_PB_1",
             "swes:name": "Harmonised.Provisionalbest.AsStored.1",
             "swes:procedure": "http://bom.gov.au/waterdata/services/tstypes/Pat8_PB_1"
            }
           },
           {
            "sos:ObservationOffering": {
             "sos:observedArea": {
              "gml:Envelope": {
               "@srsName": "http://www.opengis.net/def/crs/EPSG/0/4326",
               "gml:lowerCorner": "-90.0 -159.8474",
               "gml:upperCorner": "90.0 168.80790000000002"
              }
             },
             "swes:description": "Offering for timeseries type DMmanQC.Manual.AsStored.1",
             "swes:identifier": "http://bom.gov.au/waterdata/services/tstypes/Pat8_C_Std_Qcf_1",
             "swes:name": "DMmanQC.Manual.AsStored.1",
             "swes:procedure": "http://bom.gov.au/waterdata/services/tstypes/Pat8_C_Std_Qcf_1"
            }
           },
           {
            "sos:ObservationOffering": {
             "sos:observedArea": {
              "gml:Envelope": {
               "@srsName": "http://www.opengis.net/def/crs/EPSG/0/4326",
               "gml:lowerCorner": "-90.0 -159.8474",
               "gml:upperCorner": "90.0 168.80790000000002"
              }
             },
             "swes:description": "Offering for timeseries type Harmonised.Provisional.AsStored.1",
             "swes:identifier": "http://bom.gov.au/waterdata/services/tstypes/Pat8_P_1",
             "swes:name": "Harmonised.Provisional.AsStored.1",
             "swes:procedure": "http://bom.gov.au/waterdata/services/tstypes/Pat8_P_1"
            }
           },
           {
            "sos:ObservationOffering": {
             "sos:observedArea": {
              "gml:Envelope": {
               "@srsName": "http://www.opengis.net/def/crs/EPSG/0/4326",
               "gml:lowerCorner": "-90.0 -159.8474",
               "gml:upperCorner": "90.0 168.80790000000002"
              }
             },
             "swes:description": "Offering for timeseries type ObsPOR.Merged.AsStored.1",
             "swes:identifier": "http://bom.gov.au/waterdata/services/tstypes/Pat8_C_Std_1",
             "swes:name": "ObsPOR.Merged.AsStored.1",
             "swes:procedure": "http://bom.gov.au/waterdata/services/tstypes/Pat8_C_Std_1"
            }
           },
           {
            "sos:ObservationOffering": {
             "sos:observedArea": {
              "gml:Envelope": {
               "@srsName": "http://www.opengis.net/def/crs/EPSG/0/4326",
               "gml:lowerCorner": "-90.0 -159.8474",
               "gml:upperCorner": "90.0 168.80790000000002"
              }
             },
             "swes:description": "Offering for timeseries type DMQaQc.Merged.AsStored.1",
             "swes:identifier": "http://bom.gov.au/waterdata/services/tstypes/Pat8_C_B_1",
             "swes:name": "DMQaQc.Merged.AsStored.1",
             "swes:procedure": "http://bom.gov.au/waterdata/services/tstypes/Pat8_C_B_1"
            }
           },
           {
            "sos:ObservationOffering": {
             "sos:observedArea": {
              "gml:Envelope": {
               "@srsName": "http://www.opengis.net/def/crs/EPSG/0/4326",
               "gml:lowerCorner": "-90.0 -159.8474",
               "gml:upperCorner": "90.0 168.80790000000002"
              }
             },
             "swes:description": "Offering for timeseries type Harmonised.Validated.AsStored.1",
             "swes:identifier": "http://bom.gov.au/waterdata/services/tstypes/Pat8_V_1",
             "swes:name": "Harmonised.Validated.AsStored.1",
             "swes:procedure": "http://bom.gov.au/waterdata/services/tstypes/Pat8_V_1"
            }
           },
           {
            "sos:ObservationOffering": {
             "sos:observedArea": {
              "gml:Envelope": {
               "@srsName": "http://www.opengis.net/def/crs/EPSG/0/4326",
               "gml:lowerCorner": "-90.0 -159.8474",
               "gml:upperCorner": "90.0 168.80790000000002"
              }
             },
             "swes:description": "Offering for timeseries type CombinedProv.Merged.AsStored.1",
             "swes:identifier": "http://bom.gov.au/waterdata/services/tstypes/Pat8_P_C_1",
             "swes:name": "CombinedProv.Merged.AsStored.1",
             "swes:procedure": "http://bom.gov.au/waterdata/services/tstypes/Pat8_P_C_1"
            }
           },
           {
            "sos:ObservationOffering": {
             "sos:observedArea": {
              "gml:Envelope": {
               "@srsName": "http://www.opengis.net/def/crs/EPSG/0/4326",
               "gml:lowerCorner": "-90.0 -159.8474",
               "gml:upperCorner": "90.0 168.80790000000002"
              }
             },
             "swes:description": "Offering for timeseries type DMQaQc.Auto.AsStored.1",
             "swes:identifier": "http://bom.gov.au/waterdata/services/tstypes/Pat8_C_Std_QaQc_1",
             "swes:name": "DMQaQc.Auto.AsStored.1",
             "swes:procedure": "http://bom.gov.au/waterdata/services/tstypes/Pat8_C_Std_QaQc_1"
            }
           },
           {
            "sos:ObservationOffering": {
             "sos:observedArea": {
              "gml:Envelope": {
               "@srsName": "http://www.opengis.net/def/crs/EPSG/0/4326",
               "gml:lowerCorner": "-90.0 -159.8474",
               "gml:upperCorner": "90.0 168.80790000000002"
              }
             },
             "swes:description": "Offering for timeseries type Harmonised.Combined.AsStored.1",
             "swes:identifier": "http://bom.gov.au/waterdata/services/tstypes/Pat8_PC_1",
             "swes:name": "Harmonised.Combined.AsStored.1",
             "swes:procedure": "http://bom.gov.au/waterdata/services/tstypes/Pat8_PC_1"
            }
           },
           {
            "sos:ObservationOffering": {
             "sos:observedArea": {
              "gml:Envelope": {
               "@srsName": "http://www.opengis.net/def/crs/EPSG/0/4326",
               "gml:lowerCorner": "-90.0 -159.8474",
               "gml:upperCorner": "90.0 168.80790000000002"
              }
             },
             "swes:description": "Offering for timeseries type 2 DayMin",
             "swes:identifier": "http://bom.gov.au/waterdata/services/tstypes/Day.Min",
             "swes:name": "2 DayMin",
             "swes:procedure": "http://bom.gov.au/waterdata/services/tstypes/Day.Min"
            }
           },
           {
            "sos:ObservationOffering": {
             "sos:observedArea": {
              "gml:Envelope": {
               "@srsName": "http://www.opengis.net/def/crs/EPSG/0/4326",
               "gml:lowerCorner": "-90.0 -159.8474",
               "gml:upperCorner": "90.0 168.80790000000002"
              }
             },
             "swes:description": "Offering for timeseries type 9 YearMax",
             "swes:identifier": "http://bom.gov.au/waterdata/services/tstypes/Year.Max",
             "swes:name": "9 YearMax",
             "swes:procedure": "http://bom.gov.au/waterdata/services/tstypes/Year.Max"
            }
           },
           {
            "sos:ObservationOffering": {
             "sos:observedArea": {
              "gml:Envelope": {
               "@srsName": "http://www.opengis.net/def/crs/EPSG/0/4326",
               "gml:lowerCorner": "-90.0 -159.8474",
               "gml:upperCorner": "90.0 168.80790000000002"
              }
             },
             "swes:description": "Offering for timeseries type 3 DayMax",
             "swes:identifier": "http://bom.gov.au/waterdata/services/tstypes/Day.Max",
             "swes:name": "3 DayMax",
             "swes:procedure": "http://bom.gov.au/waterdata/services/tstypes/Day.Max"
            }
           },
           {
            "sos:ObservationOffering": {
             "sos:observedArea": {
              "gml:Envelope": {
               "@srsName": "http://www.opengis.net/def/crs/EPSG/0/4326",
               "gml:lowerCorner": "-90.0 -159.8474",
               "gml:upperCorner": "90.0 168.80790000000002"
              }
             },
             "swes:description": "Offering for timeseries type 7 YearMean",
             "swes:identifier": "http://bom.gov.au/waterdata/services/tstypes/Year.Mean",
             "swes:name": "7 YearMean",
             "swes:procedure": "http://bom.gov.au/waterdata/services/tstypes/Year.Mean"
            }
           },
           {
            "sos:ObservationOffering": {
             "sos:observedArea": {
              "gml:Envelope": {
               "@srsName": "http://www.opengis.net/def/crs/EPSG/0/4326",
               "gml:lowerCorner": "-90.0 -159.8474",
               "gml:upperCorner": "90.0 168.80790000000002"
              }
             },
             "swes:description": "Offering for timeseries type 1 DayMean",
             "swes:identifier": "http://bom.gov.au/waterdata/services/tstypes/Day.Mean",
             "swes:name": "1 DayMean",
             "swes:procedure": "http://bom.gov.au/waterdata/services/tstypes/Day.Mean"
            }
           },
           {
            "sos:ObservationOffering": {
             "sos:observedArea": {
              "gml:Envelope": {
               "@srsName": "http://www.opengis.net/def/crs/EPSG/0/4326",
               "gml:lowerCorner": "-90.0 -159.8474",
               "gml:upperCorner": "90.0 168.80790000000002"
              }
             },
             "swes:description": "Offering for timeseries type 4 MonthMean",
             "swes:identifier": "http://bom.gov.au/waterdata/services/tstypes/Month.Mean",
             "swes:name": "4 MonthMean",
             "swes:procedure": "http://bom.gov.au/waterdata/services/tstypes/Month.Mean"
            }
           },
           {
            "sos:ObservationOffering": {
             "sos:observedArea": {
              "gml:Envelope": {
               "@srsName": "http://www.opengis.net/def/crs/EPSG/0/4326",
               "gml:lowerCorner": "-90.0 -159.8474",
               "gml:upperCorner": "90.0 168.80790000000002"
              }
             },
             "swes:description": "Offering for timeseries type 5 MonthMin",
             "swes:identifier": "http://bom.gov.au/waterdata/services/tstypes/Month.Min",
             "swes:name": "5 MonthMin",
             "swes:procedure": "http://bom.gov.au/waterdata/services/tstypes/Month.Min"
            }
           },
           {
            "sos:ObservationOffering": {
             "sos:observedArea": {
              "gml:Envelope": {
               "@srsName": "http://www.opengis.net/def/crs/EPSG/0/4326",
               "gml:lowerCorner": "-90.0 -159.8474",
               "gml:upperCorner": "90.0 168.80790000000002"
              }
             },
             "swes:description": "Offering for timeseries type 8 YearMin",
             "swes:identifier": "http://bom.gov.au/waterdata/services/tstypes/Year.Min",
             "swes:name": "8 YearMin",
             "swes:procedure": "http://bom.gov.au/waterdata/services/tstypes/Year.Min"
            }
           },
           {
            "sos:ObservationOffering": {
             "sos:observedArea": {
              "gml:Envelope": {
               "@srsName": "http://www.opengis.net/def/crs/EPSG/0/4326",
               "gml:lowerCorner": "-90.0 -159.8474",
               "gml:upperCorner": "90.0 168.80790000000002"
              }
             },
             "swes:description": "Offering for timeseries type 6 MonthMax",
             "swes:identifier": "http://bom.gov.au/waterdata/services/tstypes/Month.Max",
             "swes:name": "6 MonthMax",
             "swes:procedure": "http://bom.gov.au/waterdata/services/tstypes/Month.Max"
            }
           },
           {
            "sos:ObservationOffering": {
             "sos:observedArea": {
              "gml:Envelope": {
               "@srsName": "http://www.opengis.net/def/crs/EPSG/0/4326",
               "gml:lowerCorner": "-90.0 -159.8474",
               "gml:upperCorner": "90.0 168.80790000000002"
              }
             },
             "swes:description": "Offering for timeseries type Q17",
             "swes:identifier": "http://bom.gov.au/waterdata/services/tstypes/Q17_Cmd.O",
             "swes:name": "Q17",
             "swes:procedure": "http://bom.gov.au/waterdata/services/tstypes/Q17_Cmd.O"
            }
           },
           {
            "sos:ObservationOffering": {
             "sos:observedArea": {
              "gml:Envelope": {
               "@srsName": "http://www.opengis.net/def/crs/EPSG/0/4326",
               "gml:lowerCorner": "-90.0 -159.8474",
               "gml:upperCorner": "90.0 168.80790000000002"
              }
             },
             "swes:description": "Offering for timeseries type Q20",
             "swes:identifier": "http://bom.gov.au/waterdata/services/tstypes/Q20_Cmd.O",
             "swes:name": "Q20",
             "swes:procedure": "http://bom.gov.au/waterdata/services/tstypes/Q20_Cmd.O"
            }
           },
           {
            "sos:ObservationOffering": {
             "sos:observedArea": {
              "gml:Envelope": {
               "@srsName": "http://www.opengis.net/def/crs/EPSG/0/4326",
               "gml:lowerCorner": "-90.0 -159.8474",
               "gml:upperCorner": "90.0 168.80790000000002"
              }
             },
             "swes:description": "Offering for timeseries type Q21",
             "swes:identifier": "http://bom.gov.au/waterdata/services/tstypes/Q21_Cmd.O",
             "swes:name": "Q21",
             "swes:procedure": "http://bom.gov.au/waterdata/services/tstypes/Q21_Cmd.O"
            }
           },
           {
            "sos:ObservationOffering": {
             "sos:observedArea": {
              "gml:Envelope": {
               "@srsName": "http://www.opengis.net/def/crs/EPSG/0/4326",
               "gml:lowerCorner": "-90.0 -159.8474",
               "gml:upperCorner": "90.0 168.80790000000002"
              }
             },
             "swes:description": "Offering for timeseries type Q19",
             "swes:identifier": "http://bom.gov.au/waterdata/services/tstypes/Q19_Cmd.O",
             "swes:name": "Q19",
             "swes:procedure": "http://bom.gov.au/waterdata/services/tstypes/Q19_Cmd.O"
            }
           },
           {
            "sos:ObservationOffering": {
             "sos:observedArea": {
              "gml:Envelope": {
               "@srsName": "http://www.opengis.net/def/crs/EPSG/0/4326",
               "gml:lowerCorner": "-90.0 -159.8474",
               "gml:upperCorner": "90.0 168.80790000000002"
              }
             },
             "swes:description": "Offering for timeseries type Q23",
             "swes:identifier": "http://bom.gov.au/waterdata/services/tstypes/Q23_Cmd.O",
             "swes:name": "Q23",
             "swes:procedure": "http://bom.gov.au/waterdata/services/tstypes/Q23_Cmd.O"
            }
           },
           {
            "sos:ObservationOffering": {
             "sos:observedArea": {
              "gml:Envelope": {
               "@srsName": "http://www.opengis.net/def/crs/EPSG/0/4326",
               "gml:lowerCorner": "-90.0 -159.8474",
               "gml:upperCorner": "90.0 168.80790000000002"
              }
             },
             "swes:description": "Offering for timeseries type Q16",
             "swes:identifier": "http://bom.gov.au/waterdata/services/tstypes/Q16_Cmd.O",
             "swes:name": "Q16",
             "swes:procedure": "http://bom.gov.au/waterdata/services/tstypes/Q16_Cmd.O"
            }
           },
           {
            "sos:ObservationOffering": {
             "sos:observedArea": {
              "gml:Envelope": {
               "@srsName": "http://www.opengis.net/def/crs/EPSG/0/4326",
               "gml:lowerCorner": "-90.0 -159.8474",
               "gml:upperCorner": "90.0 168.80790000000002"
              }
             },
             "swes:description": "Offering for timeseries type Q22",
             "swes:identifier": "http://bom.gov.au/waterdata/services/tstypes/Q22_Cmd.O",
             "swes:name": "Q22",
             "swes:procedure": "http://bom.gov.au/waterdata/services/tstypes/Q22_Cmd.O"
            }
           },
           {
            "sos:ObservationOffering": {
             "sos:observedArea": {
              "gml:Envelope": {
               "@srsName": "http://www.opengis.net/def/crs/EPSG/0/4326",
               "gml:lowerCorner": "-90.0 -159.8474",
               "gml:upperCorner": "90.0 168.80790000000002"
              }
             },
             "swes:description": "Offering for timeseries type Q24",
             "swes:identifier": "http://bom.gov.au/waterdata/services/tstypes/Q24_Cmd.O",
             "swes:name": "Q24",
             "swes:procedure": "http://bom.gov.au/waterdata/services/tstypes/Q24_Cmd.O"
            }
           },
           {
            "sos:ObservationOffering": {
             "sos:observedArea": {
              "gml:Envelope": {
               "@srsName": "http://www.opengis.net/def/crs/EPSG/0/4326",
               "gml:lowerCorner": "-90.0 -159.8474",
               "gml:upperCorner": "90.0 168.80790000000002"
              }
             },
             "swes:description": "Offering for timeseries type Q26",
             "swes:identifier": "http://bom.gov.au/waterdata/services/tstypes/Q26_Cmd.O",
             "swes:name": "Q26",
             "swes:procedure": "http://bom.gov.au/waterdata/services/tstypes/Q26_Cmd.O"
            }
           },
           {
            "sos:ObservationOffering": {
             "sos:observedArea": {
              "gml:Envelope": {
               "@srsName": "http://www.opengis.net/def/crs/EPSG/0/4326",
               "gml:lowerCorner": "-90.0 -159.8474",
               "gml:upperCorner": "90.0 168.80790000000002"
              }
             },
             "swes:description": "Offering for timeseries type Q18",
             "swes:identifier": "http://bom.gov.au/waterdata/services/tstypes/Q18_Cmd.O",
             "swes:name": "Q18",
             "swes:procedure": "http://bom.gov.au/waterdata/services/tstypes/Q18_Cmd.O"
            }
           },
           {
            "sos:ObservationOffering": {
             "sos:observedArea": {
              "gml:Envelope": {
               "@srsName": "http://www.opengis.net/def/crs/EPSG/0/4326",
               "gml:lowerCorner": "-90.0 -159.8474",
               "gml:upperCorner": "90.0 168.80790000000002"
              }
             },
             "swes:description": "Offering for timeseries type Q25",
             "swes:identifier": "http://bom.gov.au/waterdata/services/tstypes/Q25_Cmd.O",
             "swes:name": "Q25",
             "swes:procedure": "http://bom.gov.au/waterdata/services/tstypes/Q25_Cmd.O"
            }
           },
           {
            "sos:ObservationOffering": {
             "sos:observedArea": {
              "gml:Envelope": {
               "@srsName": "http://www.opengis.net/def/crs/EPSG/0/4326",
               "gml:lowerCorner": "-90.0 -159.8474",
               "gml:upperCorner": "90.0 168.80790000000002"
              }
             },
             "swes:description": "Offering for timeseries type 0 Cmd",
             "swes:identifier": "http://bom.gov.au/waterdata/services/tstypes/Cmd.O",
             "swes:name": "0 Cmd",
             "swes:procedure": "http://bom.gov.au/waterdata/services/tstypes/Cmd.O"
            }
           },
           {
            "sos:ObservationOffering": {
             "sos:observedArea": {
              "gml:Envelope": {
               "@srsName": "http://www.opengis.net/def/crs/EPSG/0/4326",
               "gml:lowerCorner": "-90.0 -159.8474",
               "gml:upperCorner": "90.0 168.80790000000002"
              }
             },
             "swes:description": "Offering for timeseries type Q10",
             "swes:identifier": "http://bom.gov.au/waterdata/services/tstypes/Q10_Cmd.O",
             "swes:name": "Q10",
             "swes:procedure": "http://bom.gov.au/waterdata/services/tstypes/Q10_Cmd.O"
            }
           },
           {
            "sos:ObservationOffering": {
             "sos:observedArea": {
              "gml:Envelope": {
               "@srsName": "http://www.opengis.net/def/crs/EPSG/0/4326",
               "gml:lowerCorner": "-90.0 -159.8474",
               "gml:upperCorner": "90.0 168.80790000000002"
              }
             },
             "swes:description": "Offering for timeseries type Q11",
             "swes:identifier": "http://bom.gov.au/waterdata/services/tstypes/Q11_Cmd.0",
             "swes:name": "Q11",
             "swes:procedure": "http://bom.gov.au/waterdata/services/tstypes/Q11_Cmd.0"
            }
           },
           {
            "sos:ObservationOffering": {
             "sos:observedArea": {
              "gml:Envelope": {
               "@srsName": "http://www.opengis.net/def/crs/EPSG/0/4326",
               "gml:lowerCorner": "-90.0 -159.8474",
               "gml:upperCorner": "90.0 168.80790000000002"
              }
             },
             "swes:description": "Offering for timeseries type A1 per Value",
             "swes:identifier": "http://bom.gov.au/waterdata/services/tstypes/Cmd.O-2",
             "swes:name": "A1 per Value",
             "swes:procedure": "http://bom.gov.au/waterdata/services/tstypes/Cmd.O-2"
            }
           },
           {
            "sos:ObservationOffering": {
             "sos:observedArea": {
              "gml:Envelope": {
               "@srsName": "http://www.opengis.net/def/crs/EPSG/0/4326",
               "gml:lowerCorner": "-90.0 -159.8474",
               "gml:upperCorner": "90.0 168.80790000000002"
              }
             },
             "swes:description": "Offering for timeseries type Q1",
             "swes:identifier": "http://bom.gov.au/waterdata/services/tstypes/Q1_Cmd.O",
             "swes:name": "Q1",
             "swes:procedure": "http://bom.gov.au/waterdata/services/tstypes/Q1_Cmd.O"
            }
           },
           {
            "sos:ObservationOffering": {
             "sos:observedArea": {
              "gml:Envelope": {
               "@srsName": "http://www.opengis.net/def/crs/EPSG/0/4326",
               "gml:lowerCorner": "-90.0 -159.8474",
               "gml:upperCorner": "90.0 168.80790000000002"
              }
             },
             "swes:description": "Offering for timeseries type Q6",
             "swes:identifier": "http://bom.gov.au/waterdata/services/tstypes/Q6_Cmd.O",
             "swes:name": "Q6",
             "swes:procedure": "http://bom.gov.au/waterdata/services/tstypes/Q6_Cmd.O"
            }
           },
           {
            "sos:ObservationOffering": {
             "sos:observedArea": {
              "gml:Envelope": {
               "@srsName": "http://www.opengis.net/def/crs/EPSG/0/4326",
               "gml:lowerCorner": "-90.0 -159.8474",
               "gml:upperCorner": "90.0 168.80790000000002"
              }
             },
             "swes:description": "Offering for timeseries type Q8",
             "swes:identifier": "http://bom.gov.au/waterdata/services/tstypes/Q8_Cmd.O",
             "swes:name": "Q8",
             "swes:procedure": "http://bom.gov.au/waterdata/services/tstypes/Q8_Cmd.O"
            }
           },
           {
            "sos:ObservationOffering": {
             "sos:observedArea": {
              "gml:Envelope": {
               "@srsName": "http://www.opengis.net/def/crs/EPSG/0/4326",
               "gml:lowerCorner": "-90.0 -159.8474",
               "gml:upperCorner": "90.0 168.80790000000002"
              }
             },
             "swes:description": "Offering for timeseries type Q4",
             "swes:identifier": "http://bom.gov.au/waterdata/services/tstypes/Q4_Cmd.O",
             "swes:name": "Q4",
             "swes:procedure": "http://bom.gov.au/waterdata/services/tstypes/Q4_Cmd.O"
            }
           },
           {
            "sos:ObservationOffering": {
             "sos:observedArea": {
              "gml:Envelope": {
               "@srsName": "http://www.opengis.net/def/crs/EPSG/0/4326",
               "gml:lowerCorner": "-90.0 -159.8474",
               "gml:upperCorner": "90.0 168.80790000000002"
              }
             },
             "swes:description": "Offering for timeseries type Q9",
             "swes:identifier": "http://bom.gov.au/waterdata/services/tstypes/Q9_Cmd.O",
             "swes:name": "Q9",
             "swes:procedure": "http://bom.gov.au/waterdata/services/tstypes/Q9_Cmd.O"
            }
           },
           {
            "sos:ObservationOffering": {
             "sos:observedArea": {
              "gml:Envelope": {
               "@srsName": "http://www.opengis.net/def/crs/EPSG/0/4326",
               "gml:lowerCorner": "-90.0 -159.8474",
               "gml:upperCorner": "90.0 168.80790000000002"
              }
             },
             "swes:description": "Offering for timeseries type Q12",
             "swes:identifier": "http://bom.gov.au/waterdata/services/tstypes/Q12_Cmd.O",
             "swes:name": "Q12",
             "swes:procedure": "http://bom.gov.au/waterdata/services/tstypes/Q12_Cmd.O"
            }
           },
           {
            "sos:ObservationOffering": {
             "sos:observedArea": {
              "gml:Envelope": {
               "@srsName": "http://www.opengis.net/def/crs/EPSG/0/4326",
               "gml:lowerCorner": "-90.0 -159.8474",
               "gml:upperCorner": "90.0 168.80790000000002"
              }
             },
             "swes:description": "Offering for timeseries type Q14",
             "swes:identifier": "http://bom.gov.au/waterdata/services/tstypes/Q14_Cmd.O",
             "swes:name": "Q14",
             "swes:procedure": "http://bom.gov.au/waterdata/services/tstypes/Q14_Cmd.O"
            }
           },
           {
            "sos:ObservationOffering": {
             "sos:observedArea": {
              "gml:Envelope": {
               "@srsName": "http://www.opengis.net/def/crs/EPSG/0/4326",
               "gml:lowerCorner": "-90.0 -159.8474",
               "gml:upperCorner": "90.0 168.80790000000002"
              }
             },
             "swes:description": "Offering for timeseries type Q7",
             "swes:identifier": "http://bom.gov.au/waterdata/services/tstypes/Q7_Cmd.O",
             "swes:name": "Q7",
             "swes:procedure": "http://bom.gov.au/waterdata/services/tstypes/Q7_Cmd.O"
            }
           },
           {
            "sos:ObservationOffering": {
             "sos:observedArea": {
              "gml:Envelope": {
               "@srsName": "http://www.opengis.net/def/crs/EPSG/0/4326",
               "gml:lowerCorner": "-90.0 -159.8474",
               "gml:upperCorner": "90.0 168.80790000000002"
              }
             },
             "swes:description": "Offering for timeseries type Q15",
             "swes:identifier": "http://bom.gov.au/waterdata/services/tstypes/Q15_Cmd.O",
             "swes:name": "Q15",
             "swes:procedure": "http://bom.gov.au/waterdata/services/tstypes/Q15_Cmd.O"
            }
           },
           {
            "sos:ObservationOffering": {
             "sos:observedArea": {
              "gml:Envelope": {
               "@srsName": "http://www.opengis.net/def/crs/EPSG/0/4326",
               "gml:lowerCorner": "-90.0 -159.8474",
               "gml:upperCorner": "90.0 168.80790000000002"
              }
             },
             "swes:description": "Offering for timeseries type Q3",
             "swes:identifier": "http://bom.gov.au/waterdata/services/tstypes/Q3_Cmd.O",
             "swes:name": "Q3",
             "swes:procedure": "http://bom.gov.au/waterdata/services/tstypes/Q3_Cmd.O"
            }
           },
           {
            "sos:ObservationOffering": {
             "sos:observedArea": {
              "gml:Envelope": {
               "@srsName": "http://www.opengis.net/def/crs/EPSG/0/4326",
               "gml:lowerCorner": "-90.0 -159.8474",
               "gml:upperCorner": "90.0 168.80790000000002"
              }
             },
             "swes:description": "Offering for timeseries type Q5",
             "swes:identifier": "http://bom.gov.au/waterdata/services/tstypes/Q5_Cmd.O",
             "swes:name": "Q5",
             "swes:procedure": "http://bom.gov.au/waterdata/services/tstypes/Q5_Cmd.O"
            }
           },
           {
            "sos:ObservationOffering": {
             "sos:observedArea": {
              "gml:Envelope": {
               "@srsName": "http://www.opengis.net/def/crs/EPSG/0/4326",
               "gml:lowerCorner": "-90.0 -159.8474",
               "gml:upperCorner": "90.0 168.80790000000002"
              }
             },
             "swes:description": "Offering for timeseries type Q2",
             "swes:identifier": "http://bom.gov.au/waterdata/services/tstypes/Q2_Cmd.O",
             "swes:name": "Q2",
             "swes:procedure": "http://bom.gov.au/waterdata/services/tstypes/Q2_Cmd.O"
            }
           },
           {
            "sos:ObservationOffering": {
             "sos:observedArea": {
              "gml:Envelope": {
               "@srsName": "http://www.opengis.net/def/crs/EPSG/0/4326",
               "gml:lowerCorner": "-90.0 -159.8474",
               "gml:upperCorner": "90.0 168.80790000000002"
              }
             },
             "swes:description": "Offering for timeseries type Q13",
             "swes:identifier": "http://bom.gov.au/waterdata/services/tstypes/Q13_Cmd.O",
             "swes:name": "Q13",
             "swes:procedure": "http://bom.gov.au/waterdata/services/tstypes/Q13_Cmd.O"
            }
           },
           {
            "sos:ObservationOffering": {
             "sos:observedArea": {
              "gml:Envelope": {
               "@srsName": "http://www.opengis.net/def/crs/EPSG/0/4326",
               "gml:lowerCorner": "-90.0 -159.8474",
               "gml:upperCorner": "90.0 168.80790000000002"
              }
             },
             "swes:description": "Offering for timeseries type A1 Cmd per TS",
             "swes:identifier": "http://bom.gov.au/waterdata/services/tstypes/Cmd",
             "swes:name": "A1 Cmd per TS",
             "swes:procedure": "http://bom.gov.au/waterdata/services/tstypes/Cmd"
            }
           },
           {
            "sos:ObservationOffering": {
             "sos:observedArea": {
              "gml:Envelope": {
               "@srsName": "http://www.opengis.net/def/crs/EPSG/0/4326",
               "gml:lowerCorner": "-90.0 -159.8474",
               "gml:upperCorner": "90.0 168.80790000000002"
              }
             },
             "swes:description": "Offering for timeseries type PR01QaQc.Merged.AsStored.1-1",
             "swes:identifier": "http://bom.gov.au/waterdata/services/tstypes/Pat4_C_B_1_PR01-1",
             "swes:name": "PR01QaQc.Merged.AsStored.1-1",
             "swes:procedure": "http://bom.gov.au/waterdata/services/tstypes/Pat4_C_B_1_PR01-1"
            }
           },
           {
            "sos:ObservationOffering": {
             "sos:observedArea": {
              "gml:Envelope": {
               "@srsName": "http://www.opengis.net/def/crs/EPSG/0/4326",
               "gml:lowerCorner": "-90.0 -159.8474",
               "gml:upperCorner": "90.0 168.80790000000002"
              }
             },
             "swes:description": "Offering for timeseries type PR01QaQc.Merged.HourlyMean.HR-1",
             "swes:identifier": "http://bom.gov.au/waterdata/services/tstypes/Pat4_C_B_1_HourlyMean_PR01-1",
             "swes:name": "PR01QaQc.Merged.HourlyMean.HR-1",
             "swes:procedure": "http://bom.gov.au/waterdata/services/tstypes/Pat4_C_B_1_HourlyMean_PR01-1"
            }
           },
           {
            "sos:ObservationOffering": {
             "sos:observedArea": {
              "gml:Envelope": {
               "@srsName": "http://www.opengis.net/def/crs/EPSG/0/4326",
               "gml:lowerCorner": "-90.0 -159.8474",
               "gml:upperCorner": "90.0 168.80790000000002"
              }
             },
             "swes:description": "Offering for timeseries type PR01QaQc.Merged.Daily.09HR-1",
             "swes:identifier": "http://bom.gov.au/waterdata/services/tstypes/Pat4_C_B_1_Daily09_PR01-1",
             "swes:name": "PR01QaQc.Merged.Daily.09HR-1",
             "swes:procedure": "http://bom.gov.au/waterdata/services/tstypes/Pat4_C_B_1_Daily09_PR01-1"
            }
           },
           {
            "sos:ObservationOffering": {
             "sos:observedArea": {
              "gml:Envelope": {
               "@srsName": "http://www.opengis.net/def/crs/EPSG/0/4326",
               "gml:lowerCorner": "-90.0 -159.8474",
               "gml:upperCorner": "90.0 168.80790000000002"
              }
             },
             "swes:description": "Offering for timeseries type Derived.Flood.AsStored.1-1",
             "swes:identifier": "http://bom.gov.au/waterdata/services/tstypes/Pat4_D_F_1-1",
             "swes:name": "Derived.Flood.AsStored.1-1",
             "swes:procedure": "http://bom.gov.au/waterdata/services/tstypes/Pat4_D_F_1-1"
            }
           },
           {
            "sos:ObservationOffering": {
             "sos:observedArea": {
              "gml:Envelope": {
               "@srsName": "http://www.opengis.net/def/crs/EPSG/0/4326",
               "gml:lowerCorner": "-90.0 -159.8474",
               "gml:upperCorner": "90.0 168.80790000000002"
              }
             },
             "swes:description": "Offering for timeseries type PR01ManQC.Manual.Daily.09HR-1",
             "swes:identifier": "http://bom.gov.au/waterdata/services/tstypes/Pat4_C_Std_PR01ManQcf_09hr-1",
             "swes:name": "PR01ManQC.Manual.Daily.09HR-1",
             "swes:procedure": "http://bom.gov.au/waterdata/services/tstypes/Pat4_C_Std_PR01ManQcf_09hr-1"
            }
           },
           {
            "sos:ObservationOffering": {
             "sos:observedArea": {
              "gml:Envelope": {
               "@srsName": "http://www.opengis.net/def/crs/EPSG/0/4326",
               "gml:lowerCorner": "-90.0 -159.8474",
               "gml:upperCorner": "90.0 168.80790000000002"
              }
             },
             "swes:description": "Offering for timeseries type Derived.Merged.AsStored.1-1",
             "swes:identifier": "http://bom.gov.au/waterdata/services/tstypes/Pat4_D_1-1",
             "swes:name": "Derived.Merged.AsStored.1-1",
             "swes:procedure": "http://bom.gov.au/waterdata/services/tstypes/Pat4_D_1-1"
            }
           },
           {
            "sos:ObservationOffering": {
             "sos:observedArea": {
              "gml:Envelope": {
               "@srsName": "http://www.opengis.net/def/crs/EPSG/0/4326",
               "gml:lowerCorner": "-90.0 -159.8474",
               "gml:upperCorner": "90.0 168.80790000000002"
              }
             },
             "swes:description": "Offering for timeseries type PR01ManQC.Manual.AsStored.1-1",
             "swes:identifier": "http://bom.gov.au/waterdata/services/tstypes/Pat4_C_Std_PR01ManQcf_1-1",
             "swes:name": "PR01ManQC.Manual.AsStored.1-1",
             "swes:procedure": "http://bom.gov.au/waterdata/services/tstypes/Pat4_C_Std_PR01ManQcf_1-1"
            }
           },
           {
            "sos:ObservationOffering": {
             "sos:observedArea": {
              "gml:Envelope": {
               "@srsName": "http://www.opengis.net/def/crs/EPSG/0/4326",
               "gml:lowerCorner": "-90.0 -159.8474",
               "gml:upperCorner": "90.0 168.80790000000002"
              }
             },
             "swes:description": "Offering for timeseries type PR01QaQc.Merged.Hourly.HR-1",
             "swes:identifier": "http://bom.gov.au/waterdata/services/tstypes/Pat4_C_B_1_Hourly_PR01-1",
             "swes:name": "PR01QaQc.Merged.Hourly.HR-1",
             "swes:procedure": "http://bom.gov.au/waterdata/services/tstypes/Pat4_C_B_1_Hourly_PR01-1"
            }
           },
           {
            "sos:ObservationOffering": {
             "sos:observedArea": {
              "gml:Envelope": {
               "@srsName": "http://www.opengis.net/def/crs/EPSG/0/4326",
               "gml:lowerCorner": "-90.0 -159.8474",
               "gml:upperCorner": "90.0 168.80790000000002"
              }
             },
             "swes:description": "Offering for timeseries type PR01QaQc.Merged.DailyMean.09HR-1",
             "swes:identifier": "http://bom.gov.au/waterdata/services/tstypes/Pat4_C_B_1_DailyMean09_PR01-1",
             "swes:name": "PR01QaQc.Merged.DailyMean.09HR-1",
             "swes:procedure": "http://bom.gov.au/waterdata/services/tstypes/Pat4_C_B_1_DailyMean09_PR01-1"
            }
           },
           {
            "sos:ObservationOffering": {
             "sos:observedArea": {
              "gml:Envelope": {
               "@srsName": "http://www.opengis.net/def/crs/EPSG/0/4326",
               "gml:lowerCorner": "-90.0 -159.8474",
               "gml:upperCorner": "90.0 168.80790000000002"
              }
             },
             "swes:description": "Offering for timeseries type PR01ManQC.Manual.Hourly.HR-1",
             "swes:identifier": "http://bom.gov.au/waterdata/services/tstypes/Pat4_C_Std_PR01ManQcf_HR-1",
             "swes:name": "PR01ManQC.Manual.Hourly.HR-1",
             "swes:procedure": "http://bom.gov.au/waterdata/services/tstypes/Pat4_C_Std_PR01ManQcf_HR-1"
            }
           },
           {
            "sos:ObservationOffering": {
             "sos:observedArea": {
              "gml:Envelope": {
               "@srsName": "http://www.opengis.net/def/crs/EPSG/0/4326",
               "gml:lowerCorner": "-90.0 -159.8474",
               "gml:upperCorner": "90.0 168.80790000000002"
              }
             },
             "swes:description": "Offering for timeseries type 1m.CmdTotal.MovTot1h",
             "swes:identifier": "http://bom.gov.au/waterdata/services/tstypes/1m.CmdTotal.MovTot1h",
             "swes:name": "1m.CmdTotal.MovTot1h",
             "swes:procedure": "http://bom.gov.au/waterdata/services/tstypes/1m.CmdTotal.MovTot1h"
            }
           }
          ],
          "swes:procedureDescriptionFormat": [
           "http://www.opengis.net/sensorML/1.0.1",
           "http://www.opengis.net/waterml/2.0/observationProcess"
          ]
         }
        },
        "sos:filterCapabilities": {
         "fes:Filter_Capabilities": {
          "fes:Conformance": {
           "fes:Constraint": [
            {
             "@name": "ImplementsQuery",
             "ows:DefaultValue": "false",
             "ows:NoValues": null
            },
            {
             "@name": "ImplementsAdHocQuery",
             "ows:DefaultValue": "false",
             "ows:NoValues": null
            },
            {
             "@name": "ImplementsFunctions",
             "ows:DefaultValue": "false",
             "ows:NoValues": null
            },
            {
             "@name": "ImplementsMinStandardFilter",
             "ows:DefaultValue": "false",
             "ows:NoValues": null
            },
            {
             "@name": "ImplementsStandardFilter",
             "ows:DefaultValue": "false",
             "ows:NoValues": null
            },
            {
             "@name": "ImplementsMinSpatialFilter",
             "ows:DefaultValue": "true",
             "ows:NoValues": null
            },
            {
             "@name": "ImplementsSpatialFilter",
             "ows:DefaultValue": "true",
             "ows:NoValues": null
            },
            {
             "@name": "ImplementsMinTemporalFilter",
             "ows:DefaultValue": "true",
             "ows:NoValues": null
            },
            {
             "@name": "ImplementsTemporalFilter",
             "ows:DefaultValue": "true",
             "ows:NoValues": null
            },
            {
             "@name": "ImplementsVersionNav",
             "ows:DefaultValue": "false",
             "ows:NoValues": null
            },
            {
             "@name": "ImplementsSorting",
             "ows:DefaultValue": "false",
             "ows:NoValues": null
            },
            {
             "@name": "ImplementsExtendedOperators",
             "ows:DefaultValue": "false",
             "ows:NoValues": null
            }
           ]
          },
          "fes:Spatial_Capabilities": {
           "fes:GeometryOperands": {
            "fes:GeometryOperand": {
             "@name": "gml:Point"
            }
           },
           "fes:SpatialOperators": {
            "fes:SpatialOperator": {
             "@name": "BBOX"
            }
           }
          },
          "fes:Temporal_Capabilities": {
           "fes:TemporalOperands": {
            "fes:TemporalOperand": [
             {
              "@name": "gml:TimePeriod"
             },
             {
              "@name": "gml:TimeInstant"
             }
            ]
           },
           "fes:TemporalOperators": {
            "fes:TemporalOperator": [
             {
              "@name": "During"
             },
             {
              "@name": "TEquals"
             },
             {
              "@name": "After"
             },
             {
              "@name": "Before"
             }
            ]
           }
          }
         }
        }
       }
      },
      "text/plain": [
       "<IPython.core.display.JSON object>"
      ]
     },
     "execution_count": 2,
     "metadata": {
      "application/json": {
       "expanded": false,
       "root": "root"
      }
     },
     "output_type": "execute_result"
    }
   ],
   "source": [
    "_bm = bm.BomWater()\n",
    "response = _bm.request(_bm.actions.GetCapabilities)\n",
    "# response\n",
    "JSON(_bm.xml_to_json( response.text))"
   ]
  },
  {
   "cell_type": "markdown",
   "metadata": {},
   "source": [
    "## Get Observation\n",
    "\n",
    "Return data type is a Pandas DataFrame"
   ]
  },
  {
   "cell_type": "code",
   "execution_count": 19,
   "metadata": {
    "tags": []
   },
   "outputs": [
    {
     "name": "stdout",
     "output_type": "stream",
     "text": [
      "http://bom.gov.au/waterdata/services/stations/GW403571.1.1\n",
      "http://bom.gov.au/waterdata/services/stations/GW500596.3.3\n",
      "http://bom.gov.au/waterdata/services/stations/GW500596.3.3\n",
      "http://bom.gov.au/waterdata/services/stations/GW403571.1.1\n"
     ]
    },
    {
     "data": {
      "text/plain": [
       "[<matplotlib.lines.Line2D at 0x290f3dbfa30>]"
      ]
     },
     "execution_count": 19,
     "metadata": {},
     "output_type": "execute_result"
    },
    {
     "data": {
      "image/png": "[encoded data removed]",
      "text/plain": [
       "<Figure size 640x480 with 1 Axes>"
      ]
     },
     "metadata": {},
     "output_type": "display_data"
    }
   ],
   "source": [
    "t_begin = \"2016-01-01T00:00:00+10\"\n",
    "t_end = \"2019-12-31T00:00:00+10\"\n",
    "\n",
    "features = []\n",
    "features.append(_bm.features.West_of_Dellapool)\n",
    "features.append(_bm.features.LK_VIC)\n",
    "\n",
    "prop = _bm.properties.Ground_Water_Level\n",
    "proced = _bm.procedures.Pat9_C_B_1\n",
    "\n",
    "bbox = [None, None]\n",
    "\n",
    "results = _bm.get_observations(features, prop, proced, t_begin, t_end, bbox)\n",
    "results[0][_bm.features.West_of_Dellapool]['Ground Water Level [m]'].plot.line()"
   ]
  },
  {
   "cell_type": "markdown",
   "metadata": {},
   "source": [
    "## Get Data availability"
   ]
  },
  {
   "cell_type": "code",
   "execution_count": 20,
   "metadata": {
    "tags": []
   },
   "outputs": [
    {
     "data": {
      "application/json": {
       "soap12:Envelope": {
        "@xmlns:gda": "http://www.opengis.net/sosgda/1.0",
        "@xmlns:gml": "http://www.opengis.net/gml/3.2",
        "@xmlns:soap12": "http://www.w3.org/2003/05/soap-envelope",
        "@xmlns:wsa": "http://www.w3.org/2005/08/addressing",
        "@xmlns:xlink": "http://www.w3.org/1999/xlink",
        "@xmlns:xsi": "http://www.w3.org/2001/XMLSchema-instance",
        "@xsi:schemaLocation": "http://www.w3.org/2003/05/soap-envelope http://www.w3.org/2003/05/soap-envelope/soap-envelope.xsd http://www.opengis.net/sosgda/1.0 http://waterml2.org/schemas/gda/1.0/gda.xsd",
        "soap12:Body": {
         "gda:GetDataAvailabilityResponse": null
        },
        "soap12:Header": {
         "wsa:Action": "http://www.opengis.net/def/serviceOperation/sos/daRetrieval/2.0/GetDataAvailabilityResponse",
         "wsa:RelatesTo": "0",
         "wsa:To": "http://www.w3.org/2005/08/addressing/anonymous"
        }
       }
      },
      "text/plain": [
       "<IPython.core.display.JSON object>"
      ]
     },
     "execution_count": 20,
     "metadata": {
      "application/json": {
       "expanded": false,
       "root": "root"
      }
     },
     "output_type": "execute_result"
    }
   ],
   "source": [
    "response = _bm.request(_bm.actions.GetDataAvailability, _bm.features.Cowra_Back_Ck_Nth_P2, _bm.properties.Ground_Water_Level)\n",
    "JSON(_bm.xml_to_json( response.text))"
   ]
  },
  {
   "cell_type": "markdown",
   "metadata": {},
   "source": [
    "## Get Feature of interest\n",
    "Simple demo of requesting features within a bounding box and mapping their locations"
   ]
  },
  {
   "cell_type": "code",
   "execution_count": 21,
   "metadata": {
    "tags": []
   },
   "outputs": [
    {
     "data": {
      "application/vnd.jupyter.widget-view+json": {
       "model_id": "796dba290da745c2ab1330017430bd93",
       "version_major": 2,
       "version_minor": 0
      },
      "text/plain": [
       "Map(center=[-32, 146], controls=(ZoomControl(options=['position', 'zoom_in_text', 'zoom_in_title', 'zoom_out_t…"
      ]
     },
     "metadata": {},
     "output_type": "display_data"
    },
    {
     "data": {
      "text/plain": [
       "'Display the json response'"
      ]
     },
     "execution_count": 21,
     "metadata": {},
     "output_type": "execute_result"
    }
   ],
   "source": [
    "low_left_lat = -37.505032\n",
    "low_left_long = 138.00\n",
    "upper_right_lat = -24.00\n",
    "upper_right_long = 154.00\n",
    "\n",
    "lower_left_coords = f'{low_left_lat} {low_left_long}'\n",
    "upper_right_coords = f'{upper_right_lat} {upper_right_long}'\n",
    "\n",
    "_bm = bm.BomWater()\n",
    "\n",
    "# request( action, feature=None, prop=None, proced=None, begin=None, end=None, lower_corner=None, upper_corner=None)\n",
    "\n",
    "response = _bm.request(_bm.actions.GetFeatureOfInterest, None, _bm.properties.Water_Course_Discharge, _bm.procedures.Pat4_C_B_1_DailyMean, None, None, lower_left_coords, upper_right_coords  )\n",
    "response_json = _bm.xml_to_json(response.text)\n",
    "'''bomwater creates a FeatureCollection which can be used for mapping'''\n",
    "feature_list = _bm.create_feature_list(response_json, None )\n",
    "\n",
    "bbox_poly = Polygon(\n",
    "        locations=[(low_left_lat, low_left_long),(low_left_lat, upper_right_long),(upper_right_lat, upper_right_long),(upper_right_lat, low_left_long)],\n",
    "    color=\"green\",\n",
    "    fill_color=\"green\"\n",
    "        )\n",
    "m = Map(center=(-32, 146), zoom=5)\n",
    "\n",
    "geojsonMarkerOptions = {\n",
    "    'radius': 8,\n",
    "    'fillColor': \"#ff7800\",\n",
    "    'color': \"#000\",\n",
    "    'weight': 1,\n",
    "    'opacity': 1,\n",
    "    'fillOpacity': 0.8\n",
    "};\n",
    "\n",
    "geo_json_stations = GeoJSON(\n",
    "    data=feature_list,\n",
    "    point_style={'radius': 5, 'color': 'blue', 'fillOpacity': 0.8, 'fillColor': 'green', 'weight': 2})\n",
    "\n",
    "def random_color(feature):\n",
    "    return {\n",
    "        'color': 'black',\n",
    "        'fillColor': 'green',#random.choice(['red', 'yellow', 'green', 'orange']),\n",
    "    }\n",
    "\n",
    "shp_mdb = './bomwater_data/Spatial/mdb_buffer_1km.shp'\n",
    "mdb = json.loads(gpd.read_file(shp_mdb).to_json())['features'][0]['geometry']\n",
    "\n",
    "geo_json_mdb = GeoJSON(\n",
    "    data=mdb,\n",
    "    style={\n",
    "        'opacity': 1, 'dashArray': '9', 'fillOpacity': 0.1, 'weight': 1\n",
    "    },\n",
    "    hover_style={\n",
    "        'color': 'green', 'dashArray': '0', 'fillOpacity': 0.3\n",
    "    },\n",
    "    style_callback=random_color\n",
    ")\n",
    "\n",
    "m.add_layer(geo_json_mdb)\n",
    "# m.add_layer(bbox_poly)\n",
    "m.add_layer(geo_json_stations)\n",
    "\n",
    "display(m)\n",
    "\n",
    "'''Display the json response'''\n",
    "# JSON(response_json)"
   ]
  }
 ],
 "metadata": {
  "kernelspec": {
   "display_name": "Python 3 (ipykernel)",
   "language": "python",
   "name": "python3"
  },
  "language_info": {
   "codemirror_mode": {
    "name": "ipython",
    "version": 3
   },
   "file_extension": ".py",
   "mimetype": "text/x-python",
   "name": "python",
   "nbconvert_exporter": "python",
   "pygments_lexer": "ipython3",
   "version": "3.10.5"
  },
  "vscode": {
   "interpreter": {
    "hash": "2181d7092e74a19a5508a8334aee51df8ea5cf5b2ce40cd8563ee7545dc8350c"
   }
  }
 },
 "nbformat": 4,
 "nbformat_minor": 4
}
